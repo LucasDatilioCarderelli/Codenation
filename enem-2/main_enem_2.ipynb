{
  "nbformat": 4,
  "nbformat_minor": 0,
  "metadata": {
    "colab": {
      "name": "main_enem-2",
      "provenance": [],
      "collapsed_sections": [],
      "toc_visible": true,
      "authorship_tag": "ABX9TyO8216g8cX2jDRiajK01rVU",
      "include_colab_link": true
    },
    "kernelspec": {
      "name": "python3",
      "display_name": "Python 3"
    },
    "widgets": {
      "application/vnd.jupyter.widget-state+json": {
        "73c8ab8b086e44009137f8efc0f901ae": {
          "model_module": "@jupyter-widgets/controls",
          "model_name": "HBoxModel",
          "state": {
            "_view_name": "HBoxView",
            "_dom_classes": [],
            "_model_name": "HBoxModel",
            "_view_module": "@jupyter-widgets/controls",
            "_model_module_version": "1.5.0",
            "_view_count": null,
            "_view_module_version": "1.5.0",
            "box_style": "",
            "layout": "IPY_MODEL_db6ccf501bce4ca3b3fc428ec7e3b67b",
            "_model_module": "@jupyter-widgets/controls",
            "children": [
              "IPY_MODEL_60f4dbec580244a09b337601052ebea6",
              "IPY_MODEL_d447d3c50627486e840fdd8f6411da47"
            ]
          }
        },
        "db6ccf501bce4ca3b3fc428ec7e3b67b": {
          "model_module": "@jupyter-widgets/base",
          "model_name": "LayoutModel",
          "state": {
            "_view_name": "LayoutView",
            "grid_template_rows": null,
            "right": null,
            "justify_content": null,
            "_view_module": "@jupyter-widgets/base",
            "overflow": null,
            "_model_module_version": "1.2.0",
            "_view_count": null,
            "flex_flow": null,
            "width": null,
            "min_width": null,
            "border": null,
            "align_items": null,
            "bottom": null,
            "_model_module": "@jupyter-widgets/base",
            "top": null,
            "grid_column": null,
            "overflow_y": null,
            "overflow_x": null,
            "grid_auto_flow": null,
            "grid_area": null,
            "grid_template_columns": null,
            "flex": null,
            "_model_name": "LayoutModel",
            "justify_items": null,
            "grid_row": null,
            "max_height": null,
            "align_content": null,
            "visibility": null,
            "align_self": null,
            "height": null,
            "min_height": null,
            "padding": null,
            "grid_auto_rows": null,
            "grid_gap": null,
            "max_width": null,
            "order": null,
            "_view_module_version": "1.2.0",
            "grid_template_areas": null,
            "object_position": null,
            "object_fit": null,
            "grid_auto_columns": null,
            "margin": null,
            "display": null,
            "left": null
          }
        },
        "60f4dbec580244a09b337601052ebea6": {
          "model_module": "@jupyter-widgets/controls",
          "model_name": "FloatProgressModel",
          "state": {
            "_view_name": "ProgressView",
            "style": "IPY_MODEL_52f970b7ae454cd7ad8649b9c4ebc9d0",
            "_dom_classes": [],
            "description": "Optimization Progress:  99%",
            "_model_name": "FloatProgressModel",
            "bar_style": "danger",
            "max": 1100,
            "_view_module": "@jupyter-widgets/controls",
            "_model_module_version": "1.5.0",
            "value": 1091,
            "_view_count": null,
            "_view_module_version": "1.5.0",
            "orientation": "horizontal",
            "min": 0,
            "description_tooltip": null,
            "_model_module": "@jupyter-widgets/controls",
            "layout": "IPY_MODEL_76d38d7046474f05aef63fb3617dd768"
          }
        },
        "d447d3c50627486e840fdd8f6411da47": {
          "model_module": "@jupyter-widgets/controls",
          "model_name": "HTMLModel",
          "state": {
            "_view_name": "HTMLView",
            "style": "IPY_MODEL_287ac2710a0448acacdc7552def3d797",
            "_dom_classes": [],
            "description": "",
            "_model_name": "HTMLModel",
            "placeholder": "​",
            "_view_module": "@jupyter-widgets/controls",
            "_model_module_version": "1.5.0",
            "value": " 1091/1100 [6:32:38&lt;10:49, 72.12s/pipeline]",
            "_view_count": null,
            "_view_module_version": "1.5.0",
            "description_tooltip": null,
            "_model_module": "@jupyter-widgets/controls",
            "layout": "IPY_MODEL_e8bf667e2e6e4ba19ee00dbcc2a8001b"
          }
        },
        "52f970b7ae454cd7ad8649b9c4ebc9d0": {
          "model_module": "@jupyter-widgets/controls",
          "model_name": "ProgressStyleModel",
          "state": {
            "_view_name": "StyleView",
            "_model_name": "ProgressStyleModel",
            "description_width": "initial",
            "_view_module": "@jupyter-widgets/base",
            "_model_module_version": "1.5.0",
            "_view_count": null,
            "_view_module_version": "1.2.0",
            "bar_color": null,
            "_model_module": "@jupyter-widgets/controls"
          }
        },
        "76d38d7046474f05aef63fb3617dd768": {
          "model_module": "@jupyter-widgets/base",
          "model_name": "LayoutModel",
          "state": {
            "_view_name": "LayoutView",
            "grid_template_rows": null,
            "right": null,
            "justify_content": null,
            "_view_module": "@jupyter-widgets/base",
            "overflow": null,
            "_model_module_version": "1.2.0",
            "_view_count": null,
            "flex_flow": null,
            "width": null,
            "min_width": null,
            "border": null,
            "align_items": null,
            "bottom": null,
            "_model_module": "@jupyter-widgets/base",
            "top": null,
            "grid_column": null,
            "overflow_y": null,
            "overflow_x": null,
            "grid_auto_flow": null,
            "grid_area": null,
            "grid_template_columns": null,
            "flex": null,
            "_model_name": "LayoutModel",
            "justify_items": null,
            "grid_row": null,
            "max_height": null,
            "align_content": null,
            "visibility": null,
            "align_self": null,
            "height": null,
            "min_height": null,
            "padding": null,
            "grid_auto_rows": null,
            "grid_gap": null,
            "max_width": null,
            "order": null,
            "_view_module_version": "1.2.0",
            "grid_template_areas": null,
            "object_position": null,
            "object_fit": null,
            "grid_auto_columns": null,
            "margin": null,
            "display": null,
            "left": null
          }
        },
        "287ac2710a0448acacdc7552def3d797": {
          "model_module": "@jupyter-widgets/controls",
          "model_name": "DescriptionStyleModel",
          "state": {
            "_view_name": "StyleView",
            "_model_name": "DescriptionStyleModel",
            "description_width": "",
            "_view_module": "@jupyter-widgets/base",
            "_model_module_version": "1.5.0",
            "_view_count": null,
            "_view_module_version": "1.2.0",
            "_model_module": "@jupyter-widgets/controls"
          }
        },
        "e8bf667e2e6e4ba19ee00dbcc2a8001b": {
          "model_module": "@jupyter-widgets/base",
          "model_name": "LayoutModel",
          "state": {
            "_view_name": "LayoutView",
            "grid_template_rows": null,
            "right": null,
            "justify_content": null,
            "_view_module": "@jupyter-widgets/base",
            "overflow": null,
            "_model_module_version": "1.2.0",
            "_view_count": null,
            "flex_flow": null,
            "width": null,
            "min_width": null,
            "border": null,
            "align_items": null,
            "bottom": null,
            "_model_module": "@jupyter-widgets/base",
            "top": null,
            "grid_column": null,
            "overflow_y": null,
            "overflow_x": null,
            "grid_auto_flow": null,
            "grid_area": null,
            "grid_template_columns": null,
            "flex": null,
            "_model_name": "LayoutModel",
            "justify_items": null,
            "grid_row": null,
            "max_height": null,
            "align_content": null,
            "visibility": null,
            "align_self": null,
            "height": null,
            "min_height": null,
            "padding": null,
            "grid_auto_rows": null,
            "grid_gap": null,
            "max_width": null,
            "order": null,
            "_view_module_version": "1.2.0",
            "grid_template_areas": null,
            "object_position": null,
            "object_fit": null,
            "grid_auto_columns": null,
            "margin": null,
            "display": null,
            "left": null
          }
        }
      }
    }
  },
  "cells": [
    {
      "cell_type": "markdown",
      "metadata": {
        "id": "view-in-github",
        "colab_type": "text"
      },
      "source": [
        "<a href=\"https://colab.research.google.com/github/LucasDatilioCarderelli/Codenation/blob/master/enem-2/main_enem_2.ipynb\" target=\"_parent\"><img src=\"https://colab.research.google.com/assets/colab-badge.svg\" alt=\"Open In Colab\"/></a>"
      ]
    },
    {
      "cell_type": "markdown",
      "metadata": {
        "id": "pu-A0EfCErSY",
        "colab_type": "text"
      },
      "source": [
        "# enem-2"
      ]
    },
    {
      "cell_type": "markdown",
      "metadata": {
        "id": "7dDtYOarErLx",
        "colab_type": "text"
      },
      "source": [
        "## Importing\n",
        "\n",
        "Importando as bibliotecas e carregando os dados."
      ]
    },
    {
      "cell_type": "code",
      "metadata": {
        "id": "j4fKHuWDmI_G",
        "colab_type": "code",
        "colab": {}
      },
      "source": [
        "# Manipulaão de dados\n",
        "import pandas as pd\n",
        "import numpy as np\n",
        "\n",
        "# Lib para gerar gráficos\n",
        "import matplotlib.pyplot as plt\n",
        "import seaborn as sns\n",
        "sns.set() \n",
        "\n",
        "# Biblioteca para aprendizagem de máquina\n",
        "from sklearn.preprocessing import StandardScaler\n",
        "from sklearn.model_selection import train_test_split\n",
        "from sklearn.linear_model import LinearRegression, Ridge, Lasso\n",
        "from sklearn.metrics import r2_score\n",
        "\n",
        "from google.colab import files # Lib do colab para baixar os dados de saida"
      ],
      "execution_count": null,
      "outputs": []
    },
    {
      "cell_type": "code",
      "metadata": {
        "id": "a64fcp90PTdg",
        "colab_type": "code",
        "colab": {
          "base_uri": "https://localhost:8080/",
          "height": 564
        },
        "outputId": "722bdfa5-dfae-43b3-ed9a-b2a073bae85c"
      },
      "source": [
        "!pip install tpot #Instalando uma biblioteca de AutomMl no notebook\n",
        "from tpot import TPOTRegressor"
      ],
      "execution_count": null,
      "outputs": [
        {
          "output_type": "stream",
          "text": [
            "Collecting tpot\n",
            "\u001b[?25l  Downloading https://files.pythonhosted.org/packages/14/5e/cb87b0257033a7a396e533a634079ee151a239d180efe2a8b1d2e3584d23/TPOT-0.11.5-py3-none-any.whl (82kB)\n",
            "\r\u001b[K     |████                            | 10kB 12.1MB/s eta 0:00:01\r\u001b[K     |████████                        | 20kB 1.7MB/s eta 0:00:01\r\u001b[K     |████████████                    | 30kB 2.2MB/s eta 0:00:01\r\u001b[K     |████████████████                | 40kB 2.5MB/s eta 0:00:01\r\u001b[K     |████████████████████            | 51kB 2.0MB/s eta 0:00:01\r\u001b[K     |████████████████████████        | 61kB 2.2MB/s eta 0:00:01\r\u001b[K     |████████████████████████████    | 71kB 2.4MB/s eta 0:00:01\r\u001b[K     |███████████████████████████████▉| 81kB 2.7MB/s eta 0:00:01\r\u001b[K     |████████████████████████████████| 92kB 2.4MB/s \n",
            "\u001b[?25hRequirement already satisfied: scikit-learn>=0.22.0 in /usr/local/lib/python3.6/dist-packages (from tpot) (0.22.2.post1)\n",
            "Collecting update-checker>=0.16\n",
            "  Downloading https://files.pythonhosted.org/packages/d6/c3/aaf8a162df8e8f9d321237c7c0e63aff95b42d19f1758f96606e3cabb245/update_checker-0.17-py2.py3-none-any.whl\n",
            "Requirement already satisfied: pandas>=0.24.2 in /usr/local/lib/python3.6/dist-packages (from tpot) (1.0.5)\n",
            "Requirement already satisfied: scipy>=1.3.1 in /usr/local/lib/python3.6/dist-packages (from tpot) (1.4.1)\n",
            "Requirement already satisfied: numpy>=1.16.3 in /usr/local/lib/python3.6/dist-packages (from tpot) (1.18.5)\n",
            "Requirement already satisfied: joblib>=0.13.2 in /usr/local/lib/python3.6/dist-packages (from tpot) (0.16.0)\n",
            "Collecting deap>=1.2\n",
            "\u001b[?25l  Downloading https://files.pythonhosted.org/packages/0a/eb/2bd0a32e3ce757fb26264765abbaedd6d4d3640d90219a513aeabd08ee2b/deap-1.3.1-cp36-cp36m-manylinux2010_x86_64.whl (157kB)\n",
            "\u001b[K     |████████████████████████████████| 163kB 8.7MB/s \n",
            "\u001b[?25hCollecting stopit>=1.1.1\n",
            "  Downloading https://files.pythonhosted.org/packages/35/58/e8bb0b0fb05baf07bbac1450c447d753da65f9701f551dca79823ce15d50/stopit-1.1.2.tar.gz\n",
            "Requirement already satisfied: tqdm>=4.36.1 in /usr/local/lib/python3.6/dist-packages (from tpot) (4.41.1)\n",
            "Requirement already satisfied: requests>=2.3.0 in /usr/local/lib/python3.6/dist-packages (from update-checker>=0.16->tpot) (2.23.0)\n",
            "Requirement already satisfied: python-dateutil>=2.6.1 in /usr/local/lib/python3.6/dist-packages (from pandas>=0.24.2->tpot) (2.8.1)\n",
            "Requirement already satisfied: pytz>=2017.2 in /usr/local/lib/python3.6/dist-packages (from pandas>=0.24.2->tpot) (2018.9)\n",
            "Requirement already satisfied: chardet<4,>=3.0.2 in /usr/local/lib/python3.6/dist-packages (from requests>=2.3.0->update-checker>=0.16->tpot) (3.0.4)\n",
            "Requirement already satisfied: certifi>=2017.4.17 in /usr/local/lib/python3.6/dist-packages (from requests>=2.3.0->update-checker>=0.16->tpot) (2020.6.20)\n",
            "Requirement already satisfied: urllib3!=1.25.0,!=1.25.1,<1.26,>=1.21.1 in /usr/local/lib/python3.6/dist-packages (from requests>=2.3.0->update-checker>=0.16->tpot) (1.24.3)\n",
            "Requirement already satisfied: idna<3,>=2.5 in /usr/local/lib/python3.6/dist-packages (from requests>=2.3.0->update-checker>=0.16->tpot) (2.10)\n",
            "Requirement already satisfied: six>=1.5 in /usr/local/lib/python3.6/dist-packages (from python-dateutil>=2.6.1->pandas>=0.24.2->tpot) (1.15.0)\n",
            "Building wheels for collected packages: stopit\n",
            "  Building wheel for stopit (setup.py) ... \u001b[?25l\u001b[?25hdone\n",
            "  Created wheel for stopit: filename=stopit-1.1.2-cp36-none-any.whl size=11956 sha256=2f74ef19f0ea49fb0bcaf53fd99b96b52fcf18eae977ecc9df4314f3f404aabf\n",
            "  Stored in directory: /root/.cache/pip/wheels/3c/85/2b/2580190404636bfc63e8de3dff629c03bb795021e1983a6cc7\n",
            "Successfully built stopit\n",
            "Installing collected packages: update-checker, deap, stopit, tpot\n",
            "Successfully installed deap-1.3.1 stopit-1.1.2 tpot-0.11.5 update-checker-0.17\n"
          ],
          "name": "stdout"
        }
      ]
    },
    {
      "cell_type": "code",
      "metadata": {
        "id": "Sy5dLb33h-P-",
        "colab_type": "code",
        "colab": {
          "base_uri": "https://localhost:8080/",
          "height": 34
        },
        "outputId": "63122abe-0a1a-48de-d1ce-827871ef00de"
      },
      "source": [
        "# Lendo os dados de treino e de teste\n",
        "train = pd.read_csv(\"/content/train.csv\")\n",
        "test = pd.read_csv(\"/content/test.csv\")\n",
        "\n",
        "train.shape, test.shape"
      ],
      "execution_count": null,
      "outputs": [
        {
          "output_type": "execute_result",
          "data": {
            "text/plain": [
              "((13730, 167), (4576, 47))"
            ]
          },
          "metadata": {
            "tags": []
          },
          "execution_count": 5
        }
      ]
    },
    {
      "cell_type": "markdown",
      "metadata": {
        "id": "YkhppA8TE1Dk",
        "colab_type": "text"
      },
      "source": [
        "## Droping and Filling\n",
        "\n",
        "Descartano colunas e preenchando valores nulos"
      ]
    },
    {
      "cell_type": "code",
      "metadata": {
        "id": "xyCyq65fkUV4",
        "colab_type": "code",
        "colab": {
          "base_uri": "https://localhost:8080/",
          "height": 270
        },
        "outputId": "16c3b465-6bb5-4d77-e99a-351819a0f29e"
      },
      "source": [
        "train.head()"
      ],
      "execution_count": null,
      "outputs": [
        {
          "output_type": "execute_result",
          "data": {
            "text/html": [
              "<div>\n",
              "<style scoped>\n",
              "    .dataframe tbody tr th:only-of-type {\n",
              "        vertical-align: middle;\n",
              "    }\n",
              "\n",
              "    .dataframe tbody tr th {\n",
              "        vertical-align: top;\n",
              "    }\n",
              "\n",
              "    .dataframe thead th {\n",
              "        text-align: right;\n",
              "    }\n",
              "</style>\n",
              "<table border=\"1\" class=\"dataframe\">\n",
              "  <thead>\n",
              "    <tr style=\"text-align: right;\">\n",
              "      <th></th>\n",
              "      <th>Unnamed: 0</th>\n",
              "      <th>NU_INSCRICAO</th>\n",
              "      <th>NU_ANO</th>\n",
              "      <th>CO_MUNICIPIO_RESIDENCIA</th>\n",
              "      <th>NO_MUNICIPIO_RESIDENCIA</th>\n",
              "      <th>CO_UF_RESIDENCIA</th>\n",
              "      <th>SG_UF_RESIDENCIA</th>\n",
              "      <th>NU_IDADE</th>\n",
              "      <th>TP_SEXO</th>\n",
              "      <th>TP_ESTADO_CIVIL</th>\n",
              "      <th>TP_COR_RACA</th>\n",
              "      <th>TP_NACIONALIDADE</th>\n",
              "      <th>CO_MUNICIPIO_NASCIMENTO</th>\n",
              "      <th>NO_MUNICIPIO_NASCIMENTO</th>\n",
              "      <th>CO_UF_NASCIMENTO</th>\n",
              "      <th>SG_UF_NASCIMENTO</th>\n",
              "      <th>TP_ST_CONCLUSAO</th>\n",
              "      <th>TP_ANO_CONCLUIU</th>\n",
              "      <th>TP_ESCOLA</th>\n",
              "      <th>TP_ENSINO</th>\n",
              "      <th>IN_TREINEIRO</th>\n",
              "      <th>CO_ESCOLA</th>\n",
              "      <th>CO_MUNICIPIO_ESC</th>\n",
              "      <th>NO_MUNICIPIO_ESC</th>\n",
              "      <th>CO_UF_ESC</th>\n",
              "      <th>SG_UF_ESC</th>\n",
              "      <th>TP_DEPENDENCIA_ADM_ESC</th>\n",
              "      <th>TP_LOCALIZACAO_ESC</th>\n",
              "      <th>TP_SIT_FUNC_ESC</th>\n",
              "      <th>IN_BAIXA_VISAO</th>\n",
              "      <th>IN_CEGUEIRA</th>\n",
              "      <th>IN_SURDEZ</th>\n",
              "      <th>IN_DEFICIENCIA_AUDITIVA</th>\n",
              "      <th>IN_SURDO_CEGUEIRA</th>\n",
              "      <th>IN_DEFICIENCIA_FISICA</th>\n",
              "      <th>IN_DEFICIENCIA_MENTAL</th>\n",
              "      <th>IN_DEFICIT_ATENCAO</th>\n",
              "      <th>IN_DISLEXIA</th>\n",
              "      <th>IN_DISCALCULIA</th>\n",
              "      <th>IN_AUTISMO</th>\n",
              "      <th>...</th>\n",
              "      <th>Q011</th>\n",
              "      <th>Q012</th>\n",
              "      <th>Q013</th>\n",
              "      <th>Q014</th>\n",
              "      <th>Q015</th>\n",
              "      <th>Q016</th>\n",
              "      <th>Q017</th>\n",
              "      <th>Q018</th>\n",
              "      <th>Q019</th>\n",
              "      <th>Q020</th>\n",
              "      <th>Q021</th>\n",
              "      <th>Q022</th>\n",
              "      <th>Q023</th>\n",
              "      <th>Q024</th>\n",
              "      <th>Q025</th>\n",
              "      <th>Q026</th>\n",
              "      <th>Q027</th>\n",
              "      <th>Q028</th>\n",
              "      <th>Q029</th>\n",
              "      <th>Q030</th>\n",
              "      <th>Q031</th>\n",
              "      <th>Q032</th>\n",
              "      <th>Q033</th>\n",
              "      <th>Q034</th>\n",
              "      <th>Q035</th>\n",
              "      <th>Q036</th>\n",
              "      <th>Q037</th>\n",
              "      <th>Q038</th>\n",
              "      <th>Q039</th>\n",
              "      <th>Q040</th>\n",
              "      <th>Q041</th>\n",
              "      <th>Q042</th>\n",
              "      <th>Q043</th>\n",
              "      <th>Q044</th>\n",
              "      <th>Q045</th>\n",
              "      <th>Q046</th>\n",
              "      <th>Q047</th>\n",
              "      <th>Q048</th>\n",
              "      <th>Q049</th>\n",
              "      <th>Q050</th>\n",
              "    </tr>\n",
              "  </thead>\n",
              "  <tbody>\n",
              "    <tr>\n",
              "      <th>0</th>\n",
              "      <td>1</td>\n",
              "      <td>ed50e8aaa58e7a806c337585efee9ca41f1eb1ad</td>\n",
              "      <td>2016</td>\n",
              "      <td>4314902</td>\n",
              "      <td>Porto Alegre</td>\n",
              "      <td>43</td>\n",
              "      <td>RS</td>\n",
              "      <td>24</td>\n",
              "      <td>M</td>\n",
              "      <td>0.0</td>\n",
              "      <td>1</td>\n",
              "      <td>1</td>\n",
              "      <td>4314902.0</td>\n",
              "      <td>Porto Alegre</td>\n",
              "      <td>43.0</td>\n",
              "      <td>RS</td>\n",
              "      <td>1</td>\n",
              "      <td>4</td>\n",
              "      <td>1</td>\n",
              "      <td>NaN</td>\n",
              "      <td>0</td>\n",
              "      <td>NaN</td>\n",
              "      <td>NaN</td>\n",
              "      <td>NaN</td>\n",
              "      <td>NaN</td>\n",
              "      <td>NaN</td>\n",
              "      <td>NaN</td>\n",
              "      <td>NaN</td>\n",
              "      <td>NaN</td>\n",
              "      <td>0</td>\n",
              "      <td>0</td>\n",
              "      <td>0</td>\n",
              "      <td>0</td>\n",
              "      <td>0</td>\n",
              "      <td>0</td>\n",
              "      <td>0</td>\n",
              "      <td>0</td>\n",
              "      <td>0</td>\n",
              "      <td>0</td>\n",
              "      <td>0</td>\n",
              "      <td>...</td>\n",
              "      <td>A</td>\n",
              "      <td>B</td>\n",
              "      <td>A</td>\n",
              "      <td>A</td>\n",
              "      <td>A</td>\n",
              "      <td>A</td>\n",
              "      <td>A</td>\n",
              "      <td>A</td>\n",
              "      <td>B</td>\n",
              "      <td>A</td>\n",
              "      <td>A</td>\n",
              "      <td>C</td>\n",
              "      <td>A</td>\n",
              "      <td>A</td>\n",
              "      <td>A</td>\n",
              "      <td>C</td>\n",
              "      <td>H</td>\n",
              "      <td>E</td>\n",
              "      <td>5.0</td>\n",
              "      <td>5.0</td>\n",
              "      <td>1.0</td>\n",
              "      <td>0.0</td>\n",
              "      <td>0.0</td>\n",
              "      <td>5</td>\n",
              "      <td>5</td>\n",
              "      <td>0</td>\n",
              "      <td>5</td>\n",
              "      <td>5</td>\n",
              "      <td>5</td>\n",
              "      <td>5</td>\n",
              "      <td>5.0</td>\n",
              "      <td>A</td>\n",
              "      <td>A</td>\n",
              "      <td>A</td>\n",
              "      <td>A</td>\n",
              "      <td>A</td>\n",
              "      <td>A</td>\n",
              "      <td>A</td>\n",
              "      <td>B</td>\n",
              "      <td>D</td>\n",
              "    </tr>\n",
              "    <tr>\n",
              "      <th>1</th>\n",
              "      <td>2</td>\n",
              "      <td>2c3acac4b33ec2b195d77e7c04a2d75727fad723</td>\n",
              "      <td>2016</td>\n",
              "      <td>2304707</td>\n",
              "      <td>Granja</td>\n",
              "      <td>23</td>\n",
              "      <td>CE</td>\n",
              "      <td>17</td>\n",
              "      <td>F</td>\n",
              "      <td>0.0</td>\n",
              "      <td>3</td>\n",
              "      <td>1</td>\n",
              "      <td>2304707.0</td>\n",
              "      <td>Granja</td>\n",
              "      <td>23.0</td>\n",
              "      <td>CE</td>\n",
              "      <td>2</td>\n",
              "      <td>0</td>\n",
              "      <td>2</td>\n",
              "      <td>1.0</td>\n",
              "      <td>0</td>\n",
              "      <td>23005157.0</td>\n",
              "      <td>2304707.0</td>\n",
              "      <td>Granja</td>\n",
              "      <td>23.0</td>\n",
              "      <td>CE</td>\n",
              "      <td>2.0</td>\n",
              "      <td>1.0</td>\n",
              "      <td>1.0</td>\n",
              "      <td>0</td>\n",
              "      <td>0</td>\n",
              "      <td>0</td>\n",
              "      <td>0</td>\n",
              "      <td>0</td>\n",
              "      <td>0</td>\n",
              "      <td>0</td>\n",
              "      <td>0</td>\n",
              "      <td>0</td>\n",
              "      <td>0</td>\n",
              "      <td>0</td>\n",
              "      <td>...</td>\n",
              "      <td>A</td>\n",
              "      <td>B</td>\n",
              "      <td>A</td>\n",
              "      <td>A</td>\n",
              "      <td>A</td>\n",
              "      <td>A</td>\n",
              "      <td>A</td>\n",
              "      <td>A</td>\n",
              "      <td>B</td>\n",
              "      <td>A</td>\n",
              "      <td>A</td>\n",
              "      <td>A</td>\n",
              "      <td>A</td>\n",
              "      <td>A</td>\n",
              "      <td>A</td>\n",
              "      <td>A</td>\n",
              "      <td>NaN</td>\n",
              "      <td>NaN</td>\n",
              "      <td>NaN</td>\n",
              "      <td>NaN</td>\n",
              "      <td>NaN</td>\n",
              "      <td>NaN</td>\n",
              "      <td>NaN</td>\n",
              "      <td>5</td>\n",
              "      <td>5</td>\n",
              "      <td>1</td>\n",
              "      <td>1</td>\n",
              "      <td>1</td>\n",
              "      <td>1</td>\n",
              "      <td>1</td>\n",
              "      <td>NaN</td>\n",
              "      <td>A</td>\n",
              "      <td>A</td>\n",
              "      <td>C</td>\n",
              "      <td>A</td>\n",
              "      <td>B</td>\n",
              "      <td>A</td>\n",
              "      <td>A</td>\n",
              "      <td>C</td>\n",
              "      <td>A</td>\n",
              "    </tr>\n",
              "    <tr>\n",
              "      <th>2</th>\n",
              "      <td>3</td>\n",
              "      <td>f4545f8ccb9ff5c8aad7d32951b3f251a26e6568</td>\n",
              "      <td>2016</td>\n",
              "      <td>2304400</td>\n",
              "      <td>Fortaleza</td>\n",
              "      <td>23</td>\n",
              "      <td>CE</td>\n",
              "      <td>21</td>\n",
              "      <td>F</td>\n",
              "      <td>0.0</td>\n",
              "      <td>3</td>\n",
              "      <td>1</td>\n",
              "      <td>2304400.0</td>\n",
              "      <td>Fortaleza</td>\n",
              "      <td>23.0</td>\n",
              "      <td>CE</td>\n",
              "      <td>3</td>\n",
              "      <td>0</td>\n",
              "      <td>1</td>\n",
              "      <td>NaN</td>\n",
              "      <td>0</td>\n",
              "      <td>NaN</td>\n",
              "      <td>NaN</td>\n",
              "      <td>NaN</td>\n",
              "      <td>NaN</td>\n",
              "      <td>NaN</td>\n",
              "      <td>NaN</td>\n",
              "      <td>NaN</td>\n",
              "      <td>NaN</td>\n",
              "      <td>0</td>\n",
              "      <td>0</td>\n",
              "      <td>0</td>\n",
              "      <td>0</td>\n",
              "      <td>0</td>\n",
              "      <td>0</td>\n",
              "      <td>0</td>\n",
              "      <td>0</td>\n",
              "      <td>0</td>\n",
              "      <td>0</td>\n",
              "      <td>0</td>\n",
              "      <td>...</td>\n",
              "      <td>A</td>\n",
              "      <td>B</td>\n",
              "      <td>A</td>\n",
              "      <td>A</td>\n",
              "      <td>A</td>\n",
              "      <td>A</td>\n",
              "      <td>A</td>\n",
              "      <td>A</td>\n",
              "      <td>B</td>\n",
              "      <td>A</td>\n",
              "      <td>A</td>\n",
              "      <td>B</td>\n",
              "      <td>A</td>\n",
              "      <td>A</td>\n",
              "      <td>A</td>\n",
              "      <td>A</td>\n",
              "      <td>NaN</td>\n",
              "      <td>NaN</td>\n",
              "      <td>NaN</td>\n",
              "      <td>NaN</td>\n",
              "      <td>NaN</td>\n",
              "      <td>NaN</td>\n",
              "      <td>NaN</td>\n",
              "      <td>5</td>\n",
              "      <td>5</td>\n",
              "      <td>5</td>\n",
              "      <td>5</td>\n",
              "      <td>5</td>\n",
              "      <td>5</td>\n",
              "      <td>5</td>\n",
              "      <td>NaN</td>\n",
              "      <td>A</td>\n",
              "      <td>A</td>\n",
              "      <td>A</td>\n",
              "      <td>A</td>\n",
              "      <td>C</td>\n",
              "      <td>A</td>\n",
              "      <td>A</td>\n",
              "      <td>B</td>\n",
              "      <td>A</td>\n",
              "    </tr>\n",
              "    <tr>\n",
              "      <th>3</th>\n",
              "      <td>4</td>\n",
              "      <td>3d6ec248fef899c414e77f82d5c6d2bffbeaf7fe</td>\n",
              "      <td>2016</td>\n",
              "      <td>3304557</td>\n",
              "      <td>Rio de Janeiro</td>\n",
              "      <td>33</td>\n",
              "      <td>RJ</td>\n",
              "      <td>25</td>\n",
              "      <td>F</td>\n",
              "      <td>0.0</td>\n",
              "      <td>0</td>\n",
              "      <td>1</td>\n",
              "      <td>3304557.0</td>\n",
              "      <td>Rio de Janeiro</td>\n",
              "      <td>33.0</td>\n",
              "      <td>RJ</td>\n",
              "      <td>1</td>\n",
              "      <td>9</td>\n",
              "      <td>1</td>\n",
              "      <td>NaN</td>\n",
              "      <td>0</td>\n",
              "      <td>NaN</td>\n",
              "      <td>NaN</td>\n",
              "      <td>NaN</td>\n",
              "      <td>NaN</td>\n",
              "      <td>NaN</td>\n",
              "      <td>NaN</td>\n",
              "      <td>NaN</td>\n",
              "      <td>NaN</td>\n",
              "      <td>0</td>\n",
              "      <td>0</td>\n",
              "      <td>0</td>\n",
              "      <td>0</td>\n",
              "      <td>0</td>\n",
              "      <td>0</td>\n",
              "      <td>0</td>\n",
              "      <td>0</td>\n",
              "      <td>0</td>\n",
              "      <td>0</td>\n",
              "      <td>0</td>\n",
              "      <td>...</td>\n",
              "      <td>A</td>\n",
              "      <td>B</td>\n",
              "      <td>B</td>\n",
              "      <td>B</td>\n",
              "      <td>A</td>\n",
              "      <td>B</td>\n",
              "      <td>A</td>\n",
              "      <td>B</td>\n",
              "      <td>C</td>\n",
              "      <td>A</td>\n",
              "      <td>B</td>\n",
              "      <td>D</td>\n",
              "      <td>B</td>\n",
              "      <td>C</td>\n",
              "      <td>B</td>\n",
              "      <td>C</td>\n",
              "      <td>F</td>\n",
              "      <td>C</td>\n",
              "      <td>2.0</td>\n",
              "      <td>0.0</td>\n",
              "      <td>5.0</td>\n",
              "      <td>5.0</td>\n",
              "      <td>5.0</td>\n",
              "      <td>5</td>\n",
              "      <td>5</td>\n",
              "      <td>5</td>\n",
              "      <td>5</td>\n",
              "      <td>2</td>\n",
              "      <td>5</td>\n",
              "      <td>5</td>\n",
              "      <td>5.0</td>\n",
              "      <td>C</td>\n",
              "      <td>A</td>\n",
              "      <td>A</td>\n",
              "      <td>A</td>\n",
              "      <td>A</td>\n",
              "      <td>D</td>\n",
              "      <td>A</td>\n",
              "      <td>A</td>\n",
              "      <td>A</td>\n",
              "    </tr>\n",
              "    <tr>\n",
              "      <th>4</th>\n",
              "      <td>5</td>\n",
              "      <td>bf896ac8d3ecadd6dba1dfbf50110afcbf5d3268</td>\n",
              "      <td>2016</td>\n",
              "      <td>1302603</td>\n",
              "      <td>Manaus</td>\n",
              "      <td>13</td>\n",
              "      <td>AM</td>\n",
              "      <td>28</td>\n",
              "      <td>M</td>\n",
              "      <td>0.0</td>\n",
              "      <td>2</td>\n",
              "      <td>1</td>\n",
              "      <td>1505304.0</td>\n",
              "      <td>Oriximiná</td>\n",
              "      <td>15.0</td>\n",
              "      <td>PA</td>\n",
              "      <td>1</td>\n",
              "      <td>4</td>\n",
              "      <td>1</td>\n",
              "      <td>NaN</td>\n",
              "      <td>0</td>\n",
              "      <td>NaN</td>\n",
              "      <td>NaN</td>\n",
              "      <td>NaN</td>\n",
              "      <td>NaN</td>\n",
              "      <td>NaN</td>\n",
              "      <td>NaN</td>\n",
              "      <td>NaN</td>\n",
              "      <td>NaN</td>\n",
              "      <td>0</td>\n",
              "      <td>0</td>\n",
              "      <td>0</td>\n",
              "      <td>0</td>\n",
              "      <td>0</td>\n",
              "      <td>0</td>\n",
              "      <td>0</td>\n",
              "      <td>0</td>\n",
              "      <td>0</td>\n",
              "      <td>0</td>\n",
              "      <td>0</td>\n",
              "      <td>...</td>\n",
              "      <td>A</td>\n",
              "      <td>B</td>\n",
              "      <td>A</td>\n",
              "      <td>B</td>\n",
              "      <td>A</td>\n",
              "      <td>A</td>\n",
              "      <td>A</td>\n",
              "      <td>A</td>\n",
              "      <td>B</td>\n",
              "      <td>A</td>\n",
              "      <td>A</td>\n",
              "      <td>B</td>\n",
              "      <td>A</td>\n",
              "      <td>A</td>\n",
              "      <td>A</td>\n",
              "      <td>B</td>\n",
              "      <td>F</td>\n",
              "      <td>D</td>\n",
              "      <td>5.0</td>\n",
              "      <td>4.0</td>\n",
              "      <td>3.0</td>\n",
              "      <td>5.0</td>\n",
              "      <td>4.0</td>\n",
              "      <td>5</td>\n",
              "      <td>5</td>\n",
              "      <td>4</td>\n",
              "      <td>3</td>\n",
              "      <td>1</td>\n",
              "      <td>4</td>\n",
              "      <td>5</td>\n",
              "      <td>NaN</td>\n",
              "      <td>A</td>\n",
              "      <td>A</td>\n",
              "      <td>A</td>\n",
              "      <td>A</td>\n",
              "      <td>A</td>\n",
              "      <td>A</td>\n",
              "      <td>A</td>\n",
              "      <td>A</td>\n",
              "      <td>A</td>\n",
              "    </tr>\n",
              "  </tbody>\n",
              "</table>\n",
              "<p>5 rows × 167 columns</p>\n",
              "</div>"
            ],
            "text/plain": [
              "   Unnamed: 0                              NU_INSCRICAO  ...  Q049  Q050\n",
              "0           1  ed50e8aaa58e7a806c337585efee9ca41f1eb1ad  ...     B     D\n",
              "1           2  2c3acac4b33ec2b195d77e7c04a2d75727fad723  ...     C     A\n",
              "2           3  f4545f8ccb9ff5c8aad7d32951b3f251a26e6568  ...     B     A\n",
              "3           4  3d6ec248fef899c414e77f82d5c6d2bffbeaf7fe  ...     A     A\n",
              "4           5  bf896ac8d3ecadd6dba1dfbf50110afcbf5d3268  ...     A     A\n",
              "\n",
              "[5 rows x 167 columns]"
            ]
          },
          "metadata": {
            "tags": []
          },
          "execution_count": 6
        }
      ]
    },
    {
      "cell_type": "code",
      "metadata": {
        "id": "pu4FRz8zkl4I",
        "colab_type": "code",
        "colab": {}
      },
      "source": [
        "test.drop(labels=['CO_PROVA_CN', 'CO_PROVA_CH', 'CO_PROVA_LC', 'CO_PROVA_MT', \n",
        "                  'Q001', 'Q002', 'Q006', 'Q024', 'Q025', 'Q026', 'Q027', 'Q047'],\n",
        "           axis=1, inplace=True)"
      ],
      "execution_count": null,
      "outputs": []
    },
    {
      "cell_type": "code",
      "metadata": {
        "id": "nG_chbaE25wY",
        "colab_type": "code",
        "colab": {
          "base_uri": "https://localhost:8080/",
          "height": 34
        },
        "outputId": "06256cae-df8e-4048-c85d-f1992916577e"
      },
      "source": [
        "nota_mt = train.NU_NOTA_MT\n",
        "nota_mt.shape"
      ],
      "execution_count": null,
      "outputs": [
        {
          "output_type": "execute_result",
          "data": {
            "text/plain": [
              "(13730,)"
            ]
          },
          "metadata": {
            "tags": []
          },
          "execution_count": 8
        }
      ]
    },
    {
      "cell_type": "code",
      "metadata": {
        "id": "QotSpPo3kHeE",
        "colab_type": "code",
        "colab": {
          "base_uri": "https://localhost:8080/",
          "height": 34
        },
        "outputId": "8abc5db2-6515-4bbf-9e60-80a098848de5"
      },
      "source": [
        "train = train[test.columns].join(nota_mt)\n",
        "train.shape, test.shape"
      ],
      "execution_count": null,
      "outputs": [
        {
          "output_type": "execute_result",
          "data": {
            "text/plain": [
              "((13730, 36), (4576, 35))"
            ]
          },
          "metadata": {
            "tags": []
          },
          "execution_count": 9
        }
      ]
    },
    {
      "cell_type": "markdown",
      "metadata": {
        "id": "v4qKbv6qlLyF",
        "colab_type": "text"
      },
      "source": [
        "* O conjunto de teste tem colunas de menos, logo utiliza as mesmas colunas nos dados de treino mais a coluna alvo"
      ]
    },
    {
      "cell_type": "code",
      "metadata": {
        "id": "CWyvYHG5KFft",
        "colab_type": "code",
        "colab": {
          "base_uri": "https://localhost:8080/",
          "height": 224
        },
        "outputId": "7633cc4d-b05b-454f-fcaf-f900794dc5b5"
      },
      "source": [
        "test.head()"
      ],
      "execution_count": null,
      "outputs": [
        {
          "output_type": "execute_result",
          "data": {
            "text/html": [
              "<div>\n",
              "<style scoped>\n",
              "    .dataframe tbody tr th:only-of-type {\n",
              "        vertical-align: middle;\n",
              "    }\n",
              "\n",
              "    .dataframe tbody tr th {\n",
              "        vertical-align: top;\n",
              "    }\n",
              "\n",
              "    .dataframe thead th {\n",
              "        text-align: right;\n",
              "    }\n",
              "</style>\n",
              "<table border=\"1\" class=\"dataframe\">\n",
              "  <thead>\n",
              "    <tr style=\"text-align: right;\">\n",
              "      <th></th>\n",
              "      <th>NU_INSCRICAO</th>\n",
              "      <th>CO_UF_RESIDENCIA</th>\n",
              "      <th>SG_UF_RESIDENCIA</th>\n",
              "      <th>NU_IDADE</th>\n",
              "      <th>TP_SEXO</th>\n",
              "      <th>TP_COR_RACA</th>\n",
              "      <th>TP_NACIONALIDADE</th>\n",
              "      <th>TP_ST_CONCLUSAO</th>\n",
              "      <th>TP_ANO_CONCLUIU</th>\n",
              "      <th>TP_ESCOLA</th>\n",
              "      <th>TP_ENSINO</th>\n",
              "      <th>IN_TREINEIRO</th>\n",
              "      <th>TP_DEPENDENCIA_ADM_ESC</th>\n",
              "      <th>IN_BAIXA_VISAO</th>\n",
              "      <th>IN_CEGUEIRA</th>\n",
              "      <th>IN_SURDEZ</th>\n",
              "      <th>IN_DISLEXIA</th>\n",
              "      <th>IN_DISCALCULIA</th>\n",
              "      <th>IN_SABATISTA</th>\n",
              "      <th>IN_GESTANTE</th>\n",
              "      <th>IN_IDOSO</th>\n",
              "      <th>TP_PRESENCA_CN</th>\n",
              "      <th>TP_PRESENCA_CH</th>\n",
              "      <th>TP_PRESENCA_LC</th>\n",
              "      <th>NU_NOTA_CN</th>\n",
              "      <th>NU_NOTA_CH</th>\n",
              "      <th>NU_NOTA_LC</th>\n",
              "      <th>TP_LINGUA</th>\n",
              "      <th>TP_STATUS_REDACAO</th>\n",
              "      <th>NU_NOTA_COMP1</th>\n",
              "      <th>NU_NOTA_COMP2</th>\n",
              "      <th>NU_NOTA_COMP3</th>\n",
              "      <th>NU_NOTA_COMP4</th>\n",
              "      <th>NU_NOTA_COMP5</th>\n",
              "      <th>NU_NOTA_REDACAO</th>\n",
              "    </tr>\n",
              "  </thead>\n",
              "  <tbody>\n",
              "    <tr>\n",
              "      <th>0</th>\n",
              "      <td>73ff9fcc02f0a99919906c942c2e1a1042cdcf98</td>\n",
              "      <td>41</td>\n",
              "      <td>PR</td>\n",
              "      <td>22</td>\n",
              "      <td>F</td>\n",
              "      <td>3</td>\n",
              "      <td>1</td>\n",
              "      <td>1</td>\n",
              "      <td>5</td>\n",
              "      <td>1</td>\n",
              "      <td>NaN</td>\n",
              "      <td>0</td>\n",
              "      <td>NaN</td>\n",
              "      <td>0</td>\n",
              "      <td>0</td>\n",
              "      <td>0</td>\n",
              "      <td>0</td>\n",
              "      <td>0</td>\n",
              "      <td>0</td>\n",
              "      <td>0</td>\n",
              "      <td>0</td>\n",
              "      <td>1</td>\n",
              "      <td>1</td>\n",
              "      <td>1</td>\n",
              "      <td>464.8</td>\n",
              "      <td>443.5</td>\n",
              "      <td>431.8</td>\n",
              "      <td>0</td>\n",
              "      <td>1.0</td>\n",
              "      <td>120.0</td>\n",
              "      <td>80.0</td>\n",
              "      <td>80.0</td>\n",
              "      <td>100.0</td>\n",
              "      <td>40.0</td>\n",
              "      <td>420.0</td>\n",
              "    </tr>\n",
              "    <tr>\n",
              "      <th>1</th>\n",
              "      <td>71a95f9f1b91a82c65ad94abbdf9f54e6066f968</td>\n",
              "      <td>21</td>\n",
              "      <td>MA</td>\n",
              "      <td>26</td>\n",
              "      <td>F</td>\n",
              "      <td>3</td>\n",
              "      <td>1</td>\n",
              "      <td>1</td>\n",
              "      <td>8</td>\n",
              "      <td>1</td>\n",
              "      <td>NaN</td>\n",
              "      <td>0</td>\n",
              "      <td>NaN</td>\n",
              "      <td>0</td>\n",
              "      <td>0</td>\n",
              "      <td>0</td>\n",
              "      <td>0</td>\n",
              "      <td>0</td>\n",
              "      <td>0</td>\n",
              "      <td>0</td>\n",
              "      <td>0</td>\n",
              "      <td>1</td>\n",
              "      <td>1</td>\n",
              "      <td>1</td>\n",
              "      <td>391.1</td>\n",
              "      <td>491.1</td>\n",
              "      <td>548.0</td>\n",
              "      <td>1</td>\n",
              "      <td>1.0</td>\n",
              "      <td>120.0</td>\n",
              "      <td>120.0</td>\n",
              "      <td>120.0</td>\n",
              "      <td>120.0</td>\n",
              "      <td>100.0</td>\n",
              "      <td>580.0</td>\n",
              "    </tr>\n",
              "    <tr>\n",
              "      <th>2</th>\n",
              "      <td>b38a03232f43b11c9d0788abaf060f7366053b6d</td>\n",
              "      <td>23</td>\n",
              "      <td>CE</td>\n",
              "      <td>21</td>\n",
              "      <td>M</td>\n",
              "      <td>1</td>\n",
              "      <td>1</td>\n",
              "      <td>2</td>\n",
              "      <td>0</td>\n",
              "      <td>2</td>\n",
              "      <td>3.0</td>\n",
              "      <td>0</td>\n",
              "      <td>2.0</td>\n",
              "      <td>0</td>\n",
              "      <td>0</td>\n",
              "      <td>0</td>\n",
              "      <td>0</td>\n",
              "      <td>0</td>\n",
              "      <td>0</td>\n",
              "      <td>0</td>\n",
              "      <td>0</td>\n",
              "      <td>1</td>\n",
              "      <td>1</td>\n",
              "      <td>1</td>\n",
              "      <td>595.9</td>\n",
              "      <td>622.7</td>\n",
              "      <td>613.6</td>\n",
              "      <td>0</td>\n",
              "      <td>1.0</td>\n",
              "      <td>80.0</td>\n",
              "      <td>40.0</td>\n",
              "      <td>40.0</td>\n",
              "      <td>80.0</td>\n",
              "      <td>80.0</td>\n",
              "      <td>320.0</td>\n",
              "    </tr>\n",
              "    <tr>\n",
              "      <th>3</th>\n",
              "      <td>70b682d9a3636be23f6120fa9d6b164eb3c6002d</td>\n",
              "      <td>15</td>\n",
              "      <td>PA</td>\n",
              "      <td>27</td>\n",
              "      <td>F</td>\n",
              "      <td>3</td>\n",
              "      <td>1</td>\n",
              "      <td>1</td>\n",
              "      <td>8</td>\n",
              "      <td>1</td>\n",
              "      <td>NaN</td>\n",
              "      <td>0</td>\n",
              "      <td>NaN</td>\n",
              "      <td>0</td>\n",
              "      <td>0</td>\n",
              "      <td>0</td>\n",
              "      <td>0</td>\n",
              "      <td>0</td>\n",
              "      <td>0</td>\n",
              "      <td>0</td>\n",
              "      <td>0</td>\n",
              "      <td>0</td>\n",
              "      <td>0</td>\n",
              "      <td>0</td>\n",
              "      <td>NaN</td>\n",
              "      <td>NaN</td>\n",
              "      <td>NaN</td>\n",
              "      <td>0</td>\n",
              "      <td>NaN</td>\n",
              "      <td>NaN</td>\n",
              "      <td>NaN</td>\n",
              "      <td>NaN</td>\n",
              "      <td>NaN</td>\n",
              "      <td>NaN</td>\n",
              "      <td>NaN</td>\n",
              "    </tr>\n",
              "    <tr>\n",
              "      <th>4</th>\n",
              "      <td>715494628a50142ce8cb17191cfe6d0f3cae0934</td>\n",
              "      <td>41</td>\n",
              "      <td>PR</td>\n",
              "      <td>18</td>\n",
              "      <td>M</td>\n",
              "      <td>1</td>\n",
              "      <td>1</td>\n",
              "      <td>2</td>\n",
              "      <td>0</td>\n",
              "      <td>2</td>\n",
              "      <td>1.0</td>\n",
              "      <td>0</td>\n",
              "      <td>2.0</td>\n",
              "      <td>0</td>\n",
              "      <td>0</td>\n",
              "      <td>0</td>\n",
              "      <td>0</td>\n",
              "      <td>0</td>\n",
              "      <td>0</td>\n",
              "      <td>0</td>\n",
              "      <td>0</td>\n",
              "      <td>1</td>\n",
              "      <td>1</td>\n",
              "      <td>1</td>\n",
              "      <td>592.9</td>\n",
              "      <td>492.6</td>\n",
              "      <td>571.4</td>\n",
              "      <td>1</td>\n",
              "      <td>1.0</td>\n",
              "      <td>100.0</td>\n",
              "      <td>80.0</td>\n",
              "      <td>60.0</td>\n",
              "      <td>80.0</td>\n",
              "      <td>0.0</td>\n",
              "      <td>320.0</td>\n",
              "    </tr>\n",
              "  </tbody>\n",
              "</table>\n",
              "</div>"
            ],
            "text/plain": [
              "                               NU_INSCRICAO  ...  NU_NOTA_REDACAO\n",
              "0  73ff9fcc02f0a99919906c942c2e1a1042cdcf98  ...            420.0\n",
              "1  71a95f9f1b91a82c65ad94abbdf9f54e6066f968  ...            580.0\n",
              "2  b38a03232f43b11c9d0788abaf060f7366053b6d  ...            320.0\n",
              "3  70b682d9a3636be23f6120fa9d6b164eb3c6002d  ...              NaN\n",
              "4  715494628a50142ce8cb17191cfe6d0f3cae0934  ...            320.0\n",
              "\n",
              "[5 rows x 35 columns]"
            ]
          },
          "metadata": {
            "tags": []
          },
          "execution_count": 10
        }
      ]
    },
    {
      "cell_type": "code",
      "metadata": {
        "id": "dkY6g31AKvXc",
        "colab_type": "code",
        "colab": {}
      },
      "source": [
        "train_inscrição = train.pop(\"NU_INSCRICAO\")\n",
        "test_inscrição = test.pop(\"NU_INSCRICAO\")"
      ],
      "execution_count": null,
      "outputs": []
    },
    {
      "cell_type": "code",
      "metadata": {
        "id": "mwVwRS26m9W6",
        "colab_type": "code",
        "colab": {
          "base_uri": "https://localhost:8080/",
          "height": 629
        },
        "outputId": "1e048877-7fe6-4130-a208-3741f0b73f5b"
      },
      "source": [
        "train.isnull().sum() # Visualizando os nulos"
      ],
      "execution_count": null,
      "outputs": [
        {
          "output_type": "execute_result",
          "data": {
            "text/plain": [
              "CO_UF_RESIDENCIA             0\n",
              "SG_UF_RESIDENCIA             0\n",
              "NU_IDADE                     0\n",
              "TP_SEXO                      0\n",
              "TP_COR_RACA                  0\n",
              "TP_NACIONALIDADE             0\n",
              "TP_ST_CONCLUSAO              0\n",
              "TP_ANO_CONCLUIU              0\n",
              "TP_ESCOLA                    0\n",
              "TP_ENSINO                 9448\n",
              "IN_TREINEIRO                 0\n",
              "TP_DEPENDENCIA_ADM_ESC    9448\n",
              "IN_BAIXA_VISAO               0\n",
              "IN_CEGUEIRA                  0\n",
              "IN_SURDEZ                    0\n",
              "IN_DISLEXIA                  0\n",
              "IN_DISCALCULIA               0\n",
              "IN_SABATISTA                 0\n",
              "IN_GESTANTE                  0\n",
              "IN_IDOSO                     0\n",
              "TP_PRESENCA_CN               0\n",
              "TP_PRESENCA_CH               0\n",
              "TP_PRESENCA_LC               0\n",
              "NU_NOTA_CN                3389\n",
              "NU_NOTA_CH                3389\n",
              "NU_NOTA_LC                3597\n",
              "TP_LINGUA                    0\n",
              "TP_STATUS_REDACAO         3597\n",
              "NU_NOTA_COMP1             3597\n",
              "NU_NOTA_COMP2             3597\n",
              "NU_NOTA_COMP3             3597\n",
              "NU_NOTA_COMP4             3597\n",
              "NU_NOTA_COMP5             3597\n",
              "NU_NOTA_REDACAO           3597\n",
              "NU_NOTA_MT                3597\n",
              "dtype: int64"
            ]
          },
          "metadata": {
            "tags": []
          },
          "execution_count": 12
        }
      ]
    },
    {
      "cell_type": "code",
      "metadata": {
        "id": "1eLYhFVFw1FJ",
        "colab_type": "code",
        "colab": {
          "base_uri": "https://localhost:8080/",
          "height": 34
        },
        "outputId": "4c5ae06d-4dbc-43da-f01c-af9218d3d9fe"
      },
      "source": [
        "# Imputando dados pela mediana\n",
        "print(train.TP_ENSINO.median(), train.TP_DEPENDENCIA_ADM_ESC.median())\n",
        "train.TP_ENSINO.fillna(1, inplace=True)\n",
        "train.TP_DEPENDENCIA_ADM_ESC.fillna(2, inplace=True)\n",
        "test.TP_ENSINO.fillna(1, inplace=True)\n",
        "test.TP_DEPENDENCIA_ADM_ESC.fillna(2, inplace=True)"
      ],
      "execution_count": null,
      "outputs": [
        {
          "output_type": "stream",
          "text": [
            "1.0 2.0\n"
          ],
          "name": "stdout"
        }
      ]
    },
    {
      "cell_type": "code",
      "metadata": {
        "id": "6VzzHtS42ch6",
        "colab_type": "code",
        "colab": {}
      },
      "source": [
        "# Imputando com zeros\n",
        "train.fillna(0, inplace=True)\n",
        "test.fillna(0, inplace=True)"
      ],
      "execution_count": null,
      "outputs": []
    },
    {
      "cell_type": "markdown",
      "metadata": {
        "id": "_VOkp-QWE5Yg",
        "colab_type": "text"
      },
      "source": [
        "## Modeling"
      ]
    },
    {
      "cell_type": "code",
      "metadata": {
        "id": "hI6QkRaMFDCd",
        "colab_type": "code",
        "colab": {}
      },
      "source": [
        "# Transformando variaveis categoricas em númericas\n",
        "train = pd.get_dummies(train)\n",
        "test= pd.get_dummies(test)"
      ],
      "execution_count": null,
      "outputs": []
    },
    {
      "cell_type": "code",
      "metadata": {
        "id": "G8KNRGi9VQct",
        "colab_type": "code",
        "colab": {
          "base_uri": "https://localhost:8080/",
          "height": 34
        },
        "outputId": "f8cc01a3-6fae-42d3-c98a-f5e6739016b6"
      },
      "source": [
        "# Definindo a variavel alvo e separando os dados de treino em treino e validação\n",
        "x = train.drop(\"NU_NOTA_MT\", axis=1)\n",
        "y = train[\"NU_NOTA_MT\"]\n",
        "\n",
        "xtrain, xval, ytrain, yval = train_test_split(x, y, test_size=.3, random_state=0)\n",
        "xtrain.shape, xval.shape, ytrain.shape, yval.shape"
      ],
      "execution_count": null,
      "outputs": [
        {
          "output_type": "execute_result",
          "data": {
            "text/plain": [
              "((9611, 61), (4119, 61), (9611,), (4119,))"
            ]
          },
          "metadata": {
            "tags": []
          },
          "execution_count": 17
        }
      ]
    },
    {
      "cell_type": "code",
      "metadata": {
        "id": "qdkTNpBxYIUb",
        "colab_type": "code",
        "colab": {}
      },
      "source": [
        "ytrain = ytrain.to_numpy().reshape(-1,1)"
      ],
      "execution_count": null,
      "outputs": []
    },
    {
      "cell_type": "markdown",
      "metadata": {
        "id": "lJvFIkyemovQ",
        "colab_type": "text"
      },
      "source": [
        "### Treinando os modelos"
      ]
    },
    {
      "cell_type": "code",
      "metadata": {
        "id": "8-NqgkJEWlG9",
        "colab_type": "code",
        "colab": {
          "base_uri": "https://localhost:8080/",
          "height": 34
        },
        "outputId": "2659b6d2-57e5-46ed-cc47-e2473aaf165f"
      },
      "source": [
        "mdl = LinearRegression(normalize=True)\n",
        "mdl.fit(xtrain, ytrain)\n",
        "p = mdl.predict(xval)\n",
        "s = r2_score(yval, p)\n",
        "s #0.9142450356466628 normalize=False"
      ],
      "execution_count": null,
      "outputs": [
        {
          "output_type": "execute_result",
          "data": {
            "text/plain": [
              "0.9109671789900765"
            ]
          },
          "metadata": {
            "tags": []
          },
          "execution_count": 19
        }
      ]
    },
    {
      "cell_type": "code",
      "metadata": {
        "id": "b34uXIyvLfnC",
        "colab_type": "code",
        "colab": {
          "base_uri": "https://localhost:8080/",
          "height": 34
        },
        "outputId": "f88aa9eb-5528-404a-d2cc-fa55f4befa8b"
      },
      "source": [
        "mdl_ridge = Ridge().fit(xtrain, ytrain)\n",
        "p_ridge = mdl_ridge.predict(xval)\n",
        "r2_score(yval, p_ridge)"
      ],
      "execution_count": null,
      "outputs": [
        {
          "output_type": "execute_result",
          "data": {
            "text/plain": [
              "0.9109833060859229"
            ]
          },
          "metadata": {
            "tags": []
          },
          "execution_count": 20
        }
      ]
    },
    {
      "cell_type": "code",
      "metadata": {
        "id": "vCCraK6RMdgH",
        "colab_type": "code",
        "colab": {
          "base_uri": "https://localhost:8080/",
          "height": 34
        },
        "outputId": "90794442-7507-4b5d-dfc7-505711cfd14c"
      },
      "source": [
        "mdl_lasso = Lasso().fit(xtrain, ytrain)\n",
        "p_lasso = mdl_lasso.predict(xval)\n",
        "r2_score(yval, p_lasso)"
      ],
      "execution_count": null,
      "outputs": [
        {
          "output_type": "execute_result",
          "data": {
            "text/plain": [
              "0.9047063592812215"
            ]
          },
          "metadata": {
            "tags": []
          },
          "execution_count": 21
        }
      ]
    },
    {
      "cell_type": "code",
      "metadata": {
        "id": "jmKBMMQ9VKdR",
        "colab_type": "code",
        "colab": {
          "base_uri": "https://localhost:8080/",
          "height": 285
        },
        "outputId": "24a61822-0c35-4d02-8396-ef40fcf14cae"
      },
      "source": [
        "sns.regplot(x=yval, y=p, marker=\".\"); # Gerando o gráfico de erros do modelo com r²"
      ],
      "execution_count": null,
      "outputs": [
        {
          "output_type": "display_data",
          "data": {
            "image/png": "[encoded data removed]",
            "text/plain": [
              "<Figure size 432x288 with 1 Axes>"
            ]
          },
          "metadata": {
            "tags": [],
            "needs_background": "light"
          }
        }
      ]
    },
    {
      "cell_type": "code",
      "metadata": {
        "id": "N21oTgAeZkKW",
        "colab_type": "code",
        "colab": {}
      },
      "source": [
        "pred = mdl.predict(test) # Predizendo nos dados de teste"
      ],
      "execution_count": null,
      "outputs": []
    },
    {
      "cell_type": "markdown",
      "metadata": {
        "id": "XY3mQIk5nFRS",
        "colab_type": "text"
      },
      "source": [
        "### Pós-Processamento"
      ]
    },
    {
      "cell_type": "code",
      "metadata": {
        "id": "7nusAK3wPyhn",
        "colab_type": "code",
        "colab": {
          "base_uri": "https://localhost:8080/",
          "height": 136
        },
        "outputId": "11bb727d-c011-4927-aa99-c0b4ebe96cc9"
      },
      "source": [
        "for n in range(0, len(pred)):\n",
        "  if pred[n] < 300:\n",
        "    pred[n] = 0\n",
        "pred = np.round(pred, 1)\n",
        "pred"
      ],
      "execution_count": null,
      "outputs": [
        {
          "output_type": "execute_result",
          "data": {
            "text/plain": [
              "array([[433.3],\n",
              "       [444.5],\n",
              "       [562.6],\n",
              "       ...,\n",
              "       [618.6],\n",
              "       [483.1],\n",
              "       [  0. ]])"
            ]
          },
          "metadata": {
            "tags": []
          },
          "execution_count": 24
        }
      ]
    },
    {
      "cell_type": "markdown",
      "metadata": {
        "id": "DD5-nbx7Pe9l",
        "colab_type": "text"
      },
      "source": [
        "## AutoMl\n",
        "\n",
        "Atomatizando o treinamento do modelo"
      ]
    },
    {
      "cell_type": "code",
      "metadata": {
        "id": "TCvQaU9yPdYT",
        "colab_type": "code",
        "colab": {
          "base_uri": "https://localhost:8080/",
          "height": 545,
          "referenced_widgets": [
            "73c8ab8b086e44009137f8efc0f901ae",
            "db6ccf501bce4ca3b3fc428ec7e3b67b",
            "60f4dbec580244a09b337601052ebea6",
            "d447d3c50627486e840fdd8f6411da47",
            "52f970b7ae454cd7ad8649b9c4ebc9d0",
            "76d38d7046474f05aef63fb3617dd768",
            "287ac2710a0448acacdc7552def3d797",
            "e8bf667e2e6e4ba19ee00dbcc2a8001b"
          ]
        },
        "outputId": "8b90bcf8-d1ea-4137-fedc-0815da9f10ec"
      },
      "source": [
        "tp = TPOTRegressor(generations=10, verbosity=2, scoring=\"r2\")\n",
        "\n",
        "tp.fit(xtrain, ytrain)"
      ],
      "execution_count": null,
      "outputs": [
        {
          "output_type": "stream",
          "text": [
            "/usr/local/lib/python3.6/dist-packages/sklearn/utils/validation.py:760: DataConversionWarning: A column-vector y was passed when a 1d array was expected. Please change the shape of y to (n_samples, ), for example using ravel().\n",
            "  y = column_or_1d(y, warn=True)\n"
          ],
          "name": "stderr"
        },
        {
          "output_type": "display_data",
          "data": {
            "application/vnd.jupyter.widget-view+json": {
              "model_id": "73c8ab8b086e44009137f8efc0f901ae",
              "version_minor": 0,
              "version_major": 2
            },
            "text/plain": [
              "HBox(children=(FloatProgress(value=0.0, description='Optimization Progress', max=1100.0, style=ProgressStyle(d…"
            ]
          },
          "metadata": {
            "tags": []
          }
        },
        {
          "output_type": "stream",
          "text": [
            "\n",
            "Generation 1 - Current best internal CV score: 0.9243868231462574\n",
            "Generation 2 - Current best internal CV score: 0.924443054461598\n",
            "Generation 3 - Current best internal CV score: 0.9246222333669094\n",
            "Generation 4 - Current best internal CV score: 0.9246990211233698\n",
            "Generation 5 - Current best internal CV score: 0.9246990211233698\n",
            "Generation 6 - Current best internal CV score: 0.9246990211233698\n",
            "Generation 7 - Current best internal CV score: 0.9249426271597191\n",
            "Generation 8 - Current best internal CV score: 0.9249544395273969\n",
            "Generation 9 - Current best internal CV score: 0.9251158565183039\n",
            "\n",
            "TPOT closed during evaluation in one generation.\n",
            "WARNING: TPOT may not provide a good pipeline if TPOT is stopped/interrupted in a early generation.\n",
            "\n",
            "\n",
            "TPOT closed prematurely. Will use the current best pipeline.\n",
            "\n",
            "Best pipeline: ExtraTreesRegressor(CombineDFs(PolynomialFeatures(input_matrix, degree=2, include_bias=False, interaction_only=False), input_matrix), bootstrap=True, max_features=0.6500000000000001, min_samples_leaf=13, min_samples_split=7, n_estimators=100)\n"
          ],
          "name": "stdout"
        },
        {
          "output_type": "execute_result",
          "data": {
            "text/plain": [
              "TPOTRegressor(config_dict=None, crossover_rate=0.1, cv=5,\n",
              "              disable_update_check=False, early_stop=None, generations=10,\n",
              "              log_file=<ipykernel.iostream.OutStream object at 0x7ff26278f588>,\n",
              "              max_eval_time_mins=5, max_time_mins=None, memory=None,\n",
              "              mutation_rate=0.9, n_jobs=1, offspring_size=None,\n",
              "              periodic_checkpoint_folder=None, population_size=100,\n",
              "              random_state=None, scoring='r2', subsample=1.0, template=None,\n",
              "              use_dask=False, verbosity=2, warm_start=False)"
            ]
          },
          "metadata": {
            "tags": []
          },
          "execution_count": 25
        }
      ]
    },
    {
      "cell_type": "code",
      "metadata": {
        "id": "IgAO0BVhnd4T",
        "colab_type": "code",
        "colab": {
          "base_uri": "https://localhost:8080/",
          "height": 34
        },
        "outputId": "67f42e67-6cc4-4c24-9770-32f3d697a976"
      },
      "source": [
        "print(tp.score(xval, yval))"
      ],
      "execution_count": null,
      "outputs": [
        {
          "output_type": "stream",
          "text": [
            "0.9241952215983558\n"
          ],
          "name": "stdout"
        }
      ]
    },
    {
      "cell_type": "code",
      "metadata": {
        "id": "onKOVjbTF-4A",
        "colab_type": "code",
        "colab": {}
      },
      "source": [
        "tp.export('tpot_pipeline.py') # Exportando as intruções do modelo"
      ],
      "execution_count": null,
      "outputs": []
    },
    {
      "cell_type": "code",
      "metadata": {
        "id": "S_572EXzGKK4",
        "colab_type": "code",
        "colab": {}
      },
      "source": [
        "# Aplicando o modelo gerado pela automatização\n",
        "from sklearn.ensemble import ExtraTreesRegressor\n",
        "from sklearn.model_selection import train_test_split\n",
        "from sklearn.pipeline import make_pipeline, make_union\n",
        "from sklearn.preprocessing import PolynomialFeatures\n",
        "from tpot.builtins import StackingEstimator\n",
        "from sklearn.preprocessing import FunctionTransformer\n",
        "from copy import copy\n",
        "\n",
        "training_features, testing_features, training_target, testing_target = \\\n",
        "            train_test_split(x, y, test_size=.3, random_state=None)\n",
        "\n",
        "# Average CV score on the training set was: 0.9251158565183039\n",
        "exported_pipeline = make_pipeline(\n",
        "    make_union(\n",
        "        PolynomialFeatures(degree=2, include_bias=False, interaction_only=False),\n",
        "        FunctionTransformer(copy)\n",
        "    ),\n",
        "    ExtraTreesRegressor(bootstrap=True, max_features=0.65, min_samples_leaf=13, \n",
        "                        min_samples_split=7, n_estimators=100)\n",
        ")\n",
        "\n",
        "exported_pipeline.fit(training_features, training_target)\n",
        "results = exported_pipeline.predict(testing_features)"
      ],
      "execution_count": null,
      "outputs": []
    },
    {
      "cell_type": "code",
      "metadata": {
        "id": "eAE5ZDIXkb4Z",
        "colab_type": "code",
        "colab": {
          "base_uri": "https://localhost:8080/",
          "height": 285
        },
        "outputId": "d99c9387-cec0-4404-e00a-40a77c6a41a6"
      },
      "source": [
        "sns.regplot(x=testing_target, y=results, marker='.');"
      ],
      "execution_count": null,
      "outputs": [
        {
          "output_type": "display_data",
          "data": {
            "image/png": "[encoded data removed]",
            "text/plain": [
              "<Figure size 432x288 with 1 Axes>"
            ]
          },
          "metadata": {
            "tags": []
          }
        }
      ]
    },
    {
      "cell_type": "code",
      "metadata": {
        "id": "4fR1Ff1lnvj-",
        "colab_type": "code",
        "colab": {}
      },
      "source": [
        "results_test = exported_pipeline.predict(test)"
      ],
      "execution_count": null,
      "outputs": []
    },
    {
      "cell_type": "code",
      "metadata": {
        "id": "cVNtOE81n6Pk",
        "colab_type": "code",
        "colab": {}
      },
      "source": [
        "# Colocando todos os valores abaio de 300 em 0. 300 é a nota minina no enem caso preenchido\n",
        "for n in range(0, len(results_test)):\n",
        "  if results_test[n] < 300:\n",
        "    results_test[n] = 0\n",
        "results_test = results_test.round(1)"
      ],
      "execution_count": null,
      "outputs": []
    },
    {
      "cell_type": "markdown",
      "metadata": {
        "id": "pcT9mTwrZJW5",
        "colab_type": "text"
      },
      "source": [
        "## Saving\n",
        "\n",
        "Salando e gerando o arquivo com a resposta da predição"
      ]
    },
    {
      "cell_type": "code",
      "metadata": {
        "id": "4bnzK7NLZIpk",
        "colab_type": "code",
        "colab": {
          "base_uri": "https://localhost:8080/",
          "height": 450
        },
        "outputId": "90b91e41-fb74-4dce-d5c0-3a389f77256f"
      },
      "source": [
        "resp = pd.DataFrame(results_test, index=test_inscrição)\n",
        "resp.columns = ['NU_NOTA_MT']\n",
        "resp"
      ],
      "execution_count": null,
      "outputs": [
        {
          "output_type": "execute_result",
          "data": {
            "text/html": [
              "<div>\n",
              "<style scoped>\n",
              "    .dataframe tbody tr th:only-of-type {\n",
              "        vertical-align: middle;\n",
              "    }\n",
              "\n",
              "    .dataframe tbody tr th {\n",
              "        vertical-align: top;\n",
              "    }\n",
              "\n",
              "    .dataframe thead th {\n",
              "        text-align: right;\n",
              "    }\n",
              "</style>\n",
              "<table border=\"1\" class=\"dataframe\">\n",
              "  <thead>\n",
              "    <tr style=\"text-align: right;\">\n",
              "      <th></th>\n",
              "      <th>NU_NOTA_MT</th>\n",
              "    </tr>\n",
              "    <tr>\n",
              "      <th>NU_INSCRICAO</th>\n",
              "      <th></th>\n",
              "    </tr>\n",
              "  </thead>\n",
              "  <tbody>\n",
              "    <tr>\n",
              "      <th>73ff9fcc02f0a99919906c942c2e1a1042cdcf98</th>\n",
              "      <td>421.1</td>\n",
              "    </tr>\n",
              "    <tr>\n",
              "      <th>71a95f9f1b91a82c65ad94abbdf9f54e6066f968</th>\n",
              "      <td>435.6</td>\n",
              "    </tr>\n",
              "    <tr>\n",
              "      <th>b38a03232f43b11c9d0788abaf060f7366053b6d</th>\n",
              "      <td>595.5</td>\n",
              "    </tr>\n",
              "    <tr>\n",
              "      <th>70b682d9a3636be23f6120fa9d6b164eb3c6002d</th>\n",
              "      <td>0.0</td>\n",
              "    </tr>\n",
              "    <tr>\n",
              "      <th>715494628a50142ce8cb17191cfe6d0f3cae0934</th>\n",
              "      <td>543.6</td>\n",
              "    </tr>\n",
              "    <tr>\n",
              "      <th>...</th>\n",
              "      <td>...</td>\n",
              "    </tr>\n",
              "    <tr>\n",
              "      <th>dac0f22429c7f8e3931d0abaf5dfc8e5c772a48b</th>\n",
              "      <td>454.4</td>\n",
              "    </tr>\n",
              "    <tr>\n",
              "      <th>a75fa8770257e7c9368d059fe53d9ef431f4bdef</th>\n",
              "      <td>479.9</td>\n",
              "    </tr>\n",
              "    <tr>\n",
              "      <th>655fa6306720ff16e825903b5422a46608a77545</th>\n",
              "      <td>699.1</td>\n",
              "    </tr>\n",
              "    <tr>\n",
              "      <th>1f4bc3e3d56212d500625bfe8ac78ccff4362293</th>\n",
              "      <td>475.3</td>\n",
              "    </tr>\n",
              "    <tr>\n",
              "      <th>adf0d15b54317b6564ef56dad2b775bbb0ef50cc</th>\n",
              "      <td>0.0</td>\n",
              "    </tr>\n",
              "  </tbody>\n",
              "</table>\n",
              "<p>4576 rows × 1 columns</p>\n",
              "</div>"
            ],
            "text/plain": [
              "                                          NU_NOTA_MT\n",
              "NU_INSCRICAO                                        \n",
              "73ff9fcc02f0a99919906c942c2e1a1042cdcf98       421.1\n",
              "71a95f9f1b91a82c65ad94abbdf9f54e6066f968       435.6\n",
              "b38a03232f43b11c9d0788abaf060f7366053b6d       595.5\n",
              "70b682d9a3636be23f6120fa9d6b164eb3c6002d         0.0\n",
              "715494628a50142ce8cb17191cfe6d0f3cae0934       543.6\n",
              "...                                              ...\n",
              "dac0f22429c7f8e3931d0abaf5dfc8e5c772a48b       454.4\n",
              "a75fa8770257e7c9368d059fe53d9ef431f4bdef       479.9\n",
              "655fa6306720ff16e825903b5422a46608a77545       699.1\n",
              "1f4bc3e3d56212d500625bfe8ac78ccff4362293       475.3\n",
              "adf0d15b54317b6564ef56dad2b775bbb0ef50cc         0.0\n",
              "\n",
              "[4576 rows x 1 columns]"
            ]
          },
          "metadata": {
            "tags": []
          },
          "execution_count": 58
        }
      ]
    },
    {
      "cell_type": "code",
      "metadata": {
        "id": "rqz0uX7QZIkp",
        "colab_type": "code",
        "colab": {
          "base_uri": "https://localhost:8080/",
          "height": 34
        },
        "outputId": "ddcd3bec-4b7a-4f0b-bf05-8116456265f7"
      },
      "source": [
        "resp.to_csv('answer.csv')\n",
        "files.download('answer.csv')"
      ],
      "execution_count": null,
      "outputs": [
        {
          "output_type": "display_data",
          "data": {
            "application/javascript": [
              "\n",
              "    async function download(id, filename, size) {\n",
              "      if (!google.colab.kernel.accessAllowed) {\n",
              "        return;\n",
              "      }\n",
              "      const div = document.createElement('div');\n",
              "      const label = document.createElement('label');\n",
              "      label.textContent = `Downloading \"${filename}\": `;\n",
              "      div.appendChild(label);\n",
              "      const progress = document.createElement('progress');\n",
              "      progress.max = size;\n",
              "      div.appendChild(progress);\n",
              "      document.body.appendChild(div);\n",
              "\n",
              "      const buffers = [];\n",
              "      let downloaded = 0;\n",
              "\n",
              "      const channel = await google.colab.kernel.comms.open(id);\n",
              "      // Send a message to notify the kernel that we're ready.\n",
              "      channel.send({})\n",
              "\n",
              "      for await (const message of channel.messages) {\n",
              "        // Send a message to notify the kernel that we're ready.\n",
              "        channel.send({})\n",
              "        if (message.buffers) {\n",
              "          for (const buffer of message.buffers) {\n",
              "            buffers.push(buffer);\n",
              "            downloaded += buffer.byteLength;\n",
              "            progress.value = downloaded;\n",
              "          }\n",
              "        }\n",
              "      }\n",
              "      const blob = new Blob(buffers, {type: 'application/binary'});\n",
              "      const a = document.createElement('a');\n",
              "      a.href = window.URL.createObjectURL(blob);\n",
              "      a.download = filename;\n",
              "      div.appendChild(a);\n",
              "      a.click();\n",
              "      div.remove();\n",
              "    }\n",
              "  "
            ],
            "text/plain": [
              "<IPython.core.display.Javascript object>"
            ]
          },
          "metadata": {
            "tags": []
          }
        },
        {
          "output_type": "display_data",
          "data": {
            "application/javascript": [
              "download(\"download_1aa0cef8-7338-4d86-9f3b-d372da43e948\", \"answer.csv\", 212694)"
            ],
            "text/plain": [
              "<IPython.core.display.Javascript object>"
            ]
          },
          "metadata": {
            "tags": []
          }
        }
      ]
    },
    {
      "cell_type": "markdown",
      "metadata": {
        "id": "_9bx8QldTIW0",
        "colab_type": "text"
      },
      "source": [
        "# Results\n",
        "Tentativas e resultados obtidos"
      ]
    },
    {
      "cell_type": "markdown",
      "metadata": {
        "id": "QSELFmiMosSE",
        "colab_type": "text"
      },
      "source": [
        "* 1º: 93.112414% padrão\n",
        "* 2º: 93.383744% round 0\n",
        "* 3º: 93.383173% round 1\n",
        "* 4º: 93.734969% automl"
      ]
    }
  ]
}