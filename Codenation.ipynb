{
  "nbformat": 4,
  "nbformat_minor": 0,
  "metadata": {
    "colab": {
      "name": "Codenation",
      "provenance": [],
      "collapsed_sections": [
        "ZwcAwgBqoX8v"
      ],
      "toc_visible": true,
      "authorship_tag": "ABX9TyOsi3rr/DwL7KJ4sSG/nR2A",
      "include_colab_link": true
    },
    "kernelspec": {
      "name": "python3",
      "display_name": "Python 3"
    }
  },
  "cells": [
    {
      "cell_type": "markdown",
      "metadata": {
        "id": "view-in-github",
        "colab_type": "text"
      },
      "source": [
        "<a href=\"https://colab.research.google.com/github/LucasDatilioCarderelli/Codenation/blob/master/Codenation.ipynb\" target=\"_parent\"><img src=\"https://colab.research.google.com/assets/colab-badge.svg\" alt=\"Open In Colab\"/></a>"
      ]
    },
    {
      "cell_type": "markdown",
      "metadata": {
        "id": "VqKEGJDvnqAs",
        "colab_type": "text"
      },
      "source": [
        "# Desafio AceleraDS Codenation\n",
        "\n",
        "Descubra as melhores notas de matemática do ENEM 2016\n",
        "\n",
        "Você deverá criar um modelo para prever a nota da prova de matemática de quem participou do ENEM 2016.\n",
        "\n",
        " * link para download dos dados: https://s3-us-west-1.amazonaws.com/codenation-challenges/enem-ps/testfiles.zip\n"
      ]
    },
    {
      "cell_type": "markdown",
      "metadata": {
        "id": "ZwcAwgBqoX8v",
        "colab_type": "text"
      },
      "source": [
        "## Detalhes"
      ]
    },
    {
      "cell_type": "markdown",
      "metadata": {
        "id": "37hCzm40oBtO",
        "colab_type": "text"
      },
      "source": [
        "Tópicos\n",
        "\n",
        "Neste desafio você aprenderá:\n",
        "\n",
        "- Lógica\n",
        "- Análise de dados\n",
        "- Estatística\n",
        "- Regression\n",
        "\n",
        "Detalhes\n",
        "\n",
        "O contexto do desafio gira em torno dos resultados do ENEM 2016 (disponíveis no arquivo train.csv). Este arquivo, e apenas ele, deve ser utilizado para todos os desafios. Qualquer dúvida a respeito das colunas, consulte o [Dicionário dos Microdados do Enem 2016](https://s3-us-west-1.amazonaws.com/acceleration-assets-highway/data-science/dicionario-de-dados.zip).\n",
        "\n",
        "Muitas universidades brasileiras utilizam o ENEM para selecionar seus futuros alunos e alunas. Isto é feito com uma média ponderada das notas das provas de matemática, ciências da natureza, linguagens e códigos, ciências humanas e redação. Determine os 20 melhores colocados, por ordem, para os pesos abaixo:\n",
        "\n",
        "- matemática: 3\n",
        "- ciências da natureza: 2\n",
        "- linguagens e códigos: 1.5\n",
        "- ciências humanas: 1\n",
        "- redação: 3\n",
        "\n",
        "No arquivo test.csv crie um modelo para prever nota da prova de matemática (coluna **NU_NOTA_MT**) de quem participou do ENEM 2016. \n",
        "\n",
        "Salve sua resposta em um arquivo chamado answer.csv com duas colunas: **NU_INSCRICAO** e **NU_NOTA_MT**.\n",
        "\n",
        "Faça o upload do arquivo answer.csv usando o botão \"Submeter resposta\".\n",
        "\n",
        "Observações\n",
        "\n",
        "O objetivo do desafio é avaliar a sua capacidade de resolver problemas, então ele pode ser resolvido em qualquer linguagem de programação ou ferramenta que você tenha facilidade. Mas recomendamos o uso de linguagens com maior ferramental de matemática e estatística como Python, R, Scala ou Julia."
      ]
    },
    {
      "cell_type": "markdown",
      "metadata": {
        "id": "lDVkTaXUoLEU",
        "colab_type": "text"
      },
      "source": [
        "## Importando dados e Bibliotecas"
      ]
    },
    {
      "cell_type": "code",
      "metadata": {
        "id": "RAFCOjU0cbOp",
        "colab_type": "code",
        "outputId": "f8a55e09-085b-4234-e0b4-0a4cccdb26d6",
        "colab": {
          "base_uri": "https://localhost:8080/",
          "height": 70
        }
      },
      "source": [
        "import seaborn as sns\n",
        "import matplotlib.pyplot as plt\n",
        "import numpy as np\n",
        "\n",
        "sns.set()"
      ],
      "execution_count": 1,
      "outputs": [
        {
          "output_type": "stream",
          "text": [
            "/usr/local/lib/python3.6/dist-packages/statsmodels/tools/_testing.py:19: FutureWarning: pandas.util.testing is deprecated. Use the functions in the public API at pandas.testing instead.\n",
            "  import pandas.util.testing as tm\n"
          ],
          "name": "stderr"
        }
      ]
    },
    {
      "cell_type": "code",
      "metadata": {
        "id": "2Iycmvu3oboh",
        "colab_type": "code",
        "outputId": "92c5d8cc-cfa8-4ba6-fdbd-08723239464e",
        "colab": {
          "resources": {
            "http://localhost:8080/nbextensions/google.colab/files.js": {
              "data": "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",
              "ok": true,
              "headers": [
                [
                  "content-type",
                  "application/javascript"
                ]
              ],
              "status": 200,
              "status_text": ""
            }
          },
          "base_uri": "https://localhost:8080/",
          "height": 107
        }
      },
      "source": [
        "from google.colab import files\n",
        "uploaded = files.upload()"
      ],
      "execution_count": 3,
      "outputs": [
        {
          "output_type": "display_data",
          "data": {
            "text/html": [
              "\n",
              "     <input type=\"file\" id=\"files-310234c5-1f64-4de1-8f29-3448188917a5\" name=\"files[]\" multiple disabled />\n",
              "     <output id=\"result-310234c5-1f64-4de1-8f29-3448188917a5\">\n",
              "      Upload widget is only available when the cell has been executed in the\n",
              "      current browser session. Please rerun this cell to enable.\n",
              "      </output>\n",
              "      <script src=\"/nbextensions/google.colab/files.js\"></script> "
            ],
            "text/plain": [
              "<IPython.core.display.HTML object>"
            ]
          },
          "metadata": {
            "tags": []
          }
        },
        {
          "output_type": "stream",
          "text": [
            "Saving test.csv to test.csv\n",
            "Saving train.csv to train.csv\n"
          ],
          "name": "stdout"
        }
      ]
    },
    {
      "cell_type": "code",
      "metadata": {
        "id": "NFWQ4S0Rsaat",
        "colab_type": "code",
        "colab": {}
      },
      "source": [
        "import pandas as pd\n",
        "\n",
        "df = pd.read_csv(\"/content/train.csv\")\n",
        "teste = pd.read_csv(\"/content/test.csv\")"
      ],
      "execution_count": 0,
      "outputs": []
    },
    {
      "cell_type": "code",
      "metadata": {
        "id": "NTH6s8w6lMgE",
        "colab_type": "code",
        "outputId": "02d529f5-a5f1-40a1-941e-fc446efe34fe",
        "colab": {
          "base_uri": "https://localhost:8080/",
          "height": 33
        }
      },
      "source": [
        "print(df.shape, teste.shape)"
      ],
      "execution_count": 0,
      "outputs": [
        {
          "output_type": "stream",
          "text": [
            "(13730, 167) (4576, 47)\n"
          ],
          "name": "stdout"
        }
      ]
    },
    {
      "cell_type": "code",
      "metadata": {
        "id": "v6avupOFlgL5",
        "colab_type": "code",
        "outputId": "5bfe9276-f027-4a9b-b4f3-f558e10cf6b6",
        "colab": {
          "base_uri": "https://localhost:8080/",
          "height": 217
        }
      },
      "source": [
        "teste.head()"
      ],
      "execution_count": 0,
      "outputs": [
        {
          "output_type": "execute_result",
          "data": {
            "text/html": [
              "<div>\n",
              "<style scoped>\n",
              "    .dataframe tbody tr th:only-of-type {\n",
              "        vertical-align: middle;\n",
              "    }\n",
              "\n",
              "    .dataframe tbody tr th {\n",
              "        vertical-align: top;\n",
              "    }\n",
              "\n",
              "    .dataframe thead th {\n",
              "        text-align: right;\n",
              "    }\n",
              "</style>\n",
              "<table border=\"1\" class=\"dataframe\">\n",
              "  <thead>\n",
              "    <tr style=\"text-align: right;\">\n",
              "      <th></th>\n",
              "      <th>NU_INSCRICAO</th>\n",
              "      <th>CO_UF_RESIDENCIA</th>\n",
              "      <th>SG_UF_RESIDENCIA</th>\n",
              "      <th>NU_IDADE</th>\n",
              "      <th>TP_SEXO</th>\n",
              "      <th>TP_COR_RACA</th>\n",
              "      <th>TP_NACIONALIDADE</th>\n",
              "      <th>TP_ST_CONCLUSAO</th>\n",
              "      <th>TP_ANO_CONCLUIU</th>\n",
              "      <th>TP_ESCOLA</th>\n",
              "      <th>TP_ENSINO</th>\n",
              "      <th>IN_TREINEIRO</th>\n",
              "      <th>TP_DEPENDENCIA_ADM_ESC</th>\n",
              "      <th>IN_BAIXA_VISAO</th>\n",
              "      <th>IN_CEGUEIRA</th>\n",
              "      <th>IN_SURDEZ</th>\n",
              "      <th>IN_DISLEXIA</th>\n",
              "      <th>IN_DISCALCULIA</th>\n",
              "      <th>IN_SABATISTA</th>\n",
              "      <th>IN_GESTANTE</th>\n",
              "      <th>IN_IDOSO</th>\n",
              "      <th>TP_PRESENCA_CN</th>\n",
              "      <th>TP_PRESENCA_CH</th>\n",
              "      <th>TP_PRESENCA_LC</th>\n",
              "      <th>CO_PROVA_CN</th>\n",
              "      <th>CO_PROVA_CH</th>\n",
              "      <th>CO_PROVA_LC</th>\n",
              "      <th>CO_PROVA_MT</th>\n",
              "      <th>NU_NOTA_CN</th>\n",
              "      <th>NU_NOTA_CH</th>\n",
              "      <th>NU_NOTA_LC</th>\n",
              "      <th>TP_LINGUA</th>\n",
              "      <th>TP_STATUS_REDACAO</th>\n",
              "      <th>NU_NOTA_COMP1</th>\n",
              "      <th>NU_NOTA_COMP2</th>\n",
              "      <th>NU_NOTA_COMP3</th>\n",
              "      <th>NU_NOTA_COMP4</th>\n",
              "      <th>NU_NOTA_COMP5</th>\n",
              "      <th>NU_NOTA_REDACAO</th>\n",
              "      <th>Q001</th>\n",
              "      <th>Q002</th>\n",
              "      <th>Q006</th>\n",
              "      <th>Q024</th>\n",
              "      <th>Q025</th>\n",
              "      <th>Q026</th>\n",
              "      <th>Q027</th>\n",
              "      <th>Q047</th>\n",
              "    </tr>\n",
              "  </thead>\n",
              "  <tbody>\n",
              "    <tr>\n",
              "      <th>0</th>\n",
              "      <td>73ff9fcc02f0a99919906c942c2e1a1042cdcf98</td>\n",
              "      <td>41</td>\n",
              "      <td>PR</td>\n",
              "      <td>22</td>\n",
              "      <td>F</td>\n",
              "      <td>3</td>\n",
              "      <td>1</td>\n",
              "      <td>1</td>\n",
              "      <td>5</td>\n",
              "      <td>1</td>\n",
              "      <td>NaN</td>\n",
              "      <td>0</td>\n",
              "      <td>NaN</td>\n",
              "      <td>0</td>\n",
              "      <td>0</td>\n",
              "      <td>0</td>\n",
              "      <td>0</td>\n",
              "      <td>0</td>\n",
              "      <td>0</td>\n",
              "      <td>0</td>\n",
              "      <td>0</td>\n",
              "      <td>1</td>\n",
              "      <td>1</td>\n",
              "      <td>1</td>\n",
              "      <td>16f84b7b3d2aeaff7d2f01297e6b3d0e25c77bb2</td>\n",
              "      <td>9cd70f1b922e02bd33453b3f607f5a644fb9b1b8</td>\n",
              "      <td>01abbb7f1a90505385f44eec9905f82ca2a42cfd</td>\n",
              "      <td>81d0ee00ef42a7c23eb04496458c03d4c5b9c31a</td>\n",
              "      <td>464.8</td>\n",
              "      <td>443.5</td>\n",
              "      <td>431.8</td>\n",
              "      <td>0</td>\n",
              "      <td>1.0</td>\n",
              "      <td>120.0</td>\n",
              "      <td>80.0</td>\n",
              "      <td>80.0</td>\n",
              "      <td>100.0</td>\n",
              "      <td>40.0</td>\n",
              "      <td>420.0</td>\n",
              "      <td>B</td>\n",
              "      <td>A</td>\n",
              "      <td>C</td>\n",
              "      <td>A</td>\n",
              "      <td>A</td>\n",
              "      <td>C</td>\n",
              "      <td>C</td>\n",
              "      <td>A</td>\n",
              "    </tr>\n",
              "    <tr>\n",
              "      <th>1</th>\n",
              "      <td>71a95f9f1b91a82c65ad94abbdf9f54e6066f968</td>\n",
              "      <td>21</td>\n",
              "      <td>MA</td>\n",
              "      <td>26</td>\n",
              "      <td>F</td>\n",
              "      <td>3</td>\n",
              "      <td>1</td>\n",
              "      <td>1</td>\n",
              "      <td>8</td>\n",
              "      <td>1</td>\n",
              "      <td>NaN</td>\n",
              "      <td>0</td>\n",
              "      <td>NaN</td>\n",
              "      <td>0</td>\n",
              "      <td>0</td>\n",
              "      <td>0</td>\n",
              "      <td>0</td>\n",
              "      <td>0</td>\n",
              "      <td>0</td>\n",
              "      <td>0</td>\n",
              "      <td>0</td>\n",
              "      <td>1</td>\n",
              "      <td>1</td>\n",
              "      <td>1</td>\n",
              "      <td>c8328ebc6f3238e06076c481bc1b82b8301e7a3f</td>\n",
              "      <td>f48d390ab6a2428e659c37fb8a9d00afde621889</td>\n",
              "      <td>72f80e4b3150c627c7ffc93cfe0fa13a9989b610</td>\n",
              "      <td>577f8968d95046f5eb5cc158608e12fa9ba34c85</td>\n",
              "      <td>391.1</td>\n",
              "      <td>491.1</td>\n",
              "      <td>548.0</td>\n",
              "      <td>1</td>\n",
              "      <td>1.0</td>\n",
              "      <td>120.0</td>\n",
              "      <td>120.0</td>\n",
              "      <td>120.0</td>\n",
              "      <td>120.0</td>\n",
              "      <td>100.0</td>\n",
              "      <td>580.0</td>\n",
              "      <td>E</td>\n",
              "      <td>B</td>\n",
              "      <td>C</td>\n",
              "      <td>B</td>\n",
              "      <td>B</td>\n",
              "      <td>B</td>\n",
              "      <td>F</td>\n",
              "      <td>A</td>\n",
              "    </tr>\n",
              "    <tr>\n",
              "      <th>2</th>\n",
              "      <td>b38a03232f43b11c9d0788abaf060f7366053b6d</td>\n",
              "      <td>23</td>\n",
              "      <td>CE</td>\n",
              "      <td>21</td>\n",
              "      <td>M</td>\n",
              "      <td>1</td>\n",
              "      <td>1</td>\n",
              "      <td>2</td>\n",
              "      <td>0</td>\n",
              "      <td>2</td>\n",
              "      <td>3.0</td>\n",
              "      <td>0</td>\n",
              "      <td>2.0</td>\n",
              "      <td>0</td>\n",
              "      <td>0</td>\n",
              "      <td>0</td>\n",
              "      <td>0</td>\n",
              "      <td>0</td>\n",
              "      <td>0</td>\n",
              "      <td>0</td>\n",
              "      <td>0</td>\n",
              "      <td>1</td>\n",
              "      <td>1</td>\n",
              "      <td>1</td>\n",
              "      <td>16f84b7b3d2aeaff7d2f01297e6b3d0e25c77bb2</td>\n",
              "      <td>9cd70f1b922e02bd33453b3f607f5a644fb9b1b8</td>\n",
              "      <td>01af53cd161a420fff1767129c10de560cc264dd</td>\n",
              "      <td>97caab1e1533dba217deb7ef41490f52e459ab01</td>\n",
              "      <td>595.9</td>\n",
              "      <td>622.7</td>\n",
              "      <td>613.6</td>\n",
              "      <td>0</td>\n",
              "      <td>1.0</td>\n",
              "      <td>80.0</td>\n",
              "      <td>40.0</td>\n",
              "      <td>40.0</td>\n",
              "      <td>80.0</td>\n",
              "      <td>80.0</td>\n",
              "      <td>320.0</td>\n",
              "      <td>E</td>\n",
              "      <td>E</td>\n",
              "      <td>D</td>\n",
              "      <td>B</td>\n",
              "      <td>B</td>\n",
              "      <td>A</td>\n",
              "      <td>NaN</td>\n",
              "      <td>A</td>\n",
              "    </tr>\n",
              "    <tr>\n",
              "      <th>3</th>\n",
              "      <td>70b682d9a3636be23f6120fa9d6b164eb3c6002d</td>\n",
              "      <td>15</td>\n",
              "      <td>PA</td>\n",
              "      <td>27</td>\n",
              "      <td>F</td>\n",
              "      <td>3</td>\n",
              "      <td>1</td>\n",
              "      <td>1</td>\n",
              "      <td>8</td>\n",
              "      <td>1</td>\n",
              "      <td>NaN</td>\n",
              "      <td>0</td>\n",
              "      <td>NaN</td>\n",
              "      <td>0</td>\n",
              "      <td>0</td>\n",
              "      <td>0</td>\n",
              "      <td>0</td>\n",
              "      <td>0</td>\n",
              "      <td>0</td>\n",
              "      <td>0</td>\n",
              "      <td>0</td>\n",
              "      <td>0</td>\n",
              "      <td>0</td>\n",
              "      <td>0</td>\n",
              "      <td>2d22ac1d42e6187f09ee6c578df187a760123ccf</td>\n",
              "      <td>2d22ac1d42e6187f09ee6c578df187a760123ccf</td>\n",
              "      <td>2d22ac1d42e6187f09ee6c578df187a760123ccf</td>\n",
              "      <td>2d22ac1d42e6187f09ee6c578df187a760123ccf</td>\n",
              "      <td>NaN</td>\n",
              "      <td>NaN</td>\n",
              "      <td>NaN</td>\n",
              "      <td>0</td>\n",
              "      <td>NaN</td>\n",
              "      <td>NaN</td>\n",
              "      <td>NaN</td>\n",
              "      <td>NaN</td>\n",
              "      <td>NaN</td>\n",
              "      <td>NaN</td>\n",
              "      <td>NaN</td>\n",
              "      <td>H</td>\n",
              "      <td>E</td>\n",
              "      <td>G</td>\n",
              "      <td>B</td>\n",
              "      <td>B</td>\n",
              "      <td>A</td>\n",
              "      <td>NaN</td>\n",
              "      <td>A</td>\n",
              "    </tr>\n",
              "    <tr>\n",
              "      <th>4</th>\n",
              "      <td>715494628a50142ce8cb17191cfe6d0f3cae0934</td>\n",
              "      <td>41</td>\n",
              "      <td>PR</td>\n",
              "      <td>18</td>\n",
              "      <td>M</td>\n",
              "      <td>1</td>\n",
              "      <td>1</td>\n",
              "      <td>2</td>\n",
              "      <td>0</td>\n",
              "      <td>2</td>\n",
              "      <td>1.0</td>\n",
              "      <td>0</td>\n",
              "      <td>2.0</td>\n",
              "      <td>0</td>\n",
              "      <td>0</td>\n",
              "      <td>0</td>\n",
              "      <td>0</td>\n",
              "      <td>0</td>\n",
              "      <td>0</td>\n",
              "      <td>0</td>\n",
              "      <td>0</td>\n",
              "      <td>1</td>\n",
              "      <td>1</td>\n",
              "      <td>1</td>\n",
              "      <td>66b1dad288e13be0992bae01e81f71eca1c6e8a6</td>\n",
              "      <td>942ab3dc020af4cf53740b6b07e9dd7060b24164</td>\n",
              "      <td>5aebe5cad7fabc1545ac7fba07a4e6177f98483c</td>\n",
              "      <td>767a32545304ed293242d528f54d4edb1369f910</td>\n",
              "      <td>592.9</td>\n",
              "      <td>492.6</td>\n",
              "      <td>571.4</td>\n",
              "      <td>1</td>\n",
              "      <td>1.0</td>\n",
              "      <td>100.0</td>\n",
              "      <td>80.0</td>\n",
              "      <td>60.0</td>\n",
              "      <td>80.0</td>\n",
              "      <td>0.0</td>\n",
              "      <td>320.0</td>\n",
              "      <td>D</td>\n",
              "      <td>H</td>\n",
              "      <td>H</td>\n",
              "      <td>C</td>\n",
              "      <td>B</td>\n",
              "      <td>A</td>\n",
              "      <td>NaN</td>\n",
              "      <td>A</td>\n",
              "    </tr>\n",
              "  </tbody>\n",
              "</table>\n",
              "</div>"
            ],
            "text/plain": [
              "                               NU_INSCRICAO  CO_UF_RESIDENCIA  ... Q027  Q047\n",
              "0  73ff9fcc02f0a99919906c942c2e1a1042cdcf98                41  ...    C     A\n",
              "1  71a95f9f1b91a82c65ad94abbdf9f54e6066f968                21  ...    F     A\n",
              "2  b38a03232f43b11c9d0788abaf060f7366053b6d                23  ...  NaN     A\n",
              "3  70b682d9a3636be23f6120fa9d6b164eb3c6002d                15  ...  NaN     A\n",
              "4  715494628a50142ce8cb17191cfe6d0f3cae0934                41  ...  NaN     A\n",
              "\n",
              "[5 rows x 47 columns]"
            ]
          },
          "metadata": {
            "tags": []
          },
          "execution_count": 4
        }
      ]
    },
    {
      "cell_type": "markdown",
      "metadata": {
        "id": "TpHcQyBQhqcW",
        "colab_type": "text"
      },
      "source": [
        "## Nota final (20 Melhores)"
      ]
    },
    {
      "cell_type": "code",
      "metadata": {
        "id": "X71W57QahvdM",
        "colab_type": "code",
        "outputId": "90856a44-580a-41c6-8245-0a8d56920c92",
        "colab": {
          "base_uri": "https://localhost:8080/",
          "height": 647
        }
      },
      "source": [
        "df['notafinal'] = ((df['NU_NOTA_CN']*2) + (df['NU_NOTA_CH']*1) + \n",
        "                   (df['NU_NOTA_LC']*1.5) + (df['NU_NOTA_MT']*3) + \n",
        "                   (df['NU_NOTA_REDACAO']*3))/10.5\n",
        "df[['NU_INSCRICAO', 'notafinal']].sort_values(by = 'notafinal', ascending = False).head(20)"
      ],
      "execution_count": 7,
      "outputs": [
        {
          "output_type": "execute_result",
          "data": {
            "text/html": [
              "<div>\n",
              "<style scoped>\n",
              "    .dataframe tbody tr th:only-of-type {\n",
              "        vertical-align: middle;\n",
              "    }\n",
              "\n",
              "    .dataframe tbody tr th {\n",
              "        vertical-align: top;\n",
              "    }\n",
              "\n",
              "    .dataframe thead th {\n",
              "        text-align: right;\n",
              "    }\n",
              "</style>\n",
              "<table border=\"1\" class=\"dataframe\">\n",
              "  <thead>\n",
              "    <tr style=\"text-align: right;\">\n",
              "      <th></th>\n",
              "      <th>NU_INSCRICAO</th>\n",
              "      <th>notafinal</th>\n",
              "    </tr>\n",
              "  </thead>\n",
              "  <tbody>\n",
              "    <tr>\n",
              "      <th>10801</th>\n",
              "      <td>848daf808904864c1ee5d51545a2539e2dcbe901</td>\n",
              "      <td>834.147619</td>\n",
              "    </tr>\n",
              "    <tr>\n",
              "      <th>3226</th>\n",
              "      <td>97166da67df0908861a868cf318b277c4bdbb0da</td>\n",
              "      <td>828.214286</td>\n",
              "    </tr>\n",
              "    <tr>\n",
              "      <th>3682</th>\n",
              "      <td>b733ccac4e5b7c1da0448f1dad7990ec0793b1d2</td>\n",
              "      <td>819.514286</td>\n",
              "    </tr>\n",
              "    <tr>\n",
              "      <th>9011</th>\n",
              "      <td>78ca18b6fea7ccd3e067b3945cf200f8686209a7</td>\n",
              "      <td>817.333333</td>\n",
              "    </tr>\n",
              "    <tr>\n",
              "      <th>4755</th>\n",
              "      <td>8588b01c2ff81ad3c9ff31cd89fc094896c4aa69</td>\n",
              "      <td>813.671429</td>\n",
              "    </tr>\n",
              "    <tr>\n",
              "      <th>12707</th>\n",
              "      <td>19982f867b8f23a829a2f738374770708ec7f263</td>\n",
              "      <td>809.938095</td>\n",
              "    </tr>\n",
              "    <tr>\n",
              "      <th>6039</th>\n",
              "      <td>17ae668ce9041105883e9db101d614f58d526f66</td>\n",
              "      <td>808.847619</td>\n",
              "    </tr>\n",
              "    <tr>\n",
              "      <th>10219</th>\n",
              "      <td>3326c76719930f9838bc9ef803fe1b73a1668723</td>\n",
              "      <td>804.304762</td>\n",
              "    </tr>\n",
              "    <tr>\n",
              "      <th>1509</th>\n",
              "      <td>41489fd85a5d0cb6e397fb5ebcd19d32e9265cb7</td>\n",
              "      <td>802.833333</td>\n",
              "    </tr>\n",
              "    <tr>\n",
              "      <th>3535</th>\n",
              "      <td>32767c1a152919a1f72fa91afe19bb7c559f2824</td>\n",
              "      <td>800.752381</td>\n",
              "    </tr>\n",
              "    <tr>\n",
              "      <th>11334</th>\n",
              "      <td>ac5057ba1f029c2c37bc55c82f3ea3e4b8bcb0ce</td>\n",
              "      <td>799.338095</td>\n",
              "    </tr>\n",
              "    <tr>\n",
              "      <th>10951</th>\n",
              "      <td>7c7c16a3ebd04e3b4a42e086a447a64fc6fa0996</td>\n",
              "      <td>794.976190</td>\n",
              "    </tr>\n",
              "    <tr>\n",
              "      <th>9602</th>\n",
              "      <td>e9a67323f3cce292a7fd1528311470edb38f82d9</td>\n",
              "      <td>793.195238</td>\n",
              "    </tr>\n",
              "    <tr>\n",
              "      <th>4564</th>\n",
              "      <td>9eaa35afce755aeef24faee5ec0e78612f52b56c</td>\n",
              "      <td>790.200000</td>\n",
              "    </tr>\n",
              "    <tr>\n",
              "      <th>5913</th>\n",
              "      <td>c0bb9d9a29e686a5ef35f2443738d4bd8544a290</td>\n",
              "      <td>788.519048</td>\n",
              "    </tr>\n",
              "    <tr>\n",
              "      <th>3792</th>\n",
              "      <td>c771c44232f6ae553494cf7085f2b3e515841133</td>\n",
              "      <td>787.814286</td>\n",
              "    </tr>\n",
              "    <tr>\n",
              "      <th>499</th>\n",
              "      <td>4c29d5913f759e503efae77c531a713d48dfb512</td>\n",
              "      <td>787.319048</td>\n",
              "    </tr>\n",
              "    <tr>\n",
              "      <th>13191</th>\n",
              "      <td>61f38d59bbcfa4897a2e14740bec95e087e2e06f</td>\n",
              "      <td>786.352381</td>\n",
              "    </tr>\n",
              "    <tr>\n",
              "      <th>3080</th>\n",
              "      <td>b8912a162392742129d79ff0c625cfc02a425811</td>\n",
              "      <td>783.390476</td>\n",
              "    </tr>\n",
              "    <tr>\n",
              "      <th>10387</th>\n",
              "      <td>05a0ee9c17758662d1e5a985cac6d7e0938d3a58</td>\n",
              "      <td>781.923810</td>\n",
              "    </tr>\n",
              "  </tbody>\n",
              "</table>\n",
              "</div>"
            ],
            "text/plain": [
              "                                   NU_INSCRICAO   notafinal\n",
              "10801  848daf808904864c1ee5d51545a2539e2dcbe901  834.147619\n",
              "3226   97166da67df0908861a868cf318b277c4bdbb0da  828.214286\n",
              "3682   b733ccac4e5b7c1da0448f1dad7990ec0793b1d2  819.514286\n",
              "9011   78ca18b6fea7ccd3e067b3945cf200f8686209a7  817.333333\n",
              "4755   8588b01c2ff81ad3c9ff31cd89fc094896c4aa69  813.671429\n",
              "12707  19982f867b8f23a829a2f738374770708ec7f263  809.938095\n",
              "6039   17ae668ce9041105883e9db101d614f58d526f66  808.847619\n",
              "10219  3326c76719930f9838bc9ef803fe1b73a1668723  804.304762\n",
              "1509   41489fd85a5d0cb6e397fb5ebcd19d32e9265cb7  802.833333\n",
              "3535   32767c1a152919a1f72fa91afe19bb7c559f2824  800.752381\n",
              "11334  ac5057ba1f029c2c37bc55c82f3ea3e4b8bcb0ce  799.338095\n",
              "10951  7c7c16a3ebd04e3b4a42e086a447a64fc6fa0996  794.976190\n",
              "9602   e9a67323f3cce292a7fd1528311470edb38f82d9  793.195238\n",
              "4564   9eaa35afce755aeef24faee5ec0e78612f52b56c  790.200000\n",
              "5913   c0bb9d9a29e686a5ef35f2443738d4bd8544a290  788.519048\n",
              "3792   c771c44232f6ae553494cf7085f2b3e515841133  787.814286\n",
              "499    4c29d5913f759e503efae77c531a713d48dfb512  787.319048\n",
              "13191  61f38d59bbcfa4897a2e14740bec95e087e2e06f  786.352381\n",
              "3080   b8912a162392742129d79ff0c625cfc02a425811  783.390476\n",
              "10387  05a0ee9c17758662d1e5a985cac6d7e0938d3a58  781.923810"
            ]
          },
          "metadata": {
            "tags": []
          },
          "execution_count": 7
        }
      ]
    },
    {
      "cell_type": "markdown",
      "metadata": {
        "id": "ZgVepeHK3xSc",
        "colab_type": "text"
      },
      "source": [
        "## Criando o Modelo\n",
        "O mais simples é o melhor ?! (Sim)"
      ]
    },
    {
      "cell_type": "markdown",
      "metadata": {
        "id": "OpQmo4xFLfLG",
        "colab_type": "text"
      },
      "source": [
        "Selecionando as notas"
      ]
    },
    {
      "cell_type": "code",
      "metadata": {
        "id": "IeqwG3Rq3x_m",
        "colab_type": "code",
        "colab": {}
      },
      "source": [
        "df_train = df[['NU_NOTA_MT','NU_NOTA_CN', 'NU_NOTA_CH', 'NU_NOTA_LC', 'NU_NOTA_REDACAO']]\n",
        "df_test = teste[['NU_NOTA_CN', 'NU_NOTA_LC', 'NU_NOTA_CH', 'NU_NOTA_REDACAO']]"
      ],
      "execution_count": 0,
      "outputs": []
    },
    {
      "cell_type": "markdown",
      "metadata": {
        "id": "n6Z9AoOcLwmC",
        "colab_type": "text"
      },
      "source": [
        "Tratando os dados nulos e zeros"
      ]
    },
    {
      "cell_type": "code",
      "metadata": {
        "id": "3wvxES2J4foN",
        "colab_type": "code",
        "colab": {}
      },
      "source": [
        "df_train = df_train.replace(0, np.NaN)\n",
        "df_test = df_test.replace(0, np.NaN)\n",
        "\n",
        "df_train = df_train.fillna(-1)\n",
        "df_test = df_test.fillna(-1)"
      ],
      "execution_count": 0,
      "outputs": []
    },
    {
      "cell_type": "markdown",
      "metadata": {
        "id": "l__7B5IrL4-F",
        "colab_type": "text"
      },
      "source": [
        "Separando os dados em treino e validação"
      ]
    },
    {
      "cell_type": "code",
      "metadata": {
        "id": "q9FIaDNV6jDn",
        "colab_type": "code",
        "outputId": "98a6785a-31d2-4244-b7b9-db12635538bf",
        "colab": {
          "base_uri": "https://localhost:8080/",
          "height": 33
        }
      },
      "source": [
        "X = df_train.drop('NU_NOTA_MT', axis=1)\n",
        "y = df_train['NU_NOTA_MT']\n",
        "\n",
        "from sklearn.model_selection import train_test_split\n",
        "Xtrain, Xval, ytrain, yval = train_test_split(X, y, train_size = 0.9, random_state = 0)\n",
        "Xtrain.shape, Xval.shape, ytrain.shape, yval.shape"
      ],
      "execution_count": 0,
      "outputs": [
        {
          "output_type": "execute_result",
          "data": {
            "text/plain": [
              "((12357, 4), (1373, 4), (12357,), (1373,))"
            ]
          },
          "metadata": {
            "tags": []
          },
          "execution_count": 61
        }
      ]
    },
    {
      "cell_type": "markdown",
      "metadata": {
        "id": "czaFw7B6MKHu",
        "colab_type": "text"
      },
      "source": [
        "Criando o modelo e calculando o erro"
      ]
    },
    {
      "cell_type": "code",
      "metadata": {
        "id": "MxEGJIff8WH0",
        "colab_type": "code",
        "outputId": "8e9f417f-87f7-4e86-f3b6-a89457e14df6",
        "colab": {
          "base_uri": "https://localhost:8080/",
          "height": 33
        }
      },
      "source": [
        "# from sklearn.linear_model import LinearRegression\n",
        "from sklearn.ensemble import GradientBoostingRegressor\n",
        "from sklearn.metrics import mean_squared_error\n",
        "\n",
        "mdl = GradientBoostingRegressor(random_state=0)\n",
        "mdl.fit(Xtrain, ytrain)\n",
        "p = mdl.predict(Xval)\n",
        "s = mean_squared_error(yval, p)\n",
        "s # WoW \\o/"
      ],
      "execution_count": 0,
      "outputs": [
        {
          "output_type": "execute_result",
          "data": {
            "text/plain": [
              "3930.5335299636386"
            ]
          },
          "metadata": {
            "tags": []
          },
          "execution_count": 96
        }
      ]
    },
    {
      "cell_type": "code",
      "metadata": {
        "id": "k3JBuetnHYyp",
        "colab_type": "code",
        "outputId": "32d1220a-eb7e-4312-bd2a-f58ed180e6b8",
        "colab": {
          "base_uri": "https://localhost:8080/",
          "height": 50
        }
      },
      "source": [
        "p # Os valores estão com muitas casas decimais e há números negativos"
      ],
      "execution_count": 0,
      "outputs": [
        {
          "output_type": "execute_result",
          "data": {
            "text/plain": [
              "array([ -0.73358508, 585.56320277, 444.44604042, ..., 432.03483407,\n",
              "        -0.73358508,  -0.73358508])"
            ]
          },
          "metadata": {
            "tags": []
          },
          "execution_count": 97
        }
      ]
    },
    {
      "cell_type": "markdown",
      "metadata": {
        "id": "XWyjkPrPMmet",
        "colab_type": "text"
      },
      "source": [
        "Pós processamento dos dados"
      ]
    },
    {
      "cell_type": "code",
      "metadata": {
        "id": "OsjAO85UG0KY",
        "colab_type": "code",
        "outputId": "09cef308-7773-477e-c62c-17d1365dda2f",
        "colab": {
          "base_uri": "https://localhost:8080/",
          "height": 33
        }
      },
      "source": [
        "for n in range(0, 1373):\n",
        "  if p[n] < 300: # Aparentemente tem uma nota minima no enem\n",
        "    p[n] = 0\n",
        "p = np.round(p, 1)\n",
        "s = mean_squared_error(yval, p)\n",
        "s"
      ],
      "execution_count": 0,
      "outputs": [
        {
          "output_type": "execute_result",
          "data": {
            "text/plain": [
              "3929.549679533867"
            ]
          },
          "metadata": {
            "tags": []
          },
          "execution_count": 104
        }
      ]
    },
    {
      "cell_type": "code",
      "metadata": {
        "id": "flnZH_AzD897",
        "colab_type": "code",
        "outputId": "530a688d-da37-4f75-c3d6-865e3347049c",
        "colab": {
          "base_uri": "https://localhost:8080/",
          "height": 301
        }
      },
      "source": [
        "sns.scatterplot(yval, p, )"
      ],
      "execution_count": 0,
      "outputs": [
        {
          "output_type": "execute_result",
          "data": {
            "text/plain": [
              "<matplotlib.axes._subplots.AxesSubplot at 0x7f9b13b393c8>"
            ]
          },
          "metadata": {
            "tags": []
          },
          "execution_count": 100
        },
        {
          "output_type": "display_data",
          "data": {
            "image/png": "[encoded data removed]",
            "text/plain": [
              "<Figure size 432x288 with 1 Axes>"
            ]
          },
          "metadata": {
            "tags": []
          }
        }
      ]
    },
    {
      "cell_type": "markdown",
      "metadata": {
        "id": "xybeTBiRMtVK",
        "colab_type": "text"
      },
      "source": [
        "Prevendo os dados de teste"
      ]
    },
    {
      "cell_type": "code",
      "metadata": {
        "id": "W5Y8I1lJ9BUO",
        "colab_type": "code",
        "outputId": "f961a062-eff7-4db6-9191-527d62bb5f5a",
        "colab": {
          "base_uri": "https://localhost:8080/",
          "height": 33
        }
      },
      "source": [
        "mdl_pred = mdl.predict(df_test)\n",
        "for n in range(0, 4576):\n",
        "  if mdl_pred[n] < 300:\n",
        "    mdl_pred[n] = 0\n",
        "mdl_pred = np.round(mdl_pred, 1)\n",
        "mdl_pred"
      ],
      "execution_count": 0,
      "outputs": [
        {
          "output_type": "execute_result",
          "data": {
            "text/plain": [
              "array([438.1, 450.8, 611.4, ..., 680.4, 443.7,   0. ])"
            ]
          },
          "metadata": {
            "tags": []
          },
          "execution_count": 106
        }
      ]
    },
    {
      "cell_type": "markdown",
      "metadata": {
        "id": "IpO-JQzCMynn",
        "colab_type": "text"
      },
      "source": [
        "Manipulando a base de dados"
      ]
    },
    {
      "cell_type": "code",
      "metadata": {
        "id": "yypABSJIKWs_",
        "colab_type": "code",
        "outputId": "f5b202f8-284c-4bc8-d9f1-1491dbb9bbeb",
        "colab": {
          "base_uri": "https://localhost:8080/",
          "height": 436
        }
      },
      "source": [
        "resp = pd.DataFrame(mdl_pred, index=nu_inscricao)\n",
        "resp.columns = ['NU_NOTA_MT']\n",
        "resp"
      ],
      "execution_count": 0,
      "outputs": [
        {
          "output_type": "execute_result",
          "data": {
            "text/html": [
              "<div>\n",
              "<style scoped>\n",
              "    .dataframe tbody tr th:only-of-type {\n",
              "        vertical-align: middle;\n",
              "    }\n",
              "\n",
              "    .dataframe tbody tr th {\n",
              "        vertical-align: top;\n",
              "    }\n",
              "\n",
              "    .dataframe thead th {\n",
              "        text-align: right;\n",
              "    }\n",
              "</style>\n",
              "<table border=\"1\" class=\"dataframe\">\n",
              "  <thead>\n",
              "    <tr style=\"text-align: right;\">\n",
              "      <th></th>\n",
              "      <th>NU_NOTA_MT</th>\n",
              "    </tr>\n",
              "    <tr>\n",
              "      <th>NU_INSCRICAO</th>\n",
              "      <th></th>\n",
              "    </tr>\n",
              "  </thead>\n",
              "  <tbody>\n",
              "    <tr>\n",
              "      <th>73ff9fcc02f0a99919906c942c2e1a1042cdcf98</th>\n",
              "      <td>438.1</td>\n",
              "    </tr>\n",
              "    <tr>\n",
              "      <th>71a95f9f1b91a82c65ad94abbdf9f54e6066f968</th>\n",
              "      <td>450.8</td>\n",
              "    </tr>\n",
              "    <tr>\n",
              "      <th>b38a03232f43b11c9d0788abaf060f7366053b6d</th>\n",
              "      <td>611.4</td>\n",
              "    </tr>\n",
              "    <tr>\n",
              "      <th>70b682d9a3636be23f6120fa9d6b164eb3c6002d</th>\n",
              "      <td>0.0</td>\n",
              "    </tr>\n",
              "    <tr>\n",
              "      <th>715494628a50142ce8cb17191cfe6d0f3cae0934</th>\n",
              "      <td>561.4</td>\n",
              "    </tr>\n",
              "    <tr>\n",
              "      <th>...</th>\n",
              "      <td>...</td>\n",
              "    </tr>\n",
              "    <tr>\n",
              "      <th>dac0f22429c7f8e3931d0abaf5dfc8e5c772a48b</th>\n",
              "      <td>452.4</td>\n",
              "    </tr>\n",
              "    <tr>\n",
              "      <th>a75fa8770257e7c9368d059fe53d9ef431f4bdef</th>\n",
              "      <td>468.2</td>\n",
              "    </tr>\n",
              "    <tr>\n",
              "      <th>655fa6306720ff16e825903b5422a46608a77545</th>\n",
              "      <td>680.4</td>\n",
              "    </tr>\n",
              "    <tr>\n",
              "      <th>1f4bc3e3d56212d500625bfe8ac78ccff4362293</th>\n",
              "      <td>443.7</td>\n",
              "    </tr>\n",
              "    <tr>\n",
              "      <th>adf0d15b54317b6564ef56dad2b775bbb0ef50cc</th>\n",
              "      <td>0.0</td>\n",
              "    </tr>\n",
              "  </tbody>\n",
              "</table>\n",
              "<p>4576 rows × 1 columns</p>\n",
              "</div>"
            ],
            "text/plain": [
              "                                          NU_NOTA_MT\n",
              "NU_INSCRICAO                                        \n",
              "73ff9fcc02f0a99919906c942c2e1a1042cdcf98       438.1\n",
              "71a95f9f1b91a82c65ad94abbdf9f54e6066f968       450.8\n",
              "b38a03232f43b11c9d0788abaf060f7366053b6d       611.4\n",
              "70b682d9a3636be23f6120fa9d6b164eb3c6002d         0.0\n",
              "715494628a50142ce8cb17191cfe6d0f3cae0934       561.4\n",
              "...                                              ...\n",
              "dac0f22429c7f8e3931d0abaf5dfc8e5c772a48b       452.4\n",
              "a75fa8770257e7c9368d059fe53d9ef431f4bdef       468.2\n",
              "655fa6306720ff16e825903b5422a46608a77545       680.4\n",
              "1f4bc3e3d56212d500625bfe8ac78ccff4362293       443.7\n",
              "adf0d15b54317b6564ef56dad2b775bbb0ef50cc         0.0\n",
              "\n",
              "[4576 rows x 1 columns]"
            ]
          },
          "metadata": {
            "tags": []
          },
          "execution_count": 111
        }
      ]
    },
    {
      "cell_type": "markdown",
      "metadata": {
        "id": "GUbrzZ-7M5r3",
        "colab_type": "text"
      },
      "source": [
        "criando e baixando o arquivo de resposta da predição para submição"
      ]
    },
    {
      "cell_type": "code",
      "metadata": {
        "id": "yeeYnSdQLIXd",
        "colab_type": "code",
        "colab": {}
      },
      "source": [
        "resp.to_csv('answer.csv')\n",
        "files.download('answer.csv')"
      ],
      "execution_count": 0,
      "outputs": []
    },
    {
      "cell_type": "markdown",
      "metadata": {
        "id": "0trRim8dNVnU",
        "colab_type": "text"
      },
      "source": [
        "## Testando algumas soluções"
      ]
    },
    {
      "cell_type": "markdown",
      "metadata": {
        "id": "wwedrmeeB801",
        "colab_type": "text"
      },
      "source": [
        "### Limpeza e Preparação"
      ]
    },
    {
      "cell_type": "code",
      "metadata": {
        "id": "r6x-p_ALqVhN",
        "colab_type": "code",
        "outputId": "e242fa96-59c6-4973-96a6-f496088bf9de",
        "colab": {
          "base_uri": "https://localhost:8080/",
          "height": 216
        }
      },
      "source": [
        "teste.columns"
      ],
      "execution_count": 0,
      "outputs": [
        {
          "output_type": "execute_result",
          "data": {
            "text/plain": [
              "Index(['NU_INSCRICAO', 'CO_UF_RESIDENCIA', 'SG_UF_RESIDENCIA', 'NU_IDADE',\n",
              "       'TP_SEXO', 'TP_COR_RACA', 'TP_NACIONALIDADE', 'TP_ST_CONCLUSAO',\n",
              "       'TP_ANO_CONCLUIU', 'TP_ESCOLA', 'TP_ENSINO', 'IN_TREINEIRO',\n",
              "       'TP_DEPENDENCIA_ADM_ESC', 'IN_BAIXA_VISAO', 'IN_CEGUEIRA', 'IN_SURDEZ',\n",
              "       'IN_DISLEXIA', 'IN_DISCALCULIA', 'IN_SABATISTA', 'IN_GESTANTE',\n",
              "       'IN_IDOSO', 'TP_PRESENCA_CN', 'TP_PRESENCA_CH', 'TP_PRESENCA_LC',\n",
              "       'CO_PROVA_CN', 'CO_PROVA_CH', 'CO_PROVA_LC', 'CO_PROVA_MT',\n",
              "       'NU_NOTA_CN', 'NU_NOTA_CH', 'NU_NOTA_LC', 'TP_LINGUA',\n",
              "       'TP_STATUS_REDACAO', 'NU_NOTA_COMP1', 'NU_NOTA_COMP2', 'NU_NOTA_COMP3',\n",
              "       'NU_NOTA_COMP4', 'NU_NOTA_COMP5', 'NU_NOTA_REDACAO', 'Q001', 'Q002',\n",
              "       'Q006', 'Q024', 'Q025', 'Q026', 'Q027', 'Q047'],\n",
              "      dtype='object')"
            ]
          },
          "metadata": {
            "tags": []
          },
          "execution_count": 6
        }
      ]
    },
    {
      "cell_type": "code",
      "metadata": {
        "id": "xJntr4Uiy3wY",
        "colab_type": "code",
        "colab": {}
      },
      "source": [
        "nu_inscricao = teste['NU_INSCRICAO']"
      ],
      "execution_count": 0,
      "outputs": []
    },
    {
      "cell_type": "code",
      "metadata": {
        "id": "JP-8WEE4qY8M",
        "colab_type": "code",
        "colab": {}
      },
      "source": [
        "teste.drop(['NU_INSCRICAO', 'CO_PROVA_CN', 'CO_PROVA_CH', 'IN_CEGUEIRA', \n",
        "            'CO_PROVA_LC', 'CO_PROVA_MT', 'CO_UF_RESIDENCIA',\n",
        "            'TP_NACIONALIDADE', 'TP_ENSINO', 'TP_DEPENDENCIA_ADM_ESC'],\n",
        "            axis=1, inplace=True)"
      ],
      "execution_count": 0,
      "outputs": []
    },
    {
      "cell_type": "code",
      "metadata": {
        "id": "FRVfEO6XzDqY",
        "colab_type": "code",
        "outputId": "8edd065a-d27b-4f3c-9339-3bacb1753c3a",
        "colab": {
          "base_uri": "https://localhost:8080/",
          "height": 33
        }
      },
      "source": [
        "teste.loc[teste['TP_SEXO'] == 'F', 'TP_SEXO'] = 1\n",
        "teste.loc[teste['TP_SEXO'] == 'M', 'TP_SEXO'] = 0\n",
        "\n",
        "df.loc[df['TP_SEXO'] == 'F', 'TP_SEXO'] = 1\n",
        "df.loc[df['TP_SEXO'] == 'M', 'TP_SEXO'] = 0\n",
        "\n",
        "pd.unique(teste['TP_SEXO'])"
      ],
      "execution_count": 0,
      "outputs": [
        {
          "output_type": "execute_result",
          "data": {
            "text/plain": [
              "array([1, 0], dtype=object)"
            ]
          },
          "metadata": {
            "tags": []
          },
          "execution_count": 4
        }
      ]
    },
    {
      "cell_type": "code",
      "metadata": {
        "id": "N3Abw_anlaYa",
        "colab_type": "code",
        "outputId": "33742564-bd9f-4c26-ea3f-8ac88c5bc86e",
        "colab": {
          "base_uri": "https://localhost:8080/",
          "height": 650
        }
      },
      "source": [
        "teste.dtypes"
      ],
      "execution_count": 0,
      "outputs": [
        {
          "output_type": "execute_result",
          "data": {
            "text/plain": [
              "SG_UF_RESIDENCIA      object\n",
              "NU_IDADE               int64\n",
              "TP_SEXO               object\n",
              "TP_COR_RACA            int64\n",
              "TP_ST_CONCLUSAO        int64\n",
              "TP_ANO_CONCLUIU        int64\n",
              "TP_ESCOLA              int64\n",
              "IN_TREINEIRO           int64\n",
              "IN_BAIXA_VISAO         int64\n",
              "IN_SURDEZ              int64\n",
              "IN_DISLEXIA            int64\n",
              "IN_DISCALCULIA         int64\n",
              "IN_SABATISTA           int64\n",
              "IN_GESTANTE            int64\n",
              "IN_IDOSO               int64\n",
              "TP_PRESENCA_CN         int64\n",
              "TP_PRESENCA_CH         int64\n",
              "TP_PRESENCA_LC         int64\n",
              "NU_NOTA_CN           float64\n",
              "NU_NOTA_CH           float64\n",
              "NU_NOTA_LC           float64\n",
              "TP_LINGUA              int64\n",
              "TP_STATUS_REDACAO    float64\n",
              "NU_NOTA_COMP1        float64\n",
              "NU_NOTA_COMP2        float64\n",
              "NU_NOTA_COMP3        float64\n",
              "NU_NOTA_COMP4        float64\n",
              "NU_NOTA_COMP5        float64\n",
              "NU_NOTA_REDACAO      float64\n",
              "Q001                  object\n",
              "Q002                  object\n",
              "Q006                  object\n",
              "Q024                  object\n",
              "Q025                  object\n",
              "Q026                  object\n",
              "Q027                  object\n",
              "Q047                  object\n",
              "dtype: object"
            ]
          },
          "metadata": {
            "tags": []
          },
          "execution_count": 10
        }
      ]
    },
    {
      "cell_type": "code",
      "metadata": {
        "id": "msKcng-fmdNa",
        "colab_type": "code",
        "colab": {}
      },
      "source": [
        "# df.groupby(by=['TP_COR_RACA', 'TP_SEXO'])['NU_NOTA_MT'].describe() # O quão anti-ético é isso?!\n",
        "# df.groupby(by=['TP_NACIONALIDADE'])['NU_NOTA_MT'].describe() # Não é relevante"
      ],
      "execution_count": 0,
      "outputs": []
    },
    {
      "cell_type": "code",
      "metadata": {
        "id": "FCbtSkOvEU_t",
        "colab_type": "code",
        "outputId": "e232c1e3-954a-4f80-a31e-0579809d2a0e",
        "colab": {
          "base_uri": "https://localhost:8080/",
          "height": 33
        }
      },
      "source": [
        "print(df.shape, teste.shape)"
      ],
      "execution_count": 0,
      "outputs": [
        {
          "output_type": "stream",
          "text": [
            "(13730, 168) (4576, 37)\n"
          ],
          "name": "stdout"
        }
      ]
    },
    {
      "cell_type": "code",
      "metadata": {
        "id": "QqT7ehdLDOGT",
        "colab_type": "code",
        "outputId": "4455ae94-03e6-421a-fa12-301d3ab5f20a",
        "colab": {
          "base_uri": "https://localhost:8080/",
          "height": 216
        }
      },
      "source": [
        "nota_mt = df['NU_NOTA_MT']\n",
        "nota_mt"
      ],
      "execution_count": 0,
      "outputs": [
        {
          "output_type": "execute_result",
          "data": {
            "text/plain": [
              "0        399.4\n",
              "1        459.8\n",
              "2          NaN\n",
              "3          NaN\n",
              "4          NaN\n",
              "         ...  \n",
              "13725    403.2\n",
              "13726    452.4\n",
              "13727    398.0\n",
              "13728    386.6\n",
              "13729    428.9\n",
              "Name: NU_NOTA_MT, Length: 13730, dtype: float64"
            ]
          },
          "metadata": {
            "tags": []
          },
          "execution_count": 5
        }
      ]
    },
    {
      "cell_type": "code",
      "metadata": {
        "id": "cotO-2CkPzs3",
        "colab_type": "code",
        "outputId": "ef46977f-2920-42a5-9339-ddf477c26655",
        "colab": {
          "base_uri": "https://localhost:8080/",
          "height": 426
        }
      },
      "source": [
        "df = df[teste.columns]\n",
        "df = df.join(nota_mt)\n",
        "df"
      ],
      "execution_count": 0,
      "outputs": [
        {
          "output_type": "execute_result",
          "data": {
            "text/html": [
              "<div>\n",
              "<style scoped>\n",
              "    .dataframe tbody tr th:only-of-type {\n",
              "        vertical-align: middle;\n",
              "    }\n",
              "\n",
              "    .dataframe tbody tr th {\n",
              "        vertical-align: top;\n",
              "    }\n",
              "\n",
              "    .dataframe thead th {\n",
              "        text-align: right;\n",
              "    }\n",
              "</style>\n",
              "<table border=\"1\" class=\"dataframe\">\n",
              "  <thead>\n",
              "    <tr style=\"text-align: right;\">\n",
              "      <th></th>\n",
              "      <th>SG_UF_RESIDENCIA</th>\n",
              "      <th>NU_IDADE</th>\n",
              "      <th>TP_SEXO</th>\n",
              "      <th>TP_COR_RACA</th>\n",
              "      <th>TP_ST_CONCLUSAO</th>\n",
              "      <th>TP_ANO_CONCLUIU</th>\n",
              "      <th>TP_ESCOLA</th>\n",
              "      <th>IN_TREINEIRO</th>\n",
              "      <th>IN_BAIXA_VISAO</th>\n",
              "      <th>IN_SURDEZ</th>\n",
              "      <th>IN_DISLEXIA</th>\n",
              "      <th>IN_DISCALCULIA</th>\n",
              "      <th>IN_SABATISTA</th>\n",
              "      <th>IN_GESTANTE</th>\n",
              "      <th>IN_IDOSO</th>\n",
              "      <th>TP_PRESENCA_CN</th>\n",
              "      <th>TP_PRESENCA_CH</th>\n",
              "      <th>TP_PRESENCA_LC</th>\n",
              "      <th>NU_NOTA_CN</th>\n",
              "      <th>NU_NOTA_CH</th>\n",
              "      <th>NU_NOTA_LC</th>\n",
              "      <th>TP_LINGUA</th>\n",
              "      <th>TP_STATUS_REDACAO</th>\n",
              "      <th>NU_NOTA_COMP1</th>\n",
              "      <th>NU_NOTA_COMP2</th>\n",
              "      <th>NU_NOTA_COMP3</th>\n",
              "      <th>NU_NOTA_COMP4</th>\n",
              "      <th>NU_NOTA_COMP5</th>\n",
              "      <th>NU_NOTA_REDACAO</th>\n",
              "      <th>Q001</th>\n",
              "      <th>Q002</th>\n",
              "      <th>Q006</th>\n",
              "      <th>Q024</th>\n",
              "      <th>Q025</th>\n",
              "      <th>Q026</th>\n",
              "      <th>Q027</th>\n",
              "      <th>Q047</th>\n",
              "      <th>NU_NOTA_MT</th>\n",
              "    </tr>\n",
              "  </thead>\n",
              "  <tbody>\n",
              "    <tr>\n",
              "      <th>0</th>\n",
              "      <td>RS</td>\n",
              "      <td>24</td>\n",
              "      <td>0</td>\n",
              "      <td>1</td>\n",
              "      <td>1</td>\n",
              "      <td>4</td>\n",
              "      <td>1</td>\n",
              "      <td>0</td>\n",
              "      <td>0</td>\n",
              "      <td>0</td>\n",
              "      <td>0</td>\n",
              "      <td>0</td>\n",
              "      <td>0</td>\n",
              "      <td>0</td>\n",
              "      <td>0</td>\n",
              "      <td>1</td>\n",
              "      <td>1</td>\n",
              "      <td>1</td>\n",
              "      <td>436.3</td>\n",
              "      <td>495.4</td>\n",
              "      <td>581.2</td>\n",
              "      <td>1</td>\n",
              "      <td>1.0</td>\n",
              "      <td>120.0</td>\n",
              "      <td>120.0</td>\n",
              "      <td>120.0</td>\n",
              "      <td>80.0</td>\n",
              "      <td>80.0</td>\n",
              "      <td>520.0</td>\n",
              "      <td>D</td>\n",
              "      <td>D</td>\n",
              "      <td>C</td>\n",
              "      <td>A</td>\n",
              "      <td>A</td>\n",
              "      <td>C</td>\n",
              "      <td>H</td>\n",
              "      <td>A</td>\n",
              "      <td>399.4</td>\n",
              "    </tr>\n",
              "    <tr>\n",
              "      <th>1</th>\n",
              "      <td>CE</td>\n",
              "      <td>17</td>\n",
              "      <td>1</td>\n",
              "      <td>3</td>\n",
              "      <td>2</td>\n",
              "      <td>0</td>\n",
              "      <td>2</td>\n",
              "      <td>0</td>\n",
              "      <td>0</td>\n",
              "      <td>0</td>\n",
              "      <td>0</td>\n",
              "      <td>0</td>\n",
              "      <td>0</td>\n",
              "      <td>0</td>\n",
              "      <td>0</td>\n",
              "      <td>1</td>\n",
              "      <td>1</td>\n",
              "      <td>1</td>\n",
              "      <td>474.5</td>\n",
              "      <td>544.1</td>\n",
              "      <td>599.0</td>\n",
              "      <td>1</td>\n",
              "      <td>1.0</td>\n",
              "      <td>140.0</td>\n",
              "      <td>120.0</td>\n",
              "      <td>120.0</td>\n",
              "      <td>120.0</td>\n",
              "      <td>80.0</td>\n",
              "      <td>580.0</td>\n",
              "      <td>A</td>\n",
              "      <td>A</td>\n",
              "      <td>B</td>\n",
              "      <td>A</td>\n",
              "      <td>A</td>\n",
              "      <td>A</td>\n",
              "      <td>NaN</td>\n",
              "      <td>A</td>\n",
              "      <td>459.8</td>\n",
              "    </tr>\n",
              "    <tr>\n",
              "      <th>2</th>\n",
              "      <td>CE</td>\n",
              "      <td>21</td>\n",
              "      <td>1</td>\n",
              "      <td>3</td>\n",
              "      <td>3</td>\n",
              "      <td>0</td>\n",
              "      <td>1</td>\n",
              "      <td>0</td>\n",
              "      <td>0</td>\n",
              "      <td>0</td>\n",
              "      <td>0</td>\n",
              "      <td>0</td>\n",
              "      <td>0</td>\n",
              "      <td>0</td>\n",
              "      <td>0</td>\n",
              "      <td>0</td>\n",
              "      <td>0</td>\n",
              "      <td>0</td>\n",
              "      <td>NaN</td>\n",
              "      <td>NaN</td>\n",
              "      <td>NaN</td>\n",
              "      <td>1</td>\n",
              "      <td>NaN</td>\n",
              "      <td>NaN</td>\n",
              "      <td>NaN</td>\n",
              "      <td>NaN</td>\n",
              "      <td>NaN</td>\n",
              "      <td>NaN</td>\n",
              "      <td>NaN</td>\n",
              "      <td>D</td>\n",
              "      <td>D</td>\n",
              "      <td>C</td>\n",
              "      <td>A</td>\n",
              "      <td>A</td>\n",
              "      <td>A</td>\n",
              "      <td>NaN</td>\n",
              "      <td>A</td>\n",
              "      <td>NaN</td>\n",
              "    </tr>\n",
              "    <tr>\n",
              "      <th>3</th>\n",
              "      <td>RJ</td>\n",
              "      <td>25</td>\n",
              "      <td>1</td>\n",
              "      <td>0</td>\n",
              "      <td>1</td>\n",
              "      <td>9</td>\n",
              "      <td>1</td>\n",
              "      <td>0</td>\n",
              "      <td>0</td>\n",
              "      <td>0</td>\n",
              "      <td>0</td>\n",
              "      <td>0</td>\n",
              "      <td>0</td>\n",
              "      <td>0</td>\n",
              "      <td>0</td>\n",
              "      <td>0</td>\n",
              "      <td>0</td>\n",
              "      <td>0</td>\n",
              "      <td>NaN</td>\n",
              "      <td>NaN</td>\n",
              "      <td>NaN</td>\n",
              "      <td>0</td>\n",
              "      <td>NaN</td>\n",
              "      <td>NaN</td>\n",
              "      <td>NaN</td>\n",
              "      <td>NaN</td>\n",
              "      <td>NaN</td>\n",
              "      <td>NaN</td>\n",
              "      <td>NaN</td>\n",
              "      <td>H</td>\n",
              "      <td>E</td>\n",
              "      <td>E</td>\n",
              "      <td>C</td>\n",
              "      <td>B</td>\n",
              "      <td>C</td>\n",
              "      <td>F</td>\n",
              "      <td>D</td>\n",
              "      <td>NaN</td>\n",
              "    </tr>\n",
              "    <tr>\n",
              "      <th>4</th>\n",
              "      <td>AM</td>\n",
              "      <td>28</td>\n",
              "      <td>0</td>\n",
              "      <td>2</td>\n",
              "      <td>1</td>\n",
              "      <td>4</td>\n",
              "      <td>1</td>\n",
              "      <td>0</td>\n",
              "      <td>0</td>\n",
              "      <td>0</td>\n",
              "      <td>0</td>\n",
              "      <td>0</td>\n",
              "      <td>0</td>\n",
              "      <td>0</td>\n",
              "      <td>0</td>\n",
              "      <td>0</td>\n",
              "      <td>0</td>\n",
              "      <td>0</td>\n",
              "      <td>NaN</td>\n",
              "      <td>NaN</td>\n",
              "      <td>NaN</td>\n",
              "      <td>1</td>\n",
              "      <td>NaN</td>\n",
              "      <td>NaN</td>\n",
              "      <td>NaN</td>\n",
              "      <td>NaN</td>\n",
              "      <td>NaN</td>\n",
              "      <td>NaN</td>\n",
              "      <td>NaN</td>\n",
              "      <td>E</td>\n",
              "      <td>D</td>\n",
              "      <td>C</td>\n",
              "      <td>A</td>\n",
              "      <td>A</td>\n",
              "      <td>B</td>\n",
              "      <td>F</td>\n",
              "      <td>A</td>\n",
              "      <td>NaN</td>\n",
              "    </tr>\n",
              "    <tr>\n",
              "      <th>...</th>\n",
              "      <td>...</td>\n",
              "      <td>...</td>\n",
              "      <td>...</td>\n",
              "      <td>...</td>\n",
              "      <td>...</td>\n",
              "      <td>...</td>\n",
              "      <td>...</td>\n",
              "      <td>...</td>\n",
              "      <td>...</td>\n",
              "      <td>...</td>\n",
              "      <td>...</td>\n",
              "      <td>...</td>\n",
              "      <td>...</td>\n",
              "      <td>...</td>\n",
              "      <td>...</td>\n",
              "      <td>...</td>\n",
              "      <td>...</td>\n",
              "      <td>...</td>\n",
              "      <td>...</td>\n",
              "      <td>...</td>\n",
              "      <td>...</td>\n",
              "      <td>...</td>\n",
              "      <td>...</td>\n",
              "      <td>...</td>\n",
              "      <td>...</td>\n",
              "      <td>...</td>\n",
              "      <td>...</td>\n",
              "      <td>...</td>\n",
              "      <td>...</td>\n",
              "      <td>...</td>\n",
              "      <td>...</td>\n",
              "      <td>...</td>\n",
              "      <td>...</td>\n",
              "      <td>...</td>\n",
              "      <td>...</td>\n",
              "      <td>...</td>\n",
              "      <td>...</td>\n",
              "      <td>...</td>\n",
              "    </tr>\n",
              "    <tr>\n",
              "      <th>13725</th>\n",
              "      <td>SP</td>\n",
              "      <td>20</td>\n",
              "      <td>0</td>\n",
              "      <td>1</td>\n",
              "      <td>1</td>\n",
              "      <td>3</td>\n",
              "      <td>1</td>\n",
              "      <td>0</td>\n",
              "      <td>0</td>\n",
              "      <td>0</td>\n",
              "      <td>0</td>\n",
              "      <td>0</td>\n",
              "      <td>0</td>\n",
              "      <td>0</td>\n",
              "      <td>0</td>\n",
              "      <td>1</td>\n",
              "      <td>1</td>\n",
              "      <td>1</td>\n",
              "      <td>438.2</td>\n",
              "      <td>419.7</td>\n",
              "      <td>394.5</td>\n",
              "      <td>0</td>\n",
              "      <td>1.0</td>\n",
              "      <td>120.0</td>\n",
              "      <td>120.0</td>\n",
              "      <td>80.0</td>\n",
              "      <td>80.0</td>\n",
              "      <td>40.0</td>\n",
              "      <td>440.0</td>\n",
              "      <td>E</td>\n",
              "      <td>E</td>\n",
              "      <td>G</td>\n",
              "      <td>B</td>\n",
              "      <td>B</td>\n",
              "      <td>B</td>\n",
              "      <td>C</td>\n",
              "      <td>A</td>\n",
              "      <td>403.2</td>\n",
              "    </tr>\n",
              "    <tr>\n",
              "      <th>13726</th>\n",
              "      <td>PE</td>\n",
              "      <td>33</td>\n",
              "      <td>1</td>\n",
              "      <td>3</td>\n",
              "      <td>1</td>\n",
              "      <td>10</td>\n",
              "      <td>1</td>\n",
              "      <td>0</td>\n",
              "      <td>0</td>\n",
              "      <td>0</td>\n",
              "      <td>0</td>\n",
              "      <td>0</td>\n",
              "      <td>0</td>\n",
              "      <td>0</td>\n",
              "      <td>0</td>\n",
              "      <td>1</td>\n",
              "      <td>1</td>\n",
              "      <td>1</td>\n",
              "      <td>423.8</td>\n",
              "      <td>557.9</td>\n",
              "      <td>533.0</td>\n",
              "      <td>1</td>\n",
              "      <td>1.0</td>\n",
              "      <td>120.0</td>\n",
              "      <td>120.0</td>\n",
              "      <td>120.0</td>\n",
              "      <td>120.0</td>\n",
              "      <td>80.0</td>\n",
              "      <td>560.0</td>\n",
              "      <td>A</td>\n",
              "      <td>A</td>\n",
              "      <td>C</td>\n",
              "      <td>A</td>\n",
              "      <td>B</td>\n",
              "      <td>B</td>\n",
              "      <td>I</td>\n",
              "      <td>A</td>\n",
              "      <td>452.4</td>\n",
              "    </tr>\n",
              "    <tr>\n",
              "      <th>13727</th>\n",
              "      <td>RS</td>\n",
              "      <td>15</td>\n",
              "      <td>1</td>\n",
              "      <td>1</td>\n",
              "      <td>3</td>\n",
              "      <td>0</td>\n",
              "      <td>1</td>\n",
              "      <td>1</td>\n",
              "      <td>0</td>\n",
              "      <td>0</td>\n",
              "      <td>0</td>\n",
              "      <td>0</td>\n",
              "      <td>0</td>\n",
              "      <td>0</td>\n",
              "      <td>0</td>\n",
              "      <td>1</td>\n",
              "      <td>1</td>\n",
              "      <td>1</td>\n",
              "      <td>460.5</td>\n",
              "      <td>528.9</td>\n",
              "      <td>569.3</td>\n",
              "      <td>0</td>\n",
              "      <td>1.0</td>\n",
              "      <td>120.0</td>\n",
              "      <td>120.0</td>\n",
              "      <td>120.0</td>\n",
              "      <td>120.0</td>\n",
              "      <td>120.0</td>\n",
              "      <td>600.0</td>\n",
              "      <td>C</td>\n",
              "      <td>G</td>\n",
              "      <td>B</td>\n",
              "      <td>A</td>\n",
              "      <td>B</td>\n",
              "      <td>A</td>\n",
              "      <td>NaN</td>\n",
              "      <td>A</td>\n",
              "      <td>398.0</td>\n",
              "    </tr>\n",
              "    <tr>\n",
              "      <th>13728</th>\n",
              "      <td>RJ</td>\n",
              "      <td>36</td>\n",
              "      <td>0</td>\n",
              "      <td>3</td>\n",
              "      <td>4</td>\n",
              "      <td>0</td>\n",
              "      <td>1</td>\n",
              "      <td>0</td>\n",
              "      <td>0</td>\n",
              "      <td>0</td>\n",
              "      <td>0</td>\n",
              "      <td>0</td>\n",
              "      <td>0</td>\n",
              "      <td>0</td>\n",
              "      <td>0</td>\n",
              "      <td>1</td>\n",
              "      <td>1</td>\n",
              "      <td>1</td>\n",
              "      <td>422.5</td>\n",
              "      <td>621.7</td>\n",
              "      <td>569.0</td>\n",
              "      <td>1</td>\n",
              "      <td>1.0</td>\n",
              "      <td>100.0</td>\n",
              "      <td>100.0</td>\n",
              "      <td>80.0</td>\n",
              "      <td>80.0</td>\n",
              "      <td>100.0</td>\n",
              "      <td>460.0</td>\n",
              "      <td>B</td>\n",
              "      <td>D</td>\n",
              "      <td>G</td>\n",
              "      <td>B</td>\n",
              "      <td>B</td>\n",
              "      <td>C</td>\n",
              "      <td>E</td>\n",
              "      <td>A</td>\n",
              "      <td>386.6</td>\n",
              "    </tr>\n",
              "    <tr>\n",
              "      <th>13729</th>\n",
              "      <td>PR</td>\n",
              "      <td>17</td>\n",
              "      <td>0</td>\n",
              "      <td>1</td>\n",
              "      <td>2</td>\n",
              "      <td>0</td>\n",
              "      <td>2</td>\n",
              "      <td>0</td>\n",
              "      <td>0</td>\n",
              "      <td>0</td>\n",
              "      <td>0</td>\n",
              "      <td>0</td>\n",
              "      <td>0</td>\n",
              "      <td>0</td>\n",
              "      <td>0</td>\n",
              "      <td>1</td>\n",
              "      <td>1</td>\n",
              "      <td>1</td>\n",
              "      <td>488.7</td>\n",
              "      <td>575.3</td>\n",
              "      <td>565.9</td>\n",
              "      <td>0</td>\n",
              "      <td>1.0</td>\n",
              "      <td>120.0</td>\n",
              "      <td>120.0</td>\n",
              "      <td>80.0</td>\n",
              "      <td>120.0</td>\n",
              "      <td>80.0</td>\n",
              "      <td>520.0</td>\n",
              "      <td>E</td>\n",
              "      <td>D</td>\n",
              "      <td>F</td>\n",
              "      <td>C</td>\n",
              "      <td>B</td>\n",
              "      <td>A</td>\n",
              "      <td>NaN</td>\n",
              "      <td>A</td>\n",
              "      <td>428.9</td>\n",
              "    </tr>\n",
              "  </tbody>\n",
              "</table>\n",
              "<p>13730 rows × 38 columns</p>\n",
              "</div>"
            ],
            "text/plain": [
              "      SG_UF_RESIDENCIA  NU_IDADE TP_SEXO  ...  Q027  Q047  NU_NOTA_MT\n",
              "0                   RS        24       0  ...     H     A       399.4\n",
              "1                   CE        17       1  ...   NaN     A       459.8\n",
              "2                   CE        21       1  ...   NaN     A         NaN\n",
              "3                   RJ        25       1  ...     F     D         NaN\n",
              "4                   AM        28       0  ...     F     A         NaN\n",
              "...                ...       ...     ...  ...   ...   ...         ...\n",
              "13725               SP        20       0  ...     C     A       403.2\n",
              "13726               PE        33       1  ...     I     A       452.4\n",
              "13727               RS        15       1  ...   NaN     A       398.0\n",
              "13728               RJ        36       0  ...     E     A       386.6\n",
              "13729               PR        17       0  ...   NaN     A       428.9\n",
              "\n",
              "[13730 rows x 38 columns]"
            ]
          },
          "metadata": {
            "tags": []
          },
          "execution_count": 6
        }
      ]
    },
    {
      "cell_type": "code",
      "metadata": {
        "id": "dJa_558pQl3D",
        "colab_type": "code",
        "colab": {}
      },
      "source": [
        "df.fillna(df.median(), inplace=True)\n",
        "df2 = pd.get_dummies(df)"
      ],
      "execution_count": 0,
      "outputs": []
    },
    {
      "cell_type": "code",
      "metadata": {
        "id": "A1F8-n4uNNVM",
        "colab_type": "code",
        "outputId": "9107b6a9-631f-49a1-e400-a2f97e4b3ce4",
        "colab": {
          "base_uri": "https://localhost:8080/",
          "height": 426
        }
      },
      "source": [
        "teste.fillna(teste.median(), inplace=True)\n",
        "teste2 = pd.get_dummies(teste)\n",
        "teste2"
      ],
      "execution_count": 0,
      "outputs": [
        {
          "output_type": "execute_result",
          "data": {
            "text/html": [
              "<div>\n",
              "<style scoped>\n",
              "    .dataframe tbody tr th:only-of-type {\n",
              "        vertical-align: middle;\n",
              "    }\n",
              "\n",
              "    .dataframe tbody tr th {\n",
              "        vertical-align: top;\n",
              "    }\n",
              "\n",
              "    .dataframe thead th {\n",
              "        text-align: right;\n",
              "    }\n",
              "</style>\n",
              "<table border=\"1\" class=\"dataframe\">\n",
              "  <thead>\n",
              "    <tr style=\"text-align: right;\">\n",
              "      <th></th>\n",
              "      <th>NU_IDADE</th>\n",
              "      <th>TP_SEXO</th>\n",
              "      <th>TP_COR_RACA</th>\n",
              "      <th>TP_ST_CONCLUSAO</th>\n",
              "      <th>TP_ANO_CONCLUIU</th>\n",
              "      <th>TP_ESCOLA</th>\n",
              "      <th>IN_TREINEIRO</th>\n",
              "      <th>IN_BAIXA_VISAO</th>\n",
              "      <th>IN_SURDEZ</th>\n",
              "      <th>IN_DISLEXIA</th>\n",
              "      <th>IN_DISCALCULIA</th>\n",
              "      <th>IN_SABATISTA</th>\n",
              "      <th>IN_GESTANTE</th>\n",
              "      <th>IN_IDOSO</th>\n",
              "      <th>TP_PRESENCA_CN</th>\n",
              "      <th>TP_PRESENCA_CH</th>\n",
              "      <th>TP_PRESENCA_LC</th>\n",
              "      <th>NU_NOTA_CN</th>\n",
              "      <th>NU_NOTA_CH</th>\n",
              "      <th>NU_NOTA_LC</th>\n",
              "      <th>TP_LINGUA</th>\n",
              "      <th>TP_STATUS_REDACAO</th>\n",
              "      <th>NU_NOTA_COMP1</th>\n",
              "      <th>NU_NOTA_COMP2</th>\n",
              "      <th>NU_NOTA_COMP3</th>\n",
              "      <th>NU_NOTA_COMP4</th>\n",
              "      <th>NU_NOTA_COMP5</th>\n",
              "      <th>NU_NOTA_REDACAO</th>\n",
              "      <th>SG_UF_RESIDENCIA_AC</th>\n",
              "      <th>SG_UF_RESIDENCIA_AL</th>\n",
              "      <th>SG_UF_RESIDENCIA_AM</th>\n",
              "      <th>SG_UF_RESIDENCIA_AP</th>\n",
              "      <th>SG_UF_RESIDENCIA_BA</th>\n",
              "      <th>SG_UF_RESIDENCIA_CE</th>\n",
              "      <th>SG_UF_RESIDENCIA_DF</th>\n",
              "      <th>SG_UF_RESIDENCIA_ES</th>\n",
              "      <th>SG_UF_RESIDENCIA_GO</th>\n",
              "      <th>SG_UF_RESIDENCIA_MA</th>\n",
              "      <th>SG_UF_RESIDENCIA_MG</th>\n",
              "      <th>SG_UF_RESIDENCIA_MS</th>\n",
              "      <th>...</th>\n",
              "      <th>Q006_F</th>\n",
              "      <th>Q006_G</th>\n",
              "      <th>Q006_H</th>\n",
              "      <th>Q006_I</th>\n",
              "      <th>Q006_J</th>\n",
              "      <th>Q006_K</th>\n",
              "      <th>Q006_L</th>\n",
              "      <th>Q006_M</th>\n",
              "      <th>Q006_N</th>\n",
              "      <th>Q006_O</th>\n",
              "      <th>Q006_P</th>\n",
              "      <th>Q006_Q</th>\n",
              "      <th>Q024_A</th>\n",
              "      <th>Q024_B</th>\n",
              "      <th>Q024_C</th>\n",
              "      <th>Q024_D</th>\n",
              "      <th>Q024_E</th>\n",
              "      <th>Q025_A</th>\n",
              "      <th>Q025_B</th>\n",
              "      <th>Q026_A</th>\n",
              "      <th>Q026_B</th>\n",
              "      <th>Q026_C</th>\n",
              "      <th>Q027_A</th>\n",
              "      <th>Q027_B</th>\n",
              "      <th>Q027_C</th>\n",
              "      <th>Q027_D</th>\n",
              "      <th>Q027_E</th>\n",
              "      <th>Q027_F</th>\n",
              "      <th>Q027_G</th>\n",
              "      <th>Q027_H</th>\n",
              "      <th>Q027_I</th>\n",
              "      <th>Q027_J</th>\n",
              "      <th>Q027_K</th>\n",
              "      <th>Q027_L</th>\n",
              "      <th>Q027_M</th>\n",
              "      <th>Q047_A</th>\n",
              "      <th>Q047_B</th>\n",
              "      <th>Q047_C</th>\n",
              "      <th>Q047_D</th>\n",
              "      <th>Q047_E</th>\n",
              "    </tr>\n",
              "  </thead>\n",
              "  <tbody>\n",
              "    <tr>\n",
              "      <th>0</th>\n",
              "      <td>22</td>\n",
              "      <td>1</td>\n",
              "      <td>3</td>\n",
              "      <td>1</td>\n",
              "      <td>5</td>\n",
              "      <td>1</td>\n",
              "      <td>0</td>\n",
              "      <td>0</td>\n",
              "      <td>0</td>\n",
              "      <td>0</td>\n",
              "      <td>0</td>\n",
              "      <td>0</td>\n",
              "      <td>0</td>\n",
              "      <td>0</td>\n",
              "      <td>1</td>\n",
              "      <td>1</td>\n",
              "      <td>1</td>\n",
              "      <td>464.80</td>\n",
              "      <td>443.5</td>\n",
              "      <td>431.8</td>\n",
              "      <td>0</td>\n",
              "      <td>1.0</td>\n",
              "      <td>120.0</td>\n",
              "      <td>80.0</td>\n",
              "      <td>80.0</td>\n",
              "      <td>100.0</td>\n",
              "      <td>40.0</td>\n",
              "      <td>420.0</td>\n",
              "      <td>0</td>\n",
              "      <td>0</td>\n",
              "      <td>0</td>\n",
              "      <td>0</td>\n",
              "      <td>0</td>\n",
              "      <td>0</td>\n",
              "      <td>0</td>\n",
              "      <td>0</td>\n",
              "      <td>0</td>\n",
              "      <td>0</td>\n",
              "      <td>0</td>\n",
              "      <td>0</td>\n",
              "      <td>...</td>\n",
              "      <td>0</td>\n",
              "      <td>0</td>\n",
              "      <td>0</td>\n",
              "      <td>0</td>\n",
              "      <td>0</td>\n",
              "      <td>0</td>\n",
              "      <td>0</td>\n",
              "      <td>0</td>\n",
              "      <td>0</td>\n",
              "      <td>0</td>\n",
              "      <td>0</td>\n",
              "      <td>0</td>\n",
              "      <td>1</td>\n",
              "      <td>0</td>\n",
              "      <td>0</td>\n",
              "      <td>0</td>\n",
              "      <td>0</td>\n",
              "      <td>1</td>\n",
              "      <td>0</td>\n",
              "      <td>0</td>\n",
              "      <td>0</td>\n",
              "      <td>1</td>\n",
              "      <td>0</td>\n",
              "      <td>0</td>\n",
              "      <td>1</td>\n",
              "      <td>0</td>\n",
              "      <td>0</td>\n",
              "      <td>0</td>\n",
              "      <td>0</td>\n",
              "      <td>0</td>\n",
              "      <td>0</td>\n",
              "      <td>0</td>\n",
              "      <td>0</td>\n",
              "      <td>0</td>\n",
              "      <td>0</td>\n",
              "      <td>1</td>\n",
              "      <td>0</td>\n",
              "      <td>0</td>\n",
              "      <td>0</td>\n",
              "      <td>0</td>\n",
              "    </tr>\n",
              "    <tr>\n",
              "      <th>1</th>\n",
              "      <td>26</td>\n",
              "      <td>1</td>\n",
              "      <td>3</td>\n",
              "      <td>1</td>\n",
              "      <td>8</td>\n",
              "      <td>1</td>\n",
              "      <td>0</td>\n",
              "      <td>0</td>\n",
              "      <td>0</td>\n",
              "      <td>0</td>\n",
              "      <td>0</td>\n",
              "      <td>0</td>\n",
              "      <td>0</td>\n",
              "      <td>0</td>\n",
              "      <td>1</td>\n",
              "      <td>1</td>\n",
              "      <td>1</td>\n",
              "      <td>391.10</td>\n",
              "      <td>491.1</td>\n",
              "      <td>548.0</td>\n",
              "      <td>1</td>\n",
              "      <td>1.0</td>\n",
              "      <td>120.0</td>\n",
              "      <td>120.0</td>\n",
              "      <td>120.0</td>\n",
              "      <td>120.0</td>\n",
              "      <td>100.0</td>\n",
              "      <td>580.0</td>\n",
              "      <td>0</td>\n",
              "      <td>0</td>\n",
              "      <td>0</td>\n",
              "      <td>0</td>\n",
              "      <td>0</td>\n",
              "      <td>0</td>\n",
              "      <td>0</td>\n",
              "      <td>0</td>\n",
              "      <td>0</td>\n",
              "      <td>1</td>\n",
              "      <td>0</td>\n",
              "      <td>0</td>\n",
              "      <td>...</td>\n",
              "      <td>0</td>\n",
              "      <td>0</td>\n",
              "      <td>0</td>\n",
              "      <td>0</td>\n",
              "      <td>0</td>\n",
              "      <td>0</td>\n",
              "      <td>0</td>\n",
              "      <td>0</td>\n",
              "      <td>0</td>\n",
              "      <td>0</td>\n",
              "      <td>0</td>\n",
              "      <td>0</td>\n",
              "      <td>0</td>\n",
              "      <td>1</td>\n",
              "      <td>0</td>\n",
              "      <td>0</td>\n",
              "      <td>0</td>\n",
              "      <td>0</td>\n",
              "      <td>1</td>\n",
              "      <td>0</td>\n",
              "      <td>1</td>\n",
              "      <td>0</td>\n",
              "      <td>0</td>\n",
              "      <td>0</td>\n",
              "      <td>0</td>\n",
              "      <td>0</td>\n",
              "      <td>0</td>\n",
              "      <td>1</td>\n",
              "      <td>0</td>\n",
              "      <td>0</td>\n",
              "      <td>0</td>\n",
              "      <td>0</td>\n",
              "      <td>0</td>\n",
              "      <td>0</td>\n",
              "      <td>0</td>\n",
              "      <td>1</td>\n",
              "      <td>0</td>\n",
              "      <td>0</td>\n",
              "      <td>0</td>\n",
              "      <td>0</td>\n",
              "    </tr>\n",
              "    <tr>\n",
              "      <th>2</th>\n",
              "      <td>21</td>\n",
              "      <td>0</td>\n",
              "      <td>1</td>\n",
              "      <td>2</td>\n",
              "      <td>0</td>\n",
              "      <td>2</td>\n",
              "      <td>0</td>\n",
              "      <td>0</td>\n",
              "      <td>0</td>\n",
              "      <td>0</td>\n",
              "      <td>0</td>\n",
              "      <td>0</td>\n",
              "      <td>0</td>\n",
              "      <td>0</td>\n",
              "      <td>1</td>\n",
              "      <td>1</td>\n",
              "      <td>1</td>\n",
              "      <td>595.90</td>\n",
              "      <td>622.7</td>\n",
              "      <td>613.6</td>\n",
              "      <td>0</td>\n",
              "      <td>1.0</td>\n",
              "      <td>80.0</td>\n",
              "      <td>40.0</td>\n",
              "      <td>40.0</td>\n",
              "      <td>80.0</td>\n",
              "      <td>80.0</td>\n",
              "      <td>320.0</td>\n",
              "      <td>0</td>\n",
              "      <td>0</td>\n",
              "      <td>0</td>\n",
              "      <td>0</td>\n",
              "      <td>0</td>\n",
              "      <td>1</td>\n",
              "      <td>0</td>\n",
              "      <td>0</td>\n",
              "      <td>0</td>\n",
              "      <td>0</td>\n",
              "      <td>0</td>\n",
              "      <td>0</td>\n",
              "      <td>...</td>\n",
              "      <td>0</td>\n",
              "      <td>0</td>\n",
              "      <td>0</td>\n",
              "      <td>0</td>\n",
              "      <td>0</td>\n",
              "      <td>0</td>\n",
              "      <td>0</td>\n",
              "      <td>0</td>\n",
              "      <td>0</td>\n",
              "      <td>0</td>\n",
              "      <td>0</td>\n",
              "      <td>0</td>\n",
              "      <td>0</td>\n",
              "      <td>1</td>\n",
              "      <td>0</td>\n",
              "      <td>0</td>\n",
              "      <td>0</td>\n",
              "      <td>0</td>\n",
              "      <td>1</td>\n",
              "      <td>1</td>\n",
              "      <td>0</td>\n",
              "      <td>0</td>\n",
              "      <td>0</td>\n",
              "      <td>0</td>\n",
              "      <td>0</td>\n",
              "      <td>0</td>\n",
              "      <td>0</td>\n",
              "      <td>0</td>\n",
              "      <td>0</td>\n",
              "      <td>0</td>\n",
              "      <td>0</td>\n",
              "      <td>0</td>\n",
              "      <td>0</td>\n",
              "      <td>0</td>\n",
              "      <td>0</td>\n",
              "      <td>1</td>\n",
              "      <td>0</td>\n",
              "      <td>0</td>\n",
              "      <td>0</td>\n",
              "      <td>0</td>\n",
              "    </tr>\n",
              "    <tr>\n",
              "      <th>3</th>\n",
              "      <td>27</td>\n",
              "      <td>1</td>\n",
              "      <td>3</td>\n",
              "      <td>1</td>\n",
              "      <td>8</td>\n",
              "      <td>1</td>\n",
              "      <td>0</td>\n",
              "      <td>0</td>\n",
              "      <td>0</td>\n",
              "      <td>0</td>\n",
              "      <td>0</td>\n",
              "      <td>0</td>\n",
              "      <td>0</td>\n",
              "      <td>0</td>\n",
              "      <td>0</td>\n",
              "      <td>0</td>\n",
              "      <td>0</td>\n",
              "      <td>458.25</td>\n",
              "      <td>532.0</td>\n",
              "      <td>516.8</td>\n",
              "      <td>0</td>\n",
              "      <td>1.0</td>\n",
              "      <td>120.0</td>\n",
              "      <td>120.0</td>\n",
              "      <td>100.0</td>\n",
              "      <td>120.0</td>\n",
              "      <td>80.0</td>\n",
              "      <td>540.0</td>\n",
              "      <td>0</td>\n",
              "      <td>0</td>\n",
              "      <td>0</td>\n",
              "      <td>0</td>\n",
              "      <td>0</td>\n",
              "      <td>0</td>\n",
              "      <td>0</td>\n",
              "      <td>0</td>\n",
              "      <td>0</td>\n",
              "      <td>0</td>\n",
              "      <td>0</td>\n",
              "      <td>0</td>\n",
              "      <td>...</td>\n",
              "      <td>0</td>\n",
              "      <td>1</td>\n",
              "      <td>0</td>\n",
              "      <td>0</td>\n",
              "      <td>0</td>\n",
              "      <td>0</td>\n",
              "      <td>0</td>\n",
              "      <td>0</td>\n",
              "      <td>0</td>\n",
              "      <td>0</td>\n",
              "      <td>0</td>\n",
              "      <td>0</td>\n",
              "      <td>0</td>\n",
              "      <td>1</td>\n",
              "      <td>0</td>\n",
              "      <td>0</td>\n",
              "      <td>0</td>\n",
              "      <td>0</td>\n",
              "      <td>1</td>\n",
              "      <td>1</td>\n",
              "      <td>0</td>\n",
              "      <td>0</td>\n",
              "      <td>0</td>\n",
              "      <td>0</td>\n",
              "      <td>0</td>\n",
              "      <td>0</td>\n",
              "      <td>0</td>\n",
              "      <td>0</td>\n",
              "      <td>0</td>\n",
              "      <td>0</td>\n",
              "      <td>0</td>\n",
              "      <td>0</td>\n",
              "      <td>0</td>\n",
              "      <td>0</td>\n",
              "      <td>0</td>\n",
              "      <td>1</td>\n",
              "      <td>0</td>\n",
              "      <td>0</td>\n",
              "      <td>0</td>\n",
              "      <td>0</td>\n",
              "    </tr>\n",
              "    <tr>\n",
              "      <th>4</th>\n",
              "      <td>18</td>\n",
              "      <td>0</td>\n",
              "      <td>1</td>\n",
              "      <td>2</td>\n",
              "      <td>0</td>\n",
              "      <td>2</td>\n",
              "      <td>0</td>\n",
              "      <td>0</td>\n",
              "      <td>0</td>\n",
              "      <td>0</td>\n",
              "      <td>0</td>\n",
              "      <td>0</td>\n",
              "      <td>0</td>\n",
              "      <td>0</td>\n",
              "      <td>1</td>\n",
              "      <td>1</td>\n",
              "      <td>1</td>\n",
              "      <td>592.90</td>\n",
              "      <td>492.6</td>\n",
              "      <td>571.4</td>\n",
              "      <td>1</td>\n",
              "      <td>1.0</td>\n",
              "      <td>100.0</td>\n",
              "      <td>80.0</td>\n",
              "      <td>60.0</td>\n",
              "      <td>80.0</td>\n",
              "      <td>0.0</td>\n",
              "      <td>320.0</td>\n",
              "      <td>0</td>\n",
              "      <td>0</td>\n",
              "      <td>0</td>\n",
              "      <td>0</td>\n",
              "      <td>0</td>\n",
              "      <td>0</td>\n",
              "      <td>0</td>\n",
              "      <td>0</td>\n",
              "      <td>0</td>\n",
              "      <td>0</td>\n",
              "      <td>0</td>\n",
              "      <td>0</td>\n",
              "      <td>...</td>\n",
              "      <td>0</td>\n",
              "      <td>0</td>\n",
              "      <td>1</td>\n",
              "      <td>0</td>\n",
              "      <td>0</td>\n",
              "      <td>0</td>\n",
              "      <td>0</td>\n",
              "      <td>0</td>\n",
              "      <td>0</td>\n",
              "      <td>0</td>\n",
              "      <td>0</td>\n",
              "      <td>0</td>\n",
              "      <td>0</td>\n",
              "      <td>0</td>\n",
              "      <td>1</td>\n",
              "      <td>0</td>\n",
              "      <td>0</td>\n",
              "      <td>0</td>\n",
              "      <td>1</td>\n",
              "      <td>1</td>\n",
              "      <td>0</td>\n",
              "      <td>0</td>\n",
              "      <td>0</td>\n",
              "      <td>0</td>\n",
              "      <td>0</td>\n",
              "      <td>0</td>\n",
              "      <td>0</td>\n",
              "      <td>0</td>\n",
              "      <td>0</td>\n",
              "      <td>0</td>\n",
              "      <td>0</td>\n",
              "      <td>0</td>\n",
              "      <td>0</td>\n",
              "      <td>0</td>\n",
              "      <td>0</td>\n",
              "      <td>1</td>\n",
              "      <td>0</td>\n",
              "      <td>0</td>\n",
              "      <td>0</td>\n",
              "      <td>0</td>\n",
              "    </tr>\n",
              "    <tr>\n",
              "      <th>...</th>\n",
              "      <td>...</td>\n",
              "      <td>...</td>\n",
              "      <td>...</td>\n",
              "      <td>...</td>\n",
              "      <td>...</td>\n",
              "      <td>...</td>\n",
              "      <td>...</td>\n",
              "      <td>...</td>\n",
              "      <td>...</td>\n",
              "      <td>...</td>\n",
              "      <td>...</td>\n",
              "      <td>...</td>\n",
              "      <td>...</td>\n",
              "      <td>...</td>\n",
              "      <td>...</td>\n",
              "      <td>...</td>\n",
              "      <td>...</td>\n",
              "      <td>...</td>\n",
              "      <td>...</td>\n",
              "      <td>...</td>\n",
              "      <td>...</td>\n",
              "      <td>...</td>\n",
              "      <td>...</td>\n",
              "      <td>...</td>\n",
              "      <td>...</td>\n",
              "      <td>...</td>\n",
              "      <td>...</td>\n",
              "      <td>...</td>\n",
              "      <td>...</td>\n",
              "      <td>...</td>\n",
              "      <td>...</td>\n",
              "      <td>...</td>\n",
              "      <td>...</td>\n",
              "      <td>...</td>\n",
              "      <td>...</td>\n",
              "      <td>...</td>\n",
              "      <td>...</td>\n",
              "      <td>...</td>\n",
              "      <td>...</td>\n",
              "      <td>...</td>\n",
              "      <td>...</td>\n",
              "      <td>...</td>\n",
              "      <td>...</td>\n",
              "      <td>...</td>\n",
              "      <td>...</td>\n",
              "      <td>...</td>\n",
              "      <td>...</td>\n",
              "      <td>...</td>\n",
              "      <td>...</td>\n",
              "      <td>...</td>\n",
              "      <td>...</td>\n",
              "      <td>...</td>\n",
              "      <td>...</td>\n",
              "      <td>...</td>\n",
              "      <td>...</td>\n",
              "      <td>...</td>\n",
              "      <td>...</td>\n",
              "      <td>...</td>\n",
              "      <td>...</td>\n",
              "      <td>...</td>\n",
              "      <td>...</td>\n",
              "      <td>...</td>\n",
              "      <td>...</td>\n",
              "      <td>...</td>\n",
              "      <td>...</td>\n",
              "      <td>...</td>\n",
              "      <td>...</td>\n",
              "      <td>...</td>\n",
              "      <td>...</td>\n",
              "      <td>...</td>\n",
              "      <td>...</td>\n",
              "      <td>...</td>\n",
              "      <td>...</td>\n",
              "      <td>...</td>\n",
              "      <td>...</td>\n",
              "      <td>...</td>\n",
              "      <td>...</td>\n",
              "      <td>...</td>\n",
              "      <td>...</td>\n",
              "      <td>...</td>\n",
              "      <td>...</td>\n",
              "    </tr>\n",
              "    <tr>\n",
              "      <th>4571</th>\n",
              "      <td>17</td>\n",
              "      <td>1</td>\n",
              "      <td>1</td>\n",
              "      <td>2</td>\n",
              "      <td>0</td>\n",
              "      <td>2</td>\n",
              "      <td>0</td>\n",
              "      <td>0</td>\n",
              "      <td>0</td>\n",
              "      <td>0</td>\n",
              "      <td>0</td>\n",
              "      <td>0</td>\n",
              "      <td>0</td>\n",
              "      <td>0</td>\n",
              "      <td>1</td>\n",
              "      <td>1</td>\n",
              "      <td>1</td>\n",
              "      <td>398.30</td>\n",
              "      <td>558.2</td>\n",
              "      <td>511.6</td>\n",
              "      <td>0</td>\n",
              "      <td>1.0</td>\n",
              "      <td>120.0</td>\n",
              "      <td>120.0</td>\n",
              "      <td>120.0</td>\n",
              "      <td>100.0</td>\n",
              "      <td>40.0</td>\n",
              "      <td>500.0</td>\n",
              "      <td>0</td>\n",
              "      <td>0</td>\n",
              "      <td>0</td>\n",
              "      <td>0</td>\n",
              "      <td>0</td>\n",
              "      <td>0</td>\n",
              "      <td>0</td>\n",
              "      <td>0</td>\n",
              "      <td>0</td>\n",
              "      <td>0</td>\n",
              "      <td>0</td>\n",
              "      <td>0</td>\n",
              "      <td>...</td>\n",
              "      <td>0</td>\n",
              "      <td>0</td>\n",
              "      <td>0</td>\n",
              "      <td>0</td>\n",
              "      <td>0</td>\n",
              "      <td>0</td>\n",
              "      <td>0</td>\n",
              "      <td>0</td>\n",
              "      <td>0</td>\n",
              "      <td>0</td>\n",
              "      <td>0</td>\n",
              "      <td>0</td>\n",
              "      <td>1</td>\n",
              "      <td>0</td>\n",
              "      <td>0</td>\n",
              "      <td>0</td>\n",
              "      <td>0</td>\n",
              "      <td>0</td>\n",
              "      <td>1</td>\n",
              "      <td>1</td>\n",
              "      <td>0</td>\n",
              "      <td>0</td>\n",
              "      <td>0</td>\n",
              "      <td>0</td>\n",
              "      <td>0</td>\n",
              "      <td>0</td>\n",
              "      <td>0</td>\n",
              "      <td>0</td>\n",
              "      <td>0</td>\n",
              "      <td>0</td>\n",
              "      <td>0</td>\n",
              "      <td>0</td>\n",
              "      <td>0</td>\n",
              "      <td>0</td>\n",
              "      <td>0</td>\n",
              "      <td>1</td>\n",
              "      <td>0</td>\n",
              "      <td>0</td>\n",
              "      <td>0</td>\n",
              "      <td>0</td>\n",
              "    </tr>\n",
              "    <tr>\n",
              "      <th>4572</th>\n",
              "      <td>17</td>\n",
              "      <td>0</td>\n",
              "      <td>2</td>\n",
              "      <td>2</td>\n",
              "      <td>0</td>\n",
              "      <td>2</td>\n",
              "      <td>0</td>\n",
              "      <td>0</td>\n",
              "      <td>0</td>\n",
              "      <td>0</td>\n",
              "      <td>0</td>\n",
              "      <td>0</td>\n",
              "      <td>0</td>\n",
              "      <td>0</td>\n",
              "      <td>1</td>\n",
              "      <td>1</td>\n",
              "      <td>1</td>\n",
              "      <td>427.60</td>\n",
              "      <td>579.7</td>\n",
              "      <td>471.1</td>\n",
              "      <td>1</td>\n",
              "      <td>1.0</td>\n",
              "      <td>100.0</td>\n",
              "      <td>100.0</td>\n",
              "      <td>100.0</td>\n",
              "      <td>120.0</td>\n",
              "      <td>100.0</td>\n",
              "      <td>520.0</td>\n",
              "      <td>0</td>\n",
              "      <td>0</td>\n",
              "      <td>0</td>\n",
              "      <td>0</td>\n",
              "      <td>0</td>\n",
              "      <td>0</td>\n",
              "      <td>0</td>\n",
              "      <td>0</td>\n",
              "      <td>0</td>\n",
              "      <td>0</td>\n",
              "      <td>0</td>\n",
              "      <td>0</td>\n",
              "      <td>...</td>\n",
              "      <td>0</td>\n",
              "      <td>0</td>\n",
              "      <td>0</td>\n",
              "      <td>0</td>\n",
              "      <td>0</td>\n",
              "      <td>0</td>\n",
              "      <td>0</td>\n",
              "      <td>0</td>\n",
              "      <td>0</td>\n",
              "      <td>0</td>\n",
              "      <td>0</td>\n",
              "      <td>0</td>\n",
              "      <td>1</td>\n",
              "      <td>0</td>\n",
              "      <td>0</td>\n",
              "      <td>0</td>\n",
              "      <td>0</td>\n",
              "      <td>1</td>\n",
              "      <td>0</td>\n",
              "      <td>1</td>\n",
              "      <td>0</td>\n",
              "      <td>0</td>\n",
              "      <td>0</td>\n",
              "      <td>0</td>\n",
              "      <td>0</td>\n",
              "      <td>0</td>\n",
              "      <td>0</td>\n",
              "      <td>0</td>\n",
              "      <td>0</td>\n",
              "      <td>0</td>\n",
              "      <td>0</td>\n",
              "      <td>0</td>\n",
              "      <td>0</td>\n",
              "      <td>0</td>\n",
              "      <td>0</td>\n",
              "      <td>1</td>\n",
              "      <td>0</td>\n",
              "      <td>0</td>\n",
              "      <td>0</td>\n",
              "      <td>0</td>\n",
              "    </tr>\n",
              "    <tr>\n",
              "      <th>4573</th>\n",
              "      <td>19</td>\n",
              "      <td>0</td>\n",
              "      <td>1</td>\n",
              "      <td>1</td>\n",
              "      <td>2</td>\n",
              "      <td>1</td>\n",
              "      <td>0</td>\n",
              "      <td>0</td>\n",
              "      <td>0</td>\n",
              "      <td>0</td>\n",
              "      <td>0</td>\n",
              "      <td>0</td>\n",
              "      <td>0</td>\n",
              "      <td>0</td>\n",
              "      <td>1</td>\n",
              "      <td>1</td>\n",
              "      <td>1</td>\n",
              "      <td>639.20</td>\n",
              "      <td>643.8</td>\n",
              "      <td>604.9</td>\n",
              "      <td>0</td>\n",
              "      <td>1.0</td>\n",
              "      <td>160.0</td>\n",
              "      <td>140.0</td>\n",
              "      <td>120.0</td>\n",
              "      <td>140.0</td>\n",
              "      <td>80.0</td>\n",
              "      <td>640.0</td>\n",
              "      <td>0</td>\n",
              "      <td>0</td>\n",
              "      <td>0</td>\n",
              "      <td>0</td>\n",
              "      <td>0</td>\n",
              "      <td>0</td>\n",
              "      <td>0</td>\n",
              "      <td>0</td>\n",
              "      <td>0</td>\n",
              "      <td>0</td>\n",
              "      <td>0</td>\n",
              "      <td>0</td>\n",
              "      <td>...</td>\n",
              "      <td>0</td>\n",
              "      <td>0</td>\n",
              "      <td>0</td>\n",
              "      <td>0</td>\n",
              "      <td>0</td>\n",
              "      <td>0</td>\n",
              "      <td>0</td>\n",
              "      <td>0</td>\n",
              "      <td>0</td>\n",
              "      <td>0</td>\n",
              "      <td>0</td>\n",
              "      <td>0</td>\n",
              "      <td>0</td>\n",
              "      <td>1</td>\n",
              "      <td>0</td>\n",
              "      <td>0</td>\n",
              "      <td>0</td>\n",
              "      <td>0</td>\n",
              "      <td>1</td>\n",
              "      <td>1</td>\n",
              "      <td>0</td>\n",
              "      <td>0</td>\n",
              "      <td>0</td>\n",
              "      <td>0</td>\n",
              "      <td>0</td>\n",
              "      <td>0</td>\n",
              "      <td>0</td>\n",
              "      <td>0</td>\n",
              "      <td>0</td>\n",
              "      <td>0</td>\n",
              "      <td>0</td>\n",
              "      <td>0</td>\n",
              "      <td>0</td>\n",
              "      <td>0</td>\n",
              "      <td>0</td>\n",
              "      <td>0</td>\n",
              "      <td>0</td>\n",
              "      <td>0</td>\n",
              "      <td>1</td>\n",
              "      <td>0</td>\n",
              "    </tr>\n",
              "    <tr>\n",
              "      <th>4574</th>\n",
              "      <td>17</td>\n",
              "      <td>0</td>\n",
              "      <td>2</td>\n",
              "      <td>3</td>\n",
              "      <td>0</td>\n",
              "      <td>1</td>\n",
              "      <td>1</td>\n",
              "      <td>0</td>\n",
              "      <td>0</td>\n",
              "      <td>0</td>\n",
              "      <td>0</td>\n",
              "      <td>0</td>\n",
              "      <td>0</td>\n",
              "      <td>0</td>\n",
              "      <td>1</td>\n",
              "      <td>1</td>\n",
              "      <td>1</td>\n",
              "      <td>427.10</td>\n",
              "      <td>467.9</td>\n",
              "      <td>540.2</td>\n",
              "      <td>1</td>\n",
              "      <td>1.0</td>\n",
              "      <td>140.0</td>\n",
              "      <td>80.0</td>\n",
              "      <td>80.0</td>\n",
              "      <td>140.0</td>\n",
              "      <td>80.0</td>\n",
              "      <td>520.0</td>\n",
              "      <td>0</td>\n",
              "      <td>0</td>\n",
              "      <td>0</td>\n",
              "      <td>0</td>\n",
              "      <td>0</td>\n",
              "      <td>0</td>\n",
              "      <td>0</td>\n",
              "      <td>0</td>\n",
              "      <td>1</td>\n",
              "      <td>0</td>\n",
              "      <td>0</td>\n",
              "      <td>0</td>\n",
              "      <td>...</td>\n",
              "      <td>0</td>\n",
              "      <td>0</td>\n",
              "      <td>0</td>\n",
              "      <td>0</td>\n",
              "      <td>0</td>\n",
              "      <td>0</td>\n",
              "      <td>0</td>\n",
              "      <td>0</td>\n",
              "      <td>0</td>\n",
              "      <td>0</td>\n",
              "      <td>0</td>\n",
              "      <td>0</td>\n",
              "      <td>1</td>\n",
              "      <td>0</td>\n",
              "      <td>0</td>\n",
              "      <td>0</td>\n",
              "      <td>0</td>\n",
              "      <td>1</td>\n",
              "      <td>0</td>\n",
              "      <td>1</td>\n",
              "      <td>0</td>\n",
              "      <td>0</td>\n",
              "      <td>0</td>\n",
              "      <td>0</td>\n",
              "      <td>0</td>\n",
              "      <td>0</td>\n",
              "      <td>0</td>\n",
              "      <td>0</td>\n",
              "      <td>0</td>\n",
              "      <td>0</td>\n",
              "      <td>0</td>\n",
              "      <td>0</td>\n",
              "      <td>0</td>\n",
              "      <td>0</td>\n",
              "      <td>0</td>\n",
              "      <td>1</td>\n",
              "      <td>0</td>\n",
              "      <td>0</td>\n",
              "      <td>0</td>\n",
              "      <td>0</td>\n",
              "    </tr>\n",
              "    <tr>\n",
              "      <th>4575</th>\n",
              "      <td>30</td>\n",
              "      <td>0</td>\n",
              "      <td>1</td>\n",
              "      <td>1</td>\n",
              "      <td>10</td>\n",
              "      <td>1</td>\n",
              "      <td>0</td>\n",
              "      <td>0</td>\n",
              "      <td>0</td>\n",
              "      <td>0</td>\n",
              "      <td>0</td>\n",
              "      <td>0</td>\n",
              "      <td>0</td>\n",
              "      <td>0</td>\n",
              "      <td>0</td>\n",
              "      <td>0</td>\n",
              "      <td>0</td>\n",
              "      <td>458.25</td>\n",
              "      <td>532.0</td>\n",
              "      <td>516.8</td>\n",
              "      <td>1</td>\n",
              "      <td>1.0</td>\n",
              "      <td>120.0</td>\n",
              "      <td>120.0</td>\n",
              "      <td>100.0</td>\n",
              "      <td>120.0</td>\n",
              "      <td>80.0</td>\n",
              "      <td>540.0</td>\n",
              "      <td>0</td>\n",
              "      <td>0</td>\n",
              "      <td>0</td>\n",
              "      <td>0</td>\n",
              "      <td>0</td>\n",
              "      <td>0</td>\n",
              "      <td>0</td>\n",
              "      <td>0</td>\n",
              "      <td>0</td>\n",
              "      <td>0</td>\n",
              "      <td>0</td>\n",
              "      <td>0</td>\n",
              "      <td>...</td>\n",
              "      <td>0</td>\n",
              "      <td>0</td>\n",
              "      <td>0</td>\n",
              "      <td>0</td>\n",
              "      <td>0</td>\n",
              "      <td>0</td>\n",
              "      <td>0</td>\n",
              "      <td>0</td>\n",
              "      <td>0</td>\n",
              "      <td>0</td>\n",
              "      <td>0</td>\n",
              "      <td>0</td>\n",
              "      <td>0</td>\n",
              "      <td>1</td>\n",
              "      <td>0</td>\n",
              "      <td>0</td>\n",
              "      <td>0</td>\n",
              "      <td>0</td>\n",
              "      <td>1</td>\n",
              "      <td>0</td>\n",
              "      <td>1</td>\n",
              "      <td>0</td>\n",
              "      <td>0</td>\n",
              "      <td>1</td>\n",
              "      <td>0</td>\n",
              "      <td>0</td>\n",
              "      <td>0</td>\n",
              "      <td>0</td>\n",
              "      <td>0</td>\n",
              "      <td>0</td>\n",
              "      <td>0</td>\n",
              "      <td>0</td>\n",
              "      <td>0</td>\n",
              "      <td>0</td>\n",
              "      <td>0</td>\n",
              "      <td>1</td>\n",
              "      <td>0</td>\n",
              "      <td>0</td>\n",
              "      <td>0</td>\n",
              "      <td>0</td>\n",
              "    </tr>\n",
              "  </tbody>\n",
              "</table>\n",
              "<p>4576 rows × 116 columns</p>\n",
              "</div>"
            ],
            "text/plain": [
              "      NU_IDADE  TP_SEXO  TP_COR_RACA  ...  Q047_C  Q047_D  Q047_E\n",
              "0           22        1            3  ...       0       0       0\n",
              "1           26        1            3  ...       0       0       0\n",
              "2           21        0            1  ...       0       0       0\n",
              "3           27        1            3  ...       0       0       0\n",
              "4           18        0            1  ...       0       0       0\n",
              "...        ...      ...          ...  ...     ...     ...     ...\n",
              "4571        17        1            1  ...       0       0       0\n",
              "4572        17        0            2  ...       0       0       0\n",
              "4573        19        0            1  ...       0       1       0\n",
              "4574        17        0            2  ...       0       0       0\n",
              "4575        30        0            1  ...       0       0       0\n",
              "\n",
              "[4576 rows x 116 columns]"
            ]
          },
          "metadata": {
            "tags": []
          },
          "execution_count": 8
        }
      ]
    },
    {
      "cell_type": "code",
      "metadata": {
        "id": "oqbLl_9GCI2l",
        "colab_type": "code",
        "outputId": "7fe5de4a-5add-4a6d-ba40-62937d90e857",
        "colab": {
          "base_uri": "https://localhost:8080/",
          "height": 33
        }
      },
      "source": [
        "print(df2.shape, teste2.shape)"
      ],
      "execution_count": 0,
      "outputs": [
        {
          "output_type": "stream",
          "text": [
            "(13730, 117) (4576, 116)\n"
          ],
          "name": "stdout"
        }
      ]
    },
    {
      "cell_type": "markdown",
      "metadata": {
        "id": "u2GMg2QyRMNi",
        "colab_type": "text"
      },
      "source": [
        "### Feature Selection"
      ]
    },
    {
      "cell_type": "code",
      "metadata": {
        "id": "Unn4npDOIPu5",
        "colab_type": "code",
        "colab": {}
      },
      "source": [
        "y = df2['NU_NOTA_MT']\n",
        "X = df2.drop('NU_NOTA_MT', axis=1)"
      ],
      "execution_count": 0,
      "outputs": []
    },
    {
      "cell_type": "code",
      "metadata": {
        "id": "LgSqx6r3SAzJ",
        "colab_type": "code",
        "outputId": "86396e3c-76db-49a3-a93d-c8cafb74661b",
        "colab": {
          "base_uri": "https://localhost:8080/",
          "height": 33
        }
      },
      "source": [
        "from sklearn.model_selection import train_test_split\n",
        "Xtrain, Xval, ytrain, yval = train_test_split(X, y, train_size=0.7, random_state=0)\n",
        "Xtrain.shape, Xval.shape, ytrain.shape, yval.shape"
      ],
      "execution_count": 0,
      "outputs": [
        {
          "output_type": "execute_result",
          "data": {
            "text/plain": [
              "((9611, 116), (4119, 116), (9611,), (4119,))"
            ]
          },
          "metadata": {
            "tags": []
          },
          "execution_count": 10
        }
      ]
    },
    {
      "cell_type": "code",
      "metadata": {
        "id": "oXt1nINcIqaZ",
        "colab_type": "code",
        "outputId": "321eb6a3-2a37-40d9-ad5b-fc1f171b6425",
        "colab": {
          "base_uri": "https://localhost:8080/",
          "height": 466
        }
      },
      "source": [
        "from sklearn.feature_selection import SelectKBest, f_regression\n",
        "from sklearn.metrics import mean_absolute_error, mean_squared_error\n",
        "from sklearn.ensemble import RandomForestRegressor, GradientBoostingRegressor\n",
        "\n",
        "k_vs_score = []\n",
        "\n",
        "for k in range(2,107,4):\n",
        "  selector = SelectKBest(score_func=f_regression, k=k)\n",
        "\n",
        "  Xtrain2 = selector.fit_transform(Xtrain, ytrain)\n",
        "  Xval2 = selector.transform(Xval)\n",
        "\n",
        "  mdl = GradientBoostingRegressor(random_state=0)\n",
        "  mdl.fit(Xtrain2, ytrain)\n",
        "\n",
        "  p = mdl.predict(Xval2)\n",
        "\n",
        "  score = mean_squared_error(yval, p)\n",
        "  print(\"k = {} - MSE = {}\".format(k, score))\n",
        "\n",
        "  k_vs_score.append(score)"
      ],
      "execution_count": 0,
      "outputs": [
        {
          "output_type": "stream",
          "text": [
            "k = 2 - MSE = 4330.994818981598\n",
            "k = 6 - MSE = 4226.890435405266\n",
            "k = 10 - MSE = 4198.564790902759\n",
            "k = 14 - MSE = 4201.558322903231\n",
            "k = 18 - MSE = 4185.455175643052\n",
            "k = 22 - MSE = 4191.176699397448\n",
            "k = 26 - MSE = 4038.3728423467187\n",
            "k = 30 - MSE = 4029.847238049803\n",
            "k = 34 - MSE = 4011.9966731003537\n",
            "k = 38 - MSE = 4011.4111824130982\n",
            "k = 42 - MSE = 4015.4200069054896\n",
            "k = 46 - MSE = 4005.1824733964418\n",
            "k = 50 - MSE = 4003.5261927978827\n",
            "k = 54 - MSE = 4005.462854043239\n",
            "k = 58 - MSE = 4000.3476411681963\n",
            "k = 62 - MSE = 4001.8499827391856\n",
            "k = 66 - MSE = 4002.774119226587\n",
            "k = 70 - MSE = 4008.044843106554\n",
            "k = 74 - MSE = 4007.971447215282\n",
            "k = 78 - MSE = 3999.9662969582764\n",
            "k = 82 - MSE = 4009.5638575215653\n",
            "k = 86 - MSE = 4010.6124641226534\n",
            "k = 90 - MSE = 4008.9244390477397\n",
            "k = 94 - MSE = 4015.8775269050193\n",
            "k = 98 - MSE = 4014.6426629027987\n",
            "k = 102 - MSE = 4012.5225596658597\n",
            "k = 106 - MSE = 4013.638409385865\n"
          ],
          "name": "stdout"
        }
      ]
    },
    {
      "cell_type": "code",
      "metadata": {
        "id": "2oYfRoD6KHS3",
        "colab_type": "code",
        "outputId": "70b838ad-747c-4e45-cc2a-0bf008bfce23",
        "colab": {
          "base_uri": "https://localhost:8080/",
          "height": 444
        }
      },
      "source": [
        "pd.Series(k_vs_score, index=range(2,107,4)).plot(figsize=(10,7))"
      ],
      "execution_count": 0,
      "outputs": [
        {
          "output_type": "execute_result",
          "data": {
            "text/plain": [
              "<matplotlib.axes._subplots.AxesSubplot at 0x7fbff4293d68>"
            ]
          },
          "metadata": {
            "tags": []
          },
          "execution_count": 12
        },
        {
          "output_type": "display_data",
          "data": {
            "image/png": "[encoded data removed]",
            "text/plain": [
              "<Figure size 720x504 with 1 Axes>"
            ]
          },
          "metadata": {
            "tags": [],
            "needs_background": "light"
          }
        }
      ]
    },
    {
      "cell_type": "code",
      "metadata": {
        "id": "NqDvrmtrL3Vu",
        "colab_type": "code",
        "outputId": "b1ae81f4-54c9-420a-82cf-d27a64c0c582",
        "colab": {
          "base_uri": "https://localhost:8080/",
          "height": 33
        }
      },
      "source": [
        "selector = SelectKBest(score_func=f_regression, k=58)\n",
        "selector.fit(Xtrain, ytrain)"
      ],
      "execution_count": 0,
      "outputs": [
        {
          "output_type": "execute_result",
          "data": {
            "text/plain": [
              "SelectKBest(k=58, score_func=<function f_regression at 0x7fbffa0ddd08>)"
            ]
          },
          "metadata": {
            "tags": []
          },
          "execution_count": 13
        }
      ]
    },
    {
      "cell_type": "code",
      "metadata": {
        "id": "YG_unPQqlcLE",
        "colab_type": "code",
        "outputId": "186637aa-8e4f-454b-b2f5-2ccf79d2b958",
        "colab": {
          "base_uri": "https://localhost:8080/",
          "height": 216
        }
      },
      "source": [
        "mask = selector.get_support()\n",
        "Xval.columns[mask]"
      ],
      "execution_count": 0,
      "outputs": [
        {
          "output_type": "execute_result",
          "data": {
            "text/plain": [
              "Index(['NU_IDADE', 'TP_SEXO', 'TP_COR_RACA', 'TP_ST_CONCLUSAO', 'TP_ESCOLA',\n",
              "       'TP_PRESENCA_CN', 'TP_PRESENCA_CH', 'TP_PRESENCA_LC', 'NU_NOTA_CN',\n",
              "       'NU_NOTA_CH', 'NU_NOTA_LC', 'TP_LINGUA', 'TP_STATUS_REDACAO',\n",
              "       'NU_NOTA_COMP1', 'NU_NOTA_COMP2', 'NU_NOTA_COMP3', 'NU_NOTA_COMP4',\n",
              "       'NU_NOTA_COMP5', 'NU_NOTA_REDACAO', 'SG_UF_RESIDENCIA_CE',\n",
              "       'SG_UF_RESIDENCIA_MG', 'SG_UF_RESIDENCIA_SP', 'Q001_A', 'Q001_B',\n",
              "       'Q001_E', 'Q001_F', 'Q001_G', 'Q001_H', 'Q002_A', 'Q002_B', 'Q002_C',\n",
              "       'Q002_E', 'Q002_F', 'Q002_G', 'Q006_A', 'Q006_B', 'Q006_C', 'Q006_G',\n",
              "       'Q006_H', 'Q006_I', 'Q006_J', 'Q006_K', 'Q006_L', 'Q006_M', 'Q006_N',\n",
              "       'Q006_O', 'Q006_P', 'Q006_Q', 'Q024_A', 'Q024_B', 'Q024_C', 'Q024_D',\n",
              "       'Q024_E', 'Q025_A', 'Q025_B', 'Q047_A', 'Q047_D', 'Q047_E'],\n",
              "      dtype='object')"
            ]
          },
          "metadata": {
            "tags": []
          },
          "execution_count": 14
        }
      ]
    },
    {
      "cell_type": "code",
      "metadata": {
        "id": "O4AwT2PimZoP",
        "colab_type": "code",
        "outputId": "cf8e40bf-53ac-48e7-e67b-a6cd67933741",
        "colab": {
          "base_uri": "https://localhost:8080/",
          "height": 281
        }
      },
      "source": [
        "pd.Series(selector.scores_, index=Xtrain.columns).sort_values().tail(10).plot.barh()"
      ],
      "execution_count": 0,
      "outputs": [
        {
          "output_type": "execute_result",
          "data": {
            "text/plain": [
              "<matplotlib.axes._subplots.AxesSubplot at 0x7fbff41e1c18>"
            ]
          },
          "metadata": {
            "tags": []
          },
          "execution_count": 15
        },
        {
          "output_type": "display_data",
          "data": {
            "image/png": "[encoded data removed]",
            "text/plain": [
              "<Figure size 432x288 with 1 Axes>"
            ]
          },
          "metadata": {
            "tags": [],
            "needs_background": "light"
          }
        }
      ]
    },
    {
      "cell_type": "code",
      "metadata": {
        "id": "YaVMlZNcrteY",
        "colab_type": "code",
        "colab": {}
      },
      "source": [
        "# print(df.groupby(by='IN_CEGUEIRA')['NU_NOTA_MT'].mean())\n",
        "# print(pd.unique(df['IN_CEGUEIRA '])) \n",
        "# Nenhum cego fez a prova e mesmo assim tenho no seletor ¯\\_(ツ)_/¯"
      ],
      "execution_count": 0,
      "outputs": []
    },
    {
      "cell_type": "code",
      "metadata": {
        "id": "hFn_CVkEPShn",
        "colab_type": "code",
        "outputId": "d157addc-f3cf-435f-c733-d1b8e69968eb",
        "colab": {
          "base_uri": "https://localhost:8080/",
          "height": 33
        }
      },
      "source": [
        "Xk = df2[Xval.columns[mask]]\n",
        "yk = df['NU_NOTA_MT']\n",
        "\n",
        "Xtraink, Xvalk, ytraink, yvalk = train_test_split(Xk, yk, train_size=0.7,\n",
        "                                                  random_state=0)\n",
        "\n",
        "mdlk = GradientBoostingRegressor(learning_rate = 0.024433426081955516, \n",
        "                                 n_estimators = 447, min_samples_split = 79,\n",
        "                                 min_samples_leaf = 1, random_state=0)\n",
        "mdlk.fit(Xtraink, ytraink)\n",
        "pk = mdlk.predict(Xvalk)\n",
        "scorek = mean_squared_error(yvalk, pk)\n",
        "scorek # 58 features e 4k.34 é o resultado --' para 3975.85"
      ],
      "execution_count": 0,
      "outputs": [
        {
          "output_type": "execute_result",
          "data": {
            "text/plain": [
              "3975.8216321882974"
            ]
          },
          "metadata": {
            "tags": []
          },
          "execution_count": 16
        }
      ]
    },
    {
      "cell_type": "markdown",
      "metadata": {
        "id": "OpSbiWTdcNMt",
        "colab_type": "text"
      },
      "source": [
        "### Otimizando"
      ]
    },
    {
      "cell_type": "code",
      "metadata": {
        "id": "JYSJvo7dSBB4",
        "colab_type": "code",
        "outputId": "3594d430-5f2c-4fa5-ad57-d9587c4d21f5",
        "colab": {
          "base_uri": "https://localhost:8080/",
          "height": 236
        }
      },
      "source": [
        "!pip install scikit-optimize"
      ],
      "execution_count": 0,
      "outputs": [
        {
          "output_type": "stream",
          "text": [
            "Collecting scikit-optimize\n",
            "\u001b[?25l  Downloading https://files.pythonhosted.org/packages/5c/87/310b52debfbc0cb79764e5770fa3f5c18f6f0754809ea9e2fc185e1b67d3/scikit_optimize-0.7.4-py2.py3-none-any.whl (80kB)\n",
            "\u001b[K     |████████████████████████████████| 81kB 2.1MB/s \n",
            "\u001b[?25hRequirement already satisfied: joblib>=0.11 in /usr/local/lib/python3.6/dist-packages (from scikit-optimize) (0.15.1)\n",
            "Requirement already satisfied: scipy>=0.18.0 in /usr/local/lib/python3.6/dist-packages (from scikit-optimize) (1.4.1)\n",
            "Requirement already satisfied: numpy>=1.11.0 in /usr/local/lib/python3.6/dist-packages (from scikit-optimize) (1.18.4)\n",
            "Requirement already satisfied: scikit-learn>=0.19.1 in /usr/local/lib/python3.6/dist-packages (from scikit-optimize) (0.22.2.post1)\n",
            "Collecting pyaml>=16.9\n",
            "  Downloading https://files.pythonhosted.org/packages/15/c4/1310a054d33abc318426a956e7d6df0df76a6ddfa9c66f6310274fb75d42/pyaml-20.4.0-py2.py3-none-any.whl\n",
            "Requirement already satisfied: PyYAML in /usr/local/lib/python3.6/dist-packages (from pyaml>=16.9->scikit-optimize) (3.13)\n",
            "Installing collected packages: pyaml, scikit-optimize\n",
            "Successfully installed pyaml-20.4.0 scikit-optimize-0.7.4\n"
          ],
          "name": "stdout"
        }
      ]
    },
    {
      "cell_type": "code",
      "metadata": {
        "id": "PmDx7z-_SMca",
        "colab_type": "code",
        "outputId": "07e7b016-c765-4564-dcd4-07c0aa54c12c",
        "colab": {
          "base_uri": "https://localhost:8080/",
          "height": 1000
        }
      },
      "source": [
        "from skopt import gp_minimize\n",
        "\n",
        "def tunar_modelo(params):\n",
        "  learning_rate = params[0]\n",
        "  n_estimators = params[1]\n",
        "  min_samples_split = params[2]\n",
        "  min_samples_leaf = params[3]\n",
        "\n",
        "  print(params,'\\n')\n",
        "  mdlk = GradientBoostingRegressor(\n",
        "      learning_rate = learning_rate, n_estimators = n_estimators,\n",
        "      min_samples_split = min_samples_split.astype(int), \n",
        "      min_samples_leaf = min_samples_leaf.astype(int), \n",
        "      random_state = 0)\n",
        "  \n",
        "  mdlk.fit(Xtraink, ytraink)\n",
        "  pk = mdlk.predict(Xvalk)\n",
        "  return mean_squared_error(yvalk, pk)\n",
        "\n",
        "space = [(1e-2, 1e-1), # learning_rate\n",
        "         (1, 1000), # n_estimators\n",
        "         (2, 100), # min_samples_split\n",
        "         (1, 100)] # min_samples_leaf, # subsample, # max_features\n",
        "\n",
        "resultado_gp = gp_minimize(tunar_modelo, space, random_state=0, \n",
        "                           n_calls=30, n_random_starts=10, verbose=1)"
      ],
      "execution_count": 0,
      "outputs": [
        {
          "output_type": "stream",
          "text": [
            "Iteration No: 1 started. Evaluating function at random point.\n",
            "[0.06335601564025166, 844, 86, 85] \n",
            "\n",
            "Iteration No: 1 ended. Evaluation done at random point.\n",
            "Time taken: 16.3184\n",
            "Function value obtained: 4049.9588\n",
            "Current minimum: 4049.9588\n",
            "Iteration No: 2 started. Evaluating function at random point.\n",
            "[0.06612073271073753, 385, 31, 7] \n",
            "\n",
            "Iteration No: 2 ended. Evaluation done at random point.\n",
            "Time taken: 7.5594\n",
            "Function value obtained: 4012.3562\n",
            "Current minimum: 4012.3562\n",
            "Iteration No: 3 started. Evaluating function at random point.\n",
            "[0.0345390665122102, 478, 82, 49] \n",
            "\n",
            "Iteration No: 3 ended. Evaluation done at random point.\n",
            "Time taken: 9.3652\n",
            "Function value obtained: 4045.9616\n",
            "Current minimum: 4012.3562\n",
            "Iteration No: 4 started. Evaluating function at random point.\n",
            "[0.04535063164907469, 836, 35, 65] \n",
            "\n",
            "Iteration No: 4 ended. Evaluation done at random point.\n",
            "Time taken: 16.1701\n",
            "Function value obtained: 4066.6448\n",
            "Current minimum: 4012.3562\n",
            "Iteration No: 5 started. Evaluating function at random point.\n",
            "[0.04314173858564933, 957, 16, 87] \n",
            "\n",
            "Iteration No: 5 ended. Evaluation done at random point.\n",
            "Time taken: 18.4875\n",
            "Function value obtained: 4034.1303\n",
            "Current minimum: 4012.3562\n",
            "Iteration No: 6 started. Evaluating function at random point.\n",
            "[0.052624724074633956, 801, 53, 68] \n",
            "\n",
            "Iteration No: 6 ended. Evaluation done at random point.\n",
            "Time taken: 15.4910\n",
            "Function value obtained: 4057.8265\n",
            "Current minimum: 4012.3562\n",
            "Iteration No: 7 started. Evaluating function at random point.\n",
            "[0.07485693892533252, 582, 55, 76] \n",
            "\n",
            "Iteration No: 7 ended. Evaluation done at random point.\n",
            "Time taken: 11.2654\n",
            "Function value obtained: 4060.5246\n",
            "Current minimum: 4012.3562\n",
            "Iteration No: 8 started. Evaluating function at random point.\n",
            "[0.019531684646901297, 474, 20, 74] \n",
            "\n",
            "Iteration No: 8 ended. Evaluation done at random point.\n",
            "Time taken: 9.4265\n",
            "Function value obtained: 4037.2425\n",
            "Current minimum: 4012.3562\n",
            "Iteration No: 9 started. Evaluating function at random point.\n",
            "[0.029489531898193477, 136, 34, 16] \n",
            "\n",
            "Iteration No: 9 ended. Evaluation done at random point.\n",
            "Time taken: 2.6857\n",
            "Function value obtained: 4061.5250\n",
            "Current minimum: 4012.3562\n",
            "Iteration No: 10 started. Evaluating function at random point.\n",
            "[0.030008924942642894, 387, 90, 46] \n",
            "\n",
            "Iteration No: 10 ended. Evaluation done at random point.\n",
            "Time taken: 8.2616\n",
            "Function value obtained: 4042.5603\n",
            "Current minimum: 4012.3562\n",
            "Iteration No: 11 started. Searching for the next optimal point.\n",
            "[0.07612238748613143, 364, 48, 5] \n",
            "\n",
            "Iteration No: 11 ended. Search finished for the next optimal point.\n",
            "Time taken: 7.4390\n",
            "Function value obtained: 4012.9820\n",
            "Current minimum: 4012.3562\n",
            "Iteration No: 12 started. Searching for the next optimal point.\n",
            "[0.08675241324238099, 431, 48, 1] \n",
            "\n",
            "Iteration No: 12 ended. Search finished for the next optimal point.\n",
            "Time taken: 9.3146\n",
            "Function value obtained: 4028.9567\n",
            "Current minimum: 4012.3562\n",
            "Iteration No: 13 started. Searching for the next optimal point.\n",
            "[0.07608435551395744, 467, 10, 13] \n",
            "\n",
            "Iteration No: 13 ended. Search finished for the next optimal point.\n",
            "Time taken: 9.8583\n",
            "Function value obtained: 4091.9724\n",
            "Current minimum: 4012.3562\n",
            "Iteration No: 14 started. Searching for the next optimal point.\n",
            "[0.04095254768232252, 385, 41, 4] \n",
            "\n",
            "Iteration No: 14 ended. Search finished for the next optimal point.\n",
            "Time taken: 8.1822\n",
            "Function value obtained: 3997.4211\n",
            "Current minimum: 3997.4211\n",
            "Iteration No: 15 started. Searching for the next optimal point.\n",
            "[0.0409636520528164, 507, 42, 12] \n",
            "\n",
            "Iteration No: 15 ended. Search finished for the next optimal point.\n",
            "Time taken: 10.5659\n",
            "Function value obtained: 4041.3663\n",
            "Current minimum: 3997.4211\n",
            "Iteration No: 16 started. Searching for the next optimal point.\n",
            "[0.03441632585146277, 504, 41, 12] \n",
            "\n",
            "Iteration No: 16 ended. Search finished for the next optimal point.\n",
            "Time taken: 10.7184\n",
            "Function value obtained: 4023.8521\n",
            "Current minimum: 3997.4211\n",
            "Iteration No: 17 started. Searching for the next optimal point.\n",
            "[0.030869230178991743, 352, 39, 1] \n",
            "\n",
            "Iteration No: 17 ended. Search finished for the next optimal point.\n",
            "Time taken: 7.4647\n",
            "Function value obtained: 3990.2585\n",
            "Current minimum: 3990.2585\n",
            "Iteration No: 18 started. Searching for the next optimal point.\n",
            "[0.08632357419580272, 156, 40, 91] \n",
            "\n",
            "Iteration No: 18 ended. Search finished for the next optimal point.\n",
            "Time taken: 3.7281\n",
            "Function value obtained: 4022.5863\n",
            "Current minimum: 3990.2585\n",
            "Iteration No: 19 started. Searching for the next optimal point.\n",
            "[0.07008418825050709, 742, 39, 1] \n",
            "\n",
            "Iteration No: 19 ended. Search finished for the next optimal point.\n",
            "Time taken: 15.2362\n",
            "Function value obtained: 4066.7170\n",
            "Current minimum: 3990.2585\n",
            "Iteration No: 20 started. Searching for the next optimal point.\n",
            "[0.03436531258691204, 127, 39, 40] \n",
            "\n",
            "Iteration No: 20 ended. Search finished for the next optimal point.\n",
            "Time taken: 3.0703\n",
            "Function value obtained: 4071.1616\n",
            "Current minimum: 3990.2585\n",
            "Iteration No: 21 started. Searching for the next optimal point.\n",
            "[0.031033996746411135, 350, 39, 1] \n",
            "\n",
            "Iteration No: 21 ended. Search finished for the next optimal point.\n",
            "Time taken: 7.5757\n",
            "Function value obtained: 3990.7867\n",
            "Current minimum: 3990.2585\n",
            "Iteration No: 22 started. Searching for the next optimal point.\n",
            "[0.023448651063358736, 399, 39, 29] \n",
            "\n",
            "Iteration No: 22 ended. Search finished for the next optimal point.\n",
            "Time taken: 8.6241\n",
            "Function value obtained: 4040.5233\n",
            "Current minimum: 3990.2585\n",
            "Iteration No: 23 started. Searching for the next optimal point.\n",
            "[0.026788971067302873, 403, 38, 1] \n",
            "\n",
            "Iteration No: 23 ended. Search finished for the next optimal point.\n",
            "Time taken: 8.6409\n",
            "Function value obtained: 3986.4847\n",
            "Current minimum: 3986.4847\n",
            "Iteration No: 24 started. Searching for the next optimal point.\n",
            "[0.013470432271434962, 395, 48, 5] \n",
            "\n",
            "Iteration No: 24 ended. Search finished for the next optimal point.\n",
            "Time taken: 8.5745\n",
            "Function value obtained: 4005.7519\n",
            "Current minimum: 3986.4847\n",
            "Iteration No: 25 started. Searching for the next optimal point.\n",
            "[0.02731924137683423, 397, 32, 1] \n",
            "\n",
            "Iteration No: 25 ended. Search finished for the next optimal point.\n",
            "Time taken: 8.6328\n",
            "Function value obtained: 3986.1405\n",
            "Current minimum: 3986.1405\n",
            "Iteration No: 26 started. Searching for the next optimal point.\n",
            "[0.027637481908239225, 393, 30, 1] \n",
            "\n",
            "Iteration No: 26 ended. Search finished for the next optimal point.\n",
            "Time taken: 8.5751\n",
            "Function value obtained: 3989.4249\n",
            "Current minimum: 3986.1405\n",
            "Iteration No: 27 started. Searching for the next optimal point.\n",
            "[0.025413981840717928, 436, 100, 1] \n",
            "\n",
            "Iteration No: 27 ended. Search finished for the next optimal point.\n",
            "Time taken: 9.5495\n",
            "Function value obtained: 3977.6618\n",
            "Current minimum: 3977.6618\n",
            "Iteration No: 28 started. Searching for the next optimal point.\n",
            "[0.024433426081955516, 447, 79, 1] \n",
            "\n",
            "Iteration No: 28 ended. Search finished for the next optimal point.\n",
            "Time taken: 9.7040\n",
            "Function value obtained: 3975.8216\n",
            "Current minimum: 3975.8216\n",
            "Iteration No: 29 started. Searching for the next optimal point.\n",
            "[0.023289162871281563, 457, 95, 1] \n",
            "\n",
            "Iteration No: 29 ended. Search finished for the next optimal point.\n",
            "Time taken: 9.7577\n",
            "Function value obtained: 3983.6500\n",
            "Current minimum: 3975.8216\n",
            "Iteration No: 30 started. Searching for the next optimal point.\n",
            "[0.02290584798211125, 436, 2, 1] \n",
            "\n",
            "Iteration No: 30 ended. Search finished for the next optimal point.\n",
            "Time taken: 9.3712\n",
            "Function value obtained: 3993.5884\n",
            "Current minimum: 3975.8216\n"
          ],
          "name": "stdout"
        }
      ]
    },
    {
      "cell_type": "code",
      "metadata": {
        "id": "ssBweLbQcnAD",
        "colab_type": "code",
        "outputId": "df18c00d-5240-4647-b3da-cf15e2dc4dab",
        "colab": {
          "base_uri": "https://localhost:8080/",
          "height": 33
        }
      },
      "source": [
        "resultado_gp.x # 3975.8216"
      ],
      "execution_count": 0,
      "outputs": [
        {
          "output_type": "execute_result",
          "data": {
            "text/plain": [
              "[0.024433426081955516, 447, 79, 1]"
            ]
          },
          "metadata": {
            "tags": []
          },
          "execution_count": 29
        }
      ]
    },
    {
      "cell_type": "code",
      "metadata": {
        "id": "avt9QnPk8I46",
        "colab_type": "code",
        "outputId": "c3fdc97c-78f3-4742-c962-fd9793e2a903",
        "colab": {
          "base_uri": "https://localhost:8080/",
          "height": 354
        }
      },
      "source": [
        "sns.scatterplot(x=yval, y=p), plt.show()"
      ],
      "execution_count": 0,
      "outputs": [
        {
          "output_type": "stream",
          "text": [
            "/usr/local/lib/python3.6/dist-packages/statsmodels/tools/_testing.py:19: FutureWarning: pandas.util.testing is deprecated. Use the functions in the public API at pandas.testing instead.\n",
            "  import pandas.util.testing as tm\n"
          ],
          "name": "stderr"
        },
        {
          "output_type": "display_data",
          "data": {
            "image/png": "[encoded data removed]",
            "text/plain": [
              "<Figure size 432x288 with 1 Axes>"
            ]
          },
          "metadata": {
            "tags": []
          }
        },
        {
          "output_type": "execute_result",
          "data": {
            "text/plain": [
              "(<matplotlib.axes._subplots.AxesSubplot at 0x7fd74fff3cc0>, None)"
            ]
          },
          "metadata": {
            "tags": []
          },
          "execution_count": 30
        }
      ]
    },
    {
      "cell_type": "markdown",
      "metadata": {
        "id": "7s9WqAMC_d2A",
        "colab_type": "text"
      },
      "source": [
        "### Feature Engineering"
      ]
    },
    {
      "cell_type": "code",
      "metadata": {
        "id": "-OpzC6U94ljR",
        "colab_type": "code",
        "colab": {}
      },
      "source": [
        "import numpy as np\n",
        "\n",
        "features = ['NU_NOTA_CN', 'NU_NOTA_CH', 'NU_NOTA_LC', 'NU_NOTA_REDACAO']\n",
        "\n",
        "df2['MEDIAN']  = df2[features].apply(np.median, axis=1)\n",
        "df2['MIN']     = df2[features].apply(np.min, axis=1)\n",
        "df2['MAX']     = df2[features].apply(np.max, axis=1)\n",
        "df2['AVERAGE'] = df2[features].apply(np.average, axis=1)\n",
        "df2['STD']     = df2[features].apply(np.std, axis=1)\n",
        "\n",
        "teste2['MEDIAN']  = teste2[features].apply(np.median, axis=1)\n",
        "teste2['MIN']     = teste2[features].apply(np.min, axis=1)\n",
        "teste2['MAX']     = teste2[features].apply(np.max, axis=1)\n",
        "teste2['AVERAGE'] = teste2[features].apply(np.average, axis=1)\n",
        "teste2['STD']     = teste2[features].apply(np.std, axis=1)"
      ],
      "execution_count": 0,
      "outputs": []
    },
    {
      "cell_type": "code",
      "metadata": {
        "id": "OvIipTll7n_d",
        "colab_type": "code",
        "colab": {}
      },
      "source": [
        "coluna_features = features + ['MEDIAN', 'MIN', 'MAX', 'AVERAGE', 'STD']"
      ],
      "execution_count": 0,
      "outputs": []
    },
    {
      "cell_type": "code",
      "metadata": {
        "id": "q2IiG_dk3w7X",
        "colab_type": "code",
        "colab": {}
      },
      "source": [
        "for c in coluna_features:\n",
        "  teste2.loc[teste2[c] == 0, c] = -1\n",
        "  df2.loc[df2[c] == 0, c] = -1"
      ],
      "execution_count": 0,
      "outputs": []
    },
    {
      "cell_type": "code",
      "metadata": {
        "id": "A2pA_IXH_ewI",
        "colab_type": "code",
        "colab": {}
      },
      "source": [
        "X2 = df2[coluna_features]\n",
        "y2 = df2['NU_NOTA_MT']"
      ],
      "execution_count": 0,
      "outputs": []
    },
    {
      "cell_type": "code",
      "metadata": {
        "id": "mAv0wlxMAabt",
        "colab_type": "code",
        "outputId": "671f2d18-2f77-4a62-ae2d-700d45a70888",
        "colab": {
          "base_uri": "https://localhost:8080/",
          "height": 33
        }
      },
      "source": [
        "from sklearn.model_selection import train_test_split\n",
        "Xtrain, Xval, ytrain, yval = train_test_split(X2, y2, train_size=0.7, random_state=0)\n",
        "Xtrain.shape, Xval.shape, ytrain.shape, yval.shape"
      ],
      "execution_count": 0,
      "outputs": [
        {
          "output_type": "execute_result",
          "data": {
            "text/plain": [
              "((9611, 9), (4119, 9), (9611,), (4119,))"
            ]
          },
          "metadata": {
            "tags": []
          },
          "execution_count": 36
        }
      ]
    },
    {
      "cell_type": "code",
      "metadata": {
        "id": "rb_SEvMMAgIB",
        "colab_type": "code",
        "outputId": "eb9b0999-0a23-4724-84ed-acf81eeb3aff",
        "colab": {
          "base_uri": "https://localhost:8080/",
          "height": 33
        }
      },
      "source": [
        "from sklearn.linear_model import LinearRegression\n",
        "\n",
        "mdl = LinearRegression()\n",
        "mdl.fit(Xtrain, ytrain)\n",
        "p = mdl.predict(Xval)\n",
        "score = mean_squared_error(yval, p)\n",
        "score"
      ],
      "execution_count": 0,
      "outputs": [
        {
          "output_type": "execute_result",
          "data": {
            "text/plain": [
              "4584.6371014453025"
            ]
          },
          "metadata": {
            "tags": []
          },
          "execution_count": 37
        }
      ]
    },
    {
      "cell_type": "code",
      "metadata": {
        "id": "_VkfHyRhBzDU",
        "colab_type": "code",
        "outputId": "4727f127-b749-4b5d-f774-f951c5c8c64a",
        "colab": {
          "base_uri": "https://localhost:8080/",
          "height": 301
        }
      },
      "source": [
        "sns.scatterplot(yval,p)"
      ],
      "execution_count": 0,
      "outputs": [
        {
          "output_type": "execute_result",
          "data": {
            "text/plain": [
              "<matplotlib.axes._subplots.AxesSubplot at 0x7fd7534d9d68>"
            ]
          },
          "metadata": {
            "tags": []
          },
          "execution_count": 38
        },
        {
          "output_type": "display_data",
          "data": {
            "image/png": "[encoded data removed]",
            "text/plain": [
              "<Figure size 432x288 with 1 Axes>"
            ]
          },
          "metadata": {
            "tags": []
          }
        }
      ]
    },
    {
      "cell_type": "code",
      "metadata": {
        "id": "tiCD2cP6CbxR",
        "colab_type": "code",
        "outputId": "79d74998-c5b0-44d8-a4cd-34e0fef8a9b7",
        "colab": {
          "base_uri": "https://localhost:8080/",
          "height": 33
        }
      },
      "source": [
        "mdl2 = GradientBoostingRegressor(random_state=0)\n",
        "mdl2.fit(Xtrain, ytrain)\n",
        "p2 = mdl2.predict(Xval)\n",
        "s2 = mean_squared_error(yval, p2)\n",
        "s2 # oi?!"
      ],
      "execution_count": 0,
      "outputs": [
        {
          "output_type": "execute_result",
          "data": {
            "text/plain": [
              "4227.281878481363"
            ]
          },
          "metadata": {
            "tags": []
          },
          "execution_count": 39
        }
      ]
    },
    {
      "cell_type": "code",
      "metadata": {
        "id": "C2QJS08B9J21",
        "colab_type": "code",
        "outputId": "1fe7f95c-50b8-4ad6-c5c2-d732750acb39",
        "colab": {
          "base_uri": "https://localhost:8080/",
          "height": 406
        }
      },
      "source": [
        "Xtrain"
      ],
      "execution_count": 0,
      "outputs": [
        {
          "output_type": "execute_result",
          "data": {
            "text/html": [
              "<div>\n",
              "<style scoped>\n",
              "    .dataframe tbody tr th:only-of-type {\n",
              "        vertical-align: middle;\n",
              "    }\n",
              "\n",
              "    .dataframe tbody tr th {\n",
              "        vertical-align: top;\n",
              "    }\n",
              "\n",
              "    .dataframe thead th {\n",
              "        text-align: right;\n",
              "    }\n",
              "</style>\n",
              "<table border=\"1\" class=\"dataframe\">\n",
              "  <thead>\n",
              "    <tr style=\"text-align: right;\">\n",
              "      <th></th>\n",
              "      <th>NU_NOTA_CN</th>\n",
              "      <th>NU_NOTA_CH</th>\n",
              "      <th>NU_NOTA_LC</th>\n",
              "      <th>NU_NOTA_REDACAO</th>\n",
              "      <th>MEDIAN</th>\n",
              "      <th>MIN</th>\n",
              "      <th>MAX</th>\n",
              "      <th>AVERAGE</th>\n",
              "      <th>STD</th>\n",
              "    </tr>\n",
              "  </thead>\n",
              "  <tbody>\n",
              "    <tr>\n",
              "      <th>10152</th>\n",
              "      <td>389.6</td>\n",
              "      <td>441.0</td>\n",
              "      <td>500.0</td>\n",
              "      <td>460.0</td>\n",
              "      <td>450.50</td>\n",
              "      <td>389.6</td>\n",
              "      <td>500.0</td>\n",
              "      <td>447.650</td>\n",
              "      <td>39.708532</td>\n",
              "    </tr>\n",
              "    <tr>\n",
              "      <th>13559</th>\n",
              "      <td>499.5</td>\n",
              "      <td>586.5</td>\n",
              "      <td>564.1</td>\n",
              "      <td>520.0</td>\n",
              "      <td>542.05</td>\n",
              "      <td>499.5</td>\n",
              "      <td>586.5</td>\n",
              "      <td>542.525</td>\n",
              "      <td>34.488431</td>\n",
              "    </tr>\n",
              "    <tr>\n",
              "      <th>7054</th>\n",
              "      <td>459.8</td>\n",
              "      <td>532.0</td>\n",
              "      <td>520.9</td>\n",
              "      <td>540.0</td>\n",
              "      <td>526.45</td>\n",
              "      <td>459.8</td>\n",
              "      <td>540.0</td>\n",
              "      <td>513.175</td>\n",
              "      <td>31.553635</td>\n",
              "    </tr>\n",
              "    <tr>\n",
              "      <th>244</th>\n",
              "      <td>459.8</td>\n",
              "      <td>532.0</td>\n",
              "      <td>520.9</td>\n",
              "      <td>540.0</td>\n",
              "      <td>526.45</td>\n",
              "      <td>459.8</td>\n",
              "      <td>540.0</td>\n",
              "      <td>513.175</td>\n",
              "      <td>31.553635</td>\n",
              "    </tr>\n",
              "    <tr>\n",
              "      <th>11684</th>\n",
              "      <td>393.3</td>\n",
              "      <td>474.0</td>\n",
              "      <td>552.1</td>\n",
              "      <td>560.0</td>\n",
              "      <td>513.05</td>\n",
              "      <td>393.3</td>\n",
              "      <td>560.0</td>\n",
              "      <td>494.850</td>\n",
              "      <td>67.581821</td>\n",
              "    </tr>\n",
              "    <tr>\n",
              "      <th>...</th>\n",
              "      <td>...</td>\n",
              "      <td>...</td>\n",
              "      <td>...</td>\n",
              "      <td>...</td>\n",
              "      <td>...</td>\n",
              "      <td>...</td>\n",
              "      <td>...</td>\n",
              "      <td>...</td>\n",
              "      <td>...</td>\n",
              "    </tr>\n",
              "    <tr>\n",
              "      <th>13123</th>\n",
              "      <td>440.8</td>\n",
              "      <td>559.2</td>\n",
              "      <td>546.2</td>\n",
              "      <td>680.0</td>\n",
              "      <td>552.70</td>\n",
              "      <td>440.8</td>\n",
              "      <td>680.0</td>\n",
              "      <td>556.550</td>\n",
              "      <td>84.782236</td>\n",
              "    </tr>\n",
              "    <tr>\n",
              "      <th>3264</th>\n",
              "      <td>454.9</td>\n",
              "      <td>521.7</td>\n",
              "      <td>442.9</td>\n",
              "      <td>360.0</td>\n",
              "      <td>448.90</td>\n",
              "      <td>360.0</td>\n",
              "      <td>521.7</td>\n",
              "      <td>444.875</td>\n",
              "      <td>57.467920</td>\n",
              "    </tr>\n",
              "    <tr>\n",
              "      <th>9845</th>\n",
              "      <td>485.7</td>\n",
              "      <td>598.5</td>\n",
              "      <td>516.5</td>\n",
              "      <td>540.0</td>\n",
              "      <td>528.25</td>\n",
              "      <td>485.7</td>\n",
              "      <td>598.5</td>\n",
              "      <td>535.175</td>\n",
              "      <td>41.321506</td>\n",
              "    </tr>\n",
              "    <tr>\n",
              "      <th>10799</th>\n",
              "      <td>459.8</td>\n",
              "      <td>532.0</td>\n",
              "      <td>520.9</td>\n",
              "      <td>540.0</td>\n",
              "      <td>526.45</td>\n",
              "      <td>459.8</td>\n",
              "      <td>540.0</td>\n",
              "      <td>513.175</td>\n",
              "      <td>31.553635</td>\n",
              "    </tr>\n",
              "    <tr>\n",
              "      <th>2732</th>\n",
              "      <td>459.8</td>\n",
              "      <td>532.0</td>\n",
              "      <td>520.9</td>\n",
              "      <td>540.0</td>\n",
              "      <td>526.45</td>\n",
              "      <td>459.8</td>\n",
              "      <td>540.0</td>\n",
              "      <td>513.175</td>\n",
              "      <td>31.553635</td>\n",
              "    </tr>\n",
              "  </tbody>\n",
              "</table>\n",
              "<p>9611 rows × 9 columns</p>\n",
              "</div>"
            ],
            "text/plain": [
              "       NU_NOTA_CN  NU_NOTA_CH  NU_NOTA_LC  ...    MAX  AVERAGE        STD\n",
              "10152       389.6       441.0       500.0  ...  500.0  447.650  39.708532\n",
              "13559       499.5       586.5       564.1  ...  586.5  542.525  34.488431\n",
              "7054        459.8       532.0       520.9  ...  540.0  513.175  31.553635\n",
              "244         459.8       532.0       520.9  ...  540.0  513.175  31.553635\n",
              "11684       393.3       474.0       552.1  ...  560.0  494.850  67.581821\n",
              "...           ...         ...         ...  ...    ...      ...        ...\n",
              "13123       440.8       559.2       546.2  ...  680.0  556.550  84.782236\n",
              "3264        454.9       521.7       442.9  ...  521.7  444.875  57.467920\n",
              "9845        485.7       598.5       516.5  ...  598.5  535.175  41.321506\n",
              "10799       459.8       532.0       520.9  ...  540.0  513.175  31.553635\n",
              "2732        459.8       532.0       520.9  ...  540.0  513.175  31.553635\n",
              "\n",
              "[9611 rows x 9 columns]"
            ]
          },
          "metadata": {
            "tags": []
          },
          "execution_count": 40
        }
      ]
    },
    {
      "cell_type": "code",
      "metadata": {
        "id": "zIStoZKN9Ved",
        "colab_type": "code",
        "outputId": "9ae674f3-7170-4abb-c422-68a710c09358",
        "colab": {
          "base_uri": "https://localhost:8080/",
          "height": 900
        }
      },
      "source": [
        "X2 = df2.drop('NU_NOTA_MT', axis=1)\n",
        "y2 = df2['NU_NOTA_MT']\n",
        "\n",
        "Xtrain, Xval, ytrain, yval = train_test_split(X2, y2, train_size=0.7, random_state=0)\n",
        "\n",
        "k_vs_score = []\n",
        "\n",
        "for k in range(2,107,2):\n",
        "  selector = SelectKBest(score_func=f_regression, k=k)\n",
        "\n",
        "  Xtrain3 = selector.fit_transform(Xtrain, ytrain)\n",
        "  Xval3 = selector.transform(Xval)\n",
        "\n",
        "  mdl3 = GradientBoostingRegressor(random_state=0)\n",
        "  mdl3.fit(Xtrain3, ytrain)\n",
        "\n",
        "  p3 = mdl3.predict(Xval3)\n",
        "\n",
        "  score = mean_squared_error(yval, p3)\n",
        "  print(\"k = {} - MSE = {}\".format(k, score))\n",
        "\n",
        "  k_vs_score.append(score)"
      ],
      "execution_count": 0,
      "outputs": [
        {
          "output_type": "stream",
          "text": [
            "k = 2 - MSE = 4362.865641027184\n",
            "k = 4 - MSE = 4305.596834680438\n",
            "k = 6 - MSE = 4235.0921937780495\n",
            "k = 8 - MSE = 4244.559846422427\n",
            "k = 10 - MSE = 4240.69560959477\n",
            "k = 12 - MSE = 4237.566127299985\n",
            "k = 14 - MSE = 4213.086663095491\n",
            "k = 16 - MSE = 4218.992417899869\n",
            "k = 18 - MSE = 4210.444995607064\n",
            "k = 20 - MSE = 4212.319719147295\n",
            "k = 22 - MSE = 4190.129423713451\n",
            "k = 24 - MSE = 4197.588434100167\n",
            "k = 26 - MSE = 4180.672385866893\n",
            "k = 28 - MSE = 4048.0862551197392\n",
            "k = 30 - MSE = 4030.6685815588394\n",
            "k = 32 - MSE = 4023.3384029943704\n",
            "k = 34 - MSE = 4036.3946931958117\n",
            "k = 36 - MSE = 4036.491485180198\n",
            "k = 38 - MSE = 4031.4291464048133\n",
            "k = 40 - MSE = 4012.9442552686464\n",
            "k = 42 - MSE = 4013.7044036667176\n",
            "k = 44 - MSE = 4008.567644948564\n",
            "k = 46 - MSE = 3996.867848371832\n",
            "k = 48 - MSE = 4011.55595213827\n",
            "k = 50 - MSE = 4006.9170747316703\n",
            "k = 52 - MSE = 3999.7074700694943\n",
            "k = 54 - MSE = 4002.2339391372675\n",
            "k = 56 - MSE = 4003.9968497252003\n",
            "k = 58 - MSE = 4009.792466255907\n",
            "k = 60 - MSE = 4015.2909671318125\n",
            "k = 62 - MSE = 4012.5722476701844\n",
            "k = 64 - MSE = 4018.578553740772\n",
            "k = 66 - MSE = 4007.9941679982003\n",
            "k = 68 - MSE = 4006.574676034381\n",
            "k = 70 - MSE = 4015.354360215909\n",
            "k = 72 - MSE = 4010.4903323570597\n",
            "k = 74 - MSE = 4001.288896172376\n",
            "k = 76 - MSE = 4006.113688428607\n",
            "k = 78 - MSE = 4016.4251745702272\n",
            "k = 80 - MSE = 4013.110268767419\n",
            "k = 82 - MSE = 4024.8105925012887\n",
            "k = 84 - MSE = 4005.97188272452\n",
            "k = 86 - MSE = 4016.210526025759\n",
            "k = 88 - MSE = 4023.8087398948005\n",
            "k = 90 - MSE = 4024.214032188367\n",
            "k = 92 - MSE = 4023.5875575711366\n",
            "k = 94 - MSE = 4030.856512036027\n",
            "k = 96 - MSE = 4032.154155614271\n",
            "k = 98 - MSE = 4028.9439379408886\n",
            "k = 100 - MSE = 4029.0853979527433\n",
            "k = 102 - MSE = 4029.1427455122903\n",
            "k = 104 - MSE = 4030.212626534706\n",
            "k = 106 - MSE = 4027.4879158849612\n"
          ],
          "name": "stdout"
        }
      ]
    },
    {
      "cell_type": "code",
      "metadata": {
        "id": "GcC0uuKvZk26",
        "colab_type": "code",
        "outputId": "74ff6e19-a922-4b68-e5c0-82fcd9a5437f",
        "colab": {
          "base_uri": "https://localhost:8080/",
          "height": 447
        }
      },
      "source": [
        "pd.Series(k_vs_score, index=range(2,107,2)).plot(figsize=(10,7))"
      ],
      "execution_count": 0,
      "outputs": [
        {
          "output_type": "execute_result",
          "data": {
            "text/plain": [
              "<matplotlib.axes._subplots.AxesSubplot at 0x7fd74f00dc50>"
            ]
          },
          "metadata": {
            "tags": []
          },
          "execution_count": 47
        },
        {
          "output_type": "display_data",
          "data": {
            "image/png": "[encoded data removed]",
            "text/plain": [
              "<Figure size 720x504 with 1 Axes>"
            ]
          },
          "metadata": {
            "tags": []
          }
        }
      ]
    },
    {
      "cell_type": "code",
      "metadata": {
        "id": "nH08wo5RZvPA",
        "colab_type": "code",
        "outputId": "53e300e4-5462-45da-d289-56a2fa446fae",
        "colab": {
          "base_uri": "https://localhost:8080/",
          "height": 284
        }
      },
      "source": [
        "selector = SelectKBest(score_func=f_regression, k=46)\n",
        "selector.fit(Xtrain, ytrain)\n",
        "\n",
        "pd.Series(selector.scores_, index=Xtrain.columns).sort_values().tail(10).plot.barh()"
      ],
      "execution_count": 0,
      "outputs": [
        {
          "output_type": "execute_result",
          "data": {
            "text/plain": [
              "<matplotlib.axes._subplots.AxesSubplot at 0x7fd74efa45c0>"
            ]
          },
          "metadata": {
            "tags": []
          },
          "execution_count": 49
        },
        {
          "output_type": "display_data",
          "data": {
            "image/png": "[encoded data removed]",
            "text/plain": [
              "<Figure size 432x288 with 1 Axes>"
            ]
          },
          "metadata": {
            "tags": []
          }
        }
      ]
    },
    {
      "cell_type": "markdown",
      "metadata": {
        "id": "0jR1de8OciNx",
        "colab_type": "text"
      },
      "source": [
        "### Exportando"
      ]
    },
    {
      "cell_type": "code",
      "metadata": {
        "id": "l_ok5OsGclrt",
        "colab_type": "code",
        "outputId": "4b55af71-1330-4913-81aa-20c6153817dd",
        "colab": {
          "base_uri": "https://localhost:8080/",
          "height": 50
        }
      },
      "source": [
        "from google.colab import files\n",
        "\n",
        "MODELO = mdlk\n",
        "X_desafio = teste2[Xval.columns[mask]].to_numpy()\n",
        "predicao_desafio = MODELO.predict(X_desafio)\n",
        "predicao_desafio"
      ],
      "execution_count": 0,
      "outputs": [
        {
          "output_type": "execute_result",
          "data": {
            "text/plain": [
              "array([421.55191588, 447.53777314, 604.13911894, ..., 680.30564343,\n",
              "       457.85251519, 462.07315221])"
            ]
          },
          "metadata": {
            "tags": []
          },
          "execution_count": 51
        }
      ]
    },
    {
      "cell_type": "code",
      "metadata": {
        "id": "5lF6ZmY1ezj7",
        "colab_type": "code",
        "outputId": "42249ba2-73c8-4e6b-9dfd-b02c3d1d1b55",
        "colab": {
          "base_uri": "https://localhost:8080/",
          "height": 436
        }
      },
      "source": [
        "in_def = pd.DataFrame(predicao_desafio, index=nu_inscricao)\n",
        "in_def.columns = ['NU_NOTA_MT']"
      ],
      "execution_count": 0,
      "outputs": [
        {
          "output_type": "execute_result",
          "data": {
            "text/html": [
              "<div>\n",
              "<style scoped>\n",
              "    .dataframe tbody tr th:only-of-type {\n",
              "        vertical-align: middle;\n",
              "    }\n",
              "\n",
              "    .dataframe tbody tr th {\n",
              "        vertical-align: top;\n",
              "    }\n",
              "\n",
              "    .dataframe thead th {\n",
              "        text-align: right;\n",
              "    }\n",
              "</style>\n",
              "<table border=\"1\" class=\"dataframe\">\n",
              "  <thead>\n",
              "    <tr style=\"text-align: right;\">\n",
              "      <th></th>\n",
              "      <th>NU_NOTA_MT</th>\n",
              "    </tr>\n",
              "    <tr>\n",
              "      <th>NU_INSCRICAO</th>\n",
              "      <th></th>\n",
              "    </tr>\n",
              "  </thead>\n",
              "  <tbody>\n",
              "    <tr>\n",
              "      <th>73ff9fcc02f0a99919906c942c2e1a1042cdcf98</th>\n",
              "      <td>421.551916</td>\n",
              "    </tr>\n",
              "    <tr>\n",
              "      <th>71a95f9f1b91a82c65ad94abbdf9f54e6066f968</th>\n",
              "      <td>447.537773</td>\n",
              "    </tr>\n",
              "    <tr>\n",
              "      <th>b38a03232f43b11c9d0788abaf060f7366053b6d</th>\n",
              "      <td>604.139119</td>\n",
              "    </tr>\n",
              "    <tr>\n",
              "      <th>70b682d9a3636be23f6120fa9d6b164eb3c6002d</th>\n",
              "      <td>462.471905</td>\n",
              "    </tr>\n",
              "    <tr>\n",
              "      <th>715494628a50142ce8cb17191cfe6d0f3cae0934</th>\n",
              "      <td>561.472836</td>\n",
              "    </tr>\n",
              "    <tr>\n",
              "      <th>...</th>\n",
              "      <td>...</td>\n",
              "    </tr>\n",
              "    <tr>\n",
              "      <th>dac0f22429c7f8e3931d0abaf5dfc8e5c772a48b</th>\n",
              "      <td>447.319908</td>\n",
              "    </tr>\n",
              "    <tr>\n",
              "      <th>a75fa8770257e7c9368d059fe53d9ef431f4bdef</th>\n",
              "      <td>472.070155</td>\n",
              "    </tr>\n",
              "    <tr>\n",
              "      <th>655fa6306720ff16e825903b5422a46608a77545</th>\n",
              "      <td>680.305643</td>\n",
              "    </tr>\n",
              "    <tr>\n",
              "      <th>1f4bc3e3d56212d500625bfe8ac78ccff4362293</th>\n",
              "      <td>457.852515</td>\n",
              "    </tr>\n",
              "    <tr>\n",
              "      <th>adf0d15b54317b6564ef56dad2b775bbb0ef50cc</th>\n",
              "      <td>462.073152</td>\n",
              "    </tr>\n",
              "  </tbody>\n",
              "</table>\n",
              "<p>4576 rows × 1 columns</p>\n",
              "</div>"
            ],
            "text/plain": [
              "                                          NU_NOTA_MT\n",
              "NU_INSCRICAO                                        \n",
              "73ff9fcc02f0a99919906c942c2e1a1042cdcf98  421.551916\n",
              "71a95f9f1b91a82c65ad94abbdf9f54e6066f968  447.537773\n",
              "b38a03232f43b11c9d0788abaf060f7366053b6d  604.139119\n",
              "70b682d9a3636be23f6120fa9d6b164eb3c6002d  462.471905\n",
              "715494628a50142ce8cb17191cfe6d0f3cae0934  561.472836\n",
              "...                                              ...\n",
              "dac0f22429c7f8e3931d0abaf5dfc8e5c772a48b  447.319908\n",
              "a75fa8770257e7c9368d059fe53d9ef431f4bdef  472.070155\n",
              "655fa6306720ff16e825903b5422a46608a77545  680.305643\n",
              "1f4bc3e3d56212d500625bfe8ac78ccff4362293  457.852515\n",
              "adf0d15b54317b6564ef56dad2b775bbb0ef50cc  462.073152\n",
              "\n",
              "[4576 rows x 1 columns]"
            ]
          },
          "metadata": {
            "tags": []
          },
          "execution_count": 62
        }
      ]
    },
    {
      "cell_type": "code",
      "metadata": {
        "id": "myLXfUOzdgOs",
        "colab_type": "code",
        "colab": {}
      },
      "source": [
        "in_def.to_csv('answer.csv')"
      ],
      "execution_count": 0,
      "outputs": []
    },
    {
      "cell_type": "code",
      "metadata": {
        "id": "G7YOcT-vnWEZ",
        "colab_type": "code",
        "colab": {}
      },
      "source": [
        "files.download('answer.csv')"
      ],
      "execution_count": 0,
      "outputs": []
    }
  ]
}