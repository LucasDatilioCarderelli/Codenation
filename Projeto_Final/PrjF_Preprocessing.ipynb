{
  "nbformat": 4,
  "nbformat_minor": 0,
  "metadata": {
    "colab": {
      "name": "PrjF_Preprocessing",
      "provenance": [],
      "collapsed_sections": [],
      "toc_visible": true,
      "authorship_tag": "ABX9TyOyNfVb/n80cT/LQtnueDLy",
      "include_colab_link": true
    },
    "kernelspec": {
      "name": "python3",
      "display_name": "Python 3"
    }
  },
  "cells": [
    {
      "cell_type": "markdown",
      "metadata": {
        "id": "view-in-github",
        "colab_type": "text"
      },
      "source": [
        "<a href=\"https://colab.research.google.com/github/LucasDatilioCarderelli/Codenation/blob/master/Projeto_Final/PrjF_Preprocessing.ipynb\" target=\"_parent\"><img src=\"https://colab.research.google.com/assets/colab-badge.svg\" alt=\"Open In Colab\"/></a>"
      ]
    },
    {
      "cell_type": "markdown",
      "metadata": {
        "id": "OWz-NTJKIAGz",
        "colab_type": "text"
      },
      "source": [
        "# Projeto Final Codenation"
      ]
    },
    {
      "cell_type": "markdown",
      "metadata": {
        "id": "a_sXVV5JIJjj",
        "colab_type": "text"
      },
      "source": [
        "## Importing Files"
      ]
    },
    {
      "cell_type": "code",
      "metadata": {
        "id": "PfUKRZeJ5Bhh",
        "colab_type": "code",
        "colab": {
          "base_uri": "https://localhost:8080/",
          "height": 71
        },
        "outputId": "0ae901a7-cc5a-4f86-8edd-607e6094afd6"
      },
      "source": [
        "#Importando as bibliotecas básicas:\n",
        "import pandas as pd\n",
        "import numpy as np\n",
        "\n",
        "# Para geração de gráficos\n",
        "import matplotlib.pyplot as plt\n",
        "import seaborn as sns\n",
        "sns.set()\n",
        "\n",
        "from sklearn.preprocessing import (\n",
        "    LabelEncoder, KBinsDiscretizer)\n",
        "\n",
        "from zipfile import ZipFile # Para abrir arquivos \"zipados\"\n",
        "import gc\n",
        "\n",
        "#Para setar o número de linhas e colunas visíveis no dataset\n",
        "pd.set_option('display.max_rows', 200)\n",
        "pd.set_option('display.max_columns', 200)"
      ],
      "execution_count": null,
      "outputs": [
        {
          "output_type": "stream",
          "text": [
            "/usr/local/lib/python3.6/dist-packages/statsmodels/tools/_testing.py:19: FutureWarning: pandas.util.testing is deprecated. Use the functions in the public API at pandas.testing instead.\n",
            "  import pandas.util.testing as tm\n"
          ],
          "name": "stderr"
        }
      ]
    },
    {
      "cell_type": "code",
      "metadata": {
        "id": "Oopis3PcFZZM",
        "colab_type": "code",
        "colab": {
          "base_uri": "https://localhost:8080/",
          "height": 34
        },
        "outputId": "ca83c938-0970-497e-9442-fc5d4a35f8d5"
      },
      "source": [
        "zip_file = ZipFile(\"/content/estaticos_market.csv.zip\")\n",
        "dfs = {text_file.filename: pd.read_csv(zip_file.open(text_file.filename))\n",
        "for text_file in zip_file.infolist() if text_file.filename.endswith('.csv')}\n",
        "list(zip(dfs))"
      ],
      "execution_count": null,
      "outputs": [
        {
          "output_type": "execute_result",
          "data": {
            "text/plain": [
              "[('estaticos_market.csv',)]"
            ]
          },
          "metadata": {
            "tags": []
          },
          "execution_count": 2
        }
      ]
    },
    {
      "cell_type": "code",
      "metadata": {
        "id": "okgvgsuy-97j",
        "colab_type": "code",
        "colab": {
          "base_uri": "https://localhost:8080/",
          "height": 34
        },
        "outputId": "80b45d14-842c-4410-e603-c429fac1f60b"
      },
      "source": [
        "mkt = pd.DataFrame(dfs['estaticos_market.csv'])\n",
        "\n",
        "port1 = pd.read_csv(\"https://codenation-challenges.s3-us-west-1.amazonaws.com/ml-leads/estaticos_portfolio1.csv\")\n",
        "port2 = pd.read_csv(\"https://codenation-challenges.s3-us-west-1.amazonaws.com/ml-leads/estaticos_portfolio2.csv\")\n",
        "port3 = pd.read_csv(\"https://codenation-challenges.s3-us-west-1.amazonaws.com/ml-leads/estaticos_portfolio3.csv\")\n",
        "\n",
        "mkt.shape, port1.shape, port2.shape, port3.shape"
      ],
      "execution_count": null,
      "outputs": [
        {
          "output_type": "execute_result",
          "data": {
            "text/plain": [
              "((462298, 182), (555, 182), (566, 2), (265, 2))"
            ]
          },
          "metadata": {
            "tags": []
          },
          "execution_count": 3
        }
      ]
    },
    {
      "cell_type": "code",
      "metadata": {
        "id": "DXgDx-7CHk2A",
        "colab_type": "code",
        "colab": {
          "base_uri": "https://localhost:8080/",
          "height": 102
        },
        "outputId": "696ad02e-6c54-4955-f928-81baf455998d"
      },
      "source": [
        "# Reduzindo e convertendo dados para reduzir memória \n",
        "ints = mkt.select_dtypes(include=['int64','int32','int16']).columns\n",
        "mkt[ints] = mkt[ints].apply(pd.to_numeric, downcast='integer')\n",
        "\n",
        "floats = mkt.select_dtypes(include=['float']).columns\n",
        "mkt[floats] = mkt[floats].apply(pd.to_numeric, downcast='float')\n",
        "\n",
        "objects = mkt.select_dtypes('object').columns\n",
        "mkt[objects] = mkt[objects].apply(lambda x: x.astype('category'))\n",
        "\n",
        "mkt.info(memory_usage='deep')"
      ],
      "execution_count": null,
      "outputs": [
        {
          "output_type": "stream",
          "text": [
            "<class 'pandas.core.frame.DataFrame'>\n",
            "RangeIndex: 462298 entries, 0 to 462297\n",
            "Columns: 182 entries, Unnamed: 0 to qt_filiais\n",
            "dtypes: bool(9), category(27), float32(144), int16(1), int32(1)\n",
            "memory usage: 348.4 MB\n"
          ],
          "name": "stdout"
        }
      ]
    },
    {
      "cell_type": "code",
      "metadata": {
        "id": "TJURM-JJkzuc",
        "colab_type": "code",
        "colab": {
          "base_uri": "https://localhost:8080/",
          "height": 428
        },
        "outputId": "d92ddb24-dcfc-4838-d864-0ed36f573874"
      },
      "source": [
        "mkt.head()"
      ],
      "execution_count": null,
      "outputs": [
        {
          "output_type": "execute_result",
          "data": {
            "text/html": [
              "<div>\n",
              "<style scoped>\n",
              "    .dataframe tbody tr th:only-of-type {\n",
              "        vertical-align: middle;\n",
              "    }\n",
              "\n",
              "    .dataframe tbody tr th {\n",
              "        vertical-align: top;\n",
              "    }\n",
              "\n",
              "    .dataframe thead th {\n",
              "        text-align: right;\n",
              "    }\n",
              "</style>\n",
              "<table border=\"1\" class=\"dataframe\">\n",
              "  <thead>\n",
              "    <tr style=\"text-align: right;\">\n",
              "      <th></th>\n",
              "      <th>Unnamed: 0</th>\n",
              "      <th>id</th>\n",
              "      <th>fl_matriz</th>\n",
              "      <th>de_natureza_juridica</th>\n",
              "      <th>sg_uf</th>\n",
              "      <th>natureza_juridica_macro</th>\n",
              "      <th>de_ramo</th>\n",
              "      <th>setor</th>\n",
              "      <th>idade_empresa_anos</th>\n",
              "      <th>idade_emp_cat</th>\n",
              "      <th>fl_me</th>\n",
              "      <th>fl_sa</th>\n",
              "      <th>fl_epp</th>\n",
              "      <th>fl_mei</th>\n",
              "      <th>fl_ltda</th>\n",
              "      <th>dt_situacao</th>\n",
              "      <th>fl_st_especial</th>\n",
              "      <th>fl_email</th>\n",
              "      <th>fl_telefone</th>\n",
              "      <th>fl_rm</th>\n",
              "      <th>nm_divisao</th>\n",
              "      <th>nm_segmento</th>\n",
              "      <th>fl_spa</th>\n",
              "      <th>fl_antt</th>\n",
              "      <th>fl_veiculo</th>\n",
              "      <th>vl_total_tancagem</th>\n",
              "      <th>vl_total_veiculos_antt</th>\n",
              "      <th>vl_total_veiculos_leves</th>\n",
              "      <th>vl_total_veiculos_pesados</th>\n",
              "      <th>fl_optante_simples</th>\n",
              "      <th>qt_art</th>\n",
              "      <th>vl_total_veiculos_pesados_grupo</th>\n",
              "      <th>vl_total_veiculos_leves_grupo</th>\n",
              "      <th>vl_total_tancagem_grupo</th>\n",
              "      <th>vl_total_veiculos_antt_grupo</th>\n",
              "      <th>vl_potenc_cons_oleo_gas</th>\n",
              "      <th>fl_optante_simei</th>\n",
              "      <th>sg_uf_matriz</th>\n",
              "      <th>de_saude_tributaria</th>\n",
              "      <th>de_saude_rescencia</th>\n",
              "      <th>nu_meses_rescencia</th>\n",
              "      <th>de_nivel_atividade</th>\n",
              "      <th>de_indicador_telefone</th>\n",
              "      <th>fl_simples_irregular</th>\n",
              "      <th>vl_frota</th>\n",
              "      <th>empsetorcensitariofaixarendapopulacao</th>\n",
              "      <th>nm_meso_regiao</th>\n",
              "      <th>nm_micro_regiao</th>\n",
              "      <th>fl_passivel_iss</th>\n",
              "      <th>qt_socios</th>\n",
              "      <th>qt_socios_pf</th>\n",
              "      <th>qt_socios_pj</th>\n",
              "      <th>idade_media_socios</th>\n",
              "      <th>idade_maxima_socios</th>\n",
              "      <th>idade_minima_socios</th>\n",
              "      <th>qt_socios_st_regular</th>\n",
              "      <th>qt_socios_st_suspensa</th>\n",
              "      <th>qt_socios_masculino</th>\n",
              "      <th>qt_socios_feminino</th>\n",
              "      <th>qt_socios_pep</th>\n",
              "      <th>qt_alteracao_socio_total</th>\n",
              "      <th>qt_alteracao_socio_90d</th>\n",
              "      <th>qt_alteracao_socio_180d</th>\n",
              "      <th>qt_alteracao_socio_365d</th>\n",
              "      <th>qt_socios_pj_ativos</th>\n",
              "      <th>qt_socios_pj_nulos</th>\n",
              "      <th>qt_socios_pj_baixados</th>\n",
              "      <th>qt_socios_pj_suspensos</th>\n",
              "      <th>qt_socios_pj_inaptos</th>\n",
              "      <th>vl_idade_media_socios_pj</th>\n",
              "      <th>vl_idade_maxima_socios_pj</th>\n",
              "      <th>vl_idade_minima_socios_pj</th>\n",
              "      <th>qt_coligados</th>\n",
              "      <th>qt_socios_coligados</th>\n",
              "      <th>qt_coligados_matriz</th>\n",
              "      <th>qt_coligados_ativo</th>\n",
              "      <th>qt_coligados_baixada</th>\n",
              "      <th>qt_coligados_inapta</th>\n",
              "      <th>qt_coligados_suspensa</th>\n",
              "      <th>qt_coligados_nula</th>\n",
              "      <th>idade_media_coligadas</th>\n",
              "      <th>idade_maxima_coligadas</th>\n",
              "      <th>idade_minima_coligadas</th>\n",
              "      <th>coligada_mais_nova_ativa</th>\n",
              "      <th>coligada_mais_antiga_ativa</th>\n",
              "      <th>idade_media_coligadas_ativas</th>\n",
              "      <th>coligada_mais_nova_baixada</th>\n",
              "      <th>coligada_mais_antiga_baixada</th>\n",
              "      <th>idade_media_coligadas_baixadas</th>\n",
              "      <th>qt_coligados_sa</th>\n",
              "      <th>qt_coligados_me</th>\n",
              "      <th>qt_coligados_mei</th>\n",
              "      <th>qt_coligados_ltda</th>\n",
              "      <th>qt_coligados_epp</th>\n",
              "      <th>qt_coligados_norte</th>\n",
              "      <th>qt_coligados_sul</th>\n",
              "      <th>qt_coligados_nordeste</th>\n",
              "      <th>qt_coligados_centro</th>\n",
              "      <th>qt_coligados_sudeste</th>\n",
              "      <th>qt_coligados_exterior</th>\n",
              "      <th>qt_ufs_coligados</th>\n",
              "      <th>qt_regioes_coligados</th>\n",
              "      <th>qt_ramos_coligados</th>\n",
              "      <th>qt_coligados_industria</th>\n",
              "      <th>qt_coligados_agropecuaria</th>\n",
              "      <th>qt_coligados_comercio</th>\n",
              "      <th>qt_coligados_serviço</th>\n",
              "      <th>qt_coligados_ccivil</th>\n",
              "      <th>qt_funcionarios_coligados</th>\n",
              "      <th>qt_funcionarios_coligados_gp</th>\n",
              "      <th>media_funcionarios_coligados_gp</th>\n",
              "      <th>max_funcionarios_coligados_gp</th>\n",
              "      <th>min_funcionarios_coligados_gp</th>\n",
              "      <th>vl_folha_coligados</th>\n",
              "      <th>media_vl_folha_coligados</th>\n",
              "      <th>max_vl_folha_coligados</th>\n",
              "      <th>min_vl_folha_coligados</th>\n",
              "      <th>vl_folha_coligados_gp</th>\n",
              "      <th>media_vl_folha_coligados_gp</th>\n",
              "      <th>max_vl_folha_coligados_gp</th>\n",
              "      <th>min_vl_folha_coligados_gp</th>\n",
              "      <th>faturamento_est_coligados</th>\n",
              "      <th>media_faturamento_est_coligados</th>\n",
              "      <th>max_faturamento_est_coligados</th>\n",
              "      <th>min_faturamento_est_coligados</th>\n",
              "      <th>faturamento_est_coligados_gp</th>\n",
              "      <th>media_faturamento_est_coligados_gp</th>\n",
              "      <th>max_faturamento_est_coligados_gp</th>\n",
              "      <th>min_faturamento_est_coligados_gp</th>\n",
              "      <th>total_filiais_coligados</th>\n",
              "      <th>media_filiais_coligados</th>\n",
              "      <th>max_filiais_coligados</th>\n",
              "      <th>min_filiais_coligados</th>\n",
              "      <th>qt_coligados_atividade_alto</th>\n",
              "      <th>qt_coligados_atividade_medio</th>\n",
              "      <th>qt_coligados_atividade_baixo</th>\n",
              "      <th>qt_coligados_atividade_mt_baixo</th>\n",
              "      <th>qt_coligados_atividade_inativo</th>\n",
              "      <th>qt_coligadas</th>\n",
              "      <th>sum_faturamento_estimado_coligadas</th>\n",
              "      <th>de_faixa_faturamento_estimado</th>\n",
              "      <th>de_faixa_faturamento_estimado_grupo</th>\n",
              "      <th>vl_faturamento_estimado_aux</th>\n",
              "      <th>vl_faturamento_estimado_grupo_aux</th>\n",
              "      <th>qt_ex_funcionarios</th>\n",
              "      <th>qt_funcionarios_grupo</th>\n",
              "      <th>percent_func_genero_masc</th>\n",
              "      <th>percent_func_genero_fem</th>\n",
              "      <th>idade_ate_18</th>\n",
              "      <th>idade_de_19_a_23</th>\n",
              "      <th>idade_de_24_a_28</th>\n",
              "      <th>idade_de_29_a_33</th>\n",
              "      <th>idade_de_34_a_38</th>\n",
              "      <th>idade_de_39_a_43</th>\n",
              "      <th>idade_de_44_a_48</th>\n",
              "      <th>idade_de_49_a_53</th>\n",
              "      <th>idade_de_54_a_58</th>\n",
              "      <th>idade_acima_de_58</th>\n",
              "      <th>grau_instrucao_macro_analfabeto</th>\n",
              "      <th>grau_instrucao_macro_escolaridade_fundamental</th>\n",
              "      <th>grau_instrucao_macro_escolaridade_media</th>\n",
              "      <th>grau_instrucao_macro_escolaridade_superior</th>\n",
              "      <th>grau_instrucao_macro_desconhecido</th>\n",
              "      <th>total</th>\n",
              "      <th>meses_ultima_contratacaco</th>\n",
              "      <th>qt_admitidos_12meses</th>\n",
              "      <th>qt_desligados_12meses</th>\n",
              "      <th>qt_desligados</th>\n",
              "      <th>qt_admitidos</th>\n",
              "      <th>media_meses_servicos_all</th>\n",
              "      <th>max_meses_servicos_all</th>\n",
              "      <th>min_meses_servicos_all</th>\n",
              "      <th>media_meses_servicos</th>\n",
              "      <th>max_meses_servicos</th>\n",
              "      <th>min_meses_servicos</th>\n",
              "      <th>qt_funcionarios</th>\n",
              "      <th>qt_funcionarios_12meses</th>\n",
              "      <th>qt_funcionarios_24meses</th>\n",
              "      <th>tx_crescimento_12meses</th>\n",
              "      <th>tx_crescimento_24meses</th>\n",
              "      <th>tx_rotatividade</th>\n",
              "      <th>qt_filiais</th>\n",
              "    </tr>\n",
              "  </thead>\n",
              "  <tbody>\n",
              "    <tr>\n",
              "      <th>0</th>\n",
              "      <td>0</td>\n",
              "      <td>a6984c3ae395090e3bee8ad63c3758b110de096d5d8195...</td>\n",
              "      <td>True</td>\n",
              "      <td>SOCIEDADE EMPRESARIA LIMITADA</td>\n",
              "      <td>RN</td>\n",
              "      <td>ENTIDADES EMPRESARIAIS</td>\n",
              "      <td>INDUSTRIA DA CONSTRUCAO</td>\n",
              "      <td>CONSTRUÇÃO CIVIL</td>\n",
              "      <td>14.457534</td>\n",
              "      <td>10 a 15</td>\n",
              "      <td>False</td>\n",
              "      <td>False</td>\n",
              "      <td>False</td>\n",
              "      <td>False</td>\n",
              "      <td>False</td>\n",
              "      <td>2005-03-25</td>\n",
              "      <td>False</td>\n",
              "      <td>True</td>\n",
              "      <td>True</td>\n",
              "      <td>SIM</td>\n",
              "      <td>CONSTRUCAO DE EDIFICIOS</td>\n",
              "      <td>CONSTRUCAO</td>\n",
              "      <td>False</td>\n",
              "      <td>False</td>\n",
              "      <td>False</td>\n",
              "      <td>NaN</td>\n",
              "      <td>NaN</td>\n",
              "      <td>NaN</td>\n",
              "      <td>NaN</td>\n",
              "      <td>True</td>\n",
              "      <td>8.0</td>\n",
              "      <td>0.0</td>\n",
              "      <td>0.0</td>\n",
              "      <td>NaN</td>\n",
              "      <td>NaN</td>\n",
              "      <td>NaN</td>\n",
              "      <td>False</td>\n",
              "      <td>RN</td>\n",
              "      <td>VERDE</td>\n",
              "      <td>ACIMA DE 1 ANO</td>\n",
              "      <td>23.0</td>\n",
              "      <td>ALTA</td>\n",
              "      <td>BOA</td>\n",
              "      <td>False</td>\n",
              "      <td>NaN</td>\n",
              "      <td>NaN</td>\n",
              "      <td>LESTE POTIGUAR</td>\n",
              "      <td>NATAL</td>\n",
              "      <td>True</td>\n",
              "      <td>2.0</td>\n",
              "      <td>2.0</td>\n",
              "      <td>0.0</td>\n",
              "      <td>44.0</td>\n",
              "      <td>47.0</td>\n",
              "      <td>41.0</td>\n",
              "      <td>2.0</td>\n",
              "      <td>NaN</td>\n",
              "      <td>2.0</td>\n",
              "      <td>NaN</td>\n",
              "      <td>NaN</td>\n",
              "      <td>NaN</td>\n",
              "      <td>NaN</td>\n",
              "      <td>NaN</td>\n",
              "      <td>NaN</td>\n",
              "      <td>NaN</td>\n",
              "      <td>NaN</td>\n",
              "      <td>NaN</td>\n",
              "      <td>NaN</td>\n",
              "      <td>NaN</td>\n",
              "      <td>NaN</td>\n",
              "      <td>NaN</td>\n",
              "      <td>NaN</td>\n",
              "      <td>6.0</td>\n",
              "      <td>8.0</td>\n",
              "      <td>6.0</td>\n",
              "      <td>6.0</td>\n",
              "      <td>0.0</td>\n",
              "      <td>0.0</td>\n",
              "      <td>0.0</td>\n",
              "      <td>0.0</td>\n",
              "      <td>220.477783</td>\n",
              "      <td>536.366638</td>\n",
              "      <td>57.299999</td>\n",
              "      <td>57.299999</td>\n",
              "      <td>536.366638</td>\n",
              "      <td>220.477783</td>\n",
              "      <td>NaN</td>\n",
              "      <td>NaN</td>\n",
              "      <td>NaN</td>\n",
              "      <td>0.0</td>\n",
              "      <td>0.0</td>\n",
              "      <td>0.0</td>\n",
              "      <td>0.0</td>\n",
              "      <td>0.0</td>\n",
              "      <td>0.0</td>\n",
              "      <td>0.0</td>\n",
              "      <td>6.0</td>\n",
              "      <td>0.0</td>\n",
              "      <td>0.0</td>\n",
              "      <td>0.0</td>\n",
              "      <td>2.0</td>\n",
              "      <td>1.0</td>\n",
              "      <td>5.0</td>\n",
              "      <td>0.0</td>\n",
              "      <td>0.0</td>\n",
              "      <td>1.0</td>\n",
              "      <td>5.0</td>\n",
              "      <td>0.0</td>\n",
              "      <td>145.0</td>\n",
              "      <td>145.0</td>\n",
              "      <td>36.25</td>\n",
              "      <td>91.0</td>\n",
              "      <td>6.0</td>\n",
              "      <td>9375912.0</td>\n",
              "      <td>2343978.0</td>\n",
              "      <td>5275238.5</td>\n",
              "      <td>638798.375</td>\n",
              "      <td>9375912.0</td>\n",
              "      <td>2343978.0</td>\n",
              "      <td>5275238.5</td>\n",
              "      <td>638798.375</td>\n",
              "      <td>21809444.0</td>\n",
              "      <td>3634907.25</td>\n",
              "      <td>13188096.0</td>\n",
              "      <td>210000.0</td>\n",
              "      <td>22019444.0</td>\n",
              "      <td>3669907.25</td>\n",
              "      <td>13188096.0</td>\n",
              "      <td>210000.0</td>\n",
              "      <td>1.0</td>\n",
              "      <td>1.0</td>\n",
              "      <td>1.0</td>\n",
              "      <td>1.0</td>\n",
              "      <td>0.0</td>\n",
              "      <td>0.0</td>\n",
              "      <td>0.0</td>\n",
              "      <td>0.0</td>\n",
              "      <td>0.0</td>\n",
              "      <td>6.0</td>\n",
              "      <td>21809444.0</td>\n",
              "      <td>DE R$ 1.500.000,01 A R$ 4.800.000,00</td>\n",
              "      <td>DE R$ 1.500.000,01 A R$ 4.800.000,00</td>\n",
              "      <td>3132172.75</td>\n",
              "      <td>3132172.75</td>\n",
              "      <td>119.0</td>\n",
              "      <td>26.0</td>\n",
              "      <td>100.0</td>\n",
              "      <td>0.0</td>\n",
              "      <td>NaN</td>\n",
              "      <td>1.0</td>\n",
              "      <td>4.0</td>\n",
              "      <td>6.0</td>\n",
              "      <td>5.0</td>\n",
              "      <td>3.0</td>\n",
              "      <td>4.0</td>\n",
              "      <td>2.0</td>\n",
              "      <td>NaN</td>\n",
              "      <td>1.0</td>\n",
              "      <td>NaN</td>\n",
              "      <td>1.0</td>\n",
              "      <td>25.0</td>\n",
              "      <td>NaN</td>\n",
              "      <td>NaN</td>\n",
              "      <td>26.0</td>\n",
              "      <td>19.166666</td>\n",
              "      <td>0.0</td>\n",
              "      <td>0.0</td>\n",
              "      <td>119.0</td>\n",
              "      <td>145.0</td>\n",
              "      <td>13.309196</td>\n",
              "      <td>93.26667</td>\n",
              "      <td>-0.933333</td>\n",
              "      <td>43.738461</td>\n",
              "      <td>93.26667</td>\n",
              "      <td>19.166666</td>\n",
              "      <td>26.0</td>\n",
              "      <td>26.0</td>\n",
              "      <td>27.0</td>\n",
              "      <td>0.0</td>\n",
              "      <td>-3.703704</td>\n",
              "      <td>0.0</td>\n",
              "      <td>0</td>\n",
              "    </tr>\n",
              "    <tr>\n",
              "      <th>1</th>\n",
              "      <td>1</td>\n",
              "      <td>6178f41ade1365e44bc2c46654c2c8c0eaae27dcb476c4...</td>\n",
              "      <td>True</td>\n",
              "      <td>EMPRESARIO INDIVIDUAL</td>\n",
              "      <td>PI</td>\n",
              "      <td>OUTROS</td>\n",
              "      <td>SERVICOS DE ALOJAMENTO/ALIMENTACAO</td>\n",
              "      <td>SERVIÇO</td>\n",
              "      <td>1.463014</td>\n",
              "      <td>1 a 5</td>\n",
              "      <td>False</td>\n",
              "      <td>False</td>\n",
              "      <td>False</td>\n",
              "      <td>True</td>\n",
              "      <td>False</td>\n",
              "      <td>2017-05-12</td>\n",
              "      <td>False</td>\n",
              "      <td>True</td>\n",
              "      <td>True</td>\n",
              "      <td>SIM</td>\n",
              "      <td>ALIMENTACAO</td>\n",
              "      <td>ALOJAMENTO E ALIMENTACAO</td>\n",
              "      <td>False</td>\n",
              "      <td>False</td>\n",
              "      <td>False</td>\n",
              "      <td>NaN</td>\n",
              "      <td>NaN</td>\n",
              "      <td>NaN</td>\n",
              "      <td>NaN</td>\n",
              "      <td>NaN</td>\n",
              "      <td>NaN</td>\n",
              "      <td>0.0</td>\n",
              "      <td>0.0</td>\n",
              "      <td>NaN</td>\n",
              "      <td>NaN</td>\n",
              "      <td>NaN</td>\n",
              "      <td>NaN</td>\n",
              "      <td>PI</td>\n",
              "      <td>CINZA</td>\n",
              "      <td>ATE 1 ANO</td>\n",
              "      <td>9.0</td>\n",
              "      <td>BAIXA</td>\n",
              "      <td>NaN</td>\n",
              "      <td>False</td>\n",
              "      <td>NaN</td>\n",
              "      <td>468.929993</td>\n",
              "      <td>CENTRO NORTE PIAUIENSE</td>\n",
              "      <td>TERESINA</td>\n",
              "      <td>True</td>\n",
              "      <td>1.0</td>\n",
              "      <td>1.0</td>\n",
              "      <td>0.0</td>\n",
              "      <td>27.0</td>\n",
              "      <td>27.0</td>\n",
              "      <td>27.0</td>\n",
              "      <td>1.0</td>\n",
              "      <td>NaN</td>\n",
              "      <td>1.0</td>\n",
              "      <td>NaN</td>\n",
              "      <td>NaN</td>\n",
              "      <td>NaN</td>\n",
              "      <td>NaN</td>\n",
              "      <td>NaN</td>\n",
              "      <td>NaN</td>\n",
              "      <td>NaN</td>\n",
              "      <td>NaN</td>\n",
              "      <td>NaN</td>\n",
              "      <td>NaN</td>\n",
              "      <td>NaN</td>\n",
              "      <td>NaN</td>\n",
              "      <td>NaN</td>\n",
              "      <td>NaN</td>\n",
              "      <td>NaN</td>\n",
              "      <td>NaN</td>\n",
              "      <td>NaN</td>\n",
              "      <td>NaN</td>\n",
              "      <td>NaN</td>\n",
              "      <td>NaN</td>\n",
              "      <td>NaN</td>\n",
              "      <td>NaN</td>\n",
              "      <td>NaN</td>\n",
              "      <td>NaN</td>\n",
              "      <td>NaN</td>\n",
              "      <td>NaN</td>\n",
              "      <td>NaN</td>\n",
              "      <td>NaN</td>\n",
              "      <td>NaN</td>\n",
              "      <td>NaN</td>\n",
              "      <td>NaN</td>\n",
              "      <td>NaN</td>\n",
              "      <td>NaN</td>\n",
              "      <td>NaN</td>\n",
              "      <td>NaN</td>\n",
              "      <td>NaN</td>\n",
              "      <td>NaN</td>\n",
              "      <td>NaN</td>\n",
              "      <td>NaN</td>\n",
              "      <td>NaN</td>\n",
              "      <td>NaN</td>\n",
              "      <td>NaN</td>\n",
              "      <td>NaN</td>\n",
              "      <td>NaN</td>\n",
              "      <td>NaN</td>\n",
              "      <td>NaN</td>\n",
              "      <td>NaN</td>\n",
              "      <td>NaN</td>\n",
              "      <td>NaN</td>\n",
              "      <td>NaN</td>\n",
              "      <td>NaN</td>\n",
              "      <td>NaN</td>\n",
              "      <td>NaN</td>\n",
              "      <td>NaN</td>\n",
              "      <td>NaN</td>\n",
              "      <td>NaN</td>\n",
              "      <td>NaN</td>\n",
              "      <td>NaN</td>\n",
              "      <td>NaN</td>\n",
              "      <td>NaN</td>\n",
              "      <td>NaN</td>\n",
              "      <td>NaN</td>\n",
              "      <td>NaN</td>\n",
              "      <td>NaN</td>\n",
              "      <td>NaN</td>\n",
              "      <td>NaN</td>\n",
              "      <td>NaN</td>\n",
              "      <td>NaN</td>\n",
              "      <td>NaN</td>\n",
              "      <td>NaN</td>\n",
              "      <td>NaN</td>\n",
              "      <td>NaN</td>\n",
              "      <td>NaN</td>\n",
              "      <td>NaN</td>\n",
              "      <td>NaN</td>\n",
              "      <td>NaN</td>\n",
              "      <td>NaN</td>\n",
              "      <td>NaN</td>\n",
              "      <td>NaN</td>\n",
              "      <td>NaN</td>\n",
              "      <td>NaN</td>\n",
              "      <td>NaN</td>\n",
              "      <td>DE R$ 81.000,01 A R$ 360.000,00</td>\n",
              "      <td>DE R$ 81.000,01 A R$ 360.000,00</td>\n",
              "      <td>210000.00</td>\n",
              "      <td>210000.00</td>\n",
              "      <td>NaN</td>\n",
              "      <td>NaN</td>\n",
              "      <td>NaN</td>\n",
              "      <td>NaN</td>\n",
              "      <td>NaN</td>\n",
              "      <td>NaN</td>\n",
              "      <td>NaN</td>\n",
              "      <td>NaN</td>\n",
              "      <td>NaN</td>\n",
              "      <td>NaN</td>\n",
              "      <td>NaN</td>\n",
              "      <td>NaN</td>\n",
              "      <td>NaN</td>\n",
              "      <td>NaN</td>\n",
              "      <td>NaN</td>\n",
              "      <td>NaN</td>\n",
              "      <td>NaN</td>\n",
              "      <td>NaN</td>\n",
              "      <td>NaN</td>\n",
              "      <td>NaN</td>\n",
              "      <td>NaN</td>\n",
              "      <td>NaN</td>\n",
              "      <td>NaN</td>\n",
              "      <td>NaN</td>\n",
              "      <td>NaN</td>\n",
              "      <td>NaN</td>\n",
              "      <td>NaN</td>\n",
              "      <td>NaN</td>\n",
              "      <td>NaN</td>\n",
              "      <td>NaN</td>\n",
              "      <td>NaN</td>\n",
              "      <td>NaN</td>\n",
              "      <td>NaN</td>\n",
              "      <td>NaN</td>\n",
              "      <td>NaN</td>\n",
              "      <td>NaN</td>\n",
              "      <td>NaN</td>\n",
              "      <td>0</td>\n",
              "    </tr>\n",
              "    <tr>\n",
              "      <th>2</th>\n",
              "      <td>2</td>\n",
              "      <td>4a7e5069a397f12fdd7fd57111d6dc5d3ba558958efc02...</td>\n",
              "      <td>True</td>\n",
              "      <td>EMPRESARIO INDIVIDUAL</td>\n",
              "      <td>AM</td>\n",
              "      <td>OUTROS</td>\n",
              "      <td>TRANSPORTE, ARMAZENAGEM E CORREIO</td>\n",
              "      <td>SERVIÇO</td>\n",
              "      <td>7.093151</td>\n",
              "      <td>5 a 10</td>\n",
              "      <td>False</td>\n",
              "      <td>False</td>\n",
              "      <td>False</td>\n",
              "      <td>True</td>\n",
              "      <td>False</td>\n",
              "      <td>2011-09-26</td>\n",
              "      <td>False</td>\n",
              "      <td>False</td>\n",
              "      <td>True</td>\n",
              "      <td>SIM</td>\n",
              "      <td>TRANSPORTE TERRESTRE</td>\n",
              "      <td>TRANSPORTE ARMAZENAGEM E CORREIO</td>\n",
              "      <td>False</td>\n",
              "      <td>False</td>\n",
              "      <td>False</td>\n",
              "      <td>NaN</td>\n",
              "      <td>NaN</td>\n",
              "      <td>NaN</td>\n",
              "      <td>NaN</td>\n",
              "      <td>True</td>\n",
              "      <td>NaN</td>\n",
              "      <td>0.0</td>\n",
              "      <td>0.0</td>\n",
              "      <td>NaN</td>\n",
              "      <td>NaN</td>\n",
              "      <td>NaN</td>\n",
              "      <td>True</td>\n",
              "      <td>AM</td>\n",
              "      <td>AMARELO</td>\n",
              "      <td>ACIMA DE 1 ANO</td>\n",
              "      <td>26.0</td>\n",
              "      <td>MEDIA</td>\n",
              "      <td>NaN</td>\n",
              "      <td>False</td>\n",
              "      <td>NaN</td>\n",
              "      <td>713.500000</td>\n",
              "      <td>CENTRO AMAZONENSE</td>\n",
              "      <td>MANAUS</td>\n",
              "      <td>True</td>\n",
              "      <td>1.0</td>\n",
              "      <td>1.0</td>\n",
              "      <td>0.0</td>\n",
              "      <td>32.0</td>\n",
              "      <td>32.0</td>\n",
              "      <td>32.0</td>\n",
              "      <td>NaN</td>\n",
              "      <td>1.0</td>\n",
              "      <td>1.0</td>\n",
              "      <td>NaN</td>\n",
              "      <td>NaN</td>\n",
              "      <td>NaN</td>\n",
              "      <td>NaN</td>\n",
              "      <td>NaN</td>\n",
              "      <td>NaN</td>\n",
              "      <td>NaN</td>\n",
              "      <td>NaN</td>\n",
              "      <td>NaN</td>\n",
              "      <td>NaN</td>\n",
              "      <td>NaN</td>\n",
              "      <td>NaN</td>\n",
              "      <td>NaN</td>\n",
              "      <td>NaN</td>\n",
              "      <td>NaN</td>\n",
              "      <td>NaN</td>\n",
              "      <td>NaN</td>\n",
              "      <td>NaN</td>\n",
              "      <td>NaN</td>\n",
              "      <td>NaN</td>\n",
              "      <td>NaN</td>\n",
              "      <td>NaN</td>\n",
              "      <td>NaN</td>\n",
              "      <td>NaN</td>\n",
              "      <td>NaN</td>\n",
              "      <td>NaN</td>\n",
              "      <td>NaN</td>\n",
              "      <td>NaN</td>\n",
              "      <td>NaN</td>\n",
              "      <td>NaN</td>\n",
              "      <td>NaN</td>\n",
              "      <td>NaN</td>\n",
              "      <td>NaN</td>\n",
              "      <td>NaN</td>\n",
              "      <td>NaN</td>\n",
              "      <td>NaN</td>\n",
              "      <td>NaN</td>\n",
              "      <td>NaN</td>\n",
              "      <td>NaN</td>\n",
              "      <td>NaN</td>\n",
              "      <td>NaN</td>\n",
              "      <td>NaN</td>\n",
              "      <td>NaN</td>\n",
              "      <td>NaN</td>\n",
              "      <td>NaN</td>\n",
              "      <td>NaN</td>\n",
              "      <td>NaN</td>\n",
              "      <td>NaN</td>\n",
              "      <td>NaN</td>\n",
              "      <td>NaN</td>\n",
              "      <td>NaN</td>\n",
              "      <td>NaN</td>\n",
              "      <td>NaN</td>\n",
              "      <td>NaN</td>\n",
              "      <td>NaN</td>\n",
              "      <td>NaN</td>\n",
              "      <td>NaN</td>\n",
              "      <td>NaN</td>\n",
              "      <td>NaN</td>\n",
              "      <td>NaN</td>\n",
              "      <td>NaN</td>\n",
              "      <td>NaN</td>\n",
              "      <td>NaN</td>\n",
              "      <td>NaN</td>\n",
              "      <td>NaN</td>\n",
              "      <td>NaN</td>\n",
              "      <td>NaN</td>\n",
              "      <td>NaN</td>\n",
              "      <td>NaN</td>\n",
              "      <td>NaN</td>\n",
              "      <td>NaN</td>\n",
              "      <td>NaN</td>\n",
              "      <td>NaN</td>\n",
              "      <td>NaN</td>\n",
              "      <td>NaN</td>\n",
              "      <td>NaN</td>\n",
              "      <td>NaN</td>\n",
              "      <td>NaN</td>\n",
              "      <td>NaN</td>\n",
              "      <td>NaN</td>\n",
              "      <td>NaN</td>\n",
              "      <td>NaN</td>\n",
              "      <td>ATE R$ 81.000,00</td>\n",
              "      <td>ATE R$ 81.000,00</td>\n",
              "      <td>50000.00</td>\n",
              "      <td>50000.00</td>\n",
              "      <td>NaN</td>\n",
              "      <td>NaN</td>\n",
              "      <td>NaN</td>\n",
              "      <td>NaN</td>\n",
              "      <td>NaN</td>\n",
              "      <td>NaN</td>\n",
              "      <td>NaN</td>\n",
              "      <td>NaN</td>\n",
              "      <td>NaN</td>\n",
              "      <td>NaN</td>\n",
              "      <td>NaN</td>\n",
              "      <td>NaN</td>\n",
              "      <td>NaN</td>\n",
              "      <td>NaN</td>\n",
              "      <td>NaN</td>\n",
              "      <td>NaN</td>\n",
              "      <td>NaN</td>\n",
              "      <td>NaN</td>\n",
              "      <td>NaN</td>\n",
              "      <td>NaN</td>\n",
              "      <td>NaN</td>\n",
              "      <td>NaN</td>\n",
              "      <td>NaN</td>\n",
              "      <td>NaN</td>\n",
              "      <td>NaN</td>\n",
              "      <td>NaN</td>\n",
              "      <td>NaN</td>\n",
              "      <td>NaN</td>\n",
              "      <td>NaN</td>\n",
              "      <td>NaN</td>\n",
              "      <td>NaN</td>\n",
              "      <td>NaN</td>\n",
              "      <td>NaN</td>\n",
              "      <td>NaN</td>\n",
              "      <td>NaN</td>\n",
              "      <td>NaN</td>\n",
              "      <td>NaN</td>\n",
              "      <td>0</td>\n",
              "    </tr>\n",
              "    <tr>\n",
              "      <th>3</th>\n",
              "      <td>3</td>\n",
              "      <td>3348900fe63216a439d2e5238c79ddd46ede454df7b9d8...</td>\n",
              "      <td>True</td>\n",
              "      <td>EMPRESARIO INDIVIDUAL</td>\n",
              "      <td>AM</td>\n",
              "      <td>OUTROS</td>\n",
              "      <td>SERVICOS DIVERSOS</td>\n",
              "      <td>SERVIÇO</td>\n",
              "      <td>6.512329</td>\n",
              "      <td>5 a 10</td>\n",
              "      <td>False</td>\n",
              "      <td>False</td>\n",
              "      <td>False</td>\n",
              "      <td>False</td>\n",
              "      <td>False</td>\n",
              "      <td>2012-04-25</td>\n",
              "      <td>False</td>\n",
              "      <td>True</td>\n",
              "      <td>True</td>\n",
              "      <td>SIM</td>\n",
              "      <td>REPARACAO E MANUTENCAO DE EQUIPAMENTOS DE INFO...</td>\n",
              "      <td>OUTRAS ATIVIDADES DE SERVICOS</td>\n",
              "      <td>False</td>\n",
              "      <td>False</td>\n",
              "      <td>False</td>\n",
              "      <td>NaN</td>\n",
              "      <td>NaN</td>\n",
              "      <td>NaN</td>\n",
              "      <td>NaN</td>\n",
              "      <td>True</td>\n",
              "      <td>NaN</td>\n",
              "      <td>0.0</td>\n",
              "      <td>0.0</td>\n",
              "      <td>NaN</td>\n",
              "      <td>NaN</td>\n",
              "      <td>NaN</td>\n",
              "      <td>False</td>\n",
              "      <td>AM</td>\n",
              "      <td>AMARELO</td>\n",
              "      <td>ACIMA DE 1 ANO</td>\n",
              "      <td>26.0</td>\n",
              "      <td>MEDIA</td>\n",
              "      <td>NaN</td>\n",
              "      <td>False</td>\n",
              "      <td>NaN</td>\n",
              "      <td>475.730011</td>\n",
              "      <td>CENTRO AMAZONENSE</td>\n",
              "      <td>MANAUS</td>\n",
              "      <td>True</td>\n",
              "      <td>1.0</td>\n",
              "      <td>1.0</td>\n",
              "      <td>0.0</td>\n",
              "      <td>36.0</td>\n",
              "      <td>36.0</td>\n",
              "      <td>36.0</td>\n",
              "      <td>1.0</td>\n",
              "      <td>NaN</td>\n",
              "      <td>1.0</td>\n",
              "      <td>NaN</td>\n",
              "      <td>NaN</td>\n",
              "      <td>NaN</td>\n",
              "      <td>NaN</td>\n",
              "      <td>NaN</td>\n",
              "      <td>NaN</td>\n",
              "      <td>NaN</td>\n",
              "      <td>NaN</td>\n",
              "      <td>NaN</td>\n",
              "      <td>NaN</td>\n",
              "      <td>NaN</td>\n",
              "      <td>NaN</td>\n",
              "      <td>NaN</td>\n",
              "      <td>NaN</td>\n",
              "      <td>NaN</td>\n",
              "      <td>NaN</td>\n",
              "      <td>NaN</td>\n",
              "      <td>NaN</td>\n",
              "      <td>NaN</td>\n",
              "      <td>NaN</td>\n",
              "      <td>NaN</td>\n",
              "      <td>NaN</td>\n",
              "      <td>NaN</td>\n",
              "      <td>NaN</td>\n",
              "      <td>NaN</td>\n",
              "      <td>NaN</td>\n",
              "      <td>NaN</td>\n",
              "      <td>NaN</td>\n",
              "      <td>NaN</td>\n",
              "      <td>NaN</td>\n",
              "      <td>NaN</td>\n",
              "      <td>NaN</td>\n",
              "      <td>NaN</td>\n",
              "      <td>NaN</td>\n",
              "      <td>NaN</td>\n",
              "      <td>NaN</td>\n",
              "      <td>NaN</td>\n",
              "      <td>NaN</td>\n",
              "      <td>NaN</td>\n",
              "      <td>NaN</td>\n",
              "      <td>NaN</td>\n",
              "      <td>NaN</td>\n",
              "      <td>NaN</td>\n",
              "      <td>NaN</td>\n",
              "      <td>NaN</td>\n",
              "      <td>NaN</td>\n",
              "      <td>NaN</td>\n",
              "      <td>NaN</td>\n",
              "      <td>NaN</td>\n",
              "      <td>NaN</td>\n",
              "      <td>NaN</td>\n",
              "      <td>NaN</td>\n",
              "      <td>NaN</td>\n",
              "      <td>NaN</td>\n",
              "      <td>NaN</td>\n",
              "      <td>NaN</td>\n",
              "      <td>NaN</td>\n",
              "      <td>NaN</td>\n",
              "      <td>NaN</td>\n",
              "      <td>NaN</td>\n",
              "      <td>NaN</td>\n",
              "      <td>NaN</td>\n",
              "      <td>NaN</td>\n",
              "      <td>NaN</td>\n",
              "      <td>NaN</td>\n",
              "      <td>NaN</td>\n",
              "      <td>NaN</td>\n",
              "      <td>NaN</td>\n",
              "      <td>NaN</td>\n",
              "      <td>NaN</td>\n",
              "      <td>NaN</td>\n",
              "      <td>NaN</td>\n",
              "      <td>NaN</td>\n",
              "      <td>NaN</td>\n",
              "      <td>NaN</td>\n",
              "      <td>NaN</td>\n",
              "      <td>NaN</td>\n",
              "      <td>NaN</td>\n",
              "      <td>NaN</td>\n",
              "      <td>NaN</td>\n",
              "      <td>NaN</td>\n",
              "      <td>NaN</td>\n",
              "      <td>DE R$ 81.000,01 A R$ 360.000,00</td>\n",
              "      <td>DE R$ 81.000,01 A R$ 360.000,00</td>\n",
              "      <td>210000.00</td>\n",
              "      <td>210000.00</td>\n",
              "      <td>NaN</td>\n",
              "      <td>NaN</td>\n",
              "      <td>NaN</td>\n",
              "      <td>NaN</td>\n",
              "      <td>NaN</td>\n",
              "      <td>NaN</td>\n",
              "      <td>NaN</td>\n",
              "      <td>NaN</td>\n",
              "      <td>NaN</td>\n",
              "      <td>NaN</td>\n",
              "      <td>NaN</td>\n",
              "      <td>NaN</td>\n",
              "      <td>NaN</td>\n",
              "      <td>NaN</td>\n",
              "      <td>NaN</td>\n",
              "      <td>NaN</td>\n",
              "      <td>NaN</td>\n",
              "      <td>NaN</td>\n",
              "      <td>NaN</td>\n",
              "      <td>NaN</td>\n",
              "      <td>NaN</td>\n",
              "      <td>NaN</td>\n",
              "      <td>NaN</td>\n",
              "      <td>NaN</td>\n",
              "      <td>NaN</td>\n",
              "      <td>NaN</td>\n",
              "      <td>NaN</td>\n",
              "      <td>NaN</td>\n",
              "      <td>NaN</td>\n",
              "      <td>NaN</td>\n",
              "      <td>NaN</td>\n",
              "      <td>NaN</td>\n",
              "      <td>NaN</td>\n",
              "      <td>NaN</td>\n",
              "      <td>NaN</td>\n",
              "      <td>NaN</td>\n",
              "      <td>NaN</td>\n",
              "      <td>0</td>\n",
              "    </tr>\n",
              "    <tr>\n",
              "      <th>4</th>\n",
              "      <td>4</td>\n",
              "      <td>1f9bcabc9d3173c1fe769899e4fac14b053037b953a1e4...</td>\n",
              "      <td>True</td>\n",
              "      <td>EMPRESARIO INDIVIDUAL</td>\n",
              "      <td>RN</td>\n",
              "      <td>OUTROS</td>\n",
              "      <td>SERVICOS PROFISSIONAIS, TECNICOS E CIENTIFICOS</td>\n",
              "      <td>SERVIÇO</td>\n",
              "      <td>3.200000</td>\n",
              "      <td>1 a 5</td>\n",
              "      <td>False</td>\n",
              "      <td>False</td>\n",
              "      <td>False</td>\n",
              "      <td>False</td>\n",
              "      <td>False</td>\n",
              "      <td>2015-08-17</td>\n",
              "      <td>False</td>\n",
              "      <td>True</td>\n",
              "      <td>True</td>\n",
              "      <td>SIM</td>\n",
              "      <td>SERVICOS DE ARQUITETURA E ENGENHARIA TESTES E ...</td>\n",
              "      <td>ATIVIDADES PROFISSIONAIS CIENTIFICAS E TECNICAS</td>\n",
              "      <td>False</td>\n",
              "      <td>False</td>\n",
              "      <td>False</td>\n",
              "      <td>NaN</td>\n",
              "      <td>NaN</td>\n",
              "      <td>NaN</td>\n",
              "      <td>NaN</td>\n",
              "      <td>True</td>\n",
              "      <td>NaN</td>\n",
              "      <td>0.0</td>\n",
              "      <td>0.0</td>\n",
              "      <td>NaN</td>\n",
              "      <td>NaN</td>\n",
              "      <td>NaN</td>\n",
              "      <td>False</td>\n",
              "      <td>RN</td>\n",
              "      <td>VERDE</td>\n",
              "      <td>ACIMA DE 1 ANO</td>\n",
              "      <td>27.0</td>\n",
              "      <td>ALTA</td>\n",
              "      <td>NaN</td>\n",
              "      <td>False</td>\n",
              "      <td>NaN</td>\n",
              "      <td>2874.040039</td>\n",
              "      <td>LESTE POTIGUAR</td>\n",
              "      <td>NATAL</td>\n",
              "      <td>True</td>\n",
              "      <td>1.0</td>\n",
              "      <td>1.0</td>\n",
              "      <td>0.0</td>\n",
              "      <td>NaN</td>\n",
              "      <td>NaN</td>\n",
              "      <td>NaN</td>\n",
              "      <td>NaN</td>\n",
              "      <td>NaN</td>\n",
              "      <td>NaN</td>\n",
              "      <td>NaN</td>\n",
              "      <td>NaN</td>\n",
              "      <td>NaN</td>\n",
              "      <td>NaN</td>\n",
              "      <td>NaN</td>\n",
              "      <td>NaN</td>\n",
              "      <td>NaN</td>\n",
              "      <td>NaN</td>\n",
              "      <td>NaN</td>\n",
              "      <td>NaN</td>\n",
              "      <td>NaN</td>\n",
              "      <td>NaN</td>\n",
              "      <td>NaN</td>\n",
              "      <td>NaN</td>\n",
              "      <td>NaN</td>\n",
              "      <td>NaN</td>\n",
              "      <td>NaN</td>\n",
              "      <td>NaN</td>\n",
              "      <td>NaN</td>\n",
              "      <td>NaN</td>\n",
              "      <td>NaN</td>\n",
              "      <td>NaN</td>\n",
              "      <td>NaN</td>\n",
              "      <td>NaN</td>\n",
              "      <td>NaN</td>\n",
              "      <td>NaN</td>\n",
              "      <td>NaN</td>\n",
              "      <td>NaN</td>\n",
              "      <td>NaN</td>\n",
              "      <td>NaN</td>\n",
              "      <td>NaN</td>\n",
              "      <td>NaN</td>\n",
              "      <td>NaN</td>\n",
              "      <td>NaN</td>\n",
              "      <td>NaN</td>\n",
              "      <td>NaN</td>\n",
              "      <td>NaN</td>\n",
              "      <td>NaN</td>\n",
              "      <td>NaN</td>\n",
              "      <td>NaN</td>\n",
              "      <td>NaN</td>\n",
              "      <td>NaN</td>\n",
              "      <td>NaN</td>\n",
              "      <td>NaN</td>\n",
              "      <td>NaN</td>\n",
              "      <td>NaN</td>\n",
              "      <td>NaN</td>\n",
              "      <td>NaN</td>\n",
              "      <td>NaN</td>\n",
              "      <td>NaN</td>\n",
              "      <td>NaN</td>\n",
              "      <td>NaN</td>\n",
              "      <td>NaN</td>\n",
              "      <td>NaN</td>\n",
              "      <td>NaN</td>\n",
              "      <td>NaN</td>\n",
              "      <td>NaN</td>\n",
              "      <td>NaN</td>\n",
              "      <td>NaN</td>\n",
              "      <td>NaN</td>\n",
              "      <td>NaN</td>\n",
              "      <td>NaN</td>\n",
              "      <td>NaN</td>\n",
              "      <td>NaN</td>\n",
              "      <td>NaN</td>\n",
              "      <td>NaN</td>\n",
              "      <td>NaN</td>\n",
              "      <td>NaN</td>\n",
              "      <td>NaN</td>\n",
              "      <td>NaN</td>\n",
              "      <td>NaN</td>\n",
              "      <td>NaN</td>\n",
              "      <td>NaN</td>\n",
              "      <td>NaN</td>\n",
              "      <td>NaN</td>\n",
              "      <td>NaN</td>\n",
              "      <td>NaN</td>\n",
              "      <td>NaN</td>\n",
              "      <td>NaN</td>\n",
              "      <td>NaN</td>\n",
              "      <td>NaN</td>\n",
              "      <td>NaN</td>\n",
              "      <td>DE R$ 81.000,01 A R$ 360.000,00</td>\n",
              "      <td>DE R$ 81.000,01 A R$ 360.000,00</td>\n",
              "      <td>210000.00</td>\n",
              "      <td>210000.00</td>\n",
              "      <td>NaN</td>\n",
              "      <td>NaN</td>\n",
              "      <td>NaN</td>\n",
              "      <td>NaN</td>\n",
              "      <td>NaN</td>\n",
              "      <td>NaN</td>\n",
              "      <td>NaN</td>\n",
              "      <td>NaN</td>\n",
              "      <td>NaN</td>\n",
              "      <td>NaN</td>\n",
              "      <td>NaN</td>\n",
              "      <td>NaN</td>\n",
              "      <td>NaN</td>\n",
              "      <td>NaN</td>\n",
              "      <td>NaN</td>\n",
              "      <td>NaN</td>\n",
              "      <td>NaN</td>\n",
              "      <td>NaN</td>\n",
              "      <td>NaN</td>\n",
              "      <td>NaN</td>\n",
              "      <td>NaN</td>\n",
              "      <td>NaN</td>\n",
              "      <td>NaN</td>\n",
              "      <td>NaN</td>\n",
              "      <td>NaN</td>\n",
              "      <td>NaN</td>\n",
              "      <td>NaN</td>\n",
              "      <td>NaN</td>\n",
              "      <td>NaN</td>\n",
              "      <td>NaN</td>\n",
              "      <td>NaN</td>\n",
              "      <td>NaN</td>\n",
              "      <td>NaN</td>\n",
              "      <td>NaN</td>\n",
              "      <td>NaN</td>\n",
              "      <td>NaN</td>\n",
              "      <td>NaN</td>\n",
              "      <td>0</td>\n",
              "    </tr>\n",
              "  </tbody>\n",
              "</table>\n",
              "</div>"
            ],
            "text/plain": [
              "   Unnamed: 0                                                 id  fl_matriz  \\\n",
              "0           0  a6984c3ae395090e3bee8ad63c3758b110de096d5d8195...       True   \n",
              "1           1  6178f41ade1365e44bc2c46654c2c8c0eaae27dcb476c4...       True   \n",
              "2           2  4a7e5069a397f12fdd7fd57111d6dc5d3ba558958efc02...       True   \n",
              "3           3  3348900fe63216a439d2e5238c79ddd46ede454df7b9d8...       True   \n",
              "4           4  1f9bcabc9d3173c1fe769899e4fac14b053037b953a1e4...       True   \n",
              "\n",
              "            de_natureza_juridica sg_uf natureza_juridica_macro  \\\n",
              "0  SOCIEDADE EMPRESARIA LIMITADA    RN  ENTIDADES EMPRESARIAIS   \n",
              "1          EMPRESARIO INDIVIDUAL    PI                  OUTROS   \n",
              "2          EMPRESARIO INDIVIDUAL    AM                  OUTROS   \n",
              "3          EMPRESARIO INDIVIDUAL    AM                  OUTROS   \n",
              "4          EMPRESARIO INDIVIDUAL    RN                  OUTROS   \n",
              "\n",
              "                                          de_ramo             setor  \\\n",
              "0                         INDUSTRIA DA CONSTRUCAO  CONSTRUÇÃO CIVIL   \n",
              "1              SERVICOS DE ALOJAMENTO/ALIMENTACAO           SERVIÇO   \n",
              "2               TRANSPORTE, ARMAZENAGEM E CORREIO           SERVIÇO   \n",
              "3                               SERVICOS DIVERSOS           SERVIÇO   \n",
              "4  SERVICOS PROFISSIONAIS, TECNICOS E CIENTIFICOS           SERVIÇO   \n",
              "\n",
              "   idade_empresa_anos idade_emp_cat  fl_me  fl_sa  fl_epp  fl_mei  fl_ltda  \\\n",
              "0           14.457534       10 a 15  False  False   False   False    False   \n",
              "1            1.463014         1 a 5  False  False   False    True    False   \n",
              "2            7.093151        5 a 10  False  False   False    True    False   \n",
              "3            6.512329        5 a 10  False  False   False   False    False   \n",
              "4            3.200000         1 a 5  False  False   False   False    False   \n",
              "\n",
              "  dt_situacao  fl_st_especial  fl_email  fl_telefone fl_rm  \\\n",
              "0  2005-03-25           False      True         True   SIM   \n",
              "1  2017-05-12           False      True         True   SIM   \n",
              "2  2011-09-26           False     False         True   SIM   \n",
              "3  2012-04-25           False      True         True   SIM   \n",
              "4  2015-08-17           False      True         True   SIM   \n",
              "\n",
              "                                          nm_divisao  \\\n",
              "0                            CONSTRUCAO DE EDIFICIOS   \n",
              "1                                        ALIMENTACAO   \n",
              "2                               TRANSPORTE TERRESTRE   \n",
              "3  REPARACAO E MANUTENCAO DE EQUIPAMENTOS DE INFO...   \n",
              "4  SERVICOS DE ARQUITETURA E ENGENHARIA TESTES E ...   \n",
              "\n",
              "                                       nm_segmento fl_spa fl_antt fl_veiculo  \\\n",
              "0                                       CONSTRUCAO  False   False      False   \n",
              "1                         ALOJAMENTO E ALIMENTACAO  False   False      False   \n",
              "2                 TRANSPORTE ARMAZENAGEM E CORREIO  False   False      False   \n",
              "3                    OUTRAS ATIVIDADES DE SERVICOS  False   False      False   \n",
              "4  ATIVIDADES PROFISSIONAIS CIENTIFICAS E TECNICAS  False   False      False   \n",
              "\n",
              "   vl_total_tancagem  vl_total_veiculos_antt  vl_total_veiculos_leves  \\\n",
              "0                NaN                     NaN                      NaN   \n",
              "1                NaN                     NaN                      NaN   \n",
              "2                NaN                     NaN                      NaN   \n",
              "3                NaN                     NaN                      NaN   \n",
              "4                NaN                     NaN                      NaN   \n",
              "\n",
              "   vl_total_veiculos_pesados fl_optante_simples  qt_art  \\\n",
              "0                        NaN               True     8.0   \n",
              "1                        NaN                NaN     NaN   \n",
              "2                        NaN               True     NaN   \n",
              "3                        NaN               True     NaN   \n",
              "4                        NaN               True     NaN   \n",
              "\n",
              "   vl_total_veiculos_pesados_grupo  vl_total_veiculos_leves_grupo  \\\n",
              "0                              0.0                            0.0   \n",
              "1                              0.0                            0.0   \n",
              "2                              0.0                            0.0   \n",
              "3                              0.0                            0.0   \n",
              "4                              0.0                            0.0   \n",
              "\n",
              "   vl_total_tancagem_grupo  vl_total_veiculos_antt_grupo  \\\n",
              "0                      NaN                           NaN   \n",
              "1                      NaN                           NaN   \n",
              "2                      NaN                           NaN   \n",
              "3                      NaN                           NaN   \n",
              "4                      NaN                           NaN   \n",
              "\n",
              "   vl_potenc_cons_oleo_gas fl_optante_simei sg_uf_matriz de_saude_tributaria  \\\n",
              "0                      NaN            False           RN               VERDE   \n",
              "1                      NaN              NaN           PI               CINZA   \n",
              "2                      NaN             True           AM             AMARELO   \n",
              "3                      NaN            False           AM             AMARELO   \n",
              "4                      NaN            False           RN               VERDE   \n",
              "\n",
              "  de_saude_rescencia  nu_meses_rescencia de_nivel_atividade  \\\n",
              "0     ACIMA DE 1 ANO                23.0               ALTA   \n",
              "1          ATE 1 ANO                 9.0              BAIXA   \n",
              "2     ACIMA DE 1 ANO                26.0              MEDIA   \n",
              "3     ACIMA DE 1 ANO                26.0              MEDIA   \n",
              "4     ACIMA DE 1 ANO                27.0               ALTA   \n",
              "\n",
              "  de_indicador_telefone fl_simples_irregular  vl_frota  \\\n",
              "0                   BOA                False       NaN   \n",
              "1                   NaN                False       NaN   \n",
              "2                   NaN                False       NaN   \n",
              "3                   NaN                False       NaN   \n",
              "4                   NaN                False       NaN   \n",
              "\n",
              "   empsetorcensitariofaixarendapopulacao          nm_meso_regiao  \\\n",
              "0                                    NaN          LESTE POTIGUAR   \n",
              "1                             468.929993  CENTRO NORTE PIAUIENSE   \n",
              "2                             713.500000       CENTRO AMAZONENSE   \n",
              "3                             475.730011       CENTRO AMAZONENSE   \n",
              "4                            2874.040039          LESTE POTIGUAR   \n",
              "\n",
              "  nm_micro_regiao fl_passivel_iss  qt_socios  qt_socios_pf  qt_socios_pj  \\\n",
              "0           NATAL            True        2.0           2.0           0.0   \n",
              "1        TERESINA            True        1.0           1.0           0.0   \n",
              "2          MANAUS            True        1.0           1.0           0.0   \n",
              "3          MANAUS            True        1.0           1.0           0.0   \n",
              "4           NATAL            True        1.0           1.0           0.0   \n",
              "\n",
              "   idade_media_socios  idade_maxima_socios  idade_minima_socios  \\\n",
              "0                44.0                 47.0                 41.0   \n",
              "1                27.0                 27.0                 27.0   \n",
              "2                32.0                 32.0                 32.0   \n",
              "3                36.0                 36.0                 36.0   \n",
              "4                 NaN                  NaN                  NaN   \n",
              "\n",
              "   qt_socios_st_regular  qt_socios_st_suspensa  qt_socios_masculino  \\\n",
              "0                   2.0                    NaN                  2.0   \n",
              "1                   1.0                    NaN                  1.0   \n",
              "2                   NaN                    1.0                  1.0   \n",
              "3                   1.0                    NaN                  1.0   \n",
              "4                   NaN                    NaN                  NaN   \n",
              "\n",
              "   qt_socios_feminino  qt_socios_pep  qt_alteracao_socio_total  \\\n",
              "0                 NaN            NaN                       NaN   \n",
              "1                 NaN            NaN                       NaN   \n",
              "2                 NaN            NaN                       NaN   \n",
              "3                 NaN            NaN                       NaN   \n",
              "4                 NaN            NaN                       NaN   \n",
              "\n",
              "   qt_alteracao_socio_90d  qt_alteracao_socio_180d  qt_alteracao_socio_365d  \\\n",
              "0                     NaN                      NaN                      NaN   \n",
              "1                     NaN                      NaN                      NaN   \n",
              "2                     NaN                      NaN                      NaN   \n",
              "3                     NaN                      NaN                      NaN   \n",
              "4                     NaN                      NaN                      NaN   \n",
              "\n",
              "   qt_socios_pj_ativos  qt_socios_pj_nulos  qt_socios_pj_baixados  \\\n",
              "0                  NaN                 NaN                    NaN   \n",
              "1                  NaN                 NaN                    NaN   \n",
              "2                  NaN                 NaN                    NaN   \n",
              "3                  NaN                 NaN                    NaN   \n",
              "4                  NaN                 NaN                    NaN   \n",
              "\n",
              "   qt_socios_pj_suspensos  qt_socios_pj_inaptos  vl_idade_media_socios_pj  \\\n",
              "0                     NaN                   NaN                       NaN   \n",
              "1                     NaN                   NaN                       NaN   \n",
              "2                     NaN                   NaN                       NaN   \n",
              "3                     NaN                   NaN                       NaN   \n",
              "4                     NaN                   NaN                       NaN   \n",
              "\n",
              "   vl_idade_maxima_socios_pj  vl_idade_minima_socios_pj  qt_coligados  \\\n",
              "0                        NaN                        NaN           6.0   \n",
              "1                        NaN                        NaN           NaN   \n",
              "2                        NaN                        NaN           NaN   \n",
              "3                        NaN                        NaN           NaN   \n",
              "4                        NaN                        NaN           NaN   \n",
              "\n",
              "   qt_socios_coligados  qt_coligados_matriz  qt_coligados_ativo  \\\n",
              "0                  8.0                  6.0                 6.0   \n",
              "1                  NaN                  NaN                 NaN   \n",
              "2                  NaN                  NaN                 NaN   \n",
              "3                  NaN                  NaN                 NaN   \n",
              "4                  NaN                  NaN                 NaN   \n",
              "\n",
              "   qt_coligados_baixada  qt_coligados_inapta  qt_coligados_suspensa  \\\n",
              "0                   0.0                  0.0                    0.0   \n",
              "1                   NaN                  NaN                    NaN   \n",
              "2                   NaN                  NaN                    NaN   \n",
              "3                   NaN                  NaN                    NaN   \n",
              "4                   NaN                  NaN                    NaN   \n",
              "\n",
              "   qt_coligados_nula  idade_media_coligadas  idade_maxima_coligadas  \\\n",
              "0                0.0             220.477783              536.366638   \n",
              "1                NaN                    NaN                     NaN   \n",
              "2                NaN                    NaN                     NaN   \n",
              "3                NaN                    NaN                     NaN   \n",
              "4                NaN                    NaN                     NaN   \n",
              "\n",
              "   idade_minima_coligadas  coligada_mais_nova_ativa  \\\n",
              "0               57.299999                 57.299999   \n",
              "1                     NaN                       NaN   \n",
              "2                     NaN                       NaN   \n",
              "3                     NaN                       NaN   \n",
              "4                     NaN                       NaN   \n",
              "\n",
              "   coligada_mais_antiga_ativa  idade_media_coligadas_ativas  \\\n",
              "0                  536.366638                    220.477783   \n",
              "1                         NaN                           NaN   \n",
              "2                         NaN                           NaN   \n",
              "3                         NaN                           NaN   \n",
              "4                         NaN                           NaN   \n",
              "\n",
              "   coligada_mais_nova_baixada  coligada_mais_antiga_baixada  \\\n",
              "0                         NaN                           NaN   \n",
              "1                         NaN                           NaN   \n",
              "2                         NaN                           NaN   \n",
              "3                         NaN                           NaN   \n",
              "4                         NaN                           NaN   \n",
              "\n",
              "   idade_media_coligadas_baixadas  qt_coligados_sa  qt_coligados_me  \\\n",
              "0                             NaN              0.0              0.0   \n",
              "1                             NaN              NaN              NaN   \n",
              "2                             NaN              NaN              NaN   \n",
              "3                             NaN              NaN              NaN   \n",
              "4                             NaN              NaN              NaN   \n",
              "\n",
              "   qt_coligados_mei  qt_coligados_ltda  qt_coligados_epp  qt_coligados_norte  \\\n",
              "0               0.0                0.0               0.0                 0.0   \n",
              "1               NaN                NaN               NaN                 NaN   \n",
              "2               NaN                NaN               NaN                 NaN   \n",
              "3               NaN                NaN               NaN                 NaN   \n",
              "4               NaN                NaN               NaN                 NaN   \n",
              "\n",
              "   qt_coligados_sul  qt_coligados_nordeste  qt_coligados_centro  \\\n",
              "0               0.0                    6.0                  0.0   \n",
              "1               NaN                    NaN                  NaN   \n",
              "2               NaN                    NaN                  NaN   \n",
              "3               NaN                    NaN                  NaN   \n",
              "4               NaN                    NaN                  NaN   \n",
              "\n",
              "   qt_coligados_sudeste  qt_coligados_exterior  qt_ufs_coligados  \\\n",
              "0                   0.0                    0.0               2.0   \n",
              "1                   NaN                    NaN               NaN   \n",
              "2                   NaN                    NaN               NaN   \n",
              "3                   NaN                    NaN               NaN   \n",
              "4                   NaN                    NaN               NaN   \n",
              "\n",
              "   qt_regioes_coligados  qt_ramos_coligados  qt_coligados_industria  \\\n",
              "0                   1.0                 5.0                     0.0   \n",
              "1                   NaN                 NaN                     NaN   \n",
              "2                   NaN                 NaN                     NaN   \n",
              "3                   NaN                 NaN                     NaN   \n",
              "4                   NaN                 NaN                     NaN   \n",
              "\n",
              "   qt_coligados_agropecuaria  qt_coligados_comercio  qt_coligados_serviço  \\\n",
              "0                        0.0                    1.0                   5.0   \n",
              "1                        NaN                    NaN                   NaN   \n",
              "2                        NaN                    NaN                   NaN   \n",
              "3                        NaN                    NaN                   NaN   \n",
              "4                        NaN                    NaN                   NaN   \n",
              "\n",
              "   qt_coligados_ccivil  qt_funcionarios_coligados  \\\n",
              "0                  0.0                      145.0   \n",
              "1                  NaN                        NaN   \n",
              "2                  NaN                        NaN   \n",
              "3                  NaN                        NaN   \n",
              "4                  NaN                        NaN   \n",
              "\n",
              "   qt_funcionarios_coligados_gp  media_funcionarios_coligados_gp  \\\n",
              "0                         145.0                            36.25   \n",
              "1                           NaN                              NaN   \n",
              "2                           NaN                              NaN   \n",
              "3                           NaN                              NaN   \n",
              "4                           NaN                              NaN   \n",
              "\n",
              "   max_funcionarios_coligados_gp  min_funcionarios_coligados_gp  \\\n",
              "0                           91.0                            6.0   \n",
              "1                            NaN                            NaN   \n",
              "2                            NaN                            NaN   \n",
              "3                            NaN                            NaN   \n",
              "4                            NaN                            NaN   \n",
              "\n",
              "   vl_folha_coligados  media_vl_folha_coligados  max_vl_folha_coligados  \\\n",
              "0           9375912.0                 2343978.0               5275238.5   \n",
              "1                 NaN                       NaN                     NaN   \n",
              "2                 NaN                       NaN                     NaN   \n",
              "3                 NaN                       NaN                     NaN   \n",
              "4                 NaN                       NaN                     NaN   \n",
              "\n",
              "   min_vl_folha_coligados  vl_folha_coligados_gp  media_vl_folha_coligados_gp  \\\n",
              "0              638798.375              9375912.0                    2343978.0   \n",
              "1                     NaN                    NaN                          NaN   \n",
              "2                     NaN                    NaN                          NaN   \n",
              "3                     NaN                    NaN                          NaN   \n",
              "4                     NaN                    NaN                          NaN   \n",
              "\n",
              "   max_vl_folha_coligados_gp  min_vl_folha_coligados_gp  \\\n",
              "0                  5275238.5                 638798.375   \n",
              "1                        NaN                        NaN   \n",
              "2                        NaN                        NaN   \n",
              "3                        NaN                        NaN   \n",
              "4                        NaN                        NaN   \n",
              "\n",
              "   faturamento_est_coligados  media_faturamento_est_coligados  \\\n",
              "0                 21809444.0                       3634907.25   \n",
              "1                        NaN                              NaN   \n",
              "2                        NaN                              NaN   \n",
              "3                        NaN                              NaN   \n",
              "4                        NaN                              NaN   \n",
              "\n",
              "   max_faturamento_est_coligados  min_faturamento_est_coligados  \\\n",
              "0                     13188096.0                       210000.0   \n",
              "1                            NaN                            NaN   \n",
              "2                            NaN                            NaN   \n",
              "3                            NaN                            NaN   \n",
              "4                            NaN                            NaN   \n",
              "\n",
              "   faturamento_est_coligados_gp  media_faturamento_est_coligados_gp  \\\n",
              "0                    22019444.0                          3669907.25   \n",
              "1                           NaN                                 NaN   \n",
              "2                           NaN                                 NaN   \n",
              "3                           NaN                                 NaN   \n",
              "4                           NaN                                 NaN   \n",
              "\n",
              "   max_faturamento_est_coligados_gp  min_faturamento_est_coligados_gp  \\\n",
              "0                        13188096.0                          210000.0   \n",
              "1                               NaN                               NaN   \n",
              "2                               NaN                               NaN   \n",
              "3                               NaN                               NaN   \n",
              "4                               NaN                               NaN   \n",
              "\n",
              "   total_filiais_coligados  media_filiais_coligados  max_filiais_coligados  \\\n",
              "0                      1.0                      1.0                    1.0   \n",
              "1                      NaN                      NaN                    NaN   \n",
              "2                      NaN                      NaN                    NaN   \n",
              "3                      NaN                      NaN                    NaN   \n",
              "4                      NaN                      NaN                    NaN   \n",
              "\n",
              "   min_filiais_coligados  qt_coligados_atividade_alto  \\\n",
              "0                    1.0                          0.0   \n",
              "1                    NaN                          NaN   \n",
              "2                    NaN                          NaN   \n",
              "3                    NaN                          NaN   \n",
              "4                    NaN                          NaN   \n",
              "\n",
              "   qt_coligados_atividade_medio  qt_coligados_atividade_baixo  \\\n",
              "0                           0.0                           0.0   \n",
              "1                           NaN                           NaN   \n",
              "2                           NaN                           NaN   \n",
              "3                           NaN                           NaN   \n",
              "4                           NaN                           NaN   \n",
              "\n",
              "   qt_coligados_atividade_mt_baixo  qt_coligados_atividade_inativo  \\\n",
              "0                              0.0                             0.0   \n",
              "1                              NaN                             NaN   \n",
              "2                              NaN                             NaN   \n",
              "3                              NaN                             NaN   \n",
              "4                              NaN                             NaN   \n",
              "\n",
              "   qt_coligadas  sum_faturamento_estimado_coligadas  \\\n",
              "0           6.0                          21809444.0   \n",
              "1           NaN                                 NaN   \n",
              "2           NaN                                 NaN   \n",
              "3           NaN                                 NaN   \n",
              "4           NaN                                 NaN   \n",
              "\n",
              "          de_faixa_faturamento_estimado   de_faixa_faturamento_estimado_grupo  \\\n",
              "0  DE R$ 1.500.000,01 A R$ 4.800.000,00  DE R$ 1.500.000,01 A R$ 4.800.000,00   \n",
              "1       DE R$ 81.000,01 A R$ 360.000,00       DE R$ 81.000,01 A R$ 360.000,00   \n",
              "2                      ATE R$ 81.000,00                      ATE R$ 81.000,00   \n",
              "3       DE R$ 81.000,01 A R$ 360.000,00       DE R$ 81.000,01 A R$ 360.000,00   \n",
              "4       DE R$ 81.000,01 A R$ 360.000,00       DE R$ 81.000,01 A R$ 360.000,00   \n",
              "\n",
              "   vl_faturamento_estimado_aux  vl_faturamento_estimado_grupo_aux  \\\n",
              "0                   3132172.75                         3132172.75   \n",
              "1                    210000.00                          210000.00   \n",
              "2                     50000.00                           50000.00   \n",
              "3                    210000.00                          210000.00   \n",
              "4                    210000.00                          210000.00   \n",
              "\n",
              "   qt_ex_funcionarios  qt_funcionarios_grupo  percent_func_genero_masc  \\\n",
              "0               119.0                   26.0                     100.0   \n",
              "1                 NaN                    NaN                       NaN   \n",
              "2                 NaN                    NaN                       NaN   \n",
              "3                 NaN                    NaN                       NaN   \n",
              "4                 NaN                    NaN                       NaN   \n",
              "\n",
              "   percent_func_genero_fem  idade_ate_18  idade_de_19_a_23  idade_de_24_a_28  \\\n",
              "0                      0.0           NaN               1.0               4.0   \n",
              "1                      NaN           NaN               NaN               NaN   \n",
              "2                      NaN           NaN               NaN               NaN   \n",
              "3                      NaN           NaN               NaN               NaN   \n",
              "4                      NaN           NaN               NaN               NaN   \n",
              "\n",
              "   idade_de_29_a_33  idade_de_34_a_38  idade_de_39_a_43  idade_de_44_a_48  \\\n",
              "0               6.0               5.0               3.0               4.0   \n",
              "1               NaN               NaN               NaN               NaN   \n",
              "2               NaN               NaN               NaN               NaN   \n",
              "3               NaN               NaN               NaN               NaN   \n",
              "4               NaN               NaN               NaN               NaN   \n",
              "\n",
              "   idade_de_49_a_53  idade_de_54_a_58  idade_acima_de_58  \\\n",
              "0               2.0               NaN                1.0   \n",
              "1               NaN               NaN                NaN   \n",
              "2               NaN               NaN                NaN   \n",
              "3               NaN               NaN                NaN   \n",
              "4               NaN               NaN                NaN   \n",
              "\n",
              "   grau_instrucao_macro_analfabeto  \\\n",
              "0                              NaN   \n",
              "1                              NaN   \n",
              "2                              NaN   \n",
              "3                              NaN   \n",
              "4                              NaN   \n",
              "\n",
              "   grau_instrucao_macro_escolaridade_fundamental  \\\n",
              "0                                            1.0   \n",
              "1                                            NaN   \n",
              "2                                            NaN   \n",
              "3                                            NaN   \n",
              "4                                            NaN   \n",
              "\n",
              "   grau_instrucao_macro_escolaridade_media  \\\n",
              "0                                     25.0   \n",
              "1                                      NaN   \n",
              "2                                      NaN   \n",
              "3                                      NaN   \n",
              "4                                      NaN   \n",
              "\n",
              "   grau_instrucao_macro_escolaridade_superior  \\\n",
              "0                                         NaN   \n",
              "1                                         NaN   \n",
              "2                                         NaN   \n",
              "3                                         NaN   \n",
              "4                                         NaN   \n",
              "\n",
              "   grau_instrucao_macro_desconhecido  total  meses_ultima_contratacaco  \\\n",
              "0                                NaN   26.0                  19.166666   \n",
              "1                                NaN    NaN                        NaN   \n",
              "2                                NaN    NaN                        NaN   \n",
              "3                                NaN    NaN                        NaN   \n",
              "4                                NaN    NaN                        NaN   \n",
              "\n",
              "   qt_admitidos_12meses  qt_desligados_12meses  qt_desligados  qt_admitidos  \\\n",
              "0                   0.0                    0.0          119.0         145.0   \n",
              "1                   NaN                    NaN            NaN           NaN   \n",
              "2                   NaN                    NaN            NaN           NaN   \n",
              "3                   NaN                    NaN            NaN           NaN   \n",
              "4                   NaN                    NaN            NaN           NaN   \n",
              "\n",
              "   media_meses_servicos_all  max_meses_servicos_all  min_meses_servicos_all  \\\n",
              "0                 13.309196                93.26667               -0.933333   \n",
              "1                       NaN                     NaN                     NaN   \n",
              "2                       NaN                     NaN                     NaN   \n",
              "3                       NaN                     NaN                     NaN   \n",
              "4                       NaN                     NaN                     NaN   \n",
              "\n",
              "   media_meses_servicos  max_meses_servicos  min_meses_servicos  \\\n",
              "0             43.738461            93.26667           19.166666   \n",
              "1                   NaN                 NaN                 NaN   \n",
              "2                   NaN                 NaN                 NaN   \n",
              "3                   NaN                 NaN                 NaN   \n",
              "4                   NaN                 NaN                 NaN   \n",
              "\n",
              "   qt_funcionarios  qt_funcionarios_12meses  qt_funcionarios_24meses  \\\n",
              "0             26.0                     26.0                     27.0   \n",
              "1              NaN                      NaN                      NaN   \n",
              "2              NaN                      NaN                      NaN   \n",
              "3              NaN                      NaN                      NaN   \n",
              "4              NaN                      NaN                      NaN   \n",
              "\n",
              "   tx_crescimento_12meses  tx_crescimento_24meses  tx_rotatividade  qt_filiais  \n",
              "0                     0.0               -3.703704              0.0           0  \n",
              "1                     NaN                     NaN              NaN           0  \n",
              "2                     NaN                     NaN              NaN           0  \n",
              "3                     NaN                     NaN              NaN           0  \n",
              "4                     NaN                     NaN              NaN           0  "
            ]
          },
          "metadata": {
            "tags": []
          },
          "execution_count": 5
        }
      ]
    },
    {
      "cell_type": "markdown",
      "metadata": {
        "id": "mCmeddmBH76_",
        "colab_type": "text"
      },
      "source": [
        "## Droping columns"
      ]
    },
    {
      "cell_type": "markdown",
      "metadata": {
        "id": "YJtTZX9TddKy",
        "colab_type": "text"
      },
      "source": [
        "### Dropping useless columns"
      ]
    },
    {
      "cell_type": "code",
      "metadata": {
        "id": "J7gsaAsVL4Tn",
        "colab_type": "code",
        "colab": {}
      },
      "source": [
        "try:\n",
        "  mkt.drop(\"Unnamed: 0\", axis=1, inplace=True)\n",
        "  port1.drop(\"Unnamed: 0\", axis=1, inplace=True)\n",
        "  port2.drop(\"Unnamed: 0\", axis=1, inplace=True)\n",
        "  port3.drop(\"Unnamed: 0\", axis=1, inplace=True)\n",
        "except:\n",
        "  print(\"Already droped\")"
      ],
      "execution_count": null,
      "outputs": []
    },
    {
      "cell_type": "code",
      "metadata": {
        "id": "AJsxNrvJIUKa",
        "colab_type": "code",
        "colab": {
          "base_uri": "https://localhost:8080/",
          "height": 102
        },
        "outputId": "280d6343-5582-4bed-9668-c0f51863efca"
      },
      "source": [
        "for col in mkt.columns:\n",
        "  if mkt[col].notna().sum() == 0:\n",
        "    print(col)\n",
        "    mkt.drop(col, axis=1, inplace=True)"
      ],
      "execution_count": null,
      "outputs": [
        {
          "output_type": "stream",
          "text": [
            "qt_alteracao_socio_total\n",
            "qt_alteracao_socio_90d\n",
            "qt_alteracao_socio_180d\n",
            "qt_alteracao_socio_365d\n",
            "grau_instrucao_macro_desconhecido\n"
          ],
          "name": "stdout"
        }
      ]
    },
    {
      "cell_type": "markdown",
      "metadata": {
        "id": "p-rMLgNCi1z1",
        "colab_type": "text"
      },
      "source": [
        "### Dropping columns with more than 50% of NA"
      ]
    },
    {
      "cell_type": "code",
      "metadata": {
        "id": "rEMj62OlK-Me",
        "colab_type": "code",
        "colab": {
          "base_uri": "https://localhost:8080/",
          "height": 34
        },
        "outputId": "d8215d9c-fd53-48a9-9815-a55ef650fe73"
      },
      "source": [
        "cols50na = []\n",
        "for column in mkt.columns:\n",
        "  if mkt[column].isna().sum() > (mkt.shape[0]*0.50):\n",
        "    mkt.drop(column, axis=1, inplace=True)\n",
        "    cols50na.append(column)\n",
        "len(cols50na)"
      ],
      "execution_count": null,
      "outputs": [
        {
          "output_type": "execute_result",
          "data": {
            "text/plain": [
              "126"
            ]
          },
          "metadata": {
            "tags": []
          },
          "execution_count": 8
        }
      ]
    },
    {
      "cell_type": "markdown",
      "metadata": {
        "id": "Xn9KXRUOjlHJ",
        "colab_type": "text"
      },
      "source": [
        "### Droping Unbalanced booleans columns"
      ]
    },
    {
      "cell_type": "code",
      "metadata": {
        "id": "k7_BVEFmyPZI",
        "colab_type": "code",
        "colab": {
          "base_uri": "https://localhost:8080/",
          "height": 102
        },
        "outputId": "8afc5923-ea9c-4b34-8933-345c1106d9b4"
      },
      "source": [
        "for col in mkt.select_dtypes(bool).columns:\n",
        "  if mkt[col].value_counts()[0] > mkt.shape[0]*.9:\n",
        "    print(col)\n",
        "    mkt.drop(col, axis=1)"
      ],
      "execution_count": null,
      "outputs": [
        {
          "output_type": "stream",
          "text": [
            "fl_me\n",
            "fl_sa\n",
            "fl_epp\n",
            "fl_ltda\n",
            "fl_st_especial\n"
          ],
          "name": "stdout"
        }
      ]
    },
    {
      "cell_type": "code",
      "metadata": {
        "id": "_WSqgS8bBuzP",
        "colab_type": "code",
        "colab": {
          "base_uri": "https://localhost:8080/",
          "height": 68
        },
        "outputId": "59a262cb-d75d-4d3f-beb2-b7cb142d3f39"
      },
      "source": [
        "mkt.fl_simples_irregular.value_counts()"
      ],
      "execution_count": null,
      "outputs": [
        {
          "output_type": "execute_result",
          "data": {
            "text/plain": [
              "False    460030\n",
              "True        341\n",
              "Name: fl_simples_irregular, dtype: int64"
            ]
          },
          "metadata": {
            "tags": []
          },
          "execution_count": 10
        }
      ]
    },
    {
      "cell_type": "markdown",
      "metadata": {
        "id": "3msd39mW5TRa",
        "colab_type": "text"
      },
      "source": [
        "### Dropping other columns"
      ]
    },
    {
      "cell_type": "code",
      "metadata": {
        "id": "TFOx1btZw-hL",
        "colab_type": "code",
        "colab": {
          "base_uri": "https://localhost:8080/",
          "height": 310
        },
        "outputId": "b373a36a-f986-4148-b6aa-f6cf1ea034db"
      },
      "source": [
        "fig, ax = plt.subplots(1,2)\n",
        "plt.tight_layout()\n",
        "\n",
        "sns.distplot(mkt.nu_meses_rescencia, ax=ax[0])\n",
        "sns.distplot(mkt.empsetorcensitariofaixarendapopulacao, ax=ax[1]);"
      ],
      "execution_count": null,
      "outputs": [
        {
          "output_type": "display_data",
          "data": {
            "image/png": "[encoded data removed]",
            "text/plain": [
              "<Figure size 432x288 with 2 Axes>"
            ]
          },
          "metadata": {
            "tags": [],
            "needs_background": "light"
          }
        }
      ]
    },
    {
      "cell_type": "code",
      "metadata": {
        "id": "yDJQ0XEF5nmv",
        "colab_type": "code",
        "colab": {
          "base_uri": "https://localhost:8080/",
          "height": 310
        },
        "outputId": "269788b0-f706-4f68-ccc4-c810aa02a907"
      },
      "source": [
        "fig, ax = plt.subplots(1,2)\n",
        "plt.tight_layout()\n",
        "\n",
        "sns.boxplot(mkt.idade_maxima_socios, ax=ax[0])\n",
        "sns.boxplot(mkt.idade_minima_socios, ax=ax[1]);"
      ],
      "execution_count": null,
      "outputs": [
        {
          "output_type": "display_data",
          "data": {
            "image/png": "[encoded data removed]",
            "text/plain": [
              "<Figure size 432x288 with 2 Axes>"
            ]
          },
          "metadata": {
            "tags": [],
            "needs_background": "light"
          }
        }
      ]
    },
    {
      "cell_type": "code",
      "metadata": {
        "id": "Pk9jHdkW5YyR",
        "colab_type": "code",
        "colab": {
          "base_uri": "https://localhost:8080/",
          "height": 374
        },
        "outputId": "24f49608-bbbd-40d1-ed9e-3fc8ac6c1c67"
      },
      "source": [
        "colstodrop = [\"nu_meses_rescencia\", \"empsetorcensitariofaixarendapopulacao\",\n",
        "              \"idade_maxima_socios\", \"idade_minima_socios\", \n",
        "              # Unbalanced columns\n",
        "              \"fl_spa\", \"fl_simples_irregular\", \"fl_antt\", \"fl_veiculo\",\n",
        "              \"vl_total_veiculos_pesados_grupo\",\"vl_total_veiculos_leves_grupo\",\n",
        "              # The same as other columns\n",
        "              \"vl_faturamento_estimado_aux\",\"vl_faturamento_estimado_grupo_aux\",\n",
        "              \"idade_empresa_anos\", \"qt_socios_pf\", \"qt_socios_pj\",\n",
        "              \"qt_socios_st_regular\", \"de_faixa_faturamento_estimado_grupo\", \n",
        "              # Too many uniques\n",
        "              \"nm_micro_regiao\", \"nm_divisao\",\n",
        "              # Uselees right now\n",
        "              \"fl_email\", \"fl_telefone\"]\n",
        "\n",
        "for col in colstodrop:\n",
        "  try:\n",
        "    mkt.drop(col, axis=1, inplace=True)\n",
        "    print(f'{col:<38} \\t droped')\n",
        "  except:\n",
        "    print(f\"{col:<38} \\t already droped\")"
      ],
      "execution_count": null,
      "outputs": [
        {
          "output_type": "stream",
          "text": [
            "nu_meses_rescencia                     \t droped\n",
            "empsetorcensitariofaixarendapopulacao  \t droped\n",
            "idade_maxima_socios                    \t droped\n",
            "idade_minima_socios                    \t droped\n",
            "fl_spa                                 \t droped\n",
            "fl_simples_irregular                   \t droped\n",
            "fl_antt                                \t droped\n",
            "fl_veiculo                             \t droped\n",
            "vl_total_veiculos_pesados_grupo        \t droped\n",
            "vl_total_veiculos_leves_grupo          \t droped\n",
            "vl_faturamento_estimado_aux            \t droped\n",
            "vl_faturamento_estimado_grupo_aux      \t droped\n",
            "idade_empresa_anos                     \t droped\n",
            "qt_socios_pf                           \t droped\n",
            "qt_socios_pj                           \t droped\n",
            "qt_socios_st_regular                   \t droped\n",
            "de_faixa_faturamento_estimado_grupo    \t droped\n",
            "nm_micro_regiao                        \t droped\n",
            "nm_divisao                             \t droped\n",
            "fl_email                               \t droped\n",
            "fl_telefone                            \t droped\n"
          ],
          "name": "stdout"
        }
      ]
    },
    {
      "cell_type": "code",
      "metadata": {
        "id": "xqrnEL9H-iSl",
        "colab_type": "code",
        "colab": {
          "base_uri": "https://localhost:8080/",
          "height": 34
        },
        "outputId": "6cd29bf7-b7ee-4820-cb50-3c70096af311"
      },
      "source": [
        "mkt.shape"
      ],
      "execution_count": null,
      "outputs": [
        {
          "output_type": "execute_result",
          "data": {
            "text/plain": [
              "(462298, 29)"
            ]
          },
          "metadata": {
            "tags": []
          },
          "execution_count": 14
        }
      ]
    },
    {
      "cell_type": "markdown",
      "metadata": {
        "id": "TNYZ5rwE98uC",
        "colab_type": "text"
      },
      "source": [
        "## Filling NAN"
      ]
    },
    {
      "cell_type": "code",
      "metadata": {
        "id": "u_xvvKt_-35N",
        "colab_type": "code",
        "colab": {
          "base_uri": "https://localhost:8080/",
          "height": 527
        },
        "outputId": "9525818b-12e4-4e53-855b-9cc94a246cac"
      },
      "source": [
        "mkt.isna().sum()"
      ],
      "execution_count": null,
      "outputs": [
        {
          "output_type": "execute_result",
          "data": {
            "text/plain": [
              "id                                    0\n",
              "fl_matriz                             0\n",
              "de_natureza_juridica                  0\n",
              "sg_uf                                 0\n",
              "natureza_juridica_macro               0\n",
              "de_ramo                               0\n",
              "setor                              1927\n",
              "idade_emp_cat                         0\n",
              "fl_me                                 0\n",
              "fl_sa                                 0\n",
              "fl_epp                                0\n",
              "fl_mei                                0\n",
              "fl_ltda                               0\n",
              "dt_situacao                           6\n",
              "fl_st_especial                        0\n",
              "fl_rm                                 0\n",
              "nm_segmento                        1927\n",
              "fl_optante_simples                82713\n",
              "fl_optante_simei                  82713\n",
              "sg_uf_matriz                       1939\n",
              "de_saude_tributaria               14851\n",
              "de_saude_rescencia                14851\n",
              "de_nivel_atividade                11168\n",
              "nm_meso_regiao                    58698\n",
              "fl_passivel_iss                    1927\n",
              "qt_socios                        115091\n",
              "idade_media_socios               151602\n",
              "de_faixa_faturamento_estimado     27513\n",
              "qt_filiais                            0\n",
              "dtype: int64"
            ]
          },
          "metadata": {
            "tags": []
          },
          "execution_count": 15
        }
      ]
    },
    {
      "cell_type": "markdown",
      "metadata": {
        "id": "lXynOO2YJTh5",
        "colab_type": "text"
      },
      "source": [
        "### Filling Float and Int"
      ]
    },
    {
      "cell_type": "code",
      "metadata": {
        "id": "wmyV06uIpAnR",
        "colab_type": "code",
        "colab": {}
      },
      "source": [
        "num_col = mkt.columns.str.contains(\"qt_|tx_|idade_d|idade_a|vl_\")\n",
        "for n in range(0, len(mkt.columns)):\n",
        "  if num_col[n] == True:\n",
        "    mkt.iloc[:,n].fillna(0, inplace=True)"
      ],
      "execution_count": null,
      "outputs": []
    },
    {
      "cell_type": "code",
      "metadata": {
        "id": "jRM67AQy9JXi",
        "colab_type": "code",
        "colab": {}
      },
      "source": [
        "mkt.idade_media_socios.fillna(mkt.idade_media_socios.mode()[0], inplace=True)"
      ],
      "execution_count": null,
      "outputs": []
    },
    {
      "cell_type": "code",
      "metadata": {
        "id": "S2jXjT2YLTwV",
        "colab_type": "code",
        "colab": {
          "base_uri": "https://localhost:8080/",
          "height": 85
        },
        "outputId": "ab8bb9e9-b686-467e-9bb7-adda11209af7"
      },
      "source": [
        "mkt.select_dtypes(include=\"number\").isna().sum()"
      ],
      "execution_count": null,
      "outputs": [
        {
          "output_type": "execute_result",
          "data": {
            "text/plain": [
              "qt_socios             0\n",
              "idade_media_socios    0\n",
              "qt_filiais            0\n",
              "dtype: int64"
            ]
          },
          "metadata": {
            "tags": []
          },
          "execution_count": 18
        }
      ]
    },
    {
      "cell_type": "markdown",
      "metadata": {
        "id": "XQmsjVT2yNI_",
        "colab_type": "text"
      },
      "source": [
        "### Filling Categories"
      ]
    },
    {
      "cell_type": "code",
      "metadata": {
        "id": "dc690zyK5f-3",
        "colab_type": "code",
        "colab": {
          "base_uri": "https://localhost:8080/",
          "height": 357
        },
        "outputId": "4ef05500-5910-441b-f75a-9c980e2e1186"
      },
      "source": [
        "mkt.select_dtypes(include=\"category\").isna().sum()"
      ],
      "execution_count": null,
      "outputs": [
        {
          "output_type": "execute_result",
          "data": {
            "text/plain": [
              "id                                   0\n",
              "de_natureza_juridica                 0\n",
              "sg_uf                                0\n",
              "natureza_juridica_macro              0\n",
              "de_ramo                              0\n",
              "setor                             1927\n",
              "idade_emp_cat                        0\n",
              "dt_situacao                          6\n",
              "fl_rm                                0\n",
              "nm_segmento                       1927\n",
              "fl_optante_simples               82713\n",
              "fl_optante_simei                 82713\n",
              "sg_uf_matriz                      1939\n",
              "de_saude_tributaria              14851\n",
              "de_saude_rescencia               14851\n",
              "de_nivel_atividade               11168\n",
              "nm_meso_regiao                   58698\n",
              "fl_passivel_iss                   1927\n",
              "de_faixa_faturamento_estimado    27513\n",
              "dtype: int64"
            ]
          },
          "metadata": {
            "tags": []
          },
          "execution_count": 19
        }
      ]
    },
    {
      "cell_type": "markdown",
      "metadata": {
        "id": "ER4O5VTwA9Y8",
        "colab_type": "text"
      },
      "source": [
        "#### Dropping 1927 nan rows"
      ]
    },
    {
      "cell_type": "code",
      "metadata": {
        "id": "-k3PKrt-2aQk",
        "colab_type": "code",
        "colab": {
          "base_uri": "https://localhost:8080/",
          "height": 51
        },
        "outputId": "b816c5ea-bd09-469b-8d96-6e15c3f96934"
      },
      "source": [
        "print(mkt.shape)\n",
        "mkt = mkt[mkt[\"setor\"].notna()]\n",
        "print(mkt.shape)"
      ],
      "execution_count": null,
      "outputs": [
        {
          "output_type": "stream",
          "text": [
            "(462298, 29)\n",
            "(460371, 29)\n"
          ],
          "name": "stdout"
        }
      ]
    },
    {
      "cell_type": "markdown",
      "metadata": {
        "id": "97ujgyh-DeDI",
        "colab_type": "text"
      },
      "source": [
        "#### Filling by 'mei'"
      ]
    },
    {
      "cell_type": "code",
      "metadata": {
        "id": "QBImIKFY6Ge1",
        "colab_type": "code",
        "colab": {
          "base_uri": "https://localhost:8080/",
          "height": 34
        },
        "outputId": "4093a091-6a58-499a-9a3a-43156d869020"
      },
      "source": [
        "mkt.query(\"fl_optante_simei.isna() & qt_filiais == 0\", engine='python').shape[0]"
      ],
      "execution_count": null,
      "outputs": [
        {
          "output_type": "execute_result",
          "data": {
            "text/plain": [
              "76849"
            ]
          },
          "metadata": {
            "tags": []
          },
          "execution_count": 21
        }
      ]
    },
    {
      "cell_type": "code",
      "metadata": {
        "id": "dOru6GwDHqSe",
        "colab_type": "code",
        "colab": {}
      },
      "source": [
        "mkt[\"fl_optante_simei\"].fillna(True, inplace=True)\n",
        "mkt[\"fl_optante_simples\"].fillna(False, inplace=True)"
      ],
      "execution_count": null,
      "outputs": []
    },
    {
      "cell_type": "markdown",
      "metadata": {
        "id": "HyR10BJAD0OY",
        "colab_type": "text"
      },
      "source": [
        "#### Search for unbalanceds columns"
      ]
    },
    {
      "cell_type": "code",
      "metadata": {
        "id": "lGKEJojO5iCz",
        "colab_type": "code",
        "colab": {
          "base_uri": "https://localhost:8080/",
          "height": 221
        },
        "outputId": "92dbb579-8bc8-4233-b09f-9f01c00d6c2e"
      },
      "source": [
        "# mkt.query(\"de_saude_tributaria.isna()\", engine=\"python\").head()\n",
        "mkt.de_saude_tributaria.value_counts(), mkt.de_saude_rescencia.value_counts()"
      ],
      "execution_count": null,
      "outputs": [
        {
          "output_type": "execute_result",
          "data": {
            "text/plain": [
              "(VERDE       145430\n",
              " AZUL        105230\n",
              " AMARELO      91045\n",
              " CINZA        64019\n",
              " LARANJA      36116\n",
              " VERMELHO      5607\n",
              " Name: de_saude_tributaria, dtype: int64, ACIMA DE 1 ANO    378896\n",
              " ATE 1 ANO          38101\n",
              " SEM INFORMACAO     30425\n",
              " ATE 3 MESES           13\n",
              " ATE 6 MESES           12\n",
              " Name: de_saude_rescencia, dtype: int64)"
            ]
          },
          "metadata": {
            "tags": []
          },
          "execution_count": 23
        }
      ]
    },
    {
      "cell_type": "code",
      "metadata": {
        "id": "KbAN1J4_68Wa",
        "colab_type": "code",
        "colab": {
          "base_uri": "https://localhost:8080/",
          "height": 34
        },
        "outputId": "e376ffad-4336-4a9a-f581-88a8e6a55f76"
      },
      "source": [
        "mkt.de_saude_rescencia.value_counts()[0] > mkt.shape[0]*.9"
      ],
      "execution_count": null,
      "outputs": [
        {
          "output_type": "execute_result",
          "data": {
            "text/plain": [
              "False"
            ]
          },
          "metadata": {
            "tags": []
          },
          "execution_count": 24
        }
      ]
    },
    {
      "cell_type": "code",
      "metadata": {
        "id": "7DYB4yqJ6dh4",
        "colab_type": "code",
        "colab": {
          "base_uri": "https://localhost:8080/",
          "height": 1000
        },
        "outputId": "bb81d415-6918-435b-c9b6-1d9113f370d6"
      },
      "source": [
        "for col in mkt.select_dtypes(include=\"category\").columns:\n",
        "  print(f\"{mkt[col].value_counts()[0]}\\t{col}\")\n",
        "  try: \n",
        "    if mkt[col].value_counts()[0] > mkt.shape[0]*.9:\n",
        "      print(f\"{col}\\tDrop\")\n",
        "  except: \n",
        "    print(mkt[col].value_counts())"
      ],
      "execution_count": null,
      "outputs": [
        {
          "output_type": "stream",
          "text": [
            "1\tid\n",
            "29690\tde_natureza_juridica\n",
            "20439\tsg_uf\n",
            "2909\tnatureza_juridica_macro\n",
            "2754\tde_ramo\n",
            "3247\tsetor\n",
            "138580\tidade_emp_cat\n",
            "1\tdt_situacao\n",
            "235805\tfl_rm\n",
            "2754\tnm_segmento\n"
          ],
          "name": "stdout"
        },
        {
          "output_type": "error",
          "ename": "RecursionError",
          "evalue": "ignored",
          "traceback": [
            "\u001b[0;31m---------------------------------------------------------------------------\u001b[0m",
            "\u001b[0;31mRecursionError\u001b[0m                            Traceback (most recent call last)",
            "\u001b[0;32m/usr/lib/python3.6/abc.py\u001b[0m in \u001b[0;36m__instancecheck__\u001b[0;34m(cls, instance)\u001b[0m\n\u001b[1;32m    182\u001b[0m         \u001b[0;31m# Inline the cache checking\u001b[0m\u001b[0;34m\u001b[0m\u001b[0;34m\u001b[0m\u001b[0;34m\u001b[0m\u001b[0m\n\u001b[1;32m    183\u001b[0m         \u001b[0msubclass\u001b[0m \u001b[0;34m=\u001b[0m \u001b[0minstance\u001b[0m\u001b[0;34m.\u001b[0m\u001b[0m__class__\u001b[0m\u001b[0;34m\u001b[0m\u001b[0;34m\u001b[0m\u001b[0m\n\u001b[0;32m--> 184\u001b[0;31m         \u001b[0;32mif\u001b[0m \u001b[0msubclass\u001b[0m \u001b[0;32min\u001b[0m \u001b[0mcls\u001b[0m\u001b[0;34m.\u001b[0m\u001b[0m_abc_cache\u001b[0m\u001b[0;34m:\u001b[0m\u001b[0;34m\u001b[0m\u001b[0;34m\u001b[0m\u001b[0m\n\u001b[0m\u001b[1;32m    185\u001b[0m             \u001b[0;32mreturn\u001b[0m \u001b[0;32mTrue\u001b[0m\u001b[0;34m\u001b[0m\u001b[0;34m\u001b[0m\u001b[0m\n\u001b[1;32m    186\u001b[0m         \u001b[0msubtype\u001b[0m \u001b[0;34m=\u001b[0m \u001b[0mtype\u001b[0m\u001b[0;34m(\u001b[0m\u001b[0minstance\u001b[0m\u001b[0;34m)\u001b[0m\u001b[0;34m\u001b[0m\u001b[0;34m\u001b[0m\u001b[0m\n",
            "\u001b[0;31mRecursionError\u001b[0m: maximum recursion depth exceeded while calling a Python object"
          ]
        },
        {
          "output_type": "stream",
          "text": [
            "260754\tfl_optante_simples\n"
          ],
          "name": "stdout"
        },
        {
          "output_type": "stream",
          "text": [
            "Exception ignored in: 'pandas._libs.lib.c_is_list_like'\n",
            "Traceback (most recent call last):\n",
            "  File \"/usr/lib/python3.6/abc.py\", line 184, in __instancecheck__\n",
            "    if subclass in cls._abc_cache:\n",
            "RecursionError: maximum recursion depth exceeded while calling a Python object\n"
          ],
          "name": "stderr"
        },
        {
          "output_type": "error",
          "ename": "RecursionError",
          "evalue": "ignored",
          "traceback": [
            "\u001b[0;31m---------------------------------------------------------------------------\u001b[0m",
            "\u001b[0;31mRecursionError\u001b[0m                            Traceback (most recent call last)",
            "\u001b[0;32m/usr/lib/python3.6/abc.py\u001b[0m in \u001b[0;36m__instancecheck__\u001b[0;34m(cls, instance)\u001b[0m\n\u001b[1;32m    182\u001b[0m         \u001b[0;31m# Inline the cache checking\u001b[0m\u001b[0;34m\u001b[0m\u001b[0;34m\u001b[0m\u001b[0;34m\u001b[0m\u001b[0m\n\u001b[1;32m    183\u001b[0m         \u001b[0msubclass\u001b[0m \u001b[0;34m=\u001b[0m \u001b[0minstance\u001b[0m\u001b[0;34m.\u001b[0m\u001b[0m__class__\u001b[0m\u001b[0;34m\u001b[0m\u001b[0;34m\u001b[0m\u001b[0m\n\u001b[0;32m--> 184\u001b[0;31m         \u001b[0;32mif\u001b[0m \u001b[0msubclass\u001b[0m \u001b[0;32min\u001b[0m \u001b[0mcls\u001b[0m\u001b[0;34m.\u001b[0m\u001b[0m_abc_cache\u001b[0m\u001b[0;34m:\u001b[0m\u001b[0;34m\u001b[0m\u001b[0;34m\u001b[0m\u001b[0m\n\u001b[0m\u001b[1;32m    185\u001b[0m             \u001b[0;32mreturn\u001b[0m \u001b[0;32mTrue\u001b[0m\u001b[0;34m\u001b[0m\u001b[0;34m\u001b[0m\u001b[0m\n\u001b[1;32m    186\u001b[0m         \u001b[0msubtype\u001b[0m \u001b[0;34m=\u001b[0m \u001b[0mtype\u001b[0m\u001b[0;34m(\u001b[0m\u001b[0minstance\u001b[0m\u001b[0;34m)\u001b[0m\u001b[0;34m\u001b[0m\u001b[0;34m\u001b[0m\u001b[0m\n",
            "\u001b[0;31mRecursionError\u001b[0m: maximum recursion depth exceeded while calling a Python object"
          ]
        },
        {
          "output_type": "stream",
          "text": [
            "Exception ignored in: 'pandas._libs.lib.c_is_list_like'\n",
            "Traceback (most recent call last):\n",
            "  File \"/usr/lib/python3.6/abc.py\", line 184, in __instancecheck__\n",
            "    if subclass in cls._abc_cache:\n",
            "RecursionError: maximum recursion depth exceeded while calling a Python object\n"
          ],
          "name": "stderr"
        },
        {
          "output_type": "error",
          "ename": "RecursionError",
          "evalue": "ignored",
          "traceback": [
            "\u001b[0;31m---------------------------------------------------------------------------\u001b[0m",
            "\u001b[0;31mRecursionError\u001b[0m                            Traceback (most recent call last)",
            "\u001b[0;32m/usr/lib/python3.6/abc.py\u001b[0m in \u001b[0;36m__instancecheck__\u001b[0;34m(cls, instance)\u001b[0m\n\u001b[1;32m    182\u001b[0m         \u001b[0;31m# Inline the cache checking\u001b[0m\u001b[0;34m\u001b[0m\u001b[0;34m\u001b[0m\u001b[0;34m\u001b[0m\u001b[0m\n\u001b[1;32m    183\u001b[0m         \u001b[0msubclass\u001b[0m \u001b[0;34m=\u001b[0m \u001b[0minstance\u001b[0m\u001b[0;34m.\u001b[0m\u001b[0m__class__\u001b[0m\u001b[0;34m\u001b[0m\u001b[0;34m\u001b[0m\u001b[0m\n\u001b[0;32m--> 184\u001b[0;31m         \u001b[0;32mif\u001b[0m \u001b[0msubclass\u001b[0m \u001b[0;32min\u001b[0m \u001b[0mcls\u001b[0m\u001b[0;34m.\u001b[0m\u001b[0m_abc_cache\u001b[0m\u001b[0;34m:\u001b[0m\u001b[0;34m\u001b[0m\u001b[0;34m\u001b[0m\u001b[0m\n\u001b[0m\u001b[1;32m    185\u001b[0m             \u001b[0;32mreturn\u001b[0m \u001b[0;32mTrue\u001b[0m\u001b[0;34m\u001b[0m\u001b[0;34m\u001b[0m\u001b[0m\n\u001b[1;32m    186\u001b[0m         \u001b[0msubtype\u001b[0m \u001b[0;34m=\u001b[0m \u001b[0mtype\u001b[0m\u001b[0;34m(\u001b[0m\u001b[0minstance\u001b[0m\u001b[0;34m)\u001b[0m\u001b[0;34m\u001b[0m\u001b[0;34m\u001b[0m\u001b[0m\n",
            "\u001b[0;31mRecursionError\u001b[0m: maximum recursion depth exceeded while calling a Python object"
          ]
        },
        {
          "output_type": "stream",
          "text": [
            "Exception ignored in: 'pandas._libs.lib.c_is_list_like'\n",
            "Traceback (most recent call last):\n",
            "  File \"/usr/lib/python3.6/abc.py\", line 184, in __instancecheck__\n",
            "    if subclass in cls._abc_cache:\n",
            "RecursionError: maximum recursion depth exceeded while calling a Python object\n"
          ],
          "name": "stderr"
        },
        {
          "output_type": "stream",
          "text": [
            "285545\tfl_optante_simei\n"
          ],
          "name": "stdout"
        },
        {
          "output_type": "error",
          "ename": "RecursionError",
          "evalue": "ignored",
          "traceback": [
            "\u001b[0;31m---------------------------------------------------------------------------\u001b[0m",
            "\u001b[0;31mRecursionError\u001b[0m                            Traceback (most recent call last)",
            "\u001b[0;32m/usr/lib/python3.6/abc.py\u001b[0m in \u001b[0;36m__instancecheck__\u001b[0;34m(cls, instance)\u001b[0m\n\u001b[1;32m    182\u001b[0m         \u001b[0;31m# Inline the cache checking\u001b[0m\u001b[0;34m\u001b[0m\u001b[0;34m\u001b[0m\u001b[0;34m\u001b[0m\u001b[0m\n\u001b[1;32m    183\u001b[0m         \u001b[0msubclass\u001b[0m \u001b[0;34m=\u001b[0m \u001b[0minstance\u001b[0m\u001b[0;34m.\u001b[0m\u001b[0m__class__\u001b[0m\u001b[0;34m\u001b[0m\u001b[0;34m\u001b[0m\u001b[0m\n\u001b[0;32m--> 184\u001b[0;31m         \u001b[0;32mif\u001b[0m \u001b[0msubclass\u001b[0m \u001b[0;32min\u001b[0m \u001b[0mcls\u001b[0m\u001b[0;34m.\u001b[0m\u001b[0m_abc_cache\u001b[0m\u001b[0;34m:\u001b[0m\u001b[0;34m\u001b[0m\u001b[0;34m\u001b[0m\u001b[0m\n\u001b[0m\u001b[1;32m    185\u001b[0m             \u001b[0;32mreturn\u001b[0m \u001b[0;32mTrue\u001b[0m\u001b[0;34m\u001b[0m\u001b[0;34m\u001b[0m\u001b[0m\n\u001b[1;32m    186\u001b[0m         \u001b[0msubtype\u001b[0m \u001b[0;34m=\u001b[0m \u001b[0mtype\u001b[0m\u001b[0;34m(\u001b[0m\u001b[0minstance\u001b[0m\u001b[0;34m)\u001b[0m\u001b[0;34m\u001b[0m\u001b[0;34m\u001b[0m\u001b[0m\n",
            "\u001b[0;31mRecursionError\u001b[0m: maximum recursion depth exceeded while calling a Python object"
          ]
        },
        {
          "output_type": "stream",
          "text": [
            "Exception ignored in: 'pandas._libs.lib.c_is_list_like'\n",
            "Traceback (most recent call last):\n",
            "  File \"/usr/lib/python3.6/abc.py\", line 184, in __instancecheck__\n",
            "    if subclass in cls._abc_cache:\n",
            "RecursionError: maximum recursion depth exceeded while calling a Python object\n"
          ],
          "name": "stderr"
        },
        {
          "output_type": "stream",
          "text": [
            "20028\tsg_uf_matriz\n",
            "91045\tde_saude_tributaria\n",
            "378896\tde_saude_rescencia\n",
            "152245\tde_nivel_atividade\n",
            "7845\tnm_meso_regiao\n"
          ],
          "name": "stdout"
        },
        {
          "output_type": "error",
          "ename": "RecursionError",
          "evalue": "ignored",
          "traceback": [
            "\u001b[0;31m---------------------------------------------------------------------------\u001b[0m",
            "\u001b[0;31mRecursionError\u001b[0m                            Traceback (most recent call last)",
            "\u001b[0;32m/usr/lib/python3.6/abc.py\u001b[0m in \u001b[0;36m__instancecheck__\u001b[0;34m(cls, instance)\u001b[0m\n\u001b[1;32m    182\u001b[0m         \u001b[0;31m# Inline the cache checking\u001b[0m\u001b[0;34m\u001b[0m\u001b[0;34m\u001b[0m\u001b[0;34m\u001b[0m\u001b[0m\n\u001b[1;32m    183\u001b[0m         \u001b[0msubclass\u001b[0m \u001b[0;34m=\u001b[0m \u001b[0minstance\u001b[0m\u001b[0;34m.\u001b[0m\u001b[0m__class__\u001b[0m\u001b[0;34m\u001b[0m\u001b[0;34m\u001b[0m\u001b[0m\n\u001b[0;32m--> 184\u001b[0;31m         \u001b[0;32mif\u001b[0m \u001b[0msubclass\u001b[0m \u001b[0;32min\u001b[0m \u001b[0mcls\u001b[0m\u001b[0;34m.\u001b[0m\u001b[0m_abc_cache\u001b[0m\u001b[0;34m:\u001b[0m\u001b[0;34m\u001b[0m\u001b[0;34m\u001b[0m\u001b[0m\n\u001b[0m\u001b[1;32m    185\u001b[0m             \u001b[0;32mreturn\u001b[0m \u001b[0;32mTrue\u001b[0m\u001b[0;34m\u001b[0m\u001b[0;34m\u001b[0m\u001b[0m\n\u001b[1;32m    186\u001b[0m         \u001b[0msubtype\u001b[0m \u001b[0;34m=\u001b[0m \u001b[0mtype\u001b[0m\u001b[0;34m(\u001b[0m\u001b[0minstance\u001b[0m\u001b[0;34m)\u001b[0m\u001b[0;34m\u001b[0m\u001b[0;34m\u001b[0m\u001b[0m\n",
            "\u001b[0;31mRecursionError\u001b[0m: maximum recursion depth exceeded while calling a Python object"
          ]
        },
        {
          "output_type": "stream",
          "text": [
            "Exception ignored in: 'pandas._libs.lib.c_is_list_like'\n",
            "Traceback (most recent call last):\n",
            "  File \"/usr/lib/python3.6/abc.py\", line 184, in __instancecheck__\n",
            "    if subclass in cls._abc_cache:\n",
            "RecursionError: maximum recursion depth exceeded while calling a Python object\n"
          ],
          "name": "stderr"
        },
        {
          "output_type": "stream",
          "text": [
            "195630\tfl_passivel_iss\n"
          ],
          "name": "stdout"
        },
        {
          "output_type": "error",
          "ename": "RecursionError",
          "evalue": "ignored",
          "traceback": [
            "\u001b[0;31m---------------------------------------------------------------------------\u001b[0m",
            "\u001b[0;31mRecursionError\u001b[0m                            Traceback (most recent call last)",
            "\u001b[0;32m/usr/lib/python3.6/abc.py\u001b[0m in \u001b[0;36m__instancecheck__\u001b[0;34m(cls, instance)\u001b[0m\n\u001b[1;32m    182\u001b[0m         \u001b[0;31m# Inline the cache checking\u001b[0m\u001b[0;34m\u001b[0m\u001b[0;34m\u001b[0m\u001b[0;34m\u001b[0m\u001b[0m\n\u001b[1;32m    183\u001b[0m         \u001b[0msubclass\u001b[0m \u001b[0;34m=\u001b[0m \u001b[0minstance\u001b[0m\u001b[0;34m.\u001b[0m\u001b[0m__class__\u001b[0m\u001b[0;34m\u001b[0m\u001b[0;34m\u001b[0m\u001b[0m\n\u001b[0;32m--> 184\u001b[0;31m         \u001b[0;32mif\u001b[0m \u001b[0msubclass\u001b[0m \u001b[0;32min\u001b[0m \u001b[0mcls\u001b[0m\u001b[0;34m.\u001b[0m\u001b[0m_abc_cache\u001b[0m\u001b[0;34m:\u001b[0m\u001b[0;34m\u001b[0m\u001b[0;34m\u001b[0m\u001b[0m\n\u001b[0m\u001b[1;32m    185\u001b[0m             \u001b[0;32mreturn\u001b[0m \u001b[0;32mTrue\u001b[0m\u001b[0;34m\u001b[0m\u001b[0;34m\u001b[0m\u001b[0m\n\u001b[1;32m    186\u001b[0m         \u001b[0msubtype\u001b[0m \u001b[0;34m=\u001b[0m \u001b[0mtype\u001b[0m\u001b[0;34m(\u001b[0m\u001b[0minstance\u001b[0m\u001b[0;34m)\u001b[0m\u001b[0;34m\u001b[0m\u001b[0;34m\u001b[0m\u001b[0m\n",
            "\u001b[0;31mRecursionError\u001b[0m: maximum recursion depth exceeded while calling a Python object"
          ]
        },
        {
          "output_type": "stream",
          "text": [
            "21\tde_faixa_faturamento_estimado\n"
          ],
          "name": "stdout"
        },
        {
          "output_type": "stream",
          "text": [
            "Exception ignored in: 'pandas._libs.lib.c_is_list_like'\n",
            "Traceback (most recent call last):\n",
            "  File \"/usr/lib/python3.6/abc.py\", line 184, in __instancecheck__\n",
            "    if subclass in cls._abc_cache:\n",
            "RecursionError: maximum recursion depth exceeded while calling a Python object\n"
          ],
          "name": "stderr"
        }
      ]
    },
    {
      "cell_type": "code",
      "metadata": {
        "id": "tScMJwLbAsH6",
        "colab_type": "code",
        "colab": {
          "base_uri": "https://localhost:8080/",
          "height": 238
        },
        "outputId": "3908eb06-fe0e-483e-a46f-7508e648cfac"
      },
      "source": [
        "mkt.de_faixa_faturamento_estimado.value_counts()"
      ],
      "execution_count": null,
      "outputs": [
        {
          "output_type": "execute_result",
          "data": {
            "text/plain": [
              "DE R$ 81.000,01 A R$ 360.000,00             271959\n",
              "ATE R$ 81.000,00                             98558\n",
              "DE R$ 360.000,01 A R$ 1.500.000,00           46203\n",
              "DE R$ 1.500.000,01 A R$ 4.800.000,00         10152\n",
              "DE R$ 4.800.000,01 A R$ 10.000.000,00         2150\n",
              "DE R$ 10.000.000,01 A R$ 30.000.000,00        1445\n",
              "SEM INFORMACAO                                1173\n",
              "DE R$ 30.000.000,01 A R$ 100.000.000,00        871\n",
              "DE R$ 100.000.000,01 A R$ 300.000.000,00       253\n",
              "DE R$ 300.000.000,01 A R$ 500.000.000,00        48\n",
              "DE R$ 500.000.000,01 A 1 BILHAO DE REAIS        27\n",
              "ACIMA DE 1 BILHAO DE REAIS                      21\n",
              "Name: de_faixa_faturamento_estimado, dtype: int64"
            ]
          },
          "metadata": {
            "tags": []
          },
          "execution_count": 26
        }
      ]
    },
    {
      "cell_type": "markdown",
      "metadata": {
        "id": "teAq6auD5gG4",
        "colab_type": "text"
      },
      "source": [
        "#### Filling with mode"
      ]
    },
    {
      "cell_type": "code",
      "metadata": {
        "id": "96rzElBCBl-P",
        "colab_type": "code",
        "colab": {}
      },
      "source": [
        "for col in mkt.select_dtypes(include=\"category\").columns:\n",
        "  mkt[col].fillna(mkt[col].mode()[0], inplace=True)"
      ],
      "execution_count": null,
      "outputs": []
    },
    {
      "cell_type": "markdown",
      "metadata": {
        "id": "WuF0Wy8YcOAs",
        "colab_type": "text"
      },
      "source": [
        "---"
      ]
    },
    {
      "cell_type": "code",
      "metadata": {
        "id": "bAuH5dMAcPul",
        "colab_type": "code",
        "colab": {
          "base_uri": "https://localhost:8080/",
          "height": 527
        },
        "outputId": "fdc625a7-5d53-4412-bad1-d07eb34e6cde"
      },
      "source": [
        "mkt.isna().sum()"
      ],
      "execution_count": null,
      "outputs": [
        {
          "output_type": "execute_result",
          "data": {
            "text/plain": [
              "id                               0\n",
              "fl_matriz                        0\n",
              "de_natureza_juridica             0\n",
              "sg_uf                            0\n",
              "natureza_juridica_macro          0\n",
              "de_ramo                          0\n",
              "setor                            0\n",
              "idade_emp_cat                    0\n",
              "fl_me                            0\n",
              "fl_sa                            0\n",
              "fl_epp                           0\n",
              "fl_mei                           0\n",
              "fl_ltda                          0\n",
              "dt_situacao                      0\n",
              "fl_st_especial                   0\n",
              "fl_rm                            0\n",
              "nm_segmento                      0\n",
              "fl_optante_simples               0\n",
              "fl_optante_simei                 0\n",
              "sg_uf_matriz                     0\n",
              "de_saude_tributaria              0\n",
              "de_saude_rescencia               0\n",
              "de_nivel_atividade               0\n",
              "nm_meso_regiao                   0\n",
              "fl_passivel_iss                  0\n",
              "qt_socios                        0\n",
              "idade_media_socios               0\n",
              "de_faixa_faturamento_estimado    0\n",
              "qt_filiais                       0\n",
              "dtype: int64"
            ]
          },
          "metadata": {
            "tags": []
          },
          "execution_count": 28
        }
      ]
    },
    {
      "cell_type": "markdown",
      "metadata": {
        "id": "K6bWyT5D2bZF",
        "colab_type": "text"
      },
      "source": [
        "## Reducing the DataFrame's memory"
      ]
    },
    {
      "cell_type": "code",
      "metadata": {
        "id": "FnowbwdSc43c",
        "colab_type": "code",
        "colab": {}
      },
      "source": [
        "mkt.replace({True:1, False:0}, inplace=True)"
      ],
      "execution_count": null,
      "outputs": []
    },
    {
      "cell_type": "code",
      "metadata": {
        "id": "5cmsdOpnfC-h",
        "colab_type": "code",
        "colab": {}
      },
      "source": [
        "# Convertendo dados flutuantes em inteiro\n",
        "\n",
        "for col in mkt.select_dtypes(include=\"number\").columns:\n",
        "  mkt[col] = mkt[col].astype(\"int16\")"
      ],
      "execution_count": null,
      "outputs": []
    },
    {
      "cell_type": "code",
      "metadata": {
        "id": "B4mFNPwz5IyO",
        "colab_type": "code",
        "colab": {
          "base_uri": "https://localhost:8080/",
          "height": 162
        },
        "outputId": "b9a10836-e8ce-46f8-b990-9d46ae43829e"
      },
      "source": [
        "mkt.select_dtypes(include=\"number\").head(3)"
      ],
      "execution_count": null,
      "outputs": [
        {
          "output_type": "execute_result",
          "data": {
            "text/html": [
              "<div>\n",
              "<style scoped>\n",
              "    .dataframe tbody tr th:only-of-type {\n",
              "        vertical-align: middle;\n",
              "    }\n",
              "\n",
              "    .dataframe tbody tr th {\n",
              "        vertical-align: top;\n",
              "    }\n",
              "\n",
              "    .dataframe thead th {\n",
              "        text-align: right;\n",
              "    }\n",
              "</style>\n",
              "<table border=\"1\" class=\"dataframe\">\n",
              "  <thead>\n",
              "    <tr style=\"text-align: right;\">\n",
              "      <th></th>\n",
              "      <th>fl_matriz</th>\n",
              "      <th>fl_me</th>\n",
              "      <th>fl_sa</th>\n",
              "      <th>fl_epp</th>\n",
              "      <th>fl_mei</th>\n",
              "      <th>fl_ltda</th>\n",
              "      <th>fl_st_especial</th>\n",
              "      <th>fl_optante_simples</th>\n",
              "      <th>fl_optante_simei</th>\n",
              "      <th>fl_passivel_iss</th>\n",
              "      <th>qt_socios</th>\n",
              "      <th>idade_media_socios</th>\n",
              "      <th>qt_filiais</th>\n",
              "    </tr>\n",
              "  </thead>\n",
              "  <tbody>\n",
              "    <tr>\n",
              "      <th>0</th>\n",
              "      <td>1</td>\n",
              "      <td>0</td>\n",
              "      <td>0</td>\n",
              "      <td>0</td>\n",
              "      <td>0</td>\n",
              "      <td>0</td>\n",
              "      <td>0</td>\n",
              "      <td>1</td>\n",
              "      <td>0</td>\n",
              "      <td>1</td>\n",
              "      <td>2</td>\n",
              "      <td>44</td>\n",
              "      <td>0</td>\n",
              "    </tr>\n",
              "    <tr>\n",
              "      <th>1</th>\n",
              "      <td>1</td>\n",
              "      <td>0</td>\n",
              "      <td>0</td>\n",
              "      <td>0</td>\n",
              "      <td>1</td>\n",
              "      <td>0</td>\n",
              "      <td>0</td>\n",
              "      <td>0</td>\n",
              "      <td>1</td>\n",
              "      <td>1</td>\n",
              "      <td>1</td>\n",
              "      <td>27</td>\n",
              "      <td>0</td>\n",
              "    </tr>\n",
              "    <tr>\n",
              "      <th>2</th>\n",
              "      <td>1</td>\n",
              "      <td>0</td>\n",
              "      <td>0</td>\n",
              "      <td>0</td>\n",
              "      <td>1</td>\n",
              "      <td>0</td>\n",
              "      <td>0</td>\n",
              "      <td>1</td>\n",
              "      <td>1</td>\n",
              "      <td>1</td>\n",
              "      <td>1</td>\n",
              "      <td>32</td>\n",
              "      <td>0</td>\n",
              "    </tr>\n",
              "  </tbody>\n",
              "</table>\n",
              "</div>"
            ],
            "text/plain": [
              "   fl_matriz  fl_me  fl_sa  fl_epp  fl_mei  fl_ltda  fl_st_especial  \\\n",
              "0          1      0      0       0       0        0               0   \n",
              "1          1      0      0       0       1        0               0   \n",
              "2          1      0      0       0       1        0               0   \n",
              "\n",
              "   fl_optante_simples  fl_optante_simei  fl_passivel_iss  qt_socios  \\\n",
              "0                   1                 0                1          2   \n",
              "1                   0                 1                1          1   \n",
              "2                   1                 1                1          1   \n",
              "\n",
              "   idade_media_socios  qt_filiais  \n",
              "0                  44           0  \n",
              "1                  27           0  \n",
              "2                  32           0  "
            ]
          },
          "metadata": {
            "tags": []
          },
          "execution_count": 31
        }
      ]
    },
    {
      "cell_type": "code",
      "metadata": {
        "id": "2oHyY6gJLvMI",
        "colab_type": "code",
        "colab": {
          "base_uri": "https://localhost:8080/",
          "height": 629
        },
        "outputId": "13066eb1-da8b-40f8-bfdb-2cbdaf4d60fa"
      },
      "source": [
        "mkt.info(memory_usage=\"deep\")"
      ],
      "execution_count": null,
      "outputs": [
        {
          "output_type": "stream",
          "text": [
            "<class 'pandas.core.frame.DataFrame'>\n",
            "Int64Index: 460371 entries, 0 to 462297\n",
            "Data columns (total 29 columns):\n",
            " #   Column                         Non-Null Count   Dtype   \n",
            "---  ------                         --------------   -----   \n",
            " 0   id                             460371 non-null  category\n",
            " 1   fl_matriz                      460371 non-null  int16   \n",
            " 2   de_natureza_juridica           460371 non-null  category\n",
            " 3   sg_uf                          460371 non-null  category\n",
            " 4   natureza_juridica_macro        460371 non-null  category\n",
            " 5   de_ramo                        460371 non-null  category\n",
            " 6   setor                          460371 non-null  category\n",
            " 7   idade_emp_cat                  460371 non-null  category\n",
            " 8   fl_me                          460371 non-null  int16   \n",
            " 9   fl_sa                          460371 non-null  int16   \n",
            " 10  fl_epp                         460371 non-null  int16   \n",
            " 11  fl_mei                         460371 non-null  int16   \n",
            " 12  fl_ltda                        460371 non-null  int16   \n",
            " 13  dt_situacao                    460371 non-null  int16   \n",
            " 14  fl_st_especial                 460371 non-null  int16   \n",
            " 15  fl_rm                          460371 non-null  category\n",
            " 16  nm_segmento                    460371 non-null  category\n",
            " 17  fl_optante_simples             460371 non-null  int16   \n",
            " 18  fl_optante_simei               460371 non-null  int16   \n",
            " 19  sg_uf_matriz                   460371 non-null  category\n",
            " 20  de_saude_tributaria            460371 non-null  category\n",
            " 21  de_saude_rescencia             460371 non-null  category\n",
            " 22  de_nivel_atividade             460371 non-null  category\n",
            " 23  nm_meso_regiao                 460371 non-null  category\n",
            " 24  fl_passivel_iss                460371 non-null  int16   \n",
            " 25  qt_socios                      460371 non-null  int16   \n",
            " 26  idade_media_socios             460371 non-null  int16   \n",
            " 27  de_faixa_faturamento_estimado  460371 non-null  category\n",
            " 28  qt_filiais                     460371 non-null  int16   \n",
            "dtypes: category(15), int16(14)\n",
            "memory usage: 97.1 MB\n"
          ],
          "name": "stdout"
        }
      ]
    },
    {
      "cell_type": "markdown",
      "metadata": {
        "id": "xfq8rbNPKmaS",
        "colab_type": "text"
      },
      "source": [
        "## Some Analysis"
      ]
    },
    {
      "cell_type": "code",
      "metadata": {
        "id": "oziTIU72CEAI",
        "colab_type": "code",
        "colab": {}
      },
      "source": [
        "# mkt.qt_socios_pj.unique(), mkt.qt_socios_pf.unique(), mkt.qt_socios.unique()"
      ],
      "execution_count": null,
      "outputs": []
    },
    {
      "cell_type": "markdown",
      "metadata": {
        "id": "2Zu2U0DZGZP0",
        "colab_type": "text"
      },
      "source": [
        "---"
      ]
    },
    {
      "cell_type": "code",
      "metadata": {
        "id": "XwSAW-Je3AQq",
        "colab_type": "code",
        "colab": {}
      },
      "source": [
        "# Observar se os faturamentos da empresa e grupo são diferentes. re:yes\n",
        "#mkt[[\"de_faixa_faturamento_estimado\",\"de_faixa_faturamento_estimado_grupo\"]].isna().sum()\n",
        "#for n in range(0, mkt.shape[0]):\n",
        "#  if mkt.de_faixa_faturamento_estimado[n] != mkt.de_faixa_faturamento_estimado_grupo[n]:\n",
        "#    (mkt.de_faixa_faturamento_estimado[n], mkt.de_faixa_faturamento_estimado_grupo[n])"
      ],
      "execution_count": null,
      "outputs": []
    },
    {
      "cell_type": "code",
      "metadata": {
        "id": "-6YZTzxIGWEP",
        "colab_type": "code",
        "colab": {}
      },
      "source": [
        "# mkt.de_faixa_faturamento_estimado.unique(), mkt.de_faixa_faturamento_estimado_grupo.unique()"
      ],
      "execution_count": null,
      "outputs": []
    },
    {
      "cell_type": "markdown",
      "metadata": {
        "id": "SrKDf0PvGXSl",
        "colab_type": "text"
      },
      "source": [
        "---"
      ]
    },
    {
      "cell_type": "code",
      "metadata": {
        "id": "3FNhdM0DEVix",
        "colab_type": "code",
        "colab": {}
      },
      "source": [
        "# port1.query(\"fl_email==0 & fl_telefone==0\").shape, port2.query(\"fl_email==0 & fl_telefone==0\").shape, port3.query(\"fl_email==0 & fl_telefone==0\").shape"
      ],
      "execution_count": null,
      "outputs": []
    },
    {
      "cell_type": "code",
      "metadata": {
        "id": "fDrhn45UHkQA",
        "colab_type": "code",
        "colab": {}
      },
      "source": [
        "# mkt.qt_socios_st_regular.unique(), mkt.qt_socios.unique()"
      ],
      "execution_count": null,
      "outputs": []
    },
    {
      "cell_type": "code",
      "metadata": {
        "id": "i8GLY3kYHVTP",
        "colab_type": "code",
        "colab": {
          "base_uri": "https://localhost:8080/",
          "height": 847
        },
        "outputId": "15d6fa44-163e-4f14-b0ce-901a19881a9d"
      },
      "source": [
        "mkt"
      ],
      "execution_count": null,
      "outputs": [
        {
          "output_type": "execute_result",
          "data": {
            "text/html": [
              "<div>\n",
              "<style scoped>\n",
              "    .dataframe tbody tr th:only-of-type {\n",
              "        vertical-align: middle;\n",
              "    }\n",
              "\n",
              "    .dataframe tbody tr th {\n",
              "        vertical-align: top;\n",
              "    }\n",
              "\n",
              "    .dataframe thead th {\n",
              "        text-align: right;\n",
              "    }\n",
              "</style>\n",
              "<table border=\"1\" class=\"dataframe\">\n",
              "  <thead>\n",
              "    <tr style=\"text-align: right;\">\n",
              "      <th></th>\n",
              "      <th>id</th>\n",
              "      <th>fl_matriz</th>\n",
              "      <th>de_natureza_juridica</th>\n",
              "      <th>sg_uf</th>\n",
              "      <th>natureza_juridica_macro</th>\n",
              "      <th>de_ramo</th>\n",
              "      <th>setor</th>\n",
              "      <th>idade_emp_cat</th>\n",
              "      <th>fl_me</th>\n",
              "      <th>fl_sa</th>\n",
              "      <th>fl_epp</th>\n",
              "      <th>fl_mei</th>\n",
              "      <th>fl_ltda</th>\n",
              "      <th>dt_situacao</th>\n",
              "      <th>fl_st_especial</th>\n",
              "      <th>fl_rm</th>\n",
              "      <th>nm_segmento</th>\n",
              "      <th>fl_optante_simples</th>\n",
              "      <th>fl_optante_simei</th>\n",
              "      <th>sg_uf_matriz</th>\n",
              "      <th>de_saude_tributaria</th>\n",
              "      <th>de_saude_rescencia</th>\n",
              "      <th>de_nivel_atividade</th>\n",
              "      <th>nm_meso_regiao</th>\n",
              "      <th>fl_passivel_iss</th>\n",
              "      <th>qt_socios</th>\n",
              "      <th>idade_media_socios</th>\n",
              "      <th>de_faixa_faturamento_estimado</th>\n",
              "      <th>qt_filiais</th>\n",
              "    </tr>\n",
              "  </thead>\n",
              "  <tbody>\n",
              "    <tr>\n",
              "      <th>0</th>\n",
              "      <td>a6984c3ae395090e3bee8ad63c3758b110de096d5d8195...</td>\n",
              "      <td>1</td>\n",
              "      <td>SOCIEDADE EMPRESARIA LIMITADA</td>\n",
              "      <td>RN</td>\n",
              "      <td>ENTIDADES EMPRESARIAIS</td>\n",
              "      <td>INDUSTRIA DA CONSTRUCAO</td>\n",
              "      <td>CONSTRUÇÃO CIVIL</td>\n",
              "      <td>10 a 15</td>\n",
              "      <td>0</td>\n",
              "      <td>0</td>\n",
              "      <td>0</td>\n",
              "      <td>0</td>\n",
              "      <td>0</td>\n",
              "      <td>2005-03-25</td>\n",
              "      <td>0</td>\n",
              "      <td>SIM</td>\n",
              "      <td>CONSTRUCAO</td>\n",
              "      <td>1</td>\n",
              "      <td>0</td>\n",
              "      <td>RN</td>\n",
              "      <td>VERDE</td>\n",
              "      <td>ACIMA DE 1 ANO</td>\n",
              "      <td>ALTA</td>\n",
              "      <td>LESTE POTIGUAR</td>\n",
              "      <td>1</td>\n",
              "      <td>2</td>\n",
              "      <td>44</td>\n",
              "      <td>DE R$ 1.500.000,01 A R$ 4.800.000,00</td>\n",
              "      <td>0</td>\n",
              "    </tr>\n",
              "    <tr>\n",
              "      <th>1</th>\n",
              "      <td>6178f41ade1365e44bc2c46654c2c8c0eaae27dcb476c4...</td>\n",
              "      <td>1</td>\n",
              "      <td>EMPRESARIO INDIVIDUAL</td>\n",
              "      <td>PI</td>\n",
              "      <td>OUTROS</td>\n",
              "      <td>SERVICOS DE ALOJAMENTO/ALIMENTACAO</td>\n",
              "      <td>SERVIÇO</td>\n",
              "      <td>1 a 5</td>\n",
              "      <td>0</td>\n",
              "      <td>0</td>\n",
              "      <td>0</td>\n",
              "      <td>1</td>\n",
              "      <td>0</td>\n",
              "      <td>2017-05-12</td>\n",
              "      <td>0</td>\n",
              "      <td>SIM</td>\n",
              "      <td>ALOJAMENTO E ALIMENTACAO</td>\n",
              "      <td>0</td>\n",
              "      <td>1</td>\n",
              "      <td>PI</td>\n",
              "      <td>CINZA</td>\n",
              "      <td>ATE 1 ANO</td>\n",
              "      <td>BAIXA</td>\n",
              "      <td>CENTRO NORTE PIAUIENSE</td>\n",
              "      <td>1</td>\n",
              "      <td>1</td>\n",
              "      <td>27</td>\n",
              "      <td>DE R$ 81.000,01 A R$ 360.000,00</td>\n",
              "      <td>0</td>\n",
              "    </tr>\n",
              "    <tr>\n",
              "      <th>2</th>\n",
              "      <td>4a7e5069a397f12fdd7fd57111d6dc5d3ba558958efc02...</td>\n",
              "      <td>1</td>\n",
              "      <td>EMPRESARIO INDIVIDUAL</td>\n",
              "      <td>AM</td>\n",
              "      <td>OUTROS</td>\n",
              "      <td>TRANSPORTE, ARMAZENAGEM E CORREIO</td>\n",
              "      <td>SERVIÇO</td>\n",
              "      <td>5 a 10</td>\n",
              "      <td>0</td>\n",
              "      <td>0</td>\n",
              "      <td>0</td>\n",
              "      <td>1</td>\n",
              "      <td>0</td>\n",
              "      <td>2011-09-26</td>\n",
              "      <td>0</td>\n",
              "      <td>SIM</td>\n",
              "      <td>TRANSPORTE ARMAZENAGEM E CORREIO</td>\n",
              "      <td>1</td>\n",
              "      <td>1</td>\n",
              "      <td>AM</td>\n",
              "      <td>AMARELO</td>\n",
              "      <td>ACIMA DE 1 ANO</td>\n",
              "      <td>MEDIA</td>\n",
              "      <td>CENTRO AMAZONENSE</td>\n",
              "      <td>1</td>\n",
              "      <td>1</td>\n",
              "      <td>32</td>\n",
              "      <td>ATE R$ 81.000,00</td>\n",
              "      <td>0</td>\n",
              "    </tr>\n",
              "    <tr>\n",
              "      <th>3</th>\n",
              "      <td>3348900fe63216a439d2e5238c79ddd46ede454df7b9d8...</td>\n",
              "      <td>1</td>\n",
              "      <td>EMPRESARIO INDIVIDUAL</td>\n",
              "      <td>AM</td>\n",
              "      <td>OUTROS</td>\n",
              "      <td>SERVICOS DIVERSOS</td>\n",
              "      <td>SERVIÇO</td>\n",
              "      <td>5 a 10</td>\n",
              "      <td>0</td>\n",
              "      <td>0</td>\n",
              "      <td>0</td>\n",
              "      <td>0</td>\n",
              "      <td>0</td>\n",
              "      <td>2012-04-25</td>\n",
              "      <td>0</td>\n",
              "      <td>SIM</td>\n",
              "      <td>OUTRAS ATIVIDADES DE SERVICOS</td>\n",
              "      <td>1</td>\n",
              "      <td>0</td>\n",
              "      <td>AM</td>\n",
              "      <td>AMARELO</td>\n",
              "      <td>ACIMA DE 1 ANO</td>\n",
              "      <td>MEDIA</td>\n",
              "      <td>CENTRO AMAZONENSE</td>\n",
              "      <td>1</td>\n",
              "      <td>1</td>\n",
              "      <td>36</td>\n",
              "      <td>DE R$ 81.000,01 A R$ 360.000,00</td>\n",
              "      <td>0</td>\n",
              "    </tr>\n",
              "    <tr>\n",
              "      <th>4</th>\n",
              "      <td>1f9bcabc9d3173c1fe769899e4fac14b053037b953a1e4...</td>\n",
              "      <td>1</td>\n",
              "      <td>EMPRESARIO INDIVIDUAL</td>\n",
              "      <td>RN</td>\n",
              "      <td>OUTROS</td>\n",
              "      <td>SERVICOS PROFISSIONAIS, TECNICOS E CIENTIFICOS</td>\n",
              "      <td>SERVIÇO</td>\n",
              "      <td>1 a 5</td>\n",
              "      <td>0</td>\n",
              "      <td>0</td>\n",
              "      <td>0</td>\n",
              "      <td>0</td>\n",
              "      <td>0</td>\n",
              "      <td>2015-08-17</td>\n",
              "      <td>0</td>\n",
              "      <td>SIM</td>\n",
              "      <td>ATIVIDADES PROFISSIONAIS CIENTIFICAS E TECNICAS</td>\n",
              "      <td>1</td>\n",
              "      <td>0</td>\n",
              "      <td>RN</td>\n",
              "      <td>VERDE</td>\n",
              "      <td>ACIMA DE 1 ANO</td>\n",
              "      <td>ALTA</td>\n",
              "      <td>LESTE POTIGUAR</td>\n",
              "      <td>1</td>\n",
              "      <td>1</td>\n",
              "      <td>36</td>\n",
              "      <td>DE R$ 81.000,01 A R$ 360.000,00</td>\n",
              "      <td>0</td>\n",
              "    </tr>\n",
              "    <tr>\n",
              "      <th>...</th>\n",
              "      <td>...</td>\n",
              "      <td>...</td>\n",
              "      <td>...</td>\n",
              "      <td>...</td>\n",
              "      <td>...</td>\n",
              "      <td>...</td>\n",
              "      <td>...</td>\n",
              "      <td>...</td>\n",
              "      <td>...</td>\n",
              "      <td>...</td>\n",
              "      <td>...</td>\n",
              "      <td>...</td>\n",
              "      <td>...</td>\n",
              "      <td>...</td>\n",
              "      <td>...</td>\n",
              "      <td>...</td>\n",
              "      <td>...</td>\n",
              "      <td>...</td>\n",
              "      <td>...</td>\n",
              "      <td>...</td>\n",
              "      <td>...</td>\n",
              "      <td>...</td>\n",
              "      <td>...</td>\n",
              "      <td>...</td>\n",
              "      <td>...</td>\n",
              "      <td>...</td>\n",
              "      <td>...</td>\n",
              "      <td>...</td>\n",
              "      <td>...</td>\n",
              "    </tr>\n",
              "    <tr>\n",
              "      <th>462293</th>\n",
              "      <td>469ee5fc984d0bb60aa2f40cda4d003d7c9b963d149ed3...</td>\n",
              "      <td>1</td>\n",
              "      <td>EMPRESARIO INDIVIDUAL</td>\n",
              "      <td>RN</td>\n",
              "      <td>OUTROS</td>\n",
              "      <td>COMERCIO E REPARACAO DE VEICULOS</td>\n",
              "      <td>COMERCIO</td>\n",
              "      <td>1 a 5</td>\n",
              "      <td>0</td>\n",
              "      <td>0</td>\n",
              "      <td>0</td>\n",
              "      <td>1</td>\n",
              "      <td>0</td>\n",
              "      <td>2015-07-28</td>\n",
              "      <td>0</td>\n",
              "      <td>NAO</td>\n",
              "      <td>COMERCIO; REPARACAO DE VEICULOS AUTOMOTORES E ...</td>\n",
              "      <td>1</td>\n",
              "      <td>1</td>\n",
              "      <td>RN</td>\n",
              "      <td>VERDE</td>\n",
              "      <td>ACIMA DE 1 ANO</td>\n",
              "      <td>ALTA</td>\n",
              "      <td>AGRESTE POTIGUAR</td>\n",
              "      <td>0</td>\n",
              "      <td>1</td>\n",
              "      <td>31</td>\n",
              "      <td>ATE R$ 81.000,00</td>\n",
              "      <td>0</td>\n",
              "    </tr>\n",
              "    <tr>\n",
              "      <th>462294</th>\n",
              "      <td>656f496e7e2fad708f0022d8ad97d2cb9344e839a5f3cb...</td>\n",
              "      <td>1</td>\n",
              "      <td>EMPRESARIO INDIVIDUAL</td>\n",
              "      <td>PI</td>\n",
              "      <td>OUTROS</td>\n",
              "      <td>SERVICOS ADMINISTRATIVOS</td>\n",
              "      <td>SERVIÇO</td>\n",
              "      <td>5 a 10</td>\n",
              "      <td>0</td>\n",
              "      <td>0</td>\n",
              "      <td>0</td>\n",
              "      <td>0</td>\n",
              "      <td>0</td>\n",
              "      <td>2009-11-16</td>\n",
              "      <td>0</td>\n",
              "      <td>SIM</td>\n",
              "      <td>ATIVIDADES ADMINISTRATIVAS E SERVICOS COMPLEME...</td>\n",
              "      <td>0</td>\n",
              "      <td>0</td>\n",
              "      <td>PI</td>\n",
              "      <td>LARANJA</td>\n",
              "      <td>ACIMA DE 1 ANO</td>\n",
              "      <td>MUITO BAIXA</td>\n",
              "      <td>CENTRO NORTE PIAUIENSE</td>\n",
              "      <td>1</td>\n",
              "      <td>0</td>\n",
              "      <td>36</td>\n",
              "      <td>DE R$ 81.000,01 A R$ 360.000,00</td>\n",
              "      <td>0</td>\n",
              "    </tr>\n",
              "    <tr>\n",
              "      <th>462295</th>\n",
              "      <td>9b933a5cf2149d1338f00fb459d34a16b9b0f2e8d3e8e1...</td>\n",
              "      <td>1</td>\n",
              "      <td>ASSOCIACAO PRIVADA</td>\n",
              "      <td>MA</td>\n",
              "      <td>ENTIDADES SEM FINS LUCRATIVOS</td>\n",
              "      <td>SERVICOS DE SAUDE</td>\n",
              "      <td>SERVIÇO</td>\n",
              "      <td>&gt; 20</td>\n",
              "      <td>0</td>\n",
              "      <td>0</td>\n",
              "      <td>0</td>\n",
              "      <td>0</td>\n",
              "      <td>0</td>\n",
              "      <td>2005-11-03</td>\n",
              "      <td>0</td>\n",
              "      <td>SIM</td>\n",
              "      <td>SAUDE HUMANA E SERVICOS SOCIAIS</td>\n",
              "      <td>0</td>\n",
              "      <td>0</td>\n",
              "      <td>MA</td>\n",
              "      <td>AMARELO</td>\n",
              "      <td>ACIMA DE 1 ANO</td>\n",
              "      <td>MEDIA</td>\n",
              "      <td>NORTE MARANHENSE</td>\n",
              "      <td>1</td>\n",
              "      <td>1</td>\n",
              "      <td>74</td>\n",
              "      <td>DE R$ 81.000,01 A R$ 360.000,00</td>\n",
              "      <td>0</td>\n",
              "    </tr>\n",
              "    <tr>\n",
              "      <th>462296</th>\n",
              "      <td>84db0f17467cf4f02439e01ade57150b6ac59d9dae53ed...</td>\n",
              "      <td>1</td>\n",
              "      <td>SOCIEDADE EMPRESARIA LIMITADA</td>\n",
              "      <td>RO</td>\n",
              "      <td>ENTIDADES EMPRESARIAIS</td>\n",
              "      <td>COMERCIO VAREJISTA</td>\n",
              "      <td>COMERCIO</td>\n",
              "      <td>1 a 5</td>\n",
              "      <td>0</td>\n",
              "      <td>0</td>\n",
              "      <td>0</td>\n",
              "      <td>0</td>\n",
              "      <td>0</td>\n",
              "      <td>2016-11-30</td>\n",
              "      <td>0</td>\n",
              "      <td>NAO</td>\n",
              "      <td>COMERCIO; REPARACAO DE VEICULOS AUTOMOTORES E ...</td>\n",
              "      <td>0</td>\n",
              "      <td>0</td>\n",
              "      <td>RO</td>\n",
              "      <td>VERDE</td>\n",
              "      <td>ACIMA DE 1 ANO</td>\n",
              "      <td>ALTA</td>\n",
              "      <td>CENTRO AMAZONENSE</td>\n",
              "      <td>0</td>\n",
              "      <td>5</td>\n",
              "      <td>31</td>\n",
              "      <td>DE R$ 360.000,01 A R$ 1.500.000,00</td>\n",
              "      <td>0</td>\n",
              "    </tr>\n",
              "    <tr>\n",
              "      <th>462297</th>\n",
              "      <td>3d43e934e150b86be1e67524f5ba1018b27da9ef25566d...</td>\n",
              "      <td>1</td>\n",
              "      <td>EMPRESARIO INDIVIDUAL</td>\n",
              "      <td>RO</td>\n",
              "      <td>OUTROS</td>\n",
              "      <td>TRANSPORTE, ARMAZENAGEM E CORREIO</td>\n",
              "      <td>SERVIÇO</td>\n",
              "      <td>&lt;= 1</td>\n",
              "      <td>0</td>\n",
              "      <td>0</td>\n",
              "      <td>0</td>\n",
              "      <td>1</td>\n",
              "      <td>0</td>\n",
              "      <td>2018-01-10</td>\n",
              "      <td>0</td>\n",
              "      <td>NAO</td>\n",
              "      <td>TRANSPORTE ARMAZENAGEM E CORREIO</td>\n",
              "      <td>0</td>\n",
              "      <td>1</td>\n",
              "      <td>RO</td>\n",
              "      <td>CINZA</td>\n",
              "      <td>SEM INFORMACAO</td>\n",
              "      <td>BAIXA</td>\n",
              "      <td>CENTRO AMAZONENSE</td>\n",
              "      <td>1</td>\n",
              "      <td>1</td>\n",
              "      <td>44</td>\n",
              "      <td>DE R$ 81.000,01 A R$ 360.000,00</td>\n",
              "      <td>0</td>\n",
              "    </tr>\n",
              "  </tbody>\n",
              "</table>\n",
              "<p>460371 rows × 29 columns</p>\n",
              "</div>"
            ],
            "text/plain": [
              "                                                       id  fl_matriz  \\\n",
              "0       a6984c3ae395090e3bee8ad63c3758b110de096d5d8195...          1   \n",
              "1       6178f41ade1365e44bc2c46654c2c8c0eaae27dcb476c4...          1   \n",
              "2       4a7e5069a397f12fdd7fd57111d6dc5d3ba558958efc02...          1   \n",
              "3       3348900fe63216a439d2e5238c79ddd46ede454df7b9d8...          1   \n",
              "4       1f9bcabc9d3173c1fe769899e4fac14b053037b953a1e4...          1   \n",
              "...                                                   ...        ...   \n",
              "462293  469ee5fc984d0bb60aa2f40cda4d003d7c9b963d149ed3...          1   \n",
              "462294  656f496e7e2fad708f0022d8ad97d2cb9344e839a5f3cb...          1   \n",
              "462295  9b933a5cf2149d1338f00fb459d34a16b9b0f2e8d3e8e1...          1   \n",
              "462296  84db0f17467cf4f02439e01ade57150b6ac59d9dae53ed...          1   \n",
              "462297  3d43e934e150b86be1e67524f5ba1018b27da9ef25566d...          1   \n",
              "\n",
              "                 de_natureza_juridica sg_uf        natureza_juridica_macro  \\\n",
              "0       SOCIEDADE EMPRESARIA LIMITADA    RN         ENTIDADES EMPRESARIAIS   \n",
              "1               EMPRESARIO INDIVIDUAL    PI                         OUTROS   \n",
              "2               EMPRESARIO INDIVIDUAL    AM                         OUTROS   \n",
              "3               EMPRESARIO INDIVIDUAL    AM                         OUTROS   \n",
              "4               EMPRESARIO INDIVIDUAL    RN                         OUTROS   \n",
              "...                               ...   ...                            ...   \n",
              "462293          EMPRESARIO INDIVIDUAL    RN                         OUTROS   \n",
              "462294          EMPRESARIO INDIVIDUAL    PI                         OUTROS   \n",
              "462295             ASSOCIACAO PRIVADA    MA  ENTIDADES SEM FINS LUCRATIVOS   \n",
              "462296  SOCIEDADE EMPRESARIA LIMITADA    RO         ENTIDADES EMPRESARIAIS   \n",
              "462297          EMPRESARIO INDIVIDUAL    RO                         OUTROS   \n",
              "\n",
              "                                               de_ramo             setor  \\\n",
              "0                              INDUSTRIA DA CONSTRUCAO  CONSTRUÇÃO CIVIL   \n",
              "1                   SERVICOS DE ALOJAMENTO/ALIMENTACAO           SERVIÇO   \n",
              "2                    TRANSPORTE, ARMAZENAGEM E CORREIO           SERVIÇO   \n",
              "3                                    SERVICOS DIVERSOS           SERVIÇO   \n",
              "4       SERVICOS PROFISSIONAIS, TECNICOS E CIENTIFICOS           SERVIÇO   \n",
              "...                                                ...               ...   \n",
              "462293                COMERCIO E REPARACAO DE VEICULOS          COMERCIO   \n",
              "462294                        SERVICOS ADMINISTRATIVOS           SERVIÇO   \n",
              "462295                               SERVICOS DE SAUDE           SERVIÇO   \n",
              "462296                              COMERCIO VAREJISTA          COMERCIO   \n",
              "462297               TRANSPORTE, ARMAZENAGEM E CORREIO           SERVIÇO   \n",
              "\n",
              "       idade_emp_cat  fl_me  fl_sa  fl_epp  fl_mei  fl_ltda dt_situacao  \\\n",
              "0            10 a 15      0      0       0       0        0  2005-03-25   \n",
              "1              1 a 5      0      0       0       1        0  2017-05-12   \n",
              "2             5 a 10      0      0       0       1        0  2011-09-26   \n",
              "3             5 a 10      0      0       0       0        0  2012-04-25   \n",
              "4              1 a 5      0      0       0       0        0  2015-08-17   \n",
              "...              ...    ...    ...     ...     ...      ...         ...   \n",
              "462293         1 a 5      0      0       0       1        0  2015-07-28   \n",
              "462294        5 a 10      0      0       0       0        0  2009-11-16   \n",
              "462295          > 20      0      0       0       0        0  2005-11-03   \n",
              "462296         1 a 5      0      0       0       0        0  2016-11-30   \n",
              "462297          <= 1      0      0       0       1        0  2018-01-10   \n",
              "\n",
              "        fl_st_especial fl_rm  \\\n",
              "0                    0   SIM   \n",
              "1                    0   SIM   \n",
              "2                    0   SIM   \n",
              "3                    0   SIM   \n",
              "4                    0   SIM   \n",
              "...                ...   ...   \n",
              "462293               0   NAO   \n",
              "462294               0   SIM   \n",
              "462295               0   SIM   \n",
              "462296               0   NAO   \n",
              "462297               0   NAO   \n",
              "\n",
              "                                              nm_segmento  fl_optante_simples  \\\n",
              "0                                              CONSTRUCAO                   1   \n",
              "1                                ALOJAMENTO E ALIMENTACAO                   0   \n",
              "2                        TRANSPORTE ARMAZENAGEM E CORREIO                   1   \n",
              "3                           OUTRAS ATIVIDADES DE SERVICOS                   1   \n",
              "4         ATIVIDADES PROFISSIONAIS CIENTIFICAS E TECNICAS                   1   \n",
              "...                                                   ...                 ...   \n",
              "462293  COMERCIO; REPARACAO DE VEICULOS AUTOMOTORES E ...                   1   \n",
              "462294  ATIVIDADES ADMINISTRATIVAS E SERVICOS COMPLEME...                   0   \n",
              "462295                    SAUDE HUMANA E SERVICOS SOCIAIS                   0   \n",
              "462296  COMERCIO; REPARACAO DE VEICULOS AUTOMOTORES E ...                   0   \n",
              "462297                   TRANSPORTE ARMAZENAGEM E CORREIO                   0   \n",
              "\n",
              "        fl_optante_simei sg_uf_matriz de_saude_tributaria de_saude_rescencia  \\\n",
              "0                      0           RN               VERDE     ACIMA DE 1 ANO   \n",
              "1                      1           PI               CINZA          ATE 1 ANO   \n",
              "2                      1           AM             AMARELO     ACIMA DE 1 ANO   \n",
              "3                      0           AM             AMARELO     ACIMA DE 1 ANO   \n",
              "4                      0           RN               VERDE     ACIMA DE 1 ANO   \n",
              "...                  ...          ...                 ...                ...   \n",
              "462293                 1           RN               VERDE     ACIMA DE 1 ANO   \n",
              "462294                 0           PI             LARANJA     ACIMA DE 1 ANO   \n",
              "462295                 0           MA             AMARELO     ACIMA DE 1 ANO   \n",
              "462296                 0           RO               VERDE     ACIMA DE 1 ANO   \n",
              "462297                 1           RO               CINZA     SEM INFORMACAO   \n",
              "\n",
              "       de_nivel_atividade          nm_meso_regiao  fl_passivel_iss  qt_socios  \\\n",
              "0                    ALTA          LESTE POTIGUAR                1          2   \n",
              "1                   BAIXA  CENTRO NORTE PIAUIENSE                1          1   \n",
              "2                   MEDIA       CENTRO AMAZONENSE                1          1   \n",
              "3                   MEDIA       CENTRO AMAZONENSE                1          1   \n",
              "4                    ALTA          LESTE POTIGUAR                1          1   \n",
              "...                   ...                     ...              ...        ...   \n",
              "462293               ALTA        AGRESTE POTIGUAR                0          1   \n",
              "462294        MUITO BAIXA  CENTRO NORTE PIAUIENSE                1          0   \n",
              "462295              MEDIA        NORTE MARANHENSE                1          1   \n",
              "462296               ALTA       CENTRO AMAZONENSE                0          5   \n",
              "462297              BAIXA       CENTRO AMAZONENSE                1          1   \n",
              "\n",
              "        idade_media_socios         de_faixa_faturamento_estimado  qt_filiais  \n",
              "0                       44  DE R$ 1.500.000,01 A R$ 4.800.000,00           0  \n",
              "1                       27       DE R$ 81.000,01 A R$ 360.000,00           0  \n",
              "2                       32                      ATE R$ 81.000,00           0  \n",
              "3                       36       DE R$ 81.000,01 A R$ 360.000,00           0  \n",
              "4                       36       DE R$ 81.000,01 A R$ 360.000,00           0  \n",
              "...                    ...                                   ...         ...  \n",
              "462293                  31                      ATE R$ 81.000,00           0  \n",
              "462294                  36       DE R$ 81.000,01 A R$ 360.000,00           0  \n",
              "462295                  74       DE R$ 81.000,01 A R$ 360.000,00           0  \n",
              "462296                  31    DE R$ 360.000,01 A R$ 1.500.000,00           0  \n",
              "462297                  44       DE R$ 81.000,01 A R$ 360.000,00           0  \n",
              "\n",
              "[460371 rows x 29 columns]"
            ]
          },
          "metadata": {
            "tags": []
          },
          "execution_count": 37
        }
      ]
    },
    {
      "cell_type": "markdown",
      "metadata": {
        "id": "ziZV4FZp3MF-",
        "colab_type": "text"
      },
      "source": [
        "### Fixing socios' age data"
      ]
    },
    {
      "cell_type": "code",
      "metadata": {
        "id": "EFj_LIMLJIbV",
        "colab_type": "code",
        "colab": {
          "base_uri": "https://localhost:8080/",
          "height": 268
        },
        "outputId": "df082e14-8f21-44e7-ba7c-0e6e12f33b85"
      },
      "source": [
        "# Devo remover os outliers?\n",
        "sns.boxplot(pd.DataFrame(mkt[\"idade_media_socios\"].round(0)));"
      ],
      "execution_count": null,
      "outputs": [
        {
          "output_type": "display_data",
          "data": {
            "image/png": "[encoded data removed]",
            "text/plain": [
              "<Figure size 432x288 with 1 Axes>"
            ]
          },
          "metadata": {
            "tags": [],
            "needs_background": "light"
          }
        }
      ]
    },
    {
      "cell_type": "code",
      "metadata": {
        "id": "1W3h1AErKkf1",
        "colab_type": "code",
        "colab": {}
      },
      "source": [
        "# How could it be posible?!\n",
        "# mkt.query(\"\"\" idade_media_socios > 58 & (idade_acima_de_58 < 1 | idade_acima_de_58 != idade_acima_de_58)\n",
        "#           \"\"\")[\"idade_media_socios\"].round(0).value_counts().sum()"
      ],
      "execution_count": null,
      "outputs": []
    },
    {
      "cell_type": "code",
      "metadata": {
        "id": "uZ9Fh-ZIUCyT",
        "colab_type": "code",
        "colab": {
          "base_uri": "https://localhost:8080/",
          "height": 34
        },
        "outputId": "0885e6f3-10b2-4074-cc28-febd1506c951"
      },
      "source": [
        "print(f\"Isso equivale a {33885*100/mkt.shape[0]:.2f}%\")"
      ],
      "execution_count": null,
      "outputs": [
        {
          "output_type": "stream",
          "text": [
            "Isso equivale a 7.36%\n"
          ],
          "name": "stdout"
        }
      ]
    },
    {
      "cell_type": "code",
      "metadata": {
        "id": "OWgcU4MhZMRX",
        "colab_type": "code",
        "colab": {
          "base_uri": "https://localhost:8080/",
          "height": 34
        },
        "outputId": "6351d1a2-498f-4101-df28-4987039c2165"
      },
      "source": [
        "q1, q2, q3 = mkt.idade_media_socios.quantile([0.25, 0.5, 0.75])\n",
        "IQR = q3 - q1\n",
        "int_sup = IQR * 1.5 + q3\n",
        "int_inf = q1 - IQR * 1.5\n",
        "int_sup, int_inf"
      ],
      "execution_count": null,
      "outputs": [
        {
          "output_type": "execute_result",
          "data": {
            "text/plain": [
              "(61.0, 21.0)"
            ]
          },
          "metadata": {
            "tags": []
          },
          "execution_count": 41
        }
      ]
    },
    {
      "cell_type": "code",
      "metadata": {
        "id": "S0q3vU5beHcB",
        "colab_type": "code",
        "colab": {}
      },
      "source": [
        "mkt.loc[mkt[\"idade_media_socios\"] > int_sup, \"idade_media_socios\"] = mkt.idade_media_socios.median()\n",
        "mkt.loc[mkt[\"idade_media_socios\"] < int_inf, \"idade_media_socios\"] = mkt.idade_media_socios.median()"
      ],
      "execution_count": null,
      "outputs": []
    },
    {
      "cell_type": "code",
      "metadata": {
        "id": "xpTfgrh-gKZU",
        "colab_type": "code",
        "colab": {
          "base_uri": "https://localhost:8080/",
          "height": 268
        },
        "outputId": "eaef5bab-a06d-4c35-c4f0-d94dc5057422"
      },
      "source": [
        "sns.boxplot(pd.DataFrame(mkt[\"idade_media_socios\"].round(0)));"
      ],
      "execution_count": null,
      "outputs": [
        {
          "output_type": "display_data",
          "data": {
            "image/png": "[encoded data removed]",
            "text/plain": [
              "<Figure size 432x288 with 1 Axes>"
            ]
          },
          "metadata": {
            "tags": [],
            "needs_background": "light"
          }
        }
      ]
    },
    {
      "cell_type": "markdown",
      "metadata": {
        "id": "XyH4-cSIFd4-",
        "colab_type": "text"
      },
      "source": [
        "---"
      ]
    },
    {
      "cell_type": "code",
      "metadata": {
        "id": "yi8AAukTNvos",
        "colab_type": "code",
        "colab": {
          "base_uri": "https://localhost:8080/",
          "height": 221
        },
        "outputId": "f1f3ee0e-b4ac-4995-8130-28e9394b5919"
      },
      "source": [
        "mkt.dt_situacao = pd.DatetimeIndex(mkt.dt_situacao).year\n",
        "mkt.dt_situacao"
      ],
      "execution_count": null,
      "outputs": [
        {
          "output_type": "execute_result",
          "data": {
            "text/plain": [
              "0         2005\n",
              "1         2017\n",
              "2         2011\n",
              "3         2012\n",
              "4         2015\n",
              "          ... \n",
              "462293    2015\n",
              "462294    2009\n",
              "462295    2005\n",
              "462296    2016\n",
              "462297    2018\n",
              "Name: dt_situacao, Length: 460371, dtype: int64"
            ]
          },
          "metadata": {
            "tags": []
          },
          "execution_count": 44
        }
      ]
    },
    {
      "cell_type": "markdown",
      "metadata": {
        "id": "KhmRMLgNDuz1",
        "colab_type": "text"
      },
      "source": [
        "## Bin continuous data into intervals"
      ]
    },
    {
      "cell_type": "code",
      "metadata": {
        "id": "aJypTA3HD13B",
        "colab_type": "code",
        "colab": {}
      },
      "source": [
        "X = mkt.copy()"
      ],
      "execution_count": null,
      "outputs": []
    },
    {
      "cell_type": "code",
      "metadata": {
        "id": "XjZqe8eRDnW7",
        "colab_type": "code",
        "colab": {}
      },
      "source": [
        "colsToBin = [\"dt_situacao\", \"idade_media_socios\", \"qt_socios\"]\n",
        "est = KBinsDiscretizer(n_bins=5, encode='ordinal', strategy='uniform')\n",
        "X[colsToBin] = est.fit_transform(X[colsToBin]).astype(int)"
      ],
      "execution_count": null,
      "outputs": []
    },
    {
      "cell_type": "markdown",
      "metadata": {
        "id": "RFCdLYyHNtw-",
        "colab_type": "text"
      },
      "source": [
        "### Enconding"
      ]
    },
    {
      "cell_type": "code",
      "metadata": {
        "id": "gEQYjURGNKt_",
        "colab_type": "code",
        "colab": {
          "base_uri": "https://localhost:8080/",
          "height": 102
        },
        "outputId": "0440b87c-3d3f-4f0a-cfa7-03cc6df53008"
      },
      "source": [
        "cat_cols = X.select_dtypes(include=\"category\").columns[1:]\n",
        "cat_cols"
      ],
      "execution_count": null,
      "outputs": [
        {
          "output_type": "execute_result",
          "data": {
            "text/plain": [
              "Index(['de_natureza_juridica', 'sg_uf', 'natureza_juridica_macro', 'de_ramo',\n",
              "       'setor', 'idade_emp_cat', 'fl_rm', 'nm_segmento', 'sg_uf_matriz',\n",
              "       'de_saude_tributaria', 'de_saude_rescencia', 'de_nivel_atividade',\n",
              "       'nm_meso_regiao', 'de_faixa_faturamento_estimado'],\n",
              "      dtype='object')"
            ]
          },
          "metadata": {
            "tags": []
          },
          "execution_count": 52
        }
      ]
    },
    {
      "cell_type": "code",
      "metadata": {
        "id": "liTHwtr5N4pG",
        "colab_type": "code",
        "colab": {
          "base_uri": "https://localhost:8080/",
          "height": 439
        },
        "outputId": "df97f5e8-10ec-4996-ef4a-2133c9fbf6d7"
      },
      "source": [
        "X[cat_cols] = X[cat_cols].apply(lambda col: LabelEncoder().fit_transform(col))\n",
        "X"
      ],
      "execution_count": null,
      "outputs": [
        {
          "output_type": "execute_result",
          "data": {
            "text/html": [
              "<div>\n",
              "<style scoped>\n",
              "    .dataframe tbody tr th:only-of-type {\n",
              "        vertical-align: middle;\n",
              "    }\n",
              "\n",
              "    .dataframe tbody tr th {\n",
              "        vertical-align: top;\n",
              "    }\n",
              "\n",
              "    .dataframe thead th {\n",
              "        text-align: right;\n",
              "    }\n",
              "</style>\n",
              "<table border=\"1\" class=\"dataframe\">\n",
              "  <thead>\n",
              "    <tr style=\"text-align: right;\">\n",
              "      <th></th>\n",
              "      <th>id</th>\n",
              "      <th>fl_matriz</th>\n",
              "      <th>de_natureza_juridica</th>\n",
              "      <th>sg_uf</th>\n",
              "      <th>natureza_juridica_macro</th>\n",
              "      <th>de_ramo</th>\n",
              "      <th>setor</th>\n",
              "      <th>idade_emp_cat</th>\n",
              "      <th>fl_me</th>\n",
              "      <th>fl_sa</th>\n",
              "      <th>fl_epp</th>\n",
              "      <th>fl_mei</th>\n",
              "      <th>fl_ltda</th>\n",
              "      <th>dt_situacao</th>\n",
              "      <th>fl_st_especial</th>\n",
              "      <th>fl_rm</th>\n",
              "      <th>nm_segmento</th>\n",
              "      <th>fl_optante_simples</th>\n",
              "      <th>fl_optante_simei</th>\n",
              "      <th>sg_uf_matriz</th>\n",
              "      <th>de_saude_tributaria</th>\n",
              "      <th>de_saude_rescencia</th>\n",
              "      <th>de_nivel_atividade</th>\n",
              "      <th>nm_meso_regiao</th>\n",
              "      <th>fl_passivel_iss</th>\n",
              "      <th>qt_socios</th>\n",
              "      <th>idade_media_socios</th>\n",
              "      <th>de_faixa_faturamento_estimado</th>\n",
              "      <th>qt_filiais</th>\n",
              "    </tr>\n",
              "  </thead>\n",
              "  <tbody>\n",
              "    <tr>\n",
              "      <th>0</th>\n",
              "      <td>a6984c3ae395090e3bee8ad63c3758b110de096d5d8195...</td>\n",
              "      <td>1</td>\n",
              "      <td>59</td>\n",
              "      <td>4</td>\n",
              "      <td>2</td>\n",
              "      <td>11</td>\n",
              "      <td>2</td>\n",
              "      <td>1</td>\n",
              "      <td>0</td>\n",
              "      <td>0</td>\n",
              "      <td>0</td>\n",
              "      <td>0</td>\n",
              "      <td>0</td>\n",
              "      <td>4</td>\n",
              "      <td>0</td>\n",
              "      <td>1</td>\n",
              "      <td>10</td>\n",
              "      <td>1</td>\n",
              "      <td>0</td>\n",
              "      <td>19</td>\n",
              "      <td>4</td>\n",
              "      <td>0</td>\n",
              "      <td>0</td>\n",
              "      <td>6</td>\n",
              "      <td>1</td>\n",
              "      <td>0</td>\n",
              "      <td>2</td>\n",
              "      <td>2</td>\n",
              "      <td>0</td>\n",
              "    </tr>\n",
              "    <tr>\n",
              "      <th>1</th>\n",
              "      <td>6178f41ade1365e44bc2c46654c2c8c0eaae27dcb476c4...</td>\n",
              "      <td>1</td>\n",
              "      <td>17</td>\n",
              "      <td>3</td>\n",
              "      <td>5</td>\n",
              "      <td>20</td>\n",
              "      <td>4</td>\n",
              "      <td>0</td>\n",
              "      <td>0</td>\n",
              "      <td>0</td>\n",
              "      <td>0</td>\n",
              "      <td>1</td>\n",
              "      <td>0</td>\n",
              "      <td>4</td>\n",
              "      <td>0</td>\n",
              "      <td>1</td>\n",
              "      <td>3</td>\n",
              "      <td>0</td>\n",
              "      <td>1</td>\n",
              "      <td>16</td>\n",
              "      <td>2</td>\n",
              "      <td>1</td>\n",
              "      <td>1</td>\n",
              "      <td>4</td>\n",
              "      <td>1</td>\n",
              "      <td>0</td>\n",
              "      <td>0</td>\n",
              "      <td>10</td>\n",
              "      <td>0</td>\n",
              "    </tr>\n",
              "    <tr>\n",
              "      <th>2</th>\n",
              "      <td>4a7e5069a397f12fdd7fd57111d6dc5d3ba558958efc02...</td>\n",
              "      <td>1</td>\n",
              "      <td>17</td>\n",
              "      <td>1</td>\n",
              "      <td>5</td>\n",
              "      <td>31</td>\n",
              "      <td>4</td>\n",
              "      <td>3</td>\n",
              "      <td>0</td>\n",
              "      <td>0</td>\n",
              "      <td>0</td>\n",
              "      <td>1</td>\n",
              "      <td>0</td>\n",
              "      <td>4</td>\n",
              "      <td>0</td>\n",
              "      <td>1</td>\n",
              "      <td>20</td>\n",
              "      <td>1</td>\n",
              "      <td>1</td>\n",
              "      <td>2</td>\n",
              "      <td>0</td>\n",
              "      <td>0</td>\n",
              "      <td>2</td>\n",
              "      <td>2</td>\n",
              "      <td>1</td>\n",
              "      <td>0</td>\n",
              "      <td>1</td>\n",
              "      <td>1</td>\n",
              "      <td>0</td>\n",
              "    </tr>\n",
              "    <tr>\n",
              "      <th>3</th>\n",
              "      <td>3348900fe63216a439d2e5238c79ddd46ede454df7b9d8...</td>\n",
              "      <td>1</td>\n",
              "      <td>17</td>\n",
              "      <td>1</td>\n",
              "      <td>5</td>\n",
              "      <td>24</td>\n",
              "      <td>4</td>\n",
              "      <td>3</td>\n",
              "      <td>0</td>\n",
              "      <td>0</td>\n",
              "      <td>0</td>\n",
              "      <td>0</td>\n",
              "      <td>0</td>\n",
              "      <td>4</td>\n",
              "      <td>0</td>\n",
              "      <td>1</td>\n",
              "      <td>17</td>\n",
              "      <td>1</td>\n",
              "      <td>0</td>\n",
              "      <td>2</td>\n",
              "      <td>0</td>\n",
              "      <td>0</td>\n",
              "      <td>2</td>\n",
              "      <td>2</td>\n",
              "      <td>1</td>\n",
              "      <td>0</td>\n",
              "      <td>1</td>\n",
              "      <td>10</td>\n",
              "      <td>0</td>\n",
              "    </tr>\n",
              "    <tr>\n",
              "      <th>4</th>\n",
              "      <td>1f9bcabc9d3173c1fe769899e4fac14b053037b953a1e4...</td>\n",
              "      <td>1</td>\n",
              "      <td>17</td>\n",
              "      <td>4</td>\n",
              "      <td>5</td>\n",
              "      <td>26</td>\n",
              "      <td>4</td>\n",
              "      <td>0</td>\n",
              "      <td>0</td>\n",
              "      <td>0</td>\n",
              "      <td>0</td>\n",
              "      <td>0</td>\n",
              "      <td>0</td>\n",
              "      <td>4</td>\n",
              "      <td>0</td>\n",
              "      <td>1</td>\n",
              "      <td>8</td>\n",
              "      <td>1</td>\n",
              "      <td>0</td>\n",
              "      <td>19</td>\n",
              "      <td>4</td>\n",
              "      <td>0</td>\n",
              "      <td>0</td>\n",
              "      <td>6</td>\n",
              "      <td>1</td>\n",
              "      <td>0</td>\n",
              "      <td>1</td>\n",
              "      <td>10</td>\n",
              "      <td>0</td>\n",
              "    </tr>\n",
              "    <tr>\n",
              "      <th>...</th>\n",
              "      <td>...</td>\n",
              "      <td>...</td>\n",
              "      <td>...</td>\n",
              "      <td>...</td>\n",
              "      <td>...</td>\n",
              "      <td>...</td>\n",
              "      <td>...</td>\n",
              "      <td>...</td>\n",
              "      <td>...</td>\n",
              "      <td>...</td>\n",
              "      <td>...</td>\n",
              "      <td>...</td>\n",
              "      <td>...</td>\n",
              "      <td>...</td>\n",
              "      <td>...</td>\n",
              "      <td>...</td>\n",
              "      <td>...</td>\n",
              "      <td>...</td>\n",
              "      <td>...</td>\n",
              "      <td>...</td>\n",
              "      <td>...</td>\n",
              "      <td>...</td>\n",
              "      <td>...</td>\n",
              "      <td>...</td>\n",
              "      <td>...</td>\n",
              "      <td>...</td>\n",
              "      <td>...</td>\n",
              "      <td>...</td>\n",
              "      <td>...</td>\n",
              "    </tr>\n",
              "    <tr>\n",
              "      <th>462293</th>\n",
              "      <td>469ee5fc984d0bb60aa2f40cda4d003d7c9b963d149ed3...</td>\n",
              "      <td>1</td>\n",
              "      <td>17</td>\n",
              "      <td>4</td>\n",
              "      <td>5</td>\n",
              "      <td>3</td>\n",
              "      <td>1</td>\n",
              "      <td>0</td>\n",
              "      <td>0</td>\n",
              "      <td>0</td>\n",
              "      <td>0</td>\n",
              "      <td>1</td>\n",
              "      <td>0</td>\n",
              "      <td>4</td>\n",
              "      <td>0</td>\n",
              "      <td>0</td>\n",
              "      <td>9</td>\n",
              "      <td>1</td>\n",
              "      <td>1</td>\n",
              "      <td>19</td>\n",
              "      <td>4</td>\n",
              "      <td>0</td>\n",
              "      <td>0</td>\n",
              "      <td>0</td>\n",
              "      <td>0</td>\n",
              "      <td>0</td>\n",
              "      <td>1</td>\n",
              "      <td>1</td>\n",
              "      <td>0</td>\n",
              "    </tr>\n",
              "    <tr>\n",
              "      <th>462294</th>\n",
              "      <td>656f496e7e2fad708f0022d8ad97d2cb9344e839a5f3cb...</td>\n",
              "      <td>1</td>\n",
              "      <td>17</td>\n",
              "      <td>3</td>\n",
              "      <td>5</td>\n",
              "      <td>19</td>\n",
              "      <td>4</td>\n",
              "      <td>3</td>\n",
              "      <td>0</td>\n",
              "      <td>0</td>\n",
              "      <td>0</td>\n",
              "      <td>0</td>\n",
              "      <td>0</td>\n",
              "      <td>4</td>\n",
              "      <td>0</td>\n",
              "      <td>1</td>\n",
              "      <td>5</td>\n",
              "      <td>0</td>\n",
              "      <td>0</td>\n",
              "      <td>16</td>\n",
              "      <td>3</td>\n",
              "      <td>0</td>\n",
              "      <td>3</td>\n",
              "      <td>4</td>\n",
              "      <td>1</td>\n",
              "      <td>0</td>\n",
              "      <td>1</td>\n",
              "      <td>10</td>\n",
              "      <td>0</td>\n",
              "    </tr>\n",
              "    <tr>\n",
              "      <th>462295</th>\n",
              "      <td>9b933a5cf2149d1338f00fb459d34a16b9b0f2e8d3e8e1...</td>\n",
              "      <td>1</td>\n",
              "      <td>0</td>\n",
              "      <td>2</td>\n",
              "      <td>3</td>\n",
              "      <td>23</td>\n",
              "      <td>4</td>\n",
              "      <td>5</td>\n",
              "      <td>0</td>\n",
              "      <td>0</td>\n",
              "      <td>0</td>\n",
              "      <td>0</td>\n",
              "      <td>0</td>\n",
              "      <td>4</td>\n",
              "      <td>0</td>\n",
              "      <td>1</td>\n",
              "      <td>18</td>\n",
              "      <td>0</td>\n",
              "      <td>0</td>\n",
              "      <td>9</td>\n",
              "      <td>0</td>\n",
              "      <td>0</td>\n",
              "      <td>2</td>\n",
              "      <td>8</td>\n",
              "      <td>1</td>\n",
              "      <td>0</td>\n",
              "      <td>1</td>\n",
              "      <td>10</td>\n",
              "      <td>0</td>\n",
              "    </tr>\n",
              "    <tr>\n",
              "      <th>462296</th>\n",
              "      <td>84db0f17467cf4f02439e01ade57150b6ac59d9dae53ed...</td>\n",
              "      <td>1</td>\n",
              "      <td>59</td>\n",
              "      <td>5</td>\n",
              "      <td>2</td>\n",
              "      <td>5</td>\n",
              "      <td>1</td>\n",
              "      <td>0</td>\n",
              "      <td>0</td>\n",
              "      <td>0</td>\n",
              "      <td>0</td>\n",
              "      <td>0</td>\n",
              "      <td>0</td>\n",
              "      <td>4</td>\n",
              "      <td>0</td>\n",
              "      <td>0</td>\n",
              "      <td>9</td>\n",
              "      <td>0</td>\n",
              "      <td>0</td>\n",
              "      <td>20</td>\n",
              "      <td>4</td>\n",
              "      <td>0</td>\n",
              "      <td>0</td>\n",
              "      <td>2</td>\n",
              "      <td>0</td>\n",
              "      <td>0</td>\n",
              "      <td>1</td>\n",
              "      <td>7</td>\n",
              "      <td>0</td>\n",
              "    </tr>\n",
              "    <tr>\n",
              "      <th>462297</th>\n",
              "      <td>3d43e934e150b86be1e67524f5ba1018b27da9ef25566d...</td>\n",
              "      <td>1</td>\n",
              "      <td>17</td>\n",
              "      <td>5</td>\n",
              "      <td>5</td>\n",
              "      <td>31</td>\n",
              "      <td>4</td>\n",
              "      <td>4</td>\n",
              "      <td>0</td>\n",
              "      <td>0</td>\n",
              "      <td>0</td>\n",
              "      <td>1</td>\n",
              "      <td>0</td>\n",
              "      <td>4</td>\n",
              "      <td>0</td>\n",
              "      <td>0</td>\n",
              "      <td>20</td>\n",
              "      <td>0</td>\n",
              "      <td>1</td>\n",
              "      <td>20</td>\n",
              "      <td>2</td>\n",
              "      <td>4</td>\n",
              "      <td>1</td>\n",
              "      <td>2</td>\n",
              "      <td>1</td>\n",
              "      <td>0</td>\n",
              "      <td>2</td>\n",
              "      <td>10</td>\n",
              "      <td>0</td>\n",
              "    </tr>\n",
              "  </tbody>\n",
              "</table>\n",
              "<p>460371 rows × 29 columns</p>\n",
              "</div>"
            ],
            "text/plain": [
              "                                                       id  fl_matriz  \\\n",
              "0       a6984c3ae395090e3bee8ad63c3758b110de096d5d8195...          1   \n",
              "1       6178f41ade1365e44bc2c46654c2c8c0eaae27dcb476c4...          1   \n",
              "2       4a7e5069a397f12fdd7fd57111d6dc5d3ba558958efc02...          1   \n",
              "3       3348900fe63216a439d2e5238c79ddd46ede454df7b9d8...          1   \n",
              "4       1f9bcabc9d3173c1fe769899e4fac14b053037b953a1e4...          1   \n",
              "...                                                   ...        ...   \n",
              "462293  469ee5fc984d0bb60aa2f40cda4d003d7c9b963d149ed3...          1   \n",
              "462294  656f496e7e2fad708f0022d8ad97d2cb9344e839a5f3cb...          1   \n",
              "462295  9b933a5cf2149d1338f00fb459d34a16b9b0f2e8d3e8e1...          1   \n",
              "462296  84db0f17467cf4f02439e01ade57150b6ac59d9dae53ed...          1   \n",
              "462297  3d43e934e150b86be1e67524f5ba1018b27da9ef25566d...          1   \n",
              "\n",
              "        de_natureza_juridica  sg_uf  natureza_juridica_macro  de_ramo  setor  \\\n",
              "0                         59      4                        2       11      2   \n",
              "1                         17      3                        5       20      4   \n",
              "2                         17      1                        5       31      4   \n",
              "3                         17      1                        5       24      4   \n",
              "4                         17      4                        5       26      4   \n",
              "...                      ...    ...                      ...      ...    ...   \n",
              "462293                    17      4                        5        3      1   \n",
              "462294                    17      3                        5       19      4   \n",
              "462295                     0      2                        3       23      4   \n",
              "462296                    59      5                        2        5      1   \n",
              "462297                    17      5                        5       31      4   \n",
              "\n",
              "        idade_emp_cat  fl_me  fl_sa  fl_epp  fl_mei  fl_ltda  dt_situacao  \\\n",
              "0                   1      0      0       0       0        0            4   \n",
              "1                   0      0      0       0       1        0            4   \n",
              "2                   3      0      0       0       1        0            4   \n",
              "3                   3      0      0       0       0        0            4   \n",
              "4                   0      0      0       0       0        0            4   \n",
              "...               ...    ...    ...     ...     ...      ...          ...   \n",
              "462293              0      0      0       0       1        0            4   \n",
              "462294              3      0      0       0       0        0            4   \n",
              "462295              5      0      0       0       0        0            4   \n",
              "462296              0      0      0       0       0        0            4   \n",
              "462297              4      0      0       0       1        0            4   \n",
              "\n",
              "        fl_st_especial  fl_rm  nm_segmento  fl_optante_simples  \\\n",
              "0                    0      1           10                   1   \n",
              "1                    0      1            3                   0   \n",
              "2                    0      1           20                   1   \n",
              "3                    0      1           17                   1   \n",
              "4                    0      1            8                   1   \n",
              "...                ...    ...          ...                 ...   \n",
              "462293               0      0            9                   1   \n",
              "462294               0      1            5                   0   \n",
              "462295               0      1           18                   0   \n",
              "462296               0      0            9                   0   \n",
              "462297               0      0           20                   0   \n",
              "\n",
              "        fl_optante_simei  sg_uf_matriz  de_saude_tributaria  \\\n",
              "0                      0            19                    4   \n",
              "1                      1            16                    2   \n",
              "2                      1             2                    0   \n",
              "3                      0             2                    0   \n",
              "4                      0            19                    4   \n",
              "...                  ...           ...                  ...   \n",
              "462293                 1            19                    4   \n",
              "462294                 0            16                    3   \n",
              "462295                 0             9                    0   \n",
              "462296                 0            20                    4   \n",
              "462297                 1            20                    2   \n",
              "\n",
              "        de_saude_rescencia  de_nivel_atividade  nm_meso_regiao  \\\n",
              "0                        0                   0               6   \n",
              "1                        1                   1               4   \n",
              "2                        0                   2               2   \n",
              "3                        0                   2               2   \n",
              "4                        0                   0               6   \n",
              "...                    ...                 ...             ...   \n",
              "462293                   0                   0               0   \n",
              "462294                   0                   3               4   \n",
              "462295                   0                   2               8   \n",
              "462296                   0                   0               2   \n",
              "462297                   4                   1               2   \n",
              "\n",
              "        fl_passivel_iss  qt_socios  idade_media_socios  \\\n",
              "0                     1          0                   2   \n",
              "1                     1          0                   0   \n",
              "2                     1          0                   1   \n",
              "3                     1          0                   1   \n",
              "4                     1          0                   1   \n",
              "...                 ...        ...                 ...   \n",
              "462293                0          0                   1   \n",
              "462294                1          0                   1   \n",
              "462295                1          0                   1   \n",
              "462296                0          0                   1   \n",
              "462297                1          0                   2   \n",
              "\n",
              "        de_faixa_faturamento_estimado  qt_filiais  \n",
              "0                                   2           0  \n",
              "1                                  10           0  \n",
              "2                                   1           0  \n",
              "3                                  10           0  \n",
              "4                                  10           0  \n",
              "...                               ...         ...  \n",
              "462293                              1           0  \n",
              "462294                             10           0  \n",
              "462295                             10           0  \n",
              "462296                              7           0  \n",
              "462297                             10           0  \n",
              "\n",
              "[460371 rows x 29 columns]"
            ]
          },
          "metadata": {
            "tags": []
          },
          "execution_count": 53
        }
      ]
    },
    {
      "cell_type": "code",
      "metadata": {
        "id": "TTQmH3LUOEmN",
        "colab_type": "code",
        "colab": {
          "base_uri": "https://localhost:8080/",
          "height": 629
        },
        "outputId": "4673438f-96cd-405f-cc3a-9d4145184010"
      },
      "source": [
        "X.info(memory_usage=\"deep\")"
      ],
      "execution_count": null,
      "outputs": [
        {
          "output_type": "stream",
          "text": [
            "<class 'pandas.core.frame.DataFrame'>\n",
            "Int64Index: 460371 entries, 0 to 462297\n",
            "Data columns (total 29 columns):\n",
            " #   Column                         Non-Null Count   Dtype   \n",
            "---  ------                         --------------   -----   \n",
            " 0   id                             460371 non-null  category\n",
            " 1   fl_matriz                      460371 non-null  int16   \n",
            " 2   de_natureza_juridica           460371 non-null  int64   \n",
            " 3   sg_uf                          460371 non-null  int64   \n",
            " 4   natureza_juridica_macro        460371 non-null  int64   \n",
            " 5   de_ramo                        460371 non-null  int64   \n",
            " 6   setor                          460371 non-null  int64   \n",
            " 7   idade_emp_cat                  460371 non-null  int64   \n",
            " 8   fl_me                          460371 non-null  int16   \n",
            " 9   fl_sa                          460371 non-null  int16   \n",
            " 10  fl_epp                         460371 non-null  int16   \n",
            " 11  fl_mei                         460371 non-null  int16   \n",
            " 12  fl_ltda                        460371 non-null  int16   \n",
            " 13  dt_situacao                    460371 non-null  int64   \n",
            " 14  fl_st_especial                 460371 non-null  int16   \n",
            " 15  fl_rm                          460371 non-null  int64   \n",
            " 16  nm_segmento                    460371 non-null  int64   \n",
            " 17  fl_optante_simples             460371 non-null  int16   \n",
            " 18  fl_optante_simei               460371 non-null  int16   \n",
            " 19  sg_uf_matriz                   460371 non-null  int64   \n",
            " 20  de_saude_tributaria            460371 non-null  int64   \n",
            " 21  de_saude_rescencia             460371 non-null  int64   \n",
            " 22  de_nivel_atividade             460371 non-null  int64   \n",
            " 23  nm_meso_regiao                 460371 non-null  int64   \n",
            " 24  fl_passivel_iss                460371 non-null  int16   \n",
            " 25  qt_socios                      460371 non-null  int64   \n",
            " 26  idade_media_socios             460371 non-null  int64   \n",
            " 27  de_faixa_faturamento_estimado  460371 non-null  int64   \n",
            " 28  qt_filiais                     460371 non-null  int16   \n",
            "dtypes: category(1), int16(11), int64(17)\n",
            "memory usage: 148.0 MB\n"
          ],
          "name": "stdout"
        }
      ]
    },
    {
      "cell_type": "markdown",
      "metadata": {
        "id": "NqPA53aGSeVd",
        "colab_type": "text"
      },
      "source": [
        "## Trying PCA"
      ]
    },
    {
      "cell_type": "code",
      "metadata": {
        "id": "hp-I2SmSSdV4",
        "colab_type": "code",
        "colab": {}
      },
      "source": [
        ""
      ],
      "execution_count": null,
      "outputs": []
    },
    {
      "cell_type": "markdown",
      "metadata": {
        "id": "DFY7xvNJkhm5",
        "colab_type": "text"
      },
      "source": [
        "## Geting the ID's"
      ]
    },
    {
      "cell_type": "code",
      "metadata": {
        "id": "3OFf5pKdR-NS",
        "colab_type": "code",
        "colab": {}
      },
      "source": [
        "port1 = port1[[\"id\"]]\n",
        "port2 = port2[[\"id\"]]\n",
        "port3 = port3[[\"id\"]]\n",
        "\n",
        "X.shape, port1.shape, port2.shape, port3.shape"
      ],
      "execution_count": null,
      "outputs": []
    },
    {
      "cell_type": "code",
      "metadata": {
        "id": "Js5dA6yu50Xf",
        "colab_type": "code",
        "colab": {
          "base_uri": "https://localhost:8080/",
          "height": 34
        },
        "outputId": "5dfc8f37-f071-4d0e-b413-9c4acb5eda7e"
      },
      "source": [
        "port1 = port1.merge(right=X, how=\"inner\", on=\"id\")\n",
        "port2 = port2.merge(right=X, how=\"inner\", on=\"id\")\n",
        "port3 = port3.merge(right=X, how=\"inner\", on=\"id\")\n",
        "\n",
        "port1.shape, port2.shape, port3.shape"
      ],
      "execution_count": null,
      "outputs": [
        {
          "output_type": "execute_result",
          "data": {
            "text/plain": [
              "((555, 28), (566, 28), (265, 28))"
            ]
          },
          "metadata": {
            "tags": []
          },
          "execution_count": 64
        }
      ]
    },
    {
      "cell_type": "markdown",
      "metadata": {
        "id": "CobhzKyXv2eB",
        "colab_type": "text"
      },
      "source": [
        "## Exporting CSV"
      ]
    },
    {
      "cell_type": "code",
      "metadata": {
        "id": "9eDjF59Zv9UV",
        "colab_type": "code",
        "colab": {}
      },
      "source": [
        "mkt.to_csv(\"mkt\", index=False)\n",
        "\n",
        "X.to_csv(\"mktX\", index=False)\n",
        "\n",
        "port1.to_csv(\"port1\", index=False)\n",
        "port2.to_csv(\"port2\", index=False)\n",
        "port3.to_csv(\"port3\", index=False)"
      ],
      "execution_count": null,
      "outputs": []
    },
    {
      "cell_type": "markdown",
      "metadata": {
        "id": "Qd-pd3Cgkv05",
        "colab_type": "text"
      },
      "source": [
        "# GarbageCollector"
      ]
    },
    {
      "cell_type": "code",
      "metadata": {
        "id": "rPP8tSpJ2tet",
        "colab_type": "code",
        "colab": {}
      },
      "source": [
        "trash = 0"
      ],
      "execution_count": null,
      "outputs": []
    },
    {
      "cell_type": "code",
      "metadata": {
        "id": "fZUIRsF9k2Y0",
        "colab_type": "code",
        "colab": {
          "base_uri": "https://localhost:8080/",
          "height": 34
        },
        "outputId": "39328748-f99e-4060-e7c0-cedf8c778d14"
      },
      "source": [
        "trash += gc.collect()\n",
        "trash"
      ],
      "execution_count": null,
      "outputs": [
        {
          "output_type": "execute_result",
          "data": {
            "text/plain": [
              "5401"
            ]
          },
          "metadata": {
            "tags": []
          },
          "execution_count": 71
        }
      ]
    },
    {
      "cell_type": "code",
      "metadata": {
        "id": "GdlA69P0_D-f",
        "colab_type": "code",
        "colab": {}
      },
      "source": [
        ""
      ],
      "execution_count": null,
      "outputs": []
    }
  ]
}