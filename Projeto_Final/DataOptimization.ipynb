{
  "nbformat": 4,
  "nbformat_minor": 0,
  "metadata": {
    "colab": {
      "name": "DataOptimization",
      "provenance": [],
      "authorship_tag": "ABX9TyOyX1j/lkhThMgdyj4qHe5r",
      "include_colab_link": true
    },
    "kernelspec": {
      "name": "python3",
      "display_name": "Python 3"
    }
  },
  "cells": [
    {
      "cell_type": "markdown",
      "metadata": {
        "id": "view-in-github",
        "colab_type": "text"
      },
      "source": [
        "<a href=\"https://colab.research.google.com/github/LucasDatilioCarderelli/Codenation/blob/master/Projeto_Final/DataOptimization.ipynb\" target=\"_parent\"><img src=\"https://colab.research.google.com/assets/colab-badge.svg\" alt=\"Open In Colab\"/></a>"
      ]
    },
    {
      "cell_type": "code",
      "metadata": {
        "id": "2fYXFaHZ8KgR",
        "colab_type": "code",
        "colab": {}
      },
      "source": [
        "import pandas as pd"
      ],
      "execution_count": 1,
      "outputs": []
    },
    {
      "cell_type": "code",
      "metadata": {
        "id": "2THBBqb2cRUl",
        "colab_type": "code",
        "colab": {
          "base_uri": "https://localhost:8080/",
          "height": 70
        },
        "outputId": "e7d3b2e1-d097-4aee-d380-c7922e5dd3c1"
      },
      "source": [
        "mkt = pd.read_csv(\"/content/estaticos_market.csv\")\n",
        "\n",
        "port1 = pd.read_csv(\"/content/estaticos_portfolio1.csv\")\n",
        "port2 = pd.read_csv(\"/content/estaticos_portfolio2.csv\")\n",
        "port3 = pd.read_csv(\"/content/estaticos_portfolio3.csv\")"
      ],
      "execution_count": 13,
      "outputs": [
        {
          "output_type": "stream",
          "text": [
            "/usr/local/lib/python3.6/dist-packages/IPython/core/interactiveshell.py:2718: DtypeWarning: Columns (12,13,14,16,17,18) have mixed types.Specify dtype option on import or set low_memory=False.\n",
            "  interactivity=interactivity, compiler=compiler, result=result)\n"
          ],
          "name": "stderr"
        }
      ]
    },
    {
      "cell_type": "code",
      "metadata": {
        "id": "A0UhYHmTcsYH",
        "colab_type": "code",
        "colab": {
          "base_uri": "https://localhost:8080/",
          "height": 33
        },
        "outputId": "8af93410-384f-4744-af90-45d16792868a"
      },
      "source": [
        "mkt.shape, port1.shape, port2.shape, port3.shape"
      ],
      "execution_count": 18,
      "outputs": [
        {
          "output_type": "execute_result",
          "data": {
            "text/plain": [
              "((14130, 182), (555, 182), (566, 2), (265, 2))"
            ]
          },
          "metadata": {
            "tags": []
          },
          "execution_count": 18
        }
      ]
    },
    {
      "cell_type": "code",
      "metadata": {
        "id": "vYLpERbzr04g",
        "colab_type": "code",
        "colab": {
          "base_uri": "https://localhost:8080/",
          "height": 176
        },
        "outputId": "7e82fcaa-baf3-45b7-e0a2-bed4f87e7fde"
      },
      "source": [
        "mkt.head(1)"
      ],
      "execution_count": 30,
      "outputs": [
        {
          "output_type": "execute_result",
          "data": {
            "text/html": [
              "<div>\n",
              "<style scoped>\n",
              "    .dataframe tbody tr th:only-of-type {\n",
              "        vertical-align: middle;\n",
              "    }\n",
              "\n",
              "    .dataframe tbody tr th {\n",
              "        vertical-align: top;\n",
              "    }\n",
              "\n",
              "    .dataframe thead th {\n",
              "        text-align: right;\n",
              "    }\n",
              "</style>\n",
              "<table border=\"1\" class=\"dataframe\">\n",
              "  <thead>\n",
              "    <tr style=\"text-align: right;\">\n",
              "      <th></th>\n",
              "      <th>Unnamed: 0</th>\n",
              "      <th>id</th>\n",
              "      <th>fl_matriz</th>\n",
              "      <th>de_natureza_juridica</th>\n",
              "      <th>sg_uf</th>\n",
              "      <th>natureza_juridica_macro</th>\n",
              "      <th>de_ramo</th>\n",
              "      <th>setor</th>\n",
              "      <th>idade_empresa_anos</th>\n",
              "      <th>idade_emp_cat</th>\n",
              "      <th>fl_me</th>\n",
              "      <th>fl_sa</th>\n",
              "      <th>fl_epp</th>\n",
              "      <th>fl_mei</th>\n",
              "      <th>fl_ltda</th>\n",
              "      <th>dt_situacao</th>\n",
              "      <th>fl_st_especial</th>\n",
              "      <th>fl_email</th>\n",
              "      <th>fl_telefone</th>\n",
              "      <th>fl_rm</th>\n",
              "      <th>nm_divisao</th>\n",
              "      <th>nm_segmento</th>\n",
              "      <th>fl_spa</th>\n",
              "      <th>fl_antt</th>\n",
              "      <th>fl_veiculo</th>\n",
              "      <th>vl_total_tancagem</th>\n",
              "      <th>vl_total_veiculos_antt</th>\n",
              "      <th>vl_total_veiculos_leves</th>\n",
              "      <th>vl_total_veiculos_pesados</th>\n",
              "      <th>fl_optante_simples</th>\n",
              "      <th>qt_art</th>\n",
              "      <th>vl_total_veiculos_pesados_grupo</th>\n",
              "      <th>vl_total_veiculos_leves_grupo</th>\n",
              "      <th>vl_total_tancagem_grupo</th>\n",
              "      <th>vl_total_veiculos_antt_grupo</th>\n",
              "      <th>vl_potenc_cons_oleo_gas</th>\n",
              "      <th>fl_optante_simei</th>\n",
              "      <th>sg_uf_matriz</th>\n",
              "      <th>de_saude_tributaria</th>\n",
              "      <th>de_saude_rescencia</th>\n",
              "      <th>...</th>\n",
              "      <th>vl_faturamento_estimado_aux</th>\n",
              "      <th>vl_faturamento_estimado_grupo_aux</th>\n",
              "      <th>qt_ex_funcionarios</th>\n",
              "      <th>qt_funcionarios_grupo</th>\n",
              "      <th>percent_func_genero_masc</th>\n",
              "      <th>percent_func_genero_fem</th>\n",
              "      <th>idade_ate_18</th>\n",
              "      <th>idade_de_19_a_23</th>\n",
              "      <th>idade_de_24_a_28</th>\n",
              "      <th>idade_de_29_a_33</th>\n",
              "      <th>idade_de_34_a_38</th>\n",
              "      <th>idade_de_39_a_43</th>\n",
              "      <th>idade_de_44_a_48</th>\n",
              "      <th>idade_de_49_a_53</th>\n",
              "      <th>idade_de_54_a_58</th>\n",
              "      <th>idade_acima_de_58</th>\n",
              "      <th>grau_instrucao_macro_analfabeto</th>\n",
              "      <th>grau_instrucao_macro_escolaridade_fundamental</th>\n",
              "      <th>grau_instrucao_macro_escolaridade_media</th>\n",
              "      <th>grau_instrucao_macro_escolaridade_superior</th>\n",
              "      <th>grau_instrucao_macro_desconhecido</th>\n",
              "      <th>total</th>\n",
              "      <th>meses_ultima_contratacaco</th>\n",
              "      <th>qt_admitidos_12meses</th>\n",
              "      <th>qt_desligados_12meses</th>\n",
              "      <th>qt_desligados</th>\n",
              "      <th>qt_admitidos</th>\n",
              "      <th>media_meses_servicos_all</th>\n",
              "      <th>max_meses_servicos_all</th>\n",
              "      <th>min_meses_servicos_all</th>\n",
              "      <th>media_meses_servicos</th>\n",
              "      <th>max_meses_servicos</th>\n",
              "      <th>min_meses_servicos</th>\n",
              "      <th>qt_funcionarios</th>\n",
              "      <th>qt_funcionarios_12meses</th>\n",
              "      <th>qt_funcionarios_24meses</th>\n",
              "      <th>tx_crescimento_12meses</th>\n",
              "      <th>tx_crescimento_24meses</th>\n",
              "      <th>tx_rotatividade</th>\n",
              "      <th>qt_filiais</th>\n",
              "    </tr>\n",
              "  </thead>\n",
              "  <tbody>\n",
              "    <tr>\n",
              "      <th>0</th>\n",
              "      <td>0</td>\n",
              "      <td>a6984c3ae395090e3bee8ad63c3758b110de096d5d8195...</td>\n",
              "      <td>True</td>\n",
              "      <td>SOCIEDADE EMPRESARIA LIMITADA</td>\n",
              "      <td>RN</td>\n",
              "      <td>ENTIDADES EMPRESARIAIS</td>\n",
              "      <td>INDUSTRIA DA CONSTRUCAO</td>\n",
              "      <td>CONSTRUÇÃO CIVIL</td>\n",
              "      <td>14.457534</td>\n",
              "      <td>10 a 15</td>\n",
              "      <td>False</td>\n",
              "      <td>False</td>\n",
              "      <td>False</td>\n",
              "      <td>False</td>\n",
              "      <td>False</td>\n",
              "      <td>2005-03-25</td>\n",
              "      <td>False</td>\n",
              "      <td>True</td>\n",
              "      <td>True</td>\n",
              "      <td>SIM</td>\n",
              "      <td>CONSTRUCAO DE EDIFICIOS</td>\n",
              "      <td>CONSTRUCAO</td>\n",
              "      <td>False</td>\n",
              "      <td>False</td>\n",
              "      <td>False</td>\n",
              "      <td>NaN</td>\n",
              "      <td>NaN</td>\n",
              "      <td>NaN</td>\n",
              "      <td>NaN</td>\n",
              "      <td>True</td>\n",
              "      <td>8.0</td>\n",
              "      <td>0.0</td>\n",
              "      <td>0.0</td>\n",
              "      <td>NaN</td>\n",
              "      <td>NaN</td>\n",
              "      <td>NaN</td>\n",
              "      <td>False</td>\n",
              "      <td>RN</td>\n",
              "      <td>VERDE</td>\n",
              "      <td>ACIMA DE 1 ANO</td>\n",
              "      <td>...</td>\n",
              "      <td>3132172.75</td>\n",
              "      <td>3132172.75</td>\n",
              "      <td>119.0</td>\n",
              "      <td>26.0</td>\n",
              "      <td>100.0</td>\n",
              "      <td>0.0</td>\n",
              "      <td>NaN</td>\n",
              "      <td>1.0</td>\n",
              "      <td>4.0</td>\n",
              "      <td>6.0</td>\n",
              "      <td>5.0</td>\n",
              "      <td>3.0</td>\n",
              "      <td>4.0</td>\n",
              "      <td>2.0</td>\n",
              "      <td>NaN</td>\n",
              "      <td>1.0</td>\n",
              "      <td>NaN</td>\n",
              "      <td>1.0</td>\n",
              "      <td>25.0</td>\n",
              "      <td>NaN</td>\n",
              "      <td>NaN</td>\n",
              "      <td>26.0</td>\n",
              "      <td>19.166666</td>\n",
              "      <td>0.0</td>\n",
              "      <td>0.0</td>\n",
              "      <td>119.0</td>\n",
              "      <td>145.0</td>\n",
              "      <td>13.309196</td>\n",
              "      <td>93.26667</td>\n",
              "      <td>-0.933333</td>\n",
              "      <td>43.738461</td>\n",
              "      <td>93.26667</td>\n",
              "      <td>19.166666</td>\n",
              "      <td>26.0</td>\n",
              "      <td>26.0</td>\n",
              "      <td>27.0</td>\n",
              "      <td>0.0</td>\n",
              "      <td>-3.703704</td>\n",
              "      <td>0.0</td>\n",
              "      <td>0.0</td>\n",
              "    </tr>\n",
              "  </tbody>\n",
              "</table>\n",
              "<p>1 rows × 182 columns</p>\n",
              "</div>"
            ],
            "text/plain": [
              "   Unnamed: 0  ... qt_filiais\n",
              "0           0  ...        0.0\n",
              "\n",
              "[1 rows x 182 columns]"
            ]
          },
          "metadata": {
            "tags": []
          },
          "execution_count": 30
        }
      ]
    },
    {
      "cell_type": "code",
      "metadata": {
        "id": "w0yWkrl9dlc0",
        "colab_type": "code",
        "colab": {
          "base_uri": "https://localhost:8080/",
          "height": 216
        },
        "outputId": "12d95db1-1805-4969-aed5-a661ad190b64"
      },
      "source": [
        "mkt.dtypes"
      ],
      "execution_count": 17,
      "outputs": [
        {
          "output_type": "execute_result",
          "data": {
            "text/plain": [
              "Unnamed: 0                   int64\n",
              "id                          object\n",
              "fl_matriz                     bool\n",
              "de_natureza_juridica        object\n",
              "sg_uf                       object\n",
              "                            ...   \n",
              "qt_funcionarios_24meses    float64\n",
              "tx_crescimento_12meses     float64\n",
              "tx_crescimento_24meses     float64\n",
              "tx_rotatividade            float64\n",
              "qt_filiais                 float64\n",
              "Length: 182, dtype: object"
            ]
          },
          "metadata": {
            "tags": []
          },
          "execution_count": 17
        }
      ]
    },
    {
      "cell_type": "code",
      "metadata": {
        "id": "eiRvLmPoqA_T",
        "colab_type": "code",
        "colab": {
          "base_uri": "https://localhost:8080/",
          "height": 100
        },
        "outputId": "a5f16fbc-2b53-447c-a504-4109a85ec53a"
      },
      "source": [
        "mkt.info(memory_usage='deep')"
      ],
      "execution_count": 20,
      "outputs": [
        {
          "output_type": "stream",
          "text": [
            "<class 'pandas.core.frame.DataFrame'>\n",
            "RangeIndex: 14130 entries, 0 to 14129\n",
            "Columns: 182 entries, Unnamed: 0 to qt_filiais\n",
            "dtypes: bool(3), float64(145), int64(1), object(33)\n",
            "memory usage: 41.0 MB\n"
          ],
          "name": "stdout"
        }
      ]
    },
    {
      "cell_type": "code",
      "metadata": {
        "id": "NipftwebqeKE",
        "colab_type": "code",
        "colab": {
          "base_uri": "https://localhost:8080/",
          "height": 100
        },
        "outputId": "f7c04e8b-0547-4e24-901a-885e3e029777"
      },
      "source": [
        "ints = mkt.select_dtypes(include=['int64','int32','int16']).columns\n",
        "mkt[ints] = mkt[ints].apply(pd.to_numeric, downcast='integer')\n",
        "\n",
        "floats = mkt.select_dtypes(include=['float']).columns\n",
        "mkt[floats] = mkt[floats].apply(pd.to_numeric, downcast='float')\n",
        "\n",
        "objects = mkt.select_dtypes('object').columns\n",
        "mkt[objects] = mkt[objects].apply(lambda x: x.astype('category'))\n",
        "\n",
        "mkt.info(memory_usage='deep')"
      ],
      "execution_count": 22,
      "outputs": [
        {
          "output_type": "stream",
          "text": [
            "<class 'pandas.core.frame.DataFrame'>\n",
            "RangeIndex: 14130 entries, 0 to 14129\n",
            "Columns: 182 entries, Unnamed: 0 to qt_filiais\n",
            "dtypes: bool(3), category(33), float32(145), int16(1)\n",
            "memory usage: 11.1 MB\n"
          ],
          "name": "stdout"
        }
      ]
    },
    {
      "cell_type": "code",
      "metadata": {
        "id": "tBXGeFtprb-w",
        "colab_type": "code",
        "colab": {
          "base_uri": "https://localhost:8080/",
          "height": 33
        },
        "outputId": "b09aeaf6-5f98-4be9-f90d-f31f62e0bb7f"
      },
      "source": [
        "import gc\n",
        "\n",
        "gc.collect()"
      ],
      "execution_count": 27,
      "outputs": [
        {
          "output_type": "execute_result",
          "data": {
            "text/plain": [
              "273"
            ]
          },
          "metadata": {
            "tags": []
          },
          "execution_count": 27
        }
      ]
    },
    {
      "cell_type": "code",
      "metadata": {
        "id": "AELIngrNtWWu",
        "colab_type": "code",
        "colab": {
          "base_uri": "https://localhost:8080/",
          "height": 16
        },
        "outputId": "91e38ab1-5446-4475-a51f-2204bd8b9ec0"
      },
      "source": [
        "from google.colab import files\n",
        "\n",
        "mkt.to_csv('mkt.csv', index=False) \n",
        "files.download('mkt.csv')"
      ],
      "execution_count": 33,
      "outputs": [
        {
          "output_type": "display_data",
          "data": {
            "application/javascript": [
              "\n",
              "    async function download(id, filename, size) {\n",
              "      if (!google.colab.kernel.accessAllowed) {\n",
              "        return;\n",
              "      }\n",
              "      const div = document.createElement('div');\n",
              "      const label = document.createElement('label');\n",
              "      label.textContent = `Downloading \"${filename}\": `;\n",
              "      div.appendChild(label);\n",
              "      const progress = document.createElement('progress');\n",
              "      progress.max = size;\n",
              "      div.appendChild(progress);\n",
              "      document.body.appendChild(div);\n",
              "\n",
              "      const buffers = [];\n",
              "      let downloaded = 0;\n",
              "\n",
              "      const channel = await google.colab.kernel.comms.open(id);\n",
              "      // Send a message to notify the kernel that we're ready.\n",
              "      channel.send({})\n",
              "\n",
              "      for await (const message of channel.messages) {\n",
              "        // Send a message to notify the kernel that we're ready.\n",
              "        channel.send({})\n",
              "        if (message.buffers) {\n",
              "          for (const buffer of message.buffers) {\n",
              "            buffers.push(buffer);\n",
              "            downloaded += buffer.byteLength;\n",
              "            progress.value = downloaded;\n",
              "          }\n",
              "        }\n",
              "      }\n",
              "      const blob = new Blob(buffers, {type: 'application/binary'});\n",
              "      const a = document.createElement('a');\n",
              "      a.href = window.URL.createObjectURL(blob);\n",
              "      a.download = filename;\n",
              "      div.appendChild(a);\n",
              "      a.click();\n",
              "      div.remove();\n",
              "    }\n",
              "  "
            ],
            "text/plain": [
              "<IPython.core.display.Javascript object>"
            ]
          },
          "metadata": {
            "tags": []
          }
        },
        {
          "output_type": "display_data",
          "data": {
            "application/javascript": [
              "download(\"download_049fa73a-74c2-492b-8c21-f274d058677e\", \"mkt.csv\", 10134960)"
            ],
            "text/plain": [
              "<IPython.core.display.Javascript object>"
            ]
          },
          "metadata": {
            "tags": []
          }
        }
      ]
    }
  ]
}