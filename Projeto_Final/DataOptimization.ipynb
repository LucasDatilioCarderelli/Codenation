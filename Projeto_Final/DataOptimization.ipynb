{
 "cells": [
  {
   "cell_type": "markdown",
   "metadata": {},
   "source": [
    "# Data Optimization"
   ]
  },
  {
   "cell_type": "markdown",
   "metadata": {},
   "source": [
    "## Importings"
   ]
  },
  {
   "cell_type": "code",
   "execution_count": 1,
   "metadata": {
    "colab": {},
    "colab_type": "code",
    "id": "2fYXFaHZ8KgR"
   },
   "outputs": [],
   "source": [
    "import pandas as pd"
   ]
  },
  {
   "cell_type": "code",
   "execution_count": 3,
   "metadata": {
    "colab": {
     "base_uri": "https://localhost:8080/",
     "height": 70
    },
    "colab_type": "code",
    "id": "2THBBqb2cRUl",
    "outputId": "e7d3b2e1-d097-4aee-d380-c7922e5dd3c1"
   },
   "outputs": [],
   "source": [
    "mkt = pd.read_csv(\"estaticos_market.csv\")\n",
    "\n",
    "# port1 = pd.read_csv(\"/content/estaticos_portfolio1.csv\")\n",
    "# port2 = pd.read_csv(\"/content/estaticos_portfolio2.csv\")\n",
    "# port3 = pd.read_csv(\"/content/estaticos_portfolio3.csv\")"
   ]
  },
  {
   "cell_type": "code",
   "execution_count": 1,
   "metadata": {},
   "outputs": [
    {
     "ename": "NameError",
     "evalue": "name 'mkt' is not defined",
     "output_type": "error",
     "traceback": [
      "\u001b[1;31m---------------------------------------------------------------------------\u001b[0m",
      "\u001b[1;31mNameError\u001b[0m                                 Traceback (most recent call last)",
      "\u001b[1;32m<ipython-input-1-da80607c2e83>\u001b[0m in \u001b[0;36m<module>\u001b[1;34m\u001b[0m\n\u001b[0;32m      1\u001b[0m \u001b[1;32mimport\u001b[0m \u001b[0mmissingno\u001b[0m\u001b[1;33m\u001b[0m\u001b[1;33m\u001b[0m\u001b[0m\n\u001b[0;32m      2\u001b[0m \u001b[1;33m\u001b[0m\u001b[0m\n\u001b[1;32m----> 3\u001b[1;33m \u001b[0mmissingno\u001b[0m\u001b[1;33m.\u001b[0m\u001b[0mmatrix\u001b[0m\u001b[1;33m(\u001b[0m\u001b[0mmkt\u001b[0m\u001b[1;33m,\u001b[0m \u001b[0mfigsize\u001b[0m\u001b[1;33m=\u001b[0m\u001b[1;33m(\u001b[0m\u001b[1;36m10\u001b[0m\u001b[1;33m,\u001b[0m \u001b[1;36m8\u001b[0m\u001b[1;33m)\u001b[0m\u001b[1;33m)\u001b[0m\u001b[1;33m;\u001b[0m\u001b[1;33m\u001b[0m\u001b[1;33m\u001b[0m\u001b[0m\n\u001b[0m",
      "\u001b[1;31mNameError\u001b[0m: name 'mkt' is not defined"
     ]
    }
   ],
   "source": [
    "import missingno\n",
    "\n",
    "missingno.matrix(mkt, figsize=(10, 8));"
   ]
  },
  {
   "cell_type": "markdown",
   "metadata": {},
   "source": [
    "## Downcast DTypes"
   ]
  },
  {
   "cell_type": "code",
   "execution_count": 7,
   "metadata": {
    "colab": {
     "base_uri": "https://localhost:8080/",
     "height": 100
    },
    "colab_type": "code",
    "id": "eiRvLmPoqA_T",
    "outputId": "a5f16fbc-2b53-447c-a504-4109a85ec53a"
   },
   "outputs": [
    {
     "name": "stdout",
     "output_type": "stream",
     "text": [
      "<class 'pandas.core.frame.DataFrame'>\n",
      "RangeIndex: 462298 entries, 0 to 462297\n",
      "Columns: 182 entries, Unnamed: 0 to qt_filiais\n",
      "dtypes: bool(9), float64(144), int64(2), object(27)\n",
      "memory usage: 1.2 GB\n"
     ]
    }
   ],
   "source": [
    "mkt.info(memory_usage='deep')"
   ]
  },
  {
   "cell_type": "code",
   "execution_count": 34,
   "metadata": {},
   "outputs": [],
   "source": [
    "mkt.drop(['Unnamed: 0', 'id'], axis=1, inplace=True)"
   ]
  },
  {
   "cell_type": "code",
   "execution_count": 18,
   "metadata": {
    "colab": {
     "base_uri": "https://localhost:8080/",
     "height": 100
    },
    "colab_type": "code",
    "id": "NipftwebqeKE",
    "outputId": "f7c04e8b-0547-4e24-901a-885e3e029777"
   },
   "outputs": [
    {
     "name": "stdout",
     "output_type": "stream",
     "text": [
      "<class 'pandas.core.frame.DataFrame'>\n",
      "RangeIndex: 462298 entries, 0 to 462297\n",
      "Columns: 182 entries, Unnamed: 0 to qt_filiais\n",
      "dtypes: bool(9), category(27), float32(144), int16(1), int32(1)\n",
      "memory usage: 348.4 MB\n"
     ]
    }
   ],
   "source": [
    "ints = mkt.select_dtypes(include=['int64','int32','int16']).columns\n",
    "mkt[ints] = mkt[ints].apply(pd.to_numeric, downcast='integer')\n",
    "\n",
    "floats = mkt.select_dtypes(include=['float']).columns\n",
    "mkt[floats] = mkt[floats].apply(pd.to_numeric, downcast='float')\n",
    "\n",
    "objects = mkt.select_dtypes('object').columns\n",
    "mkt[objects] = mkt[objects].apply(lambda x: x.astype('category'))\n",
    "\n",
    "mkt.info(memory_usage='deep')"
   ]
  },
  {
   "cell_type": "code",
   "execution_count": 150,
   "metadata": {},
   "outputs": [],
   "source": [
    "floint = mkt.columns.str.contains(\"qt_\")*1\n",
    "qt_col = []\n",
    "for i in range(0, len(mkt.columns)):\n",
    "    if floint[i] == 1:\n",
    "        qt_col.append(mkt.columns[i])"
   ]
  },
  {
   "cell_type": "code",
   "execution_count": 129,
   "metadata": {},
   "outputs": [
    {
     "name": "stdout",
     "output_type": "stream",
     "text": [
      "<class 'pandas.core.frame.DataFrame'>\n",
      "RangeIndex: 462298 entries, 0 to 462297\n",
      "Columns: 180 entries, fl_matriz to qt_filiais\n",
      "dtypes: bool(9), category(26), float32(144), int16(1)\n",
      "memory usage: 271.5 MB\n"
     ]
    }
   ],
   "source": [
    "mkt.info(memory_usage='deep')"
   ]
  },
  {
   "cell_type": "markdown",
   "metadata": {},
   "source": [
    "## Garbage Colecting"
   ]
  },
  {
   "cell_type": "code",
   "execution_count": 145,
   "metadata": {
    "colab": {
     "base_uri": "https://localhost:8080/",
     "height": 33
    },
    "colab_type": "code",
    "id": "tBXGeFtprb-w",
    "outputId": "b09aeaf6-5f98-4be9-f90d-f31f62e0bb7f"
   },
   "outputs": [],
   "source": [
    "import gc\n",
    "gc.collect();"
   ]
  },
  {
   "cell_type": "markdown",
   "metadata": {},
   "source": [
    "## Exporting"
   ]
  },
  {
   "cell_type": "code",
   "execution_count": 10,
   "metadata": {
    "colab": {
     "base_uri": "https://localhost:8080/",
     "height": 16
    },
    "colab_type": "code",
    "id": "AELIngrNtWWu",
    "outputId": "91e38ab1-5446-4475-a51f-2204bd8b9ec0"
   },
   "outputs": [],
   "source": [
    "mkt.to_csv('mkt.csv', index=False)"
   ]
  }
 ],
 "metadata": {
  "colab": {
   "name": "DataOptimization",
   "provenance": []
  },
  "kernelspec": {
   "display_name": "Python 3",
   "language": "python",
   "name": "python3"
  },
  "language_info": {
   "codemirror_mode": {
    "name": "ipython",
    "version": 3
   },
   "file_extension": ".py",
   "mimetype": "text/x-python",
   "name": "python",
   "nbconvert_exporter": "python",
   "pygments_lexer": "ipython3",
   "version": "3.7.3"
  }
 },
 "nbformat": 4,
 "nbformat_minor": 4
}
